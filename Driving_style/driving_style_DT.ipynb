{
 "cells": [
  {
   "cell_type": "code",
   "execution_count": 1,
   "metadata": {},
   "outputs": [],
   "source": [
    "import pandas as pd\n",
    "import os"
   ]
  },
  {
   "cell_type": "code",
   "execution_count": 2,
   "metadata": {},
   "outputs": [],
   "source": [
    "# Change directory\n",
    "path = os.getcwd() \n",
    "os.chdir( path )"
   ]
  },
  {
   "cell_type": "code",
   "execution_count": 3,
   "metadata": {},
   "outputs": [
    {
     "name": "stdout",
     "output_type": "stream",
     "text": [
      "(12994, 5)\n",
      "(162566, 10)\n",
      "(162566, 9)\n"
     ]
    }
   ],
   "source": [
    "df1 = pd.read_csv('Train.csv', delimiter=',')\n",
    "df2 = pd.read_csv('Train_Vehicletravellingdata.csv', delimiter=',')\n",
    "df3 = pd.read_csv('Train_WeatherData.csv', delimiter=',')\n",
    "\n",
    "print(df1.shape)\n",
    "print(df2.shape)\n",
    "print(df3.shape)"
   ]
  },
  {
   "cell_type": "code",
   "execution_count": 4,
   "metadata": {},
   "outputs": [
    {
     "data": {
      "text/html": [
       "<div>\n",
       "<style scoped>\n",
       "    .dataframe tbody tr th:only-of-type {\n",
       "        vertical-align: middle;\n",
       "    }\n",
       "\n",
       "    .dataframe tbody tr th {\n",
       "        vertical-align: top;\n",
       "    }\n",
       "\n",
       "    .dataframe thead th {\n",
       "        text-align: right;\n",
       "    }\n",
       "</style>\n",
       "<table border=\"1\" class=\"dataframe\">\n",
       "  <thead>\n",
       "    <tr style=\"text-align: right;\">\n",
       "      <th></th>\n",
       "      <th>ID</th>\n",
       "      <th>V2</th>\n",
       "      <th>V5</th>\n",
       "      <th>V6</th>\n",
       "      <th>DrivingStyle</th>\n",
       "    </tr>\n",
       "  </thead>\n",
       "  <tbody>\n",
       "    <tr>\n",
       "      <th>0</th>\n",
       "      <td>DR_24526</td>\n",
       "      <td>1265</td>\n",
       "      <td>10243</td>\n",
       "      <td>2</td>\n",
       "      <td>2</td>\n",
       "    </tr>\n",
       "    <tr>\n",
       "      <th>1</th>\n",
       "      <td>DR_30052</td>\n",
       "      <td>1680</td>\n",
       "      <td>30871</td>\n",
       "      <td>6</td>\n",
       "      <td>2</td>\n",
       "    </tr>\n",
       "    <tr>\n",
       "      <th>2</th>\n",
       "      <td>DR_40928</td>\n",
       "      <td>936</td>\n",
       "      <td>3224</td>\n",
       "      <td>4</td>\n",
       "      <td>2</td>\n",
       "    </tr>\n",
       "    <tr>\n",
       "      <th>3</th>\n",
       "      <td>DR_66033</td>\n",
       "      <td>1503</td>\n",
       "      <td>3315</td>\n",
       "      <td>4</td>\n",
       "      <td>2</td>\n",
       "    </tr>\n",
       "    <tr>\n",
       "      <th>4</th>\n",
       "      <td>DR_45266</td>\n",
       "      <td>929</td>\n",
       "      <td>3022</td>\n",
       "      <td>4</td>\n",
       "      <td>2</td>\n",
       "    </tr>\n",
       "  </tbody>\n",
       "</table>\n",
       "</div>"
      ],
      "text/plain": [
       "         ID    V2     V5  V6  DrivingStyle\n",
       "0  DR_24526  1265  10243   2             2\n",
       "1  DR_30052  1680  30871   6             2\n",
       "2  DR_40928   936   3224   4             2\n",
       "3  DR_66033  1503   3315   4             2\n",
       "4  DR_45266   929   3022   4             2"
      ]
     },
     "execution_count": 4,
     "metadata": {},
     "output_type": "execute_result"
    }
   ],
   "source": [
    "df1.head()"
   ]
  },
  {
   "cell_type": "code",
   "execution_count": 5,
   "metadata": {},
   "outputs": [
    {
     "name": "stdout",
     "output_type": "stream",
     "text": [
      "<class 'pandas.core.frame.DataFrame'>\n",
      "<class 'pandas.core.series.Series'>\n",
      "<class 'pandas.core.series.Series'>\n"
     ]
    }
   ],
   "source": [
    "print(type(df1))\n",
    "print(type(df1.V2))\n",
    "print(type(df1.DrivingStyle))"
   ]
  },
  {
   "cell_type": "code",
   "execution_count": 6,
   "metadata": {},
   "outputs": [
    {
     "name": "stdout",
     "output_type": "stream",
     "text": [
      "<class 'pandas.core.frame.DataFrame'>\n",
      "RangeIndex: 12994 entries, 0 to 12993\n",
      "Data columns (total 5 columns):\n",
      "ID              12994 non-null object\n",
      "V2              12994 non-null int64\n",
      "V5              12994 non-null int64\n",
      "V6              12994 non-null int64\n",
      "DrivingStyle    12994 non-null int64\n",
      "dtypes: int64(4), object(1)\n",
      "memory usage: 507.7+ KB\n"
     ]
    }
   ],
   "source": [
    "df1.info()"
   ]
  },
  {
   "cell_type": "code",
   "execution_count": 7,
   "metadata": {},
   "outputs": [
    {
     "data": {
      "text/plain": [
       "Index(['ID', 'V2', 'V5', 'V6', 'DrivingStyle'], dtype='object')"
      ]
     },
     "execution_count": 7,
     "metadata": {},
     "output_type": "execute_result"
    }
   ],
   "source": [
    "df1.columns"
   ]
  },
  {
   "cell_type": "code",
   "execution_count": 8,
   "metadata": {},
   "outputs": [],
   "source": [
    "df1_rn = df1.rename(columns={'ID':'id', 'V2':'veh_len', 'V5':'veh_weit', 'V6':'nAxels'})"
   ]
  },
  {
   "cell_type": "code",
   "execution_count": 9,
   "metadata": {},
   "outputs": [
    {
     "data": {
      "text/html": [
       "<div>\n",
       "<style scoped>\n",
       "    .dataframe tbody tr th:only-of-type {\n",
       "        vertical-align: middle;\n",
       "    }\n",
       "\n",
       "    .dataframe tbody tr th {\n",
       "        vertical-align: top;\n",
       "    }\n",
       "\n",
       "    .dataframe thead th {\n",
       "        text-align: right;\n",
       "    }\n",
       "</style>\n",
       "<table border=\"1\" class=\"dataframe\">\n",
       "  <thead>\n",
       "    <tr style=\"text-align: right;\">\n",
       "      <th></th>\n",
       "      <th>id</th>\n",
       "      <th>veh_len</th>\n",
       "      <th>veh_weit</th>\n",
       "      <th>nAxels</th>\n",
       "      <th>DrivingStyle</th>\n",
       "    </tr>\n",
       "  </thead>\n",
       "  <tbody>\n",
       "    <tr>\n",
       "      <th>0</th>\n",
       "      <td>DR_24526</td>\n",
       "      <td>1265</td>\n",
       "      <td>10243</td>\n",
       "      <td>2</td>\n",
       "      <td>2</td>\n",
       "    </tr>\n",
       "    <tr>\n",
       "      <th>1</th>\n",
       "      <td>DR_30052</td>\n",
       "      <td>1680</td>\n",
       "      <td>30871</td>\n",
       "      <td>6</td>\n",
       "      <td>2</td>\n",
       "    </tr>\n",
       "    <tr>\n",
       "      <th>2</th>\n",
       "      <td>DR_40928</td>\n",
       "      <td>936</td>\n",
       "      <td>3224</td>\n",
       "      <td>4</td>\n",
       "      <td>2</td>\n",
       "    </tr>\n",
       "    <tr>\n",
       "      <th>3</th>\n",
       "      <td>DR_66033</td>\n",
       "      <td>1503</td>\n",
       "      <td>3315</td>\n",
       "      <td>4</td>\n",
       "      <td>2</td>\n",
       "    </tr>\n",
       "    <tr>\n",
       "      <th>4</th>\n",
       "      <td>DR_45266</td>\n",
       "      <td>929</td>\n",
       "      <td>3022</td>\n",
       "      <td>4</td>\n",
       "      <td>2</td>\n",
       "    </tr>\n",
       "  </tbody>\n",
       "</table>\n",
       "</div>"
      ],
      "text/plain": [
       "         id  veh_len  veh_weit  nAxels  DrivingStyle\n",
       "0  DR_24526     1265     10243       2             2\n",
       "1  DR_30052     1680     30871       6             2\n",
       "2  DR_40928      936      3224       4             2\n",
       "3  DR_66033     1503      3315       4             2\n",
       "4  DR_45266      929      3022       4             2"
      ]
     },
     "execution_count": 9,
     "metadata": {},
     "output_type": "execute_result"
    }
   ],
   "source": [
    "df1_rn.head()"
   ]
  },
  {
   "cell_type": "code",
   "execution_count": 10,
   "metadata": {},
   "outputs": [
    {
     "name": "stdout",
     "output_type": "stream",
     "text": [
      "2    7583\n",
      "6    2366\n",
      "5    1575\n",
      "4     858\n",
      "3     575\n",
      "7      35\n",
      "9       1\n",
      "8       1\n",
      "Name: nAxels, dtype: int64\n",
      "2    6422\n",
      "3    3798\n",
      "1    2774\n",
      "Name: DrivingStyle, dtype: int64\n"
     ]
    }
   ],
   "source": [
    "print(df1_rn.nAxels.value_counts(dropna=False))\n",
    "print(df1_rn['DrivingStyle'].value_counts(dropna=False))"
   ]
  },
  {
   "cell_type": "code",
   "execution_count": 11,
   "metadata": {},
   "outputs": [
    {
     "data": {
      "text/html": [
       "<div>\n",
       "<style scoped>\n",
       "    .dataframe tbody tr th:only-of-type {\n",
       "        vertical-align: middle;\n",
       "    }\n",
       "\n",
       "    .dataframe tbody tr th {\n",
       "        vertical-align: top;\n",
       "    }\n",
       "\n",
       "    .dataframe thead th {\n",
       "        text-align: right;\n",
       "    }\n",
       "</style>\n",
       "<table border=\"1\" class=\"dataframe\">\n",
       "  <thead>\n",
       "    <tr style=\"text-align: right;\">\n",
       "      <th></th>\n",
       "      <th>veh_len</th>\n",
       "      <th>veh_weit</th>\n",
       "      <th>nAxels</th>\n",
       "      <th>DrivingStyle</th>\n",
       "    </tr>\n",
       "  </thead>\n",
       "  <tbody>\n",
       "    <tr>\n",
       "      <th>count</th>\n",
       "      <td>12994.000000</td>\n",
       "      <td>12994.000000</td>\n",
       "      <td>12994.000000</td>\n",
       "      <td>12994.000000</td>\n",
       "    </tr>\n",
       "    <tr>\n",
       "      <th>mean</th>\n",
       "      <td>1029.985994</td>\n",
       "      <td>8131.074188</td>\n",
       "      <td>3.282746</td>\n",
       "      <td>2.078806</td>\n",
       "    </tr>\n",
       "    <tr>\n",
       "      <th>std</th>\n",
       "      <td>564.456119</td>\n",
       "      <td>8998.561344</td>\n",
       "      <td>1.655675</td>\n",
       "      <td>0.706824</td>\n",
       "    </tr>\n",
       "    <tr>\n",
       "      <th>min</th>\n",
       "      <td>155.000000</td>\n",
       "      <td>44.000000</td>\n",
       "      <td>2.000000</td>\n",
       "      <td>1.000000</td>\n",
       "    </tr>\n",
       "    <tr>\n",
       "      <th>25%</th>\n",
       "      <td>561.000000</td>\n",
       "      <td>1738.000000</td>\n",
       "      <td>2.000000</td>\n",
       "      <td>2.000000</td>\n",
       "    </tr>\n",
       "    <tr>\n",
       "      <th>50%</th>\n",
       "      <td>637.000000</td>\n",
       "      <td>2408.000000</td>\n",
       "      <td>2.000000</td>\n",
       "      <td>2.000000</td>\n",
       "    </tr>\n",
       "    <tr>\n",
       "      <th>75%</th>\n",
       "      <td>1695.000000</td>\n",
       "      <td>14506.750000</td>\n",
       "      <td>5.000000</td>\n",
       "      <td>3.000000</td>\n",
       "    </tr>\n",
       "    <tr>\n",
       "      <th>max</th>\n",
       "      <td>2337.000000</td>\n",
       "      <td>57230.000000</td>\n",
       "      <td>9.000000</td>\n",
       "      <td>3.000000</td>\n",
       "    </tr>\n",
       "  </tbody>\n",
       "</table>\n",
       "</div>"
      ],
      "text/plain": [
       "            veh_len      veh_weit        nAxels  DrivingStyle\n",
       "count  12994.000000  12994.000000  12994.000000  12994.000000\n",
       "mean    1029.985994   8131.074188      3.282746      2.078806\n",
       "std      564.456119   8998.561344      1.655675      0.706824\n",
       "min      155.000000     44.000000      2.000000      1.000000\n",
       "25%      561.000000   1738.000000      2.000000      2.000000\n",
       "50%      637.000000   2408.000000      2.000000      2.000000\n",
       "75%     1695.000000  14506.750000      5.000000      3.000000\n",
       "max     2337.000000  57230.000000      9.000000      3.000000"
      ]
     },
     "execution_count": 11,
     "metadata": {},
     "output_type": "execute_result"
    }
   ],
   "source": [
    "df1_rn.describe()"
   ]
  },
  {
   "cell_type": "code",
   "execution_count": 12,
   "metadata": {},
   "outputs": [],
   "source": [
    "df1_rn1 = df1_rn.drop(['id'], axis=1)"
   ]
  },
  {
   "cell_type": "code",
   "execution_count": 13,
   "metadata": {},
   "outputs": [
    {
     "data": {
      "text/html": [
       "<div>\n",
       "<style scoped>\n",
       "    .dataframe tbody tr th:only-of-type {\n",
       "        vertical-align: middle;\n",
       "    }\n",
       "\n",
       "    .dataframe tbody tr th {\n",
       "        vertical-align: top;\n",
       "    }\n",
       "\n",
       "    .dataframe thead th {\n",
       "        text-align: right;\n",
       "    }\n",
       "</style>\n",
       "<table border=\"1\" class=\"dataframe\">\n",
       "  <thead>\n",
       "    <tr style=\"text-align: right;\">\n",
       "      <th></th>\n",
       "      <th>veh_len</th>\n",
       "      <th>veh_weit</th>\n",
       "      <th>nAxels</th>\n",
       "      <th>DrivingStyle</th>\n",
       "    </tr>\n",
       "  </thead>\n",
       "  <tbody>\n",
       "    <tr>\n",
       "      <th>0</th>\n",
       "      <td>1265</td>\n",
       "      <td>10243</td>\n",
       "      <td>2</td>\n",
       "      <td>2</td>\n",
       "    </tr>\n",
       "    <tr>\n",
       "      <th>1</th>\n",
       "      <td>1680</td>\n",
       "      <td>30871</td>\n",
       "      <td>6</td>\n",
       "      <td>2</td>\n",
       "    </tr>\n",
       "    <tr>\n",
       "      <th>2</th>\n",
       "      <td>936</td>\n",
       "      <td>3224</td>\n",
       "      <td>4</td>\n",
       "      <td>2</td>\n",
       "    </tr>\n",
       "    <tr>\n",
       "      <th>3</th>\n",
       "      <td>1503</td>\n",
       "      <td>3315</td>\n",
       "      <td>4</td>\n",
       "      <td>2</td>\n",
       "    </tr>\n",
       "    <tr>\n",
       "      <th>4</th>\n",
       "      <td>929</td>\n",
       "      <td>3022</td>\n",
       "      <td>4</td>\n",
       "      <td>2</td>\n",
       "    </tr>\n",
       "  </tbody>\n",
       "</table>\n",
       "</div>"
      ],
      "text/plain": [
       "   veh_len  veh_weit  nAxels  DrivingStyle\n",
       "0     1265     10243       2             2\n",
       "1     1680     30871       6             2\n",
       "2      936      3224       4             2\n",
       "3     1503      3315       4             2\n",
       "4      929      3022       4             2"
      ]
     },
     "execution_count": 13,
     "metadata": {},
     "output_type": "execute_result"
    }
   ],
   "source": [
    "df1_rn1.head()"
   ]
  },
  {
   "cell_type": "code",
   "execution_count": 14,
   "metadata": {},
   "outputs": [],
   "source": [
    "df_12 = pd.merge(df1, df2, on = 'ID')"
   ]
  },
  {
   "cell_type": "code",
   "execution_count": 15,
   "metadata": {},
   "outputs": [
    {
     "name": "stdout",
     "output_type": "stream",
     "text": [
      "(162566, 14)\n"
     ]
    }
   ],
   "source": [
    "print(df_12.shape)"
   ]
  },
  {
   "cell_type": "code",
   "execution_count": 16,
   "metadata": {},
   "outputs": [],
   "source": [
    "df_123 = pd.merge(df_12, df3, on = ['ID','V1'])"
   ]
  },
  {
   "cell_type": "code",
   "execution_count": 17,
   "metadata": {},
   "outputs": [
    {
     "name": "stdout",
     "output_type": "stream",
     "text": [
      "(162566, 21)\n"
     ]
    }
   ],
   "source": [
    "print(df_123.shape)"
   ]
  },
  {
   "cell_type": "code",
   "execution_count": 18,
   "metadata": {},
   "outputs": [
    {
     "data": {
      "text/html": [
       "<div>\n",
       "<style scoped>\n",
       "    .dataframe tbody tr th:only-of-type {\n",
       "        vertical-align: middle;\n",
       "    }\n",
       "\n",
       "    .dataframe tbody tr th {\n",
       "        vertical-align: top;\n",
       "    }\n",
       "\n",
       "    .dataframe thead th {\n",
       "        text-align: right;\n",
       "    }\n",
       "</style>\n",
       "<table border=\"1\" class=\"dataframe\">\n",
       "  <thead>\n",
       "    <tr style=\"text-align: right;\">\n",
       "      <th></th>\n",
       "      <th>ID</th>\n",
       "      <th>V2</th>\n",
       "      <th>V5</th>\n",
       "      <th>V6</th>\n",
       "      <th>DrivingStyle</th>\n",
       "      <th>V1</th>\n",
       "      <th>V3</th>\n",
       "      <th>V4</th>\n",
       "      <th>V7</th>\n",
       "      <th>V8</th>\n",
       "      <th>...</th>\n",
       "      <th>V10</th>\n",
       "      <th>V11</th>\n",
       "      <th>V18</th>\n",
       "      <th>V12</th>\n",
       "      <th>V13</th>\n",
       "      <th>V14</th>\n",
       "      <th>V15</th>\n",
       "      <th>V16</th>\n",
       "      <th>V17</th>\n",
       "      <th>V19</th>\n",
       "    </tr>\n",
       "  </thead>\n",
       "  <tbody>\n",
       "    <tr>\n",
       "      <th>0</th>\n",
       "      <td>DR_24526</td>\n",
       "      <td>1265</td>\n",
       "      <td>10243</td>\n",
       "      <td>2</td>\n",
       "      <td>2</td>\n",
       "      <td>2012-03-21 09:14:55</td>\n",
       "      <td>1</td>\n",
       "      <td>81</td>\n",
       "      <td>57227</td>\n",
       "      <td>87</td>\n",
       "      <td>...</td>\n",
       "      <td>941</td>\n",
       "      <td>94.0</td>\n",
       "      <td>Dry</td>\n",
       "      <td>7.0</td>\n",
       "      <td>clear</td>\n",
       "      <td>None</td>\n",
       "      <td>95.0</td>\n",
       "      <td>146.0</td>\n",
       "      <td>1.0</td>\n",
       "      <td>daylight</td>\n",
       "    </tr>\n",
       "    <tr>\n",
       "      <th>1</th>\n",
       "      <td>DR_24526</td>\n",
       "      <td>1265</td>\n",
       "      <td>10243</td>\n",
       "      <td>2</td>\n",
       "      <td>2</td>\n",
       "      <td>2012-03-21 09:15:07</td>\n",
       "      <td>1</td>\n",
       "      <td>88</td>\n",
       "      <td>57229</td>\n",
       "      <td>81</td>\n",
       "      <td>...</td>\n",
       "      <td>551</td>\n",
       "      <td>11.0</td>\n",
       "      <td>Dry</td>\n",
       "      <td>7.0</td>\n",
       "      <td>clear</td>\n",
       "      <td>None</td>\n",
       "      <td>95.0</td>\n",
       "      <td>124.0</td>\n",
       "      <td>0.0</td>\n",
       "      <td>daylight</td>\n",
       "    </tr>\n",
       "    <tr>\n",
       "      <th>2</th>\n",
       "      <td>DR_24526</td>\n",
       "      <td>1265</td>\n",
       "      <td>10243</td>\n",
       "      <td>2</td>\n",
       "      <td>2</td>\n",
       "      <td>2012-03-21 09:15:12</td>\n",
       "      <td>1</td>\n",
       "      <td>88</td>\n",
       "      <td>57230</td>\n",
       "      <td>88</td>\n",
       "      <td>...</td>\n",
       "      <td>1698</td>\n",
       "      <td>4.0</td>\n",
       "      <td>Dry</td>\n",
       "      <td>7.0</td>\n",
       "      <td>clear</td>\n",
       "      <td>None</td>\n",
       "      <td>95.0</td>\n",
       "      <td>124.0</td>\n",
       "      <td>0.0</td>\n",
       "      <td>daylight</td>\n",
       "    </tr>\n",
       "    <tr>\n",
       "      <th>3</th>\n",
       "      <td>DR_24526</td>\n",
       "      <td>1265</td>\n",
       "      <td>10243</td>\n",
       "      <td>2</td>\n",
       "      <td>2</td>\n",
       "      <td>2012-03-21 09:15:48</td>\n",
       "      <td>2</td>\n",
       "      <td>84</td>\n",
       "      <td>57228</td>\n",
       "      <td>89</td>\n",
       "      <td>...</td>\n",
       "      <td>544</td>\n",
       "      <td>127.0</td>\n",
       "      <td>Dry</td>\n",
       "      <td>7.0</td>\n",
       "      <td>clear</td>\n",
       "      <td>None</td>\n",
       "      <td>95.0</td>\n",
       "      <td>124.0</td>\n",
       "      <td>0.0</td>\n",
       "      <td>daylight</td>\n",
       "    </tr>\n",
       "    <tr>\n",
       "      <th>4</th>\n",
       "      <td>DR_24526</td>\n",
       "      <td>1265</td>\n",
       "      <td>10243</td>\n",
       "      <td>2</td>\n",
       "      <td>2</td>\n",
       "      <td>2012-03-21 09:15:54</td>\n",
       "      <td>1</td>\n",
       "      <td>89</td>\n",
       "      <td>57231</td>\n",
       "      <td>88</td>\n",
       "      <td>...</td>\n",
       "      <td>1893</td>\n",
       "      <td>42.0</td>\n",
       "      <td>Dry</td>\n",
       "      <td>7.0</td>\n",
       "      <td>clear</td>\n",
       "      <td>None</td>\n",
       "      <td>95.0</td>\n",
       "      <td>124.0</td>\n",
       "      <td>0.0</td>\n",
       "      <td>daylight</td>\n",
       "    </tr>\n",
       "  </tbody>\n",
       "</table>\n",
       "<p>5 rows × 21 columns</p>\n",
       "</div>"
      ],
      "text/plain": [
       "         ID    V2     V5  V6  DrivingStyle                   V1  V3  V4  \\\n",
       "0  DR_24526  1265  10243   2             2  2012-03-21 09:14:55   1  81   \n",
       "1  DR_24526  1265  10243   2             2  2012-03-21 09:15:07   1  88   \n",
       "2  DR_24526  1265  10243   2             2  2012-03-21 09:15:12   1  88   \n",
       "3  DR_24526  1265  10243   2             2  2012-03-21 09:15:48   2  84   \n",
       "4  DR_24526  1265  10243   2             2  2012-03-21 09:15:54   1  89   \n",
       "\n",
       "      V7  V8    ...      V10    V11  V18  V12    V13   V14   V15    V16  V17  \\\n",
       "0  57227  87    ...      941   94.0  Dry  7.0  clear  None  95.0  146.0  1.0   \n",
       "1  57229  81    ...      551   11.0  Dry  7.0  clear  None  95.0  124.0  0.0   \n",
       "2  57230  88    ...     1698    4.0  Dry  7.0  clear  None  95.0  124.0  0.0   \n",
       "3  57228  89    ...      544  127.0  Dry  7.0  clear  None  95.0  124.0  0.0   \n",
       "4  57231  88    ...     1893   42.0  Dry  7.0  clear  None  95.0  124.0  0.0   \n",
       "\n",
       "        V19  \n",
       "0  daylight  \n",
       "1  daylight  \n",
       "2  daylight  \n",
       "3  daylight  \n",
       "4  daylight  \n",
       "\n",
       "[5 rows x 21 columns]"
      ]
     },
     "execution_count": 18,
     "metadata": {},
     "output_type": "execute_result"
    }
   ],
   "source": [
    "df_123.head()"
   ]
  },
  {
   "cell_type": "code",
   "execution_count": 19,
   "metadata": {},
   "outputs": [],
   "source": [
    "df_123.rename(columns={'ID':'id', 'V2':'veh_len', 'V5':'veh_weit', 'V6':'nAxels',  \n",
    "                        'V1':'Dt','V3':'lane','V4':'speed','V7':'id_preced', 'V8':'speed_preced','V9': 'weight_preced','V10':'len_preced', 'V11':'time_gap','V18':'road_cond',\n",
    "                        'V12':'temp','V13':'precipi','V14':'precipi_inti','V15':'rel_humid','V16':'wind_direc','V17':'wind_speed', 'V19':'light_cond'\n",
    "                          }, \n",
    "                 inplace=True)"
   ]
  },
  {
   "cell_type": "code",
   "execution_count": 20,
   "metadata": {},
   "outputs": [
    {
     "data": {
      "text/html": [
       "<div>\n",
       "<style scoped>\n",
       "    .dataframe tbody tr th:only-of-type {\n",
       "        vertical-align: middle;\n",
       "    }\n",
       "\n",
       "    .dataframe tbody tr th {\n",
       "        vertical-align: top;\n",
       "    }\n",
       "\n",
       "    .dataframe thead th {\n",
       "        text-align: right;\n",
       "    }\n",
       "</style>\n",
       "<table border=\"1\" class=\"dataframe\">\n",
       "  <thead>\n",
       "    <tr style=\"text-align: right;\">\n",
       "      <th></th>\n",
       "      <th>id</th>\n",
       "      <th>veh_len</th>\n",
       "      <th>veh_weit</th>\n",
       "      <th>nAxels</th>\n",
       "      <th>DrivingStyle</th>\n",
       "      <th>Dt</th>\n",
       "      <th>lane</th>\n",
       "      <th>speed</th>\n",
       "      <th>id_preced</th>\n",
       "      <th>speed_preced</th>\n",
       "      <th>...</th>\n",
       "      <th>len_preced</th>\n",
       "      <th>time_gap</th>\n",
       "      <th>road_cond</th>\n",
       "      <th>temp</th>\n",
       "      <th>precipi</th>\n",
       "      <th>precipi_inti</th>\n",
       "      <th>rel_humid</th>\n",
       "      <th>wind_direc</th>\n",
       "      <th>wind_speed</th>\n",
       "      <th>light_cond</th>\n",
       "    </tr>\n",
       "  </thead>\n",
       "  <tbody>\n",
       "    <tr>\n",
       "      <th>0</th>\n",
       "      <td>DR_24526</td>\n",
       "      <td>1265</td>\n",
       "      <td>10243</td>\n",
       "      <td>2</td>\n",
       "      <td>2</td>\n",
       "      <td>2012-03-21 09:14:55</td>\n",
       "      <td>1</td>\n",
       "      <td>81</td>\n",
       "      <td>57227</td>\n",
       "      <td>87</td>\n",
       "      <td>...</td>\n",
       "      <td>941</td>\n",
       "      <td>94.0</td>\n",
       "      <td>Dry</td>\n",
       "      <td>7.0</td>\n",
       "      <td>clear</td>\n",
       "      <td>None</td>\n",
       "      <td>95.0</td>\n",
       "      <td>146.0</td>\n",
       "      <td>1.0</td>\n",
       "      <td>daylight</td>\n",
       "    </tr>\n",
       "    <tr>\n",
       "      <th>1</th>\n",
       "      <td>DR_24526</td>\n",
       "      <td>1265</td>\n",
       "      <td>10243</td>\n",
       "      <td>2</td>\n",
       "      <td>2</td>\n",
       "      <td>2012-03-21 09:15:07</td>\n",
       "      <td>1</td>\n",
       "      <td>88</td>\n",
       "      <td>57229</td>\n",
       "      <td>81</td>\n",
       "      <td>...</td>\n",
       "      <td>551</td>\n",
       "      <td>11.0</td>\n",
       "      <td>Dry</td>\n",
       "      <td>7.0</td>\n",
       "      <td>clear</td>\n",
       "      <td>None</td>\n",
       "      <td>95.0</td>\n",
       "      <td>124.0</td>\n",
       "      <td>0.0</td>\n",
       "      <td>daylight</td>\n",
       "    </tr>\n",
       "    <tr>\n",
       "      <th>2</th>\n",
       "      <td>DR_24526</td>\n",
       "      <td>1265</td>\n",
       "      <td>10243</td>\n",
       "      <td>2</td>\n",
       "      <td>2</td>\n",
       "      <td>2012-03-21 09:15:12</td>\n",
       "      <td>1</td>\n",
       "      <td>88</td>\n",
       "      <td>57230</td>\n",
       "      <td>88</td>\n",
       "      <td>...</td>\n",
       "      <td>1698</td>\n",
       "      <td>4.0</td>\n",
       "      <td>Dry</td>\n",
       "      <td>7.0</td>\n",
       "      <td>clear</td>\n",
       "      <td>None</td>\n",
       "      <td>95.0</td>\n",
       "      <td>124.0</td>\n",
       "      <td>0.0</td>\n",
       "      <td>daylight</td>\n",
       "    </tr>\n",
       "    <tr>\n",
       "      <th>3</th>\n",
       "      <td>DR_24526</td>\n",
       "      <td>1265</td>\n",
       "      <td>10243</td>\n",
       "      <td>2</td>\n",
       "      <td>2</td>\n",
       "      <td>2012-03-21 09:15:48</td>\n",
       "      <td>2</td>\n",
       "      <td>84</td>\n",
       "      <td>57228</td>\n",
       "      <td>89</td>\n",
       "      <td>...</td>\n",
       "      <td>544</td>\n",
       "      <td>127.0</td>\n",
       "      <td>Dry</td>\n",
       "      <td>7.0</td>\n",
       "      <td>clear</td>\n",
       "      <td>None</td>\n",
       "      <td>95.0</td>\n",
       "      <td>124.0</td>\n",
       "      <td>0.0</td>\n",
       "      <td>daylight</td>\n",
       "    </tr>\n",
       "    <tr>\n",
       "      <th>4</th>\n",
       "      <td>DR_24526</td>\n",
       "      <td>1265</td>\n",
       "      <td>10243</td>\n",
       "      <td>2</td>\n",
       "      <td>2</td>\n",
       "      <td>2012-03-21 09:15:54</td>\n",
       "      <td>1</td>\n",
       "      <td>89</td>\n",
       "      <td>57231</td>\n",
       "      <td>88</td>\n",
       "      <td>...</td>\n",
       "      <td>1893</td>\n",
       "      <td>42.0</td>\n",
       "      <td>Dry</td>\n",
       "      <td>7.0</td>\n",
       "      <td>clear</td>\n",
       "      <td>None</td>\n",
       "      <td>95.0</td>\n",
       "      <td>124.0</td>\n",
       "      <td>0.0</td>\n",
       "      <td>daylight</td>\n",
       "    </tr>\n",
       "  </tbody>\n",
       "</table>\n",
       "<p>5 rows × 21 columns</p>\n",
       "</div>"
      ],
      "text/plain": [
       "         id  veh_len  veh_weit  nAxels  DrivingStyle                   Dt  \\\n",
       "0  DR_24526     1265     10243       2             2  2012-03-21 09:14:55   \n",
       "1  DR_24526     1265     10243       2             2  2012-03-21 09:15:07   \n",
       "2  DR_24526     1265     10243       2             2  2012-03-21 09:15:12   \n",
       "3  DR_24526     1265     10243       2             2  2012-03-21 09:15:48   \n",
       "4  DR_24526     1265     10243       2             2  2012-03-21 09:15:54   \n",
       "\n",
       "   lane  speed  id_preced  speed_preced     ...      len_preced  time_gap  \\\n",
       "0     1     81      57227            87     ...             941      94.0   \n",
       "1     1     88      57229            81     ...             551      11.0   \n",
       "2     1     88      57230            88     ...            1698       4.0   \n",
       "3     2     84      57228            89     ...             544     127.0   \n",
       "4     1     89      57231            88     ...            1893      42.0   \n",
       "\n",
       "   road_cond temp  precipi precipi_inti rel_humid  wind_direc  wind_speed  \\\n",
       "0        Dry  7.0    clear         None      95.0       146.0         1.0   \n",
       "1        Dry  7.0    clear         None      95.0       124.0         0.0   \n",
       "2        Dry  7.0    clear         None      95.0       124.0         0.0   \n",
       "3        Dry  7.0    clear         None      95.0       124.0         0.0   \n",
       "4        Dry  7.0    clear         None      95.0       124.0         0.0   \n",
       "\n",
       "   light_cond  \n",
       "0    daylight  \n",
       "1    daylight  \n",
       "2    daylight  \n",
       "3    daylight  \n",
       "4    daylight  \n",
       "\n",
       "[5 rows x 21 columns]"
      ]
     },
     "execution_count": 20,
     "metadata": {},
     "output_type": "execute_result"
    }
   ],
   "source": [
    "df_123.head()"
   ]
  },
  {
   "cell_type": "code",
   "execution_count": 21,
   "metadata": {},
   "outputs": [
    {
     "name": "stderr",
     "output_type": "stream",
     "text": [
      "C:\\Users\\panch\\Anaconda3\\lib\\site-packages\\sklearn\\cross_validation.py:41: DeprecationWarning: This module was deprecated in version 0.18 in favor of the model_selection module into which all the refactored classes and functions are moved. Also note that the interface of the new CV iterators are different from that of this module. This module will be removed in 0.20.\n",
      "  \"This module will be removed in 0.20.\", DeprecationWarning)\n"
     ]
    }
   ],
   "source": [
    "from sklearn.cross_validation import train_test_split\n",
    "from sklearn.metrics import confusion_matrix \n",
    "from sklearn.cross_validation import train_test_split \n",
    "from sklearn.tree import DecisionTreeClassifier \n",
    "from sklearn.metrics import accuracy_score \n",
    "from sklearn.metrics import classification_report "
   ]
  },
  {
   "cell_type": "code",
   "execution_count": 22,
   "metadata": {},
   "outputs": [],
   "source": [
    "# Function to split the dataset \n",
    "def splitdataset(df1): \n",
    "  \n",
    "    # Seperating the target variable \n",
    "    X = df1.iloc[:, 0:3] \n",
    "    Y = df1.iloc[:, 3] \n",
    "  \n",
    "    # Spliting the dataset into train and test \n",
    "    X_train, X_test, y_train, y_test = train_test_split( X, Y, test_size = 0.2, random_state = 100) \n",
    "      \n",
    "    return X, Y, X_train, X_test, y_train, y_test "
   ]
  },
  {
   "cell_type": "code",
   "execution_count": 23,
   "metadata": {},
   "outputs": [],
   "source": [
    "# Function to perform training with giniIndex. \n",
    "def train_using_gini(X_train, X_test, y_train): \n",
    "  \n",
    "    # Creating the classifier object \n",
    "    clf_gini = DecisionTreeClassifier(criterion = \"gini\", random_state = 100,max_depth=3, min_samples_leaf=5) \n",
    "  \n",
    "    # Performing training \n",
    "    clf_gini.fit(X_train, y_train) \n",
    "    return clf_gini "
   ]
  },
  {
   "cell_type": "code",
   "execution_count": 24,
   "metadata": {},
   "outputs": [],
   "source": [
    "# Function to perform training with entropy. \n",
    "def tarin_using_entropy(X_train, X_test, y_train): \n",
    "  \n",
    "    # Decision tree with entropy \n",
    "    clf_entropy = DecisionTreeClassifier(criterion = \"entropy\", random_state = 100,  max_depth = 3, min_samples_leaf = 5) \n",
    "  \n",
    "    # Performing training \n",
    "    clf_entropy.fit(X_train, y_train) \n",
    "    return clf_entropy "
   ]
  },
  {
   "cell_type": "code",
   "execution_count": 25,
   "metadata": {},
   "outputs": [],
   "source": [
    "# Function to make predictions \n",
    "def prediction(X_test, clf_object): \n",
    "  \n",
    "    # Predicton on test with giniIndex \n",
    "    y_pred = clf_object.predict(X_test) \n",
    "    print(\"Predicted values:\") \n",
    "    print(y_pred) \n",
    "    return y_pred "
   ]
  },
  {
   "cell_type": "code",
   "execution_count": 26,
   "metadata": {},
   "outputs": [],
   "source": [
    "# Function to calculate accuracy \n",
    "def cal_accuracy(y_test, y_pred): \n",
    "      \n",
    "    print(\"Confusion Matrix: \", confusion_matrix(y_test, y_pred)) \n",
    "      \n",
    "    print (\"Accuracy : \", accuracy_score(y_test,y_pred)*100) \n",
    "      \n",
    "    print(\"Report : \", classification_report(y_test, y_pred)) "
   ]
  },
  {
   "cell_type": "code",
   "execution_count": 27,
   "metadata": {},
   "outputs": [],
   "source": [
    "# Driver code \n",
    "def main(): \n",
    "      \n",
    "    # Building Phase \n",
    "    #data = importdata() \n",
    "    X, Y, X_train, X_test, y_train, y_test = splitdataset(df1_rn1) \n",
    "    type(Y)\n",
    "    clf_gini = train_using_gini(X_train, X_test, y_train) \n",
    "    clf_entropy = tarin_using_entropy(X_train, X_test, y_train) \n",
    "      \n",
    "    # Operational Phase \n",
    "    print(\"Results Using Gini Index:\") \n",
    "      \n",
    "    # Prediction using gini \n",
    "    y_pred_gini = prediction(X_test, clf_gini) \n",
    "    cal_accuracy(y_test, y_pred_gini) \n",
    "      \n",
    "    print(\"Results Using Entropy:\") \n",
    "    # Prediction using entropy \n",
    "    y_pred_entropy = prediction(X_test, clf_entropy) \n",
    "    cal_accuracy(y_test, y_pred_entropy) "
   ]
  },
  {
   "cell_type": "code",
   "execution_count": 28,
   "metadata": {},
   "outputs": [
    {
     "name": "stdout",
     "output_type": "stream",
     "text": [
      "Results Using Gini Index:\n",
      "Predicted values:\n",
      "[1 1 1 ... 1 2 2]\n",
      "Confusion Matrix:  [[ 323  210    7]\n",
      " [ 222 1022   32]\n",
      " [ 117  625   41]]\n",
      "Accuracy :  53.32820315505964\n",
      "Report :               precision    recall  f1-score   support\n",
      "\n",
      "          1       0.49      0.60      0.54       540\n",
      "          2       0.55      0.80      0.65      1276\n",
      "          3       0.51      0.05      0.10       783\n",
      "\n",
      "avg / total       0.53      0.53      0.46      2599\n",
      "\n",
      "Results Using Entropy:\n",
      "Predicted values:\n",
      "[1 1 1 ... 1 2 2]\n",
      "Confusion Matrix:  [[ 325  208    7]\n",
      " [ 223 1021   32]\n",
      " [ 117  625   41]]\n",
      "Accuracy :  53.36667949211235\n",
      "Report :               precision    recall  f1-score   support\n",
      "\n",
      "          1       0.49      0.60      0.54       540\n",
      "          2       0.55      0.80      0.65      1276\n",
      "          3       0.51      0.05      0.10       783\n",
      "\n",
      "avg / total       0.53      0.53      0.46      2599\n",
      "\n"
     ]
    }
   ],
   "source": [
    "# Calling main function \n",
    "if __name__==\"__main__\": \n",
    "    main() "
   ]
  },
  {
   "cell_type": "code",
   "execution_count": 29,
   "metadata": {},
   "outputs": [
    {
     "data": {
      "text/html": [
       "<div>\n",
       "<style scoped>\n",
       "    .dataframe tbody tr th:only-of-type {\n",
       "        vertical-align: middle;\n",
       "    }\n",
       "\n",
       "    .dataframe tbody tr th {\n",
       "        vertical-align: top;\n",
       "    }\n",
       "\n",
       "    .dataframe thead th {\n",
       "        text-align: right;\n",
       "    }\n",
       "</style>\n",
       "<table border=\"1\" class=\"dataframe\">\n",
       "  <thead>\n",
       "    <tr style=\"text-align: right;\">\n",
       "      <th></th>\n",
       "      <th>veh_len</th>\n",
       "      <th>veh_weit</th>\n",
       "      <th>nAxels</th>\n",
       "    </tr>\n",
       "  </thead>\n",
       "  <tbody>\n",
       "    <tr>\n",
       "      <th>0</th>\n",
       "      <td>1265</td>\n",
       "      <td>10243</td>\n",
       "      <td>2</td>\n",
       "    </tr>\n",
       "    <tr>\n",
       "      <th>1</th>\n",
       "      <td>1680</td>\n",
       "      <td>30871</td>\n",
       "      <td>6</td>\n",
       "    </tr>\n",
       "    <tr>\n",
       "      <th>2</th>\n",
       "      <td>936</td>\n",
       "      <td>3224</td>\n",
       "      <td>4</td>\n",
       "    </tr>\n",
       "    <tr>\n",
       "      <th>3</th>\n",
       "      <td>1503</td>\n",
       "      <td>3315</td>\n",
       "      <td>4</td>\n",
       "    </tr>\n",
       "    <tr>\n",
       "      <th>4</th>\n",
       "      <td>929</td>\n",
       "      <td>3022</td>\n",
       "      <td>4</td>\n",
       "    </tr>\n",
       "  </tbody>\n",
       "</table>\n",
       "</div>"
      ],
      "text/plain": [
       "   veh_len  veh_weit  nAxels\n",
       "0     1265     10243       2\n",
       "1     1680     30871       6\n",
       "2      936      3224       4\n",
       "3     1503      3315       4\n",
       "4      929      3022       4"
      ]
     },
     "execution_count": 29,
     "metadata": {},
     "output_type": "execute_result"
    }
   ],
   "source": [
    " X = df1_rn1.iloc[:, 0:3] \n",
    " Y = df1_rn1.iloc[:, 3] \n",
    "X.head()"
   ]
  },
  {
   "cell_type": "code",
   "execution_count": null,
   "metadata": {},
   "outputs": [],
   "source": []
  },
  {
   "cell_type": "code",
   "execution_count": 30,
   "metadata": {},
   "outputs": [],
   "source": [
    "import sklearn.datasets as datasets\n",
    "import pandas as pd\n"
   ]
  },
  {
   "cell_type": "code",
   "execution_count": 31,
   "metadata": {},
   "outputs": [
    {
     "data": {
      "text/plain": [
       "DecisionTreeClassifier(class_weight=None, criterion='gini', max_depth=None,\n",
       "            max_features=None, max_leaf_nodes=None,\n",
       "            min_impurity_decrease=0.0, min_impurity_split=None,\n",
       "            min_samples_leaf=1, min_samples_split=2,\n",
       "            min_weight_fraction_leaf=0.0, presort=False, random_state=None,\n",
       "            splitter='best')"
      ]
     },
     "execution_count": 31,
     "metadata": {},
     "output_type": "execute_result"
    }
   ],
   "source": [
    "from sklearn.tree import DecisionTreeClassifier\n",
    "dtree=DecisionTreeClassifier()\n",
    "dtree.fit(X,Y)"
   ]
  },
  {
   "cell_type": "code",
   "execution_count": 34,
   "metadata": {},
   "outputs": [
    {
     "name": "stdout",
     "output_type": "stream",
     "text": [
      "Collecting pip\n",
      "  Downloading https://files.pythonhosted.org/packages/46/dc/7fd5df840efb3e56c8b4f768793a237ec4ee59891959d6a215d63f727023/pip-19.0.1-py2.py3-none-any.whl (1.4MB)\n",
      "Installing collected packages: pip\n",
      "  Found existing installation: pip 18.1\n",
      "    Uninstalling pip-18.1:\n",
      "      Successfully uninstalled pip-18.1\n",
      "Successfully installed pip-19.0.1\n"
     ]
    }
   ],
   "source": [
    "#!python -m pip install --upgrade pip"
   ]
  },
  {
   "cell_type": "code",
   "execution_count": 37,
   "metadata": {},
   "outputs": [
    {
     "name": "stdout",
     "output_type": "stream",
     "text": [
      "Requirement already satisfied: graphviz in c:\\users\\panch\\anaconda3\\lib\\site-packages (0.10.1)\n"
     ]
    }
   ],
   "source": [
    "# !pip install pydotplus\n",
    "!pip install graphviz"
   ]
  },
  {
   "cell_type": "code",
   "execution_count": 36,
   "metadata": {},
   "outputs": [
    {
     "ename": "InvocationException",
     "evalue": "GraphViz's executables not found",
     "output_type": "error",
     "traceback": [
      "\u001b[1;31m---------------------------------------------------------------------------\u001b[0m",
      "\u001b[1;31mInvocationException\u001b[0m                       Traceback (most recent call last)",
      "\u001b[1;32m<ipython-input-36-1ac8e39a54d1>\u001b[0m in \u001b[0;36m<module>\u001b[1;34m()\u001b[0m\n\u001b[0;32m      8\u001b[0m                 special_characters=True)\n\u001b[0;32m      9\u001b[0m \u001b[0mgraph\u001b[0m \u001b[1;33m=\u001b[0m \u001b[0mpydotplus\u001b[0m\u001b[1;33m.\u001b[0m\u001b[0mgraph_from_dot_data\u001b[0m\u001b[1;33m(\u001b[0m\u001b[0mdot_data\u001b[0m\u001b[1;33m.\u001b[0m\u001b[0mgetvalue\u001b[0m\u001b[1;33m(\u001b[0m\u001b[1;33m)\u001b[0m\u001b[1;33m)\u001b[0m\u001b[1;33m\u001b[0m\u001b[0m\n\u001b[1;32m---> 10\u001b[1;33m \u001b[0mImage\u001b[0m\u001b[1;33m(\u001b[0m\u001b[0mgraph\u001b[0m\u001b[1;33m.\u001b[0m\u001b[0mcreate_png\u001b[0m\u001b[1;33m(\u001b[0m\u001b[1;33m)\u001b[0m\u001b[1;33m)\u001b[0m\u001b[1;33m\u001b[0m\u001b[0m\n\u001b[0m",
      "\u001b[1;32m~\\Anaconda3\\lib\\site-packages\\pydotplus\\graphviz.py\u001b[0m in \u001b[0;36m<lambda>\u001b[1;34m(f, prog)\u001b[0m\n\u001b[0;32m   1795\u001b[0m             self.__setattr__(\n\u001b[0;32m   1796\u001b[0m                 \u001b[1;34m'create_'\u001b[0m \u001b[1;33m+\u001b[0m \u001b[0mfrmt\u001b[0m\u001b[1;33m,\u001b[0m\u001b[1;33m\u001b[0m\u001b[0m\n\u001b[1;32m-> 1797\u001b[1;33m                 \u001b[1;32mlambda\u001b[0m \u001b[0mf\u001b[0m\u001b[1;33m=\u001b[0m\u001b[0mfrmt\u001b[0m\u001b[1;33m,\u001b[0m \u001b[0mprog\u001b[0m\u001b[1;33m=\u001b[0m\u001b[0mself\u001b[0m\u001b[1;33m.\u001b[0m\u001b[0mprog\u001b[0m\u001b[1;33m:\u001b[0m \u001b[0mself\u001b[0m\u001b[1;33m.\u001b[0m\u001b[0mcreate\u001b[0m\u001b[1;33m(\u001b[0m\u001b[0mformat\u001b[0m\u001b[1;33m=\u001b[0m\u001b[0mf\u001b[0m\u001b[1;33m,\u001b[0m \u001b[0mprog\u001b[0m\u001b[1;33m=\u001b[0m\u001b[0mprog\u001b[0m\u001b[1;33m)\u001b[0m\u001b[1;33m\u001b[0m\u001b[0m\n\u001b[0m\u001b[0;32m   1798\u001b[0m             )\n\u001b[0;32m   1799\u001b[0m             \u001b[0mf\u001b[0m \u001b[1;33m=\u001b[0m \u001b[0mself\u001b[0m\u001b[1;33m.\u001b[0m\u001b[0m__dict__\u001b[0m\u001b[1;33m[\u001b[0m\u001b[1;34m'create_'\u001b[0m \u001b[1;33m+\u001b[0m \u001b[0mfrmt\u001b[0m\u001b[1;33m]\u001b[0m\u001b[1;33m\u001b[0m\u001b[0m\n",
      "\u001b[1;32m~\\Anaconda3\\lib\\site-packages\\pydotplus\\graphviz.py\u001b[0m in \u001b[0;36mcreate\u001b[1;34m(self, prog, format)\u001b[0m\n\u001b[0;32m   1958\u001b[0m             \u001b[1;32mif\u001b[0m \u001b[0mself\u001b[0m\u001b[1;33m.\u001b[0m\u001b[0mprogs\u001b[0m \u001b[1;32mis\u001b[0m \u001b[1;32mNone\u001b[0m\u001b[1;33m:\u001b[0m\u001b[1;33m\u001b[0m\u001b[0m\n\u001b[0;32m   1959\u001b[0m                 raise InvocationException(\n\u001b[1;32m-> 1960\u001b[1;33m                     'GraphViz\\'s executables not found')\n\u001b[0m\u001b[0;32m   1961\u001b[0m \u001b[1;33m\u001b[0m\u001b[0m\n\u001b[0;32m   1962\u001b[0m         \u001b[1;32mif\u001b[0m \u001b[0mprog\u001b[0m \u001b[1;32mnot\u001b[0m \u001b[1;32min\u001b[0m \u001b[0mself\u001b[0m\u001b[1;33m.\u001b[0m\u001b[0mprogs\u001b[0m\u001b[1;33m:\u001b[0m\u001b[1;33m\u001b[0m\u001b[0m\n",
      "\u001b[1;31mInvocationException\u001b[0m: GraphViz's executables not found"
     ]
    }
   ],
   "source": [
    "from sklearn.externals.six import StringIO  \n",
    "from IPython.display import Image  \n",
    "from sklearn.tree import export_graphviz\n",
    "import pydotplus\n",
    "dot_data = StringIO()\n",
    "export_graphviz(dtree, out_file=dot_data,  \n",
    "                filled=True, rounded=True,\n",
    "                special_characters=True)\n",
    "graph = pydotplus.graph_from_dot_data(dot_data.getvalue())  \n",
    "Image(graph.create_png())"
   ]
  },
  {
   "cell_type": "code",
   "execution_count": null,
   "metadata": {},
   "outputs": [],
   "source": []
  }
 ],
 "metadata": {
  "kernelspec": {
   "display_name": "Python 3",
   "language": "python",
   "name": "python3"
  },
  "language_info": {
   "codemirror_mode": {
    "name": "ipython",
    "version": 3
   },
   "file_extension": ".py",
   "mimetype": "text/x-python",
   "name": "python",
   "nbconvert_exporter": "python",
   "pygments_lexer": "ipython3",
   "version": "3.6.5"
  }
 },
 "nbformat": 4,
 "nbformat_minor": 2
}
