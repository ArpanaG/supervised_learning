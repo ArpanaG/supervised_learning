{
 "cells": [
  {
   "cell_type": "code",
   "execution_count": 12,
   "metadata": {},
   "outputs": [],
   "source": [
    "# !pip install fbprophet\n",
    "#pip install pystan"
   ]
  },
  {
   "cell_type": "code",
   "execution_count": 54,
   "metadata": {},
   "outputs": [],
   "source": [
    "import numpy as np\n",
    "import pandas as pd\n",
    "import datetime\n",
    "from numpy import concatenate\n",
    "from sklearn.metrics import mean_squared_error, mean_absolute_error"
   ]
  },
  {
   "cell_type": "code",
   "execution_count": 14,
   "metadata": {},
   "outputs": [],
   "source": [
    "from __future__ import division\n",
    "\n",
    "import warnings\n",
    "warnings.filterwarnings(\"ignore\")\n",
    "\n",
    "%matplotlib inline\n",
    "from matplotlib import pyplot as plt"
   ]
  },
  {
   "cell_type": "code",
   "execution_count": 15,
   "metadata": {},
   "outputs": [],
   "source": [
    "import seaborn as sns\n",
    "from fbprophet import Prophet\n",
    "pd.plotting.register_matplotlib_converters()"
   ]
  },
  {
   "cell_type": "markdown",
   "metadata": {},
   "source": [
    "### Set 'predict_hourly' True for hourly forecast or False for complete 1 day forcast"
   ]
  },
  {
   "cell_type": "code",
   "execution_count": 16,
   "metadata": {},
   "outputs": [],
   "source": [
    "predict_hourly = True"
   ]
  },
  {
   "cell_type": "code",
   "execution_count": 9,
   "metadata": {},
   "outputs": [],
   "source": [
    "liquidity=pd.read_excel('Anon_EU_USD_Mar_2017.xlsx')"
   ]
  },
  {
   "cell_type": "code",
   "execution_count": 10,
   "metadata": {},
   "outputs": [],
   "source": [
    "liquidity_copy = liquidity.copy()"
   ]
  },
  {
   "cell_type": "code",
   "execution_count": 17,
   "metadata": {},
   "outputs": [
    {
     "data": {
      "text/html": [
       "<div>\n",
       "<style scoped>\n",
       "    .dataframe tbody tr th:only-of-type {\n",
       "        vertical-align: middle;\n",
       "    }\n",
       "\n",
       "    .dataframe tbody tr th {\n",
       "        vertical-align: top;\n",
       "    }\n",
       "\n",
       "    .dataframe thead th {\n",
       "        text-align: right;\n",
       "    }\n",
       "</style>\n",
       "<table border=\"1\" class=\"dataframe\">\n",
       "  <thead>\n",
       "    <tr style=\"text-align: right;\">\n",
       "      <th></th>\n",
       "      <th>Montran Reference</th>\n",
       "      <th>New-Acct</th>\n",
       "      <th>trn_date</th>\n",
       "      <th>trn_mtype</th>\n",
       "      <th>amount</th>\n",
       "      <th>New-ABA</th>\n",
       "      <th>trn_type</th>\n",
       "      <th>Flexcube_timestamp</th>\n",
       "    </tr>\n",
       "  </thead>\n",
       "  <tbody>\n",
       "    <tr>\n",
       "      <th>0</th>\n",
       "      <td>70303P00213000</td>\n",
       "      <td>acct24</td>\n",
       "      <td>2017-03-03 06:01:17</td>\n",
       "      <td>C</td>\n",
       "      <td>46037.20</td>\n",
       "      <td>NaN</td>\n",
       "      <td>CHIPS Incoming</td>\n",
       "      <td>03-MAR-17 06.03.04.510491 AM</td>\n",
       "    </tr>\n",
       "    <tr>\n",
       "      <th>1</th>\n",
       "      <td>70303P00213100</td>\n",
       "      <td>acct52</td>\n",
       "      <td>2017-03-03 06:01:17</td>\n",
       "      <td>C</td>\n",
       "      <td>42705.60</td>\n",
       "      <td>NaN</td>\n",
       "      <td>CHIPS Incoming</td>\n",
       "      <td>03-MAR-17 06.03.04.970025 AM</td>\n",
       "    </tr>\n",
       "    <tr>\n",
       "      <th>2</th>\n",
       "      <td>70303P00213200</td>\n",
       "      <td>acct52</td>\n",
       "      <td>2017-03-03 06:01:18</td>\n",
       "      <td>C</td>\n",
       "      <td>32832.00</td>\n",
       "      <td>NaN</td>\n",
       "      <td>CHIPS Incoming</td>\n",
       "      <td>03-MAR-17 06.03.05.384726 AM</td>\n",
       "    </tr>\n",
       "    <tr>\n",
       "      <th>3</th>\n",
       "      <td>70303P00213300</td>\n",
       "      <td>acct24</td>\n",
       "      <td>2017-03-03 06:01:20</td>\n",
       "      <td>C</td>\n",
       "      <td>73771261.21</td>\n",
       "      <td>NaN</td>\n",
       "      <td>CHIPS Incoming</td>\n",
       "      <td>03-MAR-17 06.03.05.823524 AM</td>\n",
       "    </tr>\n",
       "    <tr>\n",
       "      <th>4</th>\n",
       "      <td>70303P00213400</td>\n",
       "      <td>acct8</td>\n",
       "      <td>2017-03-03 06:01:21</td>\n",
       "      <td>C</td>\n",
       "      <td>656723.55</td>\n",
       "      <td>NaN</td>\n",
       "      <td>CHIPS Incoming</td>\n",
       "      <td>03-MAR-17 06.15.03.138219 AM</td>\n",
       "    </tr>\n",
       "  </tbody>\n",
       "</table>\n",
       "</div>"
      ],
      "text/plain": [
       "  Montran Reference New-Acct            trn_date trn_mtype       amount  \\\n",
       "0    70303P00213000   acct24 2017-03-03 06:01:17         C     46037.20   \n",
       "1    70303P00213100   acct52 2017-03-03 06:01:17         C     42705.60   \n",
       "2    70303P00213200   acct52 2017-03-03 06:01:18         C     32832.00   \n",
       "3    70303P00213300   acct24 2017-03-03 06:01:20         C  73771261.21   \n",
       "4    70303P00213400    acct8 2017-03-03 06:01:21         C    656723.55   \n",
       "\n",
       "  New-ABA        trn_type            Flexcube_timestamp  \n",
       "0     NaN  CHIPS Incoming  03-MAR-17 06.03.04.510491 AM  \n",
       "1     NaN  CHIPS Incoming  03-MAR-17 06.03.04.970025 AM  \n",
       "2     NaN  CHIPS Incoming  03-MAR-17 06.03.05.384726 AM  \n",
       "3     NaN  CHIPS Incoming  03-MAR-17 06.03.05.823524 AM  \n",
       "4     NaN  CHIPS Incoming  03-MAR-17 06.15.03.138219 AM  "
      ]
     },
     "execution_count": 17,
     "metadata": {},
     "output_type": "execute_result"
    }
   ],
   "source": [
    "liquidity.head()"
   ]
  },
  {
   "cell_type": "code",
   "execution_count": 18,
   "metadata": {},
   "outputs": [
    {
     "data": {
      "text/html": [
       "<div>\n",
       "<style scoped>\n",
       "    .dataframe tbody tr th:only-of-type {\n",
       "        vertical-align: middle;\n",
       "    }\n",
       "\n",
       "    .dataframe tbody tr th {\n",
       "        vertical-align: top;\n",
       "    }\n",
       "\n",
       "    .dataframe thead th {\n",
       "        text-align: right;\n",
       "    }\n",
       "</style>\n",
       "<table border=\"1\" class=\"dataframe\">\n",
       "  <thead>\n",
       "    <tr style=\"text-align: right;\">\n",
       "      <th></th>\n",
       "      <th>Montran Reference</th>\n",
       "      <th>New-Acct</th>\n",
       "      <th>trn_date</th>\n",
       "      <th>trn_mtype</th>\n",
       "      <th>amount</th>\n",
       "      <th>New-ABA</th>\n",
       "      <th>trn_type</th>\n",
       "      <th>Flexcube_timestamp</th>\n",
       "    </tr>\n",
       "  </thead>\n",
       "  <tbody>\n",
       "    <tr>\n",
       "      <th>309531</th>\n",
       "      <td>70331U013181IN</td>\n",
       "      <td>acct383</td>\n",
       "      <td>2017-03-31 17:59:05</td>\n",
       "      <td>D</td>\n",
       "      <td>242269.68</td>\n",
       "      <td>NaN</td>\n",
       "      <td>BOOK TRANSFER</td>\n",
       "      <td>31-MAR-17 05.59.53.892141 PM</td>\n",
       "    </tr>\n",
       "    <tr>\n",
       "      <th>309532</th>\n",
       "      <td>70331U013182IN</td>\n",
       "      <td>acct149</td>\n",
       "      <td>2017-03-31 18:00:05</td>\n",
       "      <td>C</td>\n",
       "      <td>93430.55</td>\n",
       "      <td>NaN</td>\n",
       "      <td>BOOK TRANSFER</td>\n",
       "      <td>31-MAR-17 06.00.54.500733 PM</td>\n",
       "    </tr>\n",
       "    <tr>\n",
       "      <th>309533</th>\n",
       "      <td>70331U013182IN</td>\n",
       "      <td>acct94</td>\n",
       "      <td>2017-03-31 18:00:05</td>\n",
       "      <td>D</td>\n",
       "      <td>93430.55</td>\n",
       "      <td>NaN</td>\n",
       "      <td>BOOK TRANSFER</td>\n",
       "      <td>31-MAR-17 06.00.54.293635 PM</td>\n",
       "    </tr>\n",
       "    <tr>\n",
       "      <th>309534</th>\n",
       "      <td>70331U013183IN</td>\n",
       "      <td>acct279</td>\n",
       "      <td>2017-03-31 18:03:07</td>\n",
       "      <td>D</td>\n",
       "      <td>93430.55</td>\n",
       "      <td>NaN</td>\n",
       "      <td>BOOK TRANSFER</td>\n",
       "      <td>31-MAR-17 06.03.53.966380 PM</td>\n",
       "    </tr>\n",
       "    <tr>\n",
       "      <th>309535</th>\n",
       "      <td>70331U013183IN</td>\n",
       "      <td>acct94</td>\n",
       "      <td>2017-03-31 18:03:07</td>\n",
       "      <td>C</td>\n",
       "      <td>93430.55</td>\n",
       "      <td>NaN</td>\n",
       "      <td>BOOK TRANSFER</td>\n",
       "      <td>31-MAR-17 06.03.54.163341 PM</td>\n",
       "    </tr>\n",
       "  </tbody>\n",
       "</table>\n",
       "</div>"
      ],
      "text/plain": [
       "       Montran Reference New-Acct            trn_date trn_mtype     amount  \\\n",
       "309531    70331U013181IN  acct383 2017-03-31 17:59:05         D  242269.68   \n",
       "309532    70331U013182IN  acct149 2017-03-31 18:00:05         C   93430.55   \n",
       "309533    70331U013182IN   acct94 2017-03-31 18:00:05         D   93430.55   \n",
       "309534    70331U013183IN  acct279 2017-03-31 18:03:07         D   93430.55   \n",
       "309535    70331U013183IN   acct94 2017-03-31 18:03:07         C   93430.55   \n",
       "\n",
       "       New-ABA       trn_type            Flexcube_timestamp  \n",
       "309531     NaN  BOOK TRANSFER  31-MAR-17 05.59.53.892141 PM  \n",
       "309532     NaN  BOOK TRANSFER  31-MAR-17 06.00.54.500733 PM  \n",
       "309533     NaN  BOOK TRANSFER  31-MAR-17 06.00.54.293635 PM  \n",
       "309534     NaN  BOOK TRANSFER  31-MAR-17 06.03.53.966380 PM  \n",
       "309535     NaN  BOOK TRANSFER  31-MAR-17 06.03.54.163341 PM  "
      ]
     },
     "execution_count": 18,
     "metadata": {},
     "output_type": "execute_result"
    }
   ],
   "source": [
    "liquidity.tail()"
   ]
  },
  {
   "cell_type": "code",
   "execution_count": 19,
   "metadata": {},
   "outputs": [
    {
     "data": {
      "text/plain": [
       "(309536, 8)"
      ]
     },
     "execution_count": 19,
     "metadata": {},
     "output_type": "execute_result"
    }
   ],
   "source": [
    "liquidity.shape"
   ]
  },
  {
   "cell_type": "code",
   "execution_count": 20,
   "metadata": {},
   "outputs": [
    {
     "data": {
      "text/plain": [
       "Index(['Montran Reference', 'New-Acct', 'trn_date', 'trn_mtype', 'amount',\n",
       "       'New-ABA', 'trn_type', 'Flexcube_timestamp'],\n",
       "      dtype='object')"
      ]
     },
     "execution_count": 20,
     "metadata": {},
     "output_type": "execute_result"
    }
   ],
   "source": [
    "liquidity.columns"
   ]
  },
  {
   "cell_type": "code",
   "execution_count": 21,
   "metadata": {},
   "outputs": [
    {
     "data": {
      "text/plain": [
       "<matplotlib.axes._subplots.AxesSubplot at 0x7f2d1372bf40>"
      ]
     },
     "execution_count": 21,
     "metadata": {},
     "output_type": "execute_result"
    },
    {
     "data": {
      "image/png": "[encoded data removed]",
      "text/plain": [
       "<Figure size 1080x432 with 1 Axes>"
      ]
     },
     "metadata": {
      "needs_background": "light"
     },
     "output_type": "display_data"
    }
   ],
   "source": [
    "plt.figure(figsize=(15,6))\n",
    "liquidity.amount.plot(title='# of Amount')"
   ]
  },
  {
   "cell_type": "code",
   "execution_count": 22,
   "metadata": {},
   "outputs": [
    {
     "data": {
      "image/png": "[encoded data removed]",
      "text/plain": [
       "<Figure size 1080x288 with 1 Axes>"
      ]
     },
     "metadata": {
      "needs_background": "light"
     },
     "output_type": "display_data"
    }
   ],
   "source": [
    "plt.figure(figsize=(15,4))\n",
    "top_ten=liquidity.groupby(['trn_mtype']).count().sort_values(by='amount',ascending=False).head(10)\n",
    "plt.bar(x=top_ten.index,height=top_ten['amount'],color='green')\n",
    "plt.show()"
   ]
  },
  {
   "cell_type": "code",
   "execution_count": 23,
   "metadata": {},
   "outputs": [
    {
     "data": {
      "image/png": "[encoded data removed]",
      "text/plain": [
       "<Figure size 1080x288 with 1 Axes>"
      ]
     },
     "metadata": {
      "needs_background": "light"
     },
     "output_type": "display_data"
    }
   ],
   "source": [
    "plt.figure(figsize=(15,4))\n",
    "top_ten_1=liquidity.groupby(['trn_type']).count().sort_values(by='amount',ascending=False).head(10)\n",
    "plt.bar(x=top_ten_1.index,height=top_ten_1['amount'],color='green')\n",
    "plt.show()"
   ]
  },
  {
   "cell_type": "markdown",
   "metadata": {},
   "source": [
    "###  Preprocess"
   ]
  },
  {
   "cell_type": "code",
   "execution_count": 24,
   "metadata": {},
   "outputs": [],
   "source": [
    "def preprocessit(data_tmp, feature_list, split_time= False, dropnan=True):\n",
    "    \n",
    "    data = data_tmp.copy()\n",
    "    if dropnan:\n",
    "        data.dropna(how='all', inplace=True)\n",
    "    \n",
    "    if len(feature_list) != 0:\n",
    "        data.drop(feature_list,axis=1,inplace=True)\n",
    "    \n",
    "    data.rename(columns={'Flexcube_timestamp' : 'date'}, inplace=True)\n",
    "    data['date']= pd.to_datetime(data['date'], format='%d-%b-%y  %I.%M.%S.%f %p')     \n",
    "    \n",
    "    if split_time:\n",
    "        data.rename(columns={'date' : 'dat'}, inplace=True)\n",
    "        data['date'] = pd.to_datetime(data['dat']).dt.date\n",
    "        data['date'] = pd.to_datetime(data['date'])\n",
    "        data['Time'] = pd.to_datetime(data['dat']).dt.time\n",
    "        data.drop(columns=['dat'], inplace=True)    \n",
    "    \n",
    "    data.set_index('date', inplace=True)\n",
    "    \n",
    "    return data\n",
    "    "
   ]
  },
  {
   "cell_type": "code",
   "execution_count": 25,
   "metadata": {},
   "outputs": [
    {
     "data": {
      "text/html": [
       "<div>\n",
       "<style scoped>\n",
       "    .dataframe tbody tr th:only-of-type {\n",
       "        vertical-align: middle;\n",
       "    }\n",
       "\n",
       "    .dataframe tbody tr th {\n",
       "        vertical-align: top;\n",
       "    }\n",
       "\n",
       "    .dataframe thead th {\n",
       "        text-align: right;\n",
       "    }\n",
       "</style>\n",
       "<table border=\"1\" class=\"dataframe\">\n",
       "  <thead>\n",
       "    <tr style=\"text-align: right;\">\n",
       "      <th></th>\n",
       "      <th>trn_mtype</th>\n",
       "      <th>amount</th>\n",
       "    </tr>\n",
       "    <tr>\n",
       "      <th>date</th>\n",
       "      <th></th>\n",
       "      <th></th>\n",
       "    </tr>\n",
       "  </thead>\n",
       "  <tbody>\n",
       "    <tr>\n",
       "      <th>2017-03-03 06:03:04.510491</th>\n",
       "      <td>C</td>\n",
       "      <td>46037.20</td>\n",
       "    </tr>\n",
       "    <tr>\n",
       "      <th>2017-03-03 06:03:04.970025</th>\n",
       "      <td>C</td>\n",
       "      <td>42705.60</td>\n",
       "    </tr>\n",
       "    <tr>\n",
       "      <th>2017-03-03 06:03:05.384726</th>\n",
       "      <td>C</td>\n",
       "      <td>32832.00</td>\n",
       "    </tr>\n",
       "    <tr>\n",
       "      <th>2017-03-03 06:03:05.823524</th>\n",
       "      <td>C</td>\n",
       "      <td>73771261.21</td>\n",
       "    </tr>\n",
       "    <tr>\n",
       "      <th>2017-03-03 06:15:03.138219</th>\n",
       "      <td>C</td>\n",
       "      <td>656723.55</td>\n",
       "    </tr>\n",
       "  </tbody>\n",
       "</table>\n",
       "</div>"
      ],
      "text/plain": [
       "                           trn_mtype       amount\n",
       "date                                             \n",
       "2017-03-03 06:03:04.510491         C     46037.20\n",
       "2017-03-03 06:03:04.970025         C     42705.60\n",
       "2017-03-03 06:03:05.384726         C     32832.00\n",
       "2017-03-03 06:03:05.823524         C  73771261.21\n",
       "2017-03-03 06:15:03.138219         C    656723.55"
      ]
     },
     "execution_count": 25,
     "metadata": {},
     "output_type": "execute_result"
    }
   ],
   "source": [
    "drop_list = ['Montran Reference', 'New-Acct', 'trn_date', 'New-ABA', 'trn_type']\n",
    "df_liquidity = preprocessit(liquidity, drop_list)\n",
    "df_liquidity.head()"
   ]
  },
  {
   "cell_type": "code",
   "execution_count": 26,
   "metadata": {},
   "outputs": [],
   "source": [
    "def create_features(df, label=None):\n",
    "    \"\"\"\n",
    "    Creates time series features from datetime index.\n",
    "    \"\"\"\n",
    "    df = df.copy()\n",
    "    df['date'] = df.index\n",
    "    df['hour'] = df['date'].dt.hour\n",
    "    df['dayofweek'] = df['date'].dt.dayofweek\n",
    "    df['quarter'] = df['date'].dt.quarter\n",
    "    df['month'] = df['date'].dt.month\n",
    "    df['year'] = df['date'].dt.year\n",
    "    df['dayofyear'] = df['date'].dt.dayofyear\n",
    "    df['dayofmonth'] = df['date'].dt.day\n",
    "    df['weekofyear'] = df['date'].dt.weekofyear\n",
    "    \n",
    "    X = df[['hour','dayofweek','quarter','month','year',\n",
    "           'dayofyear','dayofmonth','weekofyear']]\n",
    "    if label:\n",
    "        y = df[label]\n",
    "        return X, y\n",
    "    return X"
   ]
  },
  {
   "cell_type": "code",
   "execution_count": 27,
   "metadata": {},
   "outputs": [],
   "source": [
    "X, y = create_features(df_liquidity, label='amount')\n",
    "\n",
    "features_and_target = pd.concat([X, y], axis=1)\n"
   ]
  },
  {
   "cell_type": "code",
   "execution_count": 28,
   "metadata": {},
   "outputs": [
    {
     "data": {
      "text/html": [
       "<div>\n",
       "<style scoped>\n",
       "    .dataframe tbody tr th:only-of-type {\n",
       "        vertical-align: middle;\n",
       "    }\n",
       "\n",
       "    .dataframe tbody tr th {\n",
       "        vertical-align: top;\n",
       "    }\n",
       "\n",
       "    .dataframe thead th {\n",
       "        text-align: right;\n",
       "    }\n",
       "</style>\n",
       "<table border=\"1\" class=\"dataframe\">\n",
       "  <thead>\n",
       "    <tr style=\"text-align: right;\">\n",
       "      <th></th>\n",
       "      <th>hour</th>\n",
       "      <th>dayofweek</th>\n",
       "      <th>quarter</th>\n",
       "      <th>month</th>\n",
       "      <th>year</th>\n",
       "      <th>dayofyear</th>\n",
       "      <th>dayofmonth</th>\n",
       "      <th>weekofyear</th>\n",
       "      <th>amount</th>\n",
       "    </tr>\n",
       "    <tr>\n",
       "      <th>date</th>\n",
       "      <th></th>\n",
       "      <th></th>\n",
       "      <th></th>\n",
       "      <th></th>\n",
       "      <th></th>\n",
       "      <th></th>\n",
       "      <th></th>\n",
       "      <th></th>\n",
       "      <th></th>\n",
       "    </tr>\n",
       "  </thead>\n",
       "  <tbody>\n",
       "    <tr>\n",
       "      <th>2017-03-03 06:03:04.510491</th>\n",
       "      <td>6</td>\n",
       "      <td>4</td>\n",
       "      <td>1</td>\n",
       "      <td>3</td>\n",
       "      <td>2017</td>\n",
       "      <td>62</td>\n",
       "      <td>3</td>\n",
       "      <td>9</td>\n",
       "      <td>46037.20</td>\n",
       "    </tr>\n",
       "    <tr>\n",
       "      <th>2017-03-03 06:03:04.970025</th>\n",
       "      <td>6</td>\n",
       "      <td>4</td>\n",
       "      <td>1</td>\n",
       "      <td>3</td>\n",
       "      <td>2017</td>\n",
       "      <td>62</td>\n",
       "      <td>3</td>\n",
       "      <td>9</td>\n",
       "      <td>42705.60</td>\n",
       "    </tr>\n",
       "    <tr>\n",
       "      <th>2017-03-03 06:03:05.384726</th>\n",
       "      <td>6</td>\n",
       "      <td>4</td>\n",
       "      <td>1</td>\n",
       "      <td>3</td>\n",
       "      <td>2017</td>\n",
       "      <td>62</td>\n",
       "      <td>3</td>\n",
       "      <td>9</td>\n",
       "      <td>32832.00</td>\n",
       "    </tr>\n",
       "    <tr>\n",
       "      <th>2017-03-03 06:03:05.823524</th>\n",
       "      <td>6</td>\n",
       "      <td>4</td>\n",
       "      <td>1</td>\n",
       "      <td>3</td>\n",
       "      <td>2017</td>\n",
       "      <td>62</td>\n",
       "      <td>3</td>\n",
       "      <td>9</td>\n",
       "      <td>73771261.21</td>\n",
       "    </tr>\n",
       "    <tr>\n",
       "      <th>2017-03-03 06:15:03.138219</th>\n",
       "      <td>6</td>\n",
       "      <td>4</td>\n",
       "      <td>1</td>\n",
       "      <td>3</td>\n",
       "      <td>2017</td>\n",
       "      <td>62</td>\n",
       "      <td>3</td>\n",
       "      <td>9</td>\n",
       "      <td>656723.55</td>\n",
       "    </tr>\n",
       "  </tbody>\n",
       "</table>\n",
       "</div>"
      ],
      "text/plain": [
       "                            hour  dayofweek  quarter  month  year  dayofyear  \\\n",
       "date                                                                           \n",
       "2017-03-03 06:03:04.510491     6          4        1      3  2017         62   \n",
       "2017-03-03 06:03:04.970025     6          4        1      3  2017         62   \n",
       "2017-03-03 06:03:05.384726     6          4        1      3  2017         62   \n",
       "2017-03-03 06:03:05.823524     6          4        1      3  2017         62   \n",
       "2017-03-03 06:15:03.138219     6          4        1      3  2017         62   \n",
       "\n",
       "                            dayofmonth  weekofyear       amount  \n",
       "date                                                             \n",
       "2017-03-03 06:03:04.510491           3           9     46037.20  \n",
       "2017-03-03 06:03:04.970025           3           9     42705.60  \n",
       "2017-03-03 06:03:05.384726           3           9     32832.00  \n",
       "2017-03-03 06:03:05.823524           3           9  73771261.21  \n",
       "2017-03-03 06:15:03.138219           3           9    656723.55  "
      ]
     },
     "execution_count": 28,
     "metadata": {},
     "output_type": "execute_result"
    }
   ],
   "source": [
    "features_and_target.head()"
   ]
  },
  {
   "cell_type": "code",
   "execution_count": 29,
   "metadata": {},
   "outputs": [
    {
     "data": {
      "text/plain": [
       "(309536, 9)"
      ]
     },
     "execution_count": 29,
     "metadata": {},
     "output_type": "execute_result"
    }
   ],
   "source": [
    "features_and_target.shape"
   ]
  },
  {
   "cell_type": "code",
   "execution_count": 30,
   "metadata": {},
   "outputs": [
    {
     "data": {
      "text/html": [
       "<div>\n",
       "<style scoped>\n",
       "    .dataframe tbody tr th:only-of-type {\n",
       "        vertical-align: middle;\n",
       "    }\n",
       "\n",
       "    .dataframe tbody tr th {\n",
       "        vertical-align: top;\n",
       "    }\n",
       "\n",
       "    .dataframe thead th {\n",
       "        text-align: right;\n",
       "    }\n",
       "</style>\n",
       "<table border=\"1\" class=\"dataframe\">\n",
       "  <thead>\n",
       "    <tr style=\"text-align: right;\">\n",
       "      <th></th>\n",
       "      <th>hour</th>\n",
       "      <th>dayofweek</th>\n",
       "      <th>quarter</th>\n",
       "      <th>month</th>\n",
       "      <th>year</th>\n",
       "      <th>dayofyear</th>\n",
       "      <th>dayofmonth</th>\n",
       "      <th>weekofyear</th>\n",
       "      <th>amount</th>\n",
       "    </tr>\n",
       "    <tr>\n",
       "      <th>date</th>\n",
       "      <th></th>\n",
       "      <th></th>\n",
       "      <th></th>\n",
       "      <th></th>\n",
       "      <th></th>\n",
       "      <th></th>\n",
       "      <th></th>\n",
       "      <th></th>\n",
       "      <th></th>\n",
       "    </tr>\n",
       "  </thead>\n",
       "  <tbody>\n",
       "    <tr>\n",
       "      <th>2017-03-31 17:59:53.892141</th>\n",
       "      <td>17</td>\n",
       "      <td>4</td>\n",
       "      <td>1</td>\n",
       "      <td>3</td>\n",
       "      <td>2017</td>\n",
       "      <td>90</td>\n",
       "      <td>31</td>\n",
       "      <td>13</td>\n",
       "      <td>242269.68</td>\n",
       "    </tr>\n",
       "    <tr>\n",
       "      <th>2017-03-31 18:00:54.500733</th>\n",
       "      <td>18</td>\n",
       "      <td>4</td>\n",
       "      <td>1</td>\n",
       "      <td>3</td>\n",
       "      <td>2017</td>\n",
       "      <td>90</td>\n",
       "      <td>31</td>\n",
       "      <td>13</td>\n",
       "      <td>93430.55</td>\n",
       "    </tr>\n",
       "    <tr>\n",
       "      <th>2017-03-31 18:00:54.293635</th>\n",
       "      <td>18</td>\n",
       "      <td>4</td>\n",
       "      <td>1</td>\n",
       "      <td>3</td>\n",
       "      <td>2017</td>\n",
       "      <td>90</td>\n",
       "      <td>31</td>\n",
       "      <td>13</td>\n",
       "      <td>93430.55</td>\n",
       "    </tr>\n",
       "    <tr>\n",
       "      <th>2017-03-31 18:03:53.966380</th>\n",
       "      <td>18</td>\n",
       "      <td>4</td>\n",
       "      <td>1</td>\n",
       "      <td>3</td>\n",
       "      <td>2017</td>\n",
       "      <td>90</td>\n",
       "      <td>31</td>\n",
       "      <td>13</td>\n",
       "      <td>93430.55</td>\n",
       "    </tr>\n",
       "    <tr>\n",
       "      <th>2017-03-31 18:03:54.163341</th>\n",
       "      <td>18</td>\n",
       "      <td>4</td>\n",
       "      <td>1</td>\n",
       "      <td>3</td>\n",
       "      <td>2017</td>\n",
       "      <td>90</td>\n",
       "      <td>31</td>\n",
       "      <td>13</td>\n",
       "      <td>93430.55</td>\n",
       "    </tr>\n",
       "  </tbody>\n",
       "</table>\n",
       "</div>"
      ],
      "text/plain": [
       "                            hour  dayofweek  quarter  month  year  dayofyear  \\\n",
       "date                                                                           \n",
       "2017-03-31 17:59:53.892141    17          4        1      3  2017         90   \n",
       "2017-03-31 18:00:54.500733    18          4        1      3  2017         90   \n",
       "2017-03-31 18:00:54.293635    18          4        1      3  2017         90   \n",
       "2017-03-31 18:03:53.966380    18          4        1      3  2017         90   \n",
       "2017-03-31 18:03:54.163341    18          4        1      3  2017         90   \n",
       "\n",
       "                            dayofmonth  weekofyear     amount  \n",
       "date                                                           \n",
       "2017-03-31 17:59:53.892141          31          13  242269.68  \n",
       "2017-03-31 18:00:54.500733          31          13   93430.55  \n",
       "2017-03-31 18:00:54.293635          31          13   93430.55  \n",
       "2017-03-31 18:03:53.966380          31          13   93430.55  \n",
       "2017-03-31 18:03:54.163341          31          13   93430.55  "
      ]
     },
     "execution_count": 30,
     "metadata": {},
     "output_type": "execute_result"
    }
   ],
   "source": [
    "features_and_target.tail()"
   ]
  },
  {
   "cell_type": "markdown",
   "metadata": {},
   "source": [
    "### Plotting the Features to see trends"
   ]
  },
  {
   "cell_type": "code",
   "execution_count": 31,
   "metadata": {},
   "outputs": [
    {
     "data": {
      "image/png": "[encoded data removed]",
      "text/plain": [
       "<Figure size 1488.75x360 with 4 Axes>"
      ]
     },
     "metadata": {
      "needs_background": "light"
     },
     "output_type": "display_data"
    }
   ],
   "source": [
    "sns.pairplot(features_and_target.dropna(),\n",
    "             hue='hour',\n",
    "             x_vars=['hour','dayofweek',\n",
    "                     'month','weekofyear'],\n",
    "             y_vars='amount',\n",
    "             height=5,\n",
    "             plot_kws={'alpha':0.15, 'linewidth':0}\n",
    "            )\n",
    "plt.suptitle('Amount by Hour, Day of Week, Month and Week of Year')\n",
    "plt.show()"
   ]
  },
  {
   "cell_type": "markdown",
   "metadata": {},
   "source": [
    "### Train/Test Split"
   ]
  },
  {
   "cell_type": "markdown",
   "metadata": {},
   "source": [
    "#### select only amount as feautre"
   ]
  },
  {
   "cell_type": "code",
   "execution_count": 32,
   "metadata": {},
   "outputs": [
    {
     "data": {
      "text/html": [
       "<div>\n",
       "<style scoped>\n",
       "    .dataframe tbody tr th:only-of-type {\n",
       "        vertical-align: middle;\n",
       "    }\n",
       "\n",
       "    .dataframe tbody tr th {\n",
       "        vertical-align: top;\n",
       "    }\n",
       "\n",
       "    .dataframe thead th {\n",
       "        text-align: right;\n",
       "    }\n",
       "</style>\n",
       "<table border=\"1\" class=\"dataframe\">\n",
       "  <thead>\n",
       "    <tr style=\"text-align: right;\">\n",
       "      <th></th>\n",
       "      <th>date</th>\n",
       "      <th>amount</th>\n",
       "    </tr>\n",
       "  </thead>\n",
       "  <tbody>\n",
       "    <tr>\n",
       "      <th>0</th>\n",
       "      <td>2017-03-03 06:03:04.510491</td>\n",
       "      <td>46037.20</td>\n",
       "    </tr>\n",
       "    <tr>\n",
       "      <th>1</th>\n",
       "      <td>2017-03-03 06:03:04.970025</td>\n",
       "      <td>42705.60</td>\n",
       "    </tr>\n",
       "    <tr>\n",
       "      <th>2</th>\n",
       "      <td>2017-03-03 06:03:05.384726</td>\n",
       "      <td>32832.00</td>\n",
       "    </tr>\n",
       "    <tr>\n",
       "      <th>3</th>\n",
       "      <td>2017-03-03 06:03:05.823524</td>\n",
       "      <td>73771261.21</td>\n",
       "    </tr>\n",
       "    <tr>\n",
       "      <th>4</th>\n",
       "      <td>2017-03-03 06:15:03.138219</td>\n",
       "      <td>656723.55</td>\n",
       "    </tr>\n",
       "  </tbody>\n",
       "</table>\n",
       "</div>"
      ],
      "text/plain": [
       "                        date       amount\n",
       "0 2017-03-03 06:03:04.510491     46037.20\n",
       "1 2017-03-03 06:03:04.970025     42705.60\n",
       "2 2017-03-03 06:03:05.384726     32832.00\n",
       "3 2017-03-03 06:03:05.823524  73771261.21\n",
       "4 2017-03-03 06:15:03.138219    656723.55"
      ]
     },
     "execution_count": 32,
     "metadata": {},
     "output_type": "execute_result"
    }
   ],
   "source": [
    "df_liquidity1 = features_and_target[['amount']]\n",
    "df_liquidity1.reset_index(inplace=True)\n",
    "df_liquidity1.head()"
   ]
  },
  {
   "cell_type": "code",
   "execution_count": 34,
   "metadata": {},
   "outputs": [
    {
     "data": {
      "text/html": [
       "<div>\n",
       "<style scoped>\n",
       "    .dataframe tbody tr th:only-of-type {\n",
       "        vertical-align: middle;\n",
       "    }\n",
       "\n",
       "    .dataframe tbody tr th {\n",
       "        vertical-align: top;\n",
       "    }\n",
       "\n",
       "    .dataframe thead th {\n",
       "        text-align: right;\n",
       "    }\n",
       "</style>\n",
       "<table border=\"1\" class=\"dataframe\">\n",
       "  <thead>\n",
       "    <tr style=\"text-align: right;\">\n",
       "      <th></th>\n",
       "      <th>trn_mtype</th>\n",
       "      <th>amount</th>\n",
       "    </tr>\n",
       "    <tr>\n",
       "      <th>date</th>\n",
       "      <th></th>\n",
       "      <th></th>\n",
       "    </tr>\n",
       "  </thead>\n",
       "  <tbody>\n",
       "    <tr>\n",
       "      <th>2017-03-03 06:03:04.510491</th>\n",
       "      <td>C</td>\n",
       "      <td>46037.20</td>\n",
       "    </tr>\n",
       "    <tr>\n",
       "      <th>2017-03-03 06:03:04.970025</th>\n",
       "      <td>C</td>\n",
       "      <td>42705.60</td>\n",
       "    </tr>\n",
       "    <tr>\n",
       "      <th>2017-03-03 06:03:05.384726</th>\n",
       "      <td>C</td>\n",
       "      <td>32832.00</td>\n",
       "    </tr>\n",
       "    <tr>\n",
       "      <th>2017-03-03 06:03:05.823524</th>\n",
       "      <td>C</td>\n",
       "      <td>73771261.21</td>\n",
       "    </tr>\n",
       "    <tr>\n",
       "      <th>2017-03-03 06:15:03.138219</th>\n",
       "      <td>C</td>\n",
       "      <td>656723.55</td>\n",
       "    </tr>\n",
       "  </tbody>\n",
       "</table>\n",
       "</div>"
      ],
      "text/plain": [
       "                           trn_mtype       amount\n",
       "date                                             \n",
       "2017-03-03 06:03:04.510491         C     46037.20\n",
       "2017-03-03 06:03:04.970025         C     42705.60\n",
       "2017-03-03 06:03:05.384726         C     32832.00\n",
       "2017-03-03 06:03:05.823524         C  73771261.21\n",
       "2017-03-03 06:15:03.138219         C    656723.55"
      ]
     },
     "execution_count": 34,
     "metadata": {},
     "output_type": "execute_result"
    }
   ],
   "source": [
    "df_liquidity.head()"
   ]
  },
  {
   "cell_type": "code",
   "execution_count": 35,
   "metadata": {},
   "outputs": [
    {
     "data": {
      "text/html": [
       "<div>\n",
       "<style scoped>\n",
       "    .dataframe tbody tr th:only-of-type {\n",
       "        vertical-align: middle;\n",
       "    }\n",
       "\n",
       "    .dataframe tbody tr th {\n",
       "        vertical-align: top;\n",
       "    }\n",
       "\n",
       "    .dataframe thead th {\n",
       "        text-align: right;\n",
       "    }\n",
       "</style>\n",
       "<table border=\"1\" class=\"dataframe\">\n",
       "  <thead>\n",
       "    <tr style=\"text-align: right;\">\n",
       "      <th></th>\n",
       "      <th>amount</th>\n",
       "    </tr>\n",
       "    <tr>\n",
       "      <th>date</th>\n",
       "      <th></th>\n",
       "    </tr>\n",
       "  </thead>\n",
       "  <tbody>\n",
       "    <tr>\n",
       "      <th>2017-02-28 22:00:00</th>\n",
       "      <td>3.204491e+06</td>\n",
       "    </tr>\n",
       "    <tr>\n",
       "      <th>2017-02-28 23:00:00</th>\n",
       "      <td>4.321000e+05</td>\n",
       "    </tr>\n",
       "    <tr>\n",
       "      <th>2017-03-01 00:00:00</th>\n",
       "      <td>9.798370e+06</td>\n",
       "    </tr>\n",
       "    <tr>\n",
       "      <th>2017-03-01 01:00:00</th>\n",
       "      <td>9.118884e+06</td>\n",
       "    </tr>\n",
       "    <tr>\n",
       "      <th>2017-03-01 02:00:00</th>\n",
       "      <td>3.338729e+06</td>\n",
       "    </tr>\n",
       "  </tbody>\n",
       "</table>\n",
       "</div>"
      ],
      "text/plain": [
       "                           amount\n",
       "date                             \n",
       "2017-02-28 22:00:00  3.204491e+06\n",
       "2017-02-28 23:00:00  4.321000e+05\n",
       "2017-03-01 00:00:00  9.798370e+06\n",
       "2017-03-01 01:00:00  9.118884e+06\n",
       "2017-03-01 02:00:00  3.338729e+06"
      ]
     },
     "execution_count": 35,
     "metadata": {},
     "output_type": "execute_result"
    }
   ],
   "source": [
    "df_liquidity1 = df_liquidity1.resample('H', on='date').mean()\n",
    "df_liquidity1.head()"
   ]
  },
  {
   "cell_type": "code",
   "execution_count": 36,
   "metadata": {},
   "outputs": [],
   "source": [
    "# if predict_hourly:\n",
    "#     df_liquidity1 = df_liquidity.resample('H', on='date').mean()\n",
    "# else :\n",
    "#     df_liquidity1 = df_liquidity.resample('D', on='date').mean()\n",
    "# df_liquidity1.head()"
   ]
  },
  {
   "cell_type": "markdown",
   "metadata": {},
   "source": [
    "#### Check for NA values"
   ]
  },
  {
   "cell_type": "code",
   "execution_count": 37,
   "metadata": {},
   "outputs": [
    {
     "name": "stdout",
     "output_type": "stream",
     "text": [
      "(741, 1)\n"
     ]
    },
    {
     "data": {
      "text/plain": [
       "amount    239\n",
       "dtype: int64"
      ]
     },
     "execution_count": 37,
     "metadata": {},
     "output_type": "execute_result"
    }
   ],
   "source": [
    "print(df_liquidity1.shape)\n",
    "df_liquidity1.isna().sum()"
   ]
  },
  {
   "cell_type": "markdown",
   "metadata": {},
   "source": [
    "#### Fill NA"
   ]
  },
  {
   "cell_type": "code",
   "execution_count": 38,
   "metadata": {},
   "outputs": [
    {
     "data": {
      "text/plain": [
       "amount    0\n",
       "dtype: int64"
      ]
     },
     "execution_count": 38,
     "metadata": {},
     "output_type": "execute_result"
    }
   ],
   "source": [
    "df_liquidity1.fillna(0,inplace=True)\n",
    "df_liquidity1.isna().sum()"
   ]
  },
  {
   "cell_type": "code",
   "execution_count": 39,
   "metadata": {},
   "outputs": [
    {
     "data": {
      "text/plain": [
       "'31-MAR-17 12.59.56.261792 PM'"
      ]
     },
     "execution_count": 39,
     "metadata": {},
     "output_type": "execute_result"
    }
   ],
   "source": [
    "liquidity.Flexcube_timestamp.max()"
   ]
  },
  {
   "cell_type": "markdown",
   "metadata": {},
   "source": [
    "df_liquidity1.set_index('date', inplace=True)\n",
    "df_liquidity1.head()"
   ]
  },
  {
   "cell_type": "code",
   "execution_count": 40,
   "metadata": {},
   "outputs": [],
   "source": [
    "split_date = '2017-03-31'\n",
    "liq_train = df_liquidity1.loc[df_liquidity1.index <= split_date].copy()\n",
    "liq_test = df_liquidity1.loc[df_liquidity1.index > split_date].copy()"
   ]
  },
  {
   "cell_type": "code",
   "execution_count": 41,
   "metadata": {},
   "outputs": [
    {
     "data": {
      "text/plain": [
       "(723, 1)"
      ]
     },
     "execution_count": 41,
     "metadata": {},
     "output_type": "execute_result"
    }
   ],
   "source": [
    "liq_train.shape"
   ]
  },
  {
   "cell_type": "code",
   "execution_count": 42,
   "metadata": {},
   "outputs": [
    {
     "data": {
      "text/plain": [
       "(18, 1)"
      ]
     },
     "execution_count": 42,
     "metadata": {},
     "output_type": "execute_result"
    }
   ],
   "source": [
    "liq_test.shape"
   ]
  },
  {
   "cell_type": "code",
   "execution_count": 43,
   "metadata": {},
   "outputs": [
    {
     "data": {
      "text/html": [
       "<div>\n",
       "<style scoped>\n",
       "    .dataframe tbody tr th:only-of-type {\n",
       "        vertical-align: middle;\n",
       "    }\n",
       "\n",
       "    .dataframe tbody tr th {\n",
       "        vertical-align: top;\n",
       "    }\n",
       "\n",
       "    .dataframe thead th {\n",
       "        text-align: right;\n",
       "    }\n",
       "</style>\n",
       "<table border=\"1\" class=\"dataframe\">\n",
       "  <thead>\n",
       "    <tr style=\"text-align: right;\">\n",
       "      <th></th>\n",
       "      <th>amount</th>\n",
       "    </tr>\n",
       "    <tr>\n",
       "      <th>date</th>\n",
       "      <th></th>\n",
       "    </tr>\n",
       "  </thead>\n",
       "  <tbody>\n",
       "    <tr>\n",
       "      <th>2017-02-28 22:00:00</th>\n",
       "      <td>3.204491e+06</td>\n",
       "    </tr>\n",
       "    <tr>\n",
       "      <th>2017-02-28 23:00:00</th>\n",
       "      <td>4.321000e+05</td>\n",
       "    </tr>\n",
       "    <tr>\n",
       "      <th>2017-03-01 00:00:00</th>\n",
       "      <td>9.798370e+06</td>\n",
       "    </tr>\n",
       "    <tr>\n",
       "      <th>2017-03-01 01:00:00</th>\n",
       "      <td>9.118884e+06</td>\n",
       "    </tr>\n",
       "    <tr>\n",
       "      <th>2017-03-01 02:00:00</th>\n",
       "      <td>3.338729e+06</td>\n",
       "    </tr>\n",
       "  </tbody>\n",
       "</table>\n",
       "</div>"
      ],
      "text/plain": [
       "                           amount\n",
       "date                             \n",
       "2017-02-28 22:00:00  3.204491e+06\n",
       "2017-02-28 23:00:00  4.321000e+05\n",
       "2017-03-01 00:00:00  9.798370e+06\n",
       "2017-03-01 01:00:00  9.118884e+06\n",
       "2017-03-01 02:00:00  3.338729e+06"
      ]
     },
     "execution_count": 43,
     "metadata": {},
     "output_type": "execute_result"
    }
   ],
   "source": [
    "liq_train.head()"
   ]
  },
  {
   "cell_type": "code",
   "execution_count": 44,
   "metadata": {},
   "outputs": [
    {
     "data": {
      "text/html": [
       "<div>\n",
       "<style scoped>\n",
       "    .dataframe tbody tr th:only-of-type {\n",
       "        vertical-align: middle;\n",
       "    }\n",
       "\n",
       "    .dataframe tbody tr th {\n",
       "        vertical-align: top;\n",
       "    }\n",
       "\n",
       "    .dataframe thead th {\n",
       "        text-align: right;\n",
       "    }\n",
       "</style>\n",
       "<table border=\"1\" class=\"dataframe\">\n",
       "  <thead>\n",
       "    <tr style=\"text-align: right;\">\n",
       "      <th></th>\n",
       "      <th>amount</th>\n",
       "    </tr>\n",
       "    <tr>\n",
       "      <th>date</th>\n",
       "      <th></th>\n",
       "    </tr>\n",
       "  </thead>\n",
       "  <tbody>\n",
       "    <tr>\n",
       "      <th>2017-03-31 14:00:00</th>\n",
       "      <td>2.898737e+07</td>\n",
       "    </tr>\n",
       "    <tr>\n",
       "      <th>2017-03-31 15:00:00</th>\n",
       "      <td>1.920516e+07</td>\n",
       "    </tr>\n",
       "    <tr>\n",
       "      <th>2017-03-31 16:00:00</th>\n",
       "      <td>2.651569e+07</td>\n",
       "    </tr>\n",
       "    <tr>\n",
       "      <th>2017-03-31 17:00:00</th>\n",
       "      <td>2.557517e+07</td>\n",
       "    </tr>\n",
       "    <tr>\n",
       "      <th>2017-03-31 18:00:00</th>\n",
       "      <td>7.238676e+07</td>\n",
       "    </tr>\n",
       "  </tbody>\n",
       "</table>\n",
       "</div>"
      ],
      "text/plain": [
       "                           amount\n",
       "date                             \n",
       "2017-03-31 14:00:00  2.898737e+07\n",
       "2017-03-31 15:00:00  1.920516e+07\n",
       "2017-03-31 16:00:00  2.651569e+07\n",
       "2017-03-31 17:00:00  2.557517e+07\n",
       "2017-03-31 18:00:00  7.238676e+07"
      ]
     },
     "execution_count": 44,
     "metadata": {},
     "output_type": "execute_result"
    }
   ],
   "source": [
    "liq_test.tail()"
   ]
  },
  {
   "cell_type": "code",
   "execution_count": 45,
   "metadata": {},
   "outputs": [
    {
     "data": {
      "image/png": "[encoded data removed]",
      "text/plain": [
       "<Figure size 1080x360 with 1 Axes>"
      ]
     },
     "metadata": {
      "needs_background": "light"
     },
     "output_type": "display_data"
    }
   ],
   "source": [
    "# Plot train and test so you can see where we have split\n",
    "liq_test \\\n",
    "    .rename(columns={'amount': 'TEST SET'}) \\\n",
    "    .join(liq_train.rename(columns={'amount': 'TRAINING SET'}),\n",
    "          how='outer') \\\n",
    "    .plot(figsize=(15,5), title='Liquidity', style='.')\n",
    "plt.show()"
   ]
  },
  {
   "cell_type": "markdown",
   "metadata": {},
   "source": [
    "### Prophet Model"
   ]
  },
  {
   "cell_type": "code",
   "execution_count": 46,
   "metadata": {},
   "outputs": [
    {
     "data": {
      "text/html": [
       "<div>\n",
       "<style scoped>\n",
       "    .dataframe tbody tr th:only-of-type {\n",
       "        vertical-align: middle;\n",
       "    }\n",
       "\n",
       "    .dataframe tbody tr th {\n",
       "        vertical-align: top;\n",
       "    }\n",
       "\n",
       "    .dataframe thead th {\n",
       "        text-align: right;\n",
       "    }\n",
       "</style>\n",
       "<table border=\"1\" class=\"dataframe\">\n",
       "  <thead>\n",
       "    <tr style=\"text-align: right;\">\n",
       "      <th></th>\n",
       "      <th>ds</th>\n",
       "      <th>y</th>\n",
       "    </tr>\n",
       "  </thead>\n",
       "  <tbody>\n",
       "    <tr>\n",
       "      <th>0</th>\n",
       "      <td>2017-02-28 22:00:00</td>\n",
       "      <td>3.204491e+06</td>\n",
       "    </tr>\n",
       "    <tr>\n",
       "      <th>1</th>\n",
       "      <td>2017-02-28 23:00:00</td>\n",
       "      <td>4.321000e+05</td>\n",
       "    </tr>\n",
       "    <tr>\n",
       "      <th>2</th>\n",
       "      <td>2017-03-01 00:00:00</td>\n",
       "      <td>9.798370e+06</td>\n",
       "    </tr>\n",
       "    <tr>\n",
       "      <th>3</th>\n",
       "      <td>2017-03-01 01:00:00</td>\n",
       "      <td>9.118884e+06</td>\n",
       "    </tr>\n",
       "    <tr>\n",
       "      <th>4</th>\n",
       "      <td>2017-03-01 02:00:00</td>\n",
       "      <td>3.338729e+06</td>\n",
       "    </tr>\n",
       "  </tbody>\n",
       "</table>\n",
       "</div>"
      ],
      "text/plain": [
       "                   ds             y\n",
       "0 2017-02-28 22:00:00  3.204491e+06\n",
       "1 2017-02-28 23:00:00  4.321000e+05\n",
       "2 2017-03-01 00:00:00  9.798370e+06\n",
       "3 2017-03-01 01:00:00  9.118884e+06\n",
       "4 2017-03-01 02:00:00  3.338729e+06"
      ]
     },
     "execution_count": 46,
     "metadata": {},
     "output_type": "execute_result"
    }
   ],
   "source": [
    "# Format data for prophet model using ds and y\n",
    "liq_train.reset_index() \\\n",
    "    .rename(columns={'date':'ds',\n",
    "                     'amount':'y'}).head()"
   ]
  },
  {
   "cell_type": "code",
   "execution_count": 47,
   "metadata": {},
   "outputs": [
    {
     "name": "stderr",
     "output_type": "stream",
     "text": [
      "INFO:fbprophet:Disabling yearly seasonality. Run prophet with yearly_seasonality=True to override this.\n"
     ]
    },
    {
     "data": {
      "text/plain": [
       "<fbprophet.forecaster.Prophet at 0x7f2d24f14280>"
      ]
     },
     "execution_count": 47,
     "metadata": {},
     "output_type": "execute_result"
    }
   ],
   "source": [
    "# Setup and train model and fit\n",
    "model = Prophet(seasonality_prior_scale=0.1)\n",
    "model.fit(liq_train.reset_index() \\\n",
    "    .rename(columns={'date':'ds',\n",
    "                     'amount':'y'}))"
   ]
  },
  {
   "cell_type": "markdown",
   "metadata": {},
   "source": [
    "### Prediction"
   ]
  },
  {
   "cell_type": "code",
   "execution_count": 48,
   "metadata": {},
   "outputs": [],
   "source": [
    "if predict_hourly :\n",
    "    future = model.make_future_dataframe(periods=1*24, freq='H')\n",
    "else:\n",
    "    future = model.make_future_dataframe(periods=1)\n",
    "liq_test_fcst = model.predict(future)"
   ]
  },
  {
   "cell_type": "code",
   "execution_count": 49,
   "metadata": {},
   "outputs": [
    {
     "name": "stdout",
     "output_type": "stream",
     "text": [
      "(747, 19)\n"
     ]
    },
    {
     "data": {
      "text/html": [
       "<div>\n",
       "<style scoped>\n",
       "    .dataframe tbody tr th:only-of-type {\n",
       "        vertical-align: middle;\n",
       "    }\n",
       "\n",
       "    .dataframe tbody tr th {\n",
       "        vertical-align: top;\n",
       "    }\n",
       "\n",
       "    .dataframe thead th {\n",
       "        text-align: right;\n",
       "    }\n",
       "</style>\n",
       "<table border=\"1\" class=\"dataframe\">\n",
       "  <thead>\n",
       "    <tr style=\"text-align: right;\">\n",
       "      <th></th>\n",
       "      <th>ds</th>\n",
       "      <th>trend</th>\n",
       "      <th>yhat_lower</th>\n",
       "      <th>yhat_upper</th>\n",
       "      <th>trend_lower</th>\n",
       "      <th>trend_upper</th>\n",
       "      <th>additive_terms</th>\n",
       "      <th>additive_terms_lower</th>\n",
       "      <th>additive_terms_upper</th>\n",
       "      <th>daily</th>\n",
       "      <th>daily_lower</th>\n",
       "      <th>daily_upper</th>\n",
       "      <th>weekly</th>\n",
       "      <th>weekly_lower</th>\n",
       "      <th>weekly_upper</th>\n",
       "      <th>multiplicative_terms</th>\n",
       "      <th>multiplicative_terms_lower</th>\n",
       "      <th>multiplicative_terms_upper</th>\n",
       "      <th>yhat</th>\n",
       "    </tr>\n",
       "  </thead>\n",
       "  <tbody>\n",
       "    <tr>\n",
       "      <th>0</th>\n",
       "      <td>2017-02-28 22:00:00</td>\n",
       "      <td>1.010550e+07</td>\n",
       "      <td>-1.037242e+07</td>\n",
       "      <td>2.537922e+07</td>\n",
       "      <td>1.010550e+07</td>\n",
       "      <td>1.010550e+07</td>\n",
       "      <td>-2.775372e+06</td>\n",
       "      <td>-2.775372e+06</td>\n",
       "      <td>-2.775372e+06</td>\n",
       "      <td>-7.431047e+06</td>\n",
       "      <td>-7.431047e+06</td>\n",
       "      <td>-7.431047e+06</td>\n",
       "      <td>4.655675e+06</td>\n",
       "      <td>4.655675e+06</td>\n",
       "      <td>4.655675e+06</td>\n",
       "      <td>0.0</td>\n",
       "      <td>0.0</td>\n",
       "      <td>0.0</td>\n",
       "      <td>7.330125e+06</td>\n",
       "    </tr>\n",
       "    <tr>\n",
       "      <th>1</th>\n",
       "      <td>2017-02-28 23:00:00</td>\n",
       "      <td>1.011162e+07</td>\n",
       "      <td>-3.978536e+06</td>\n",
       "      <td>3.166515e+07</td>\n",
       "      <td>1.011162e+07</td>\n",
       "      <td>1.011162e+07</td>\n",
       "      <td>5.047528e+06</td>\n",
       "      <td>5.047528e+06</td>\n",
       "      <td>5.047528e+06</td>\n",
       "      <td>3.530855e+05</td>\n",
       "      <td>3.530855e+05</td>\n",
       "      <td>3.530855e+05</td>\n",
       "      <td>4.694443e+06</td>\n",
       "      <td>4.694443e+06</td>\n",
       "      <td>4.694443e+06</td>\n",
       "      <td>0.0</td>\n",
       "      <td>0.0</td>\n",
       "      <td>0.0</td>\n",
       "      <td>1.515915e+07</td>\n",
       "    </tr>\n",
       "    <tr>\n",
       "      <th>2</th>\n",
       "      <td>2017-03-01 00:00:00</td>\n",
       "      <td>1.011774e+07</td>\n",
       "      <td>-1.657552e+05</td>\n",
       "      <td>3.648722e+07</td>\n",
       "      <td>1.011774e+07</td>\n",
       "      <td>1.011774e+07</td>\n",
       "      <td>7.842651e+06</td>\n",
       "      <td>7.842651e+06</td>\n",
       "      <td>7.842651e+06</td>\n",
       "      <td>3.109985e+06</td>\n",
       "      <td>3.109985e+06</td>\n",
       "      <td>3.109985e+06</td>\n",
       "      <td>4.732667e+06</td>\n",
       "      <td>4.732667e+06</td>\n",
       "      <td>4.732667e+06</td>\n",
       "      <td>0.0</td>\n",
       "      <td>0.0</td>\n",
       "      <td>0.0</td>\n",
       "      <td>1.796039e+07</td>\n",
       "    </tr>\n",
       "    <tr>\n",
       "      <th>3</th>\n",
       "      <td>2017-03-01 01:00:00</td>\n",
       "      <td>1.012386e+07</td>\n",
       "      <td>-3.643676e+06</td>\n",
       "      <td>3.300488e+07</td>\n",
       "      <td>1.012386e+07</td>\n",
       "      <td>1.012386e+07</td>\n",
       "      <td>4.558868e+06</td>\n",
       "      <td>4.558868e+06</td>\n",
       "      <td>4.558868e+06</td>\n",
       "      <td>-2.102581e+05</td>\n",
       "      <td>-2.102581e+05</td>\n",
       "      <td>-2.102581e+05</td>\n",
       "      <td>4.769126e+06</td>\n",
       "      <td>4.769126e+06</td>\n",
       "      <td>4.769126e+06</td>\n",
       "      <td>0.0</td>\n",
       "      <td>0.0</td>\n",
       "      <td>0.0</td>\n",
       "      <td>1.468273e+07</td>\n",
       "    </tr>\n",
       "    <tr>\n",
       "      <th>4</th>\n",
       "      <td>2017-03-01 02:00:00</td>\n",
       "      <td>1.012998e+07</td>\n",
       "      <td>-9.342073e+06</td>\n",
       "      <td>2.724412e+07</td>\n",
       "      <td>1.012998e+07</td>\n",
       "      <td>1.012998e+07</td>\n",
       "      <td>-9.237343e+05</td>\n",
       "      <td>-9.237343e+05</td>\n",
       "      <td>-9.237343e+05</td>\n",
       "      <td>-5.726381e+06</td>\n",
       "      <td>-5.726381e+06</td>\n",
       "      <td>-5.726381e+06</td>\n",
       "      <td>4.802646e+06</td>\n",
       "      <td>4.802646e+06</td>\n",
       "      <td>4.802646e+06</td>\n",
       "      <td>0.0</td>\n",
       "      <td>0.0</td>\n",
       "      <td>0.0</td>\n",
       "      <td>9.206247e+06</td>\n",
       "    </tr>\n",
       "  </tbody>\n",
       "</table>\n",
       "</div>"
      ],
      "text/plain": [
       "                   ds         trend    yhat_lower    yhat_upper   trend_lower  \\\n",
       "0 2017-02-28 22:00:00  1.010550e+07 -1.037242e+07  2.537922e+07  1.010550e+07   \n",
       "1 2017-02-28 23:00:00  1.011162e+07 -3.978536e+06  3.166515e+07  1.011162e+07   \n",
       "2 2017-03-01 00:00:00  1.011774e+07 -1.657552e+05  3.648722e+07  1.011774e+07   \n",
       "3 2017-03-01 01:00:00  1.012386e+07 -3.643676e+06  3.300488e+07  1.012386e+07   \n",
       "4 2017-03-01 02:00:00  1.012998e+07 -9.342073e+06  2.724412e+07  1.012998e+07   \n",
       "\n",
       "    trend_upper  additive_terms  additive_terms_lower  additive_terms_upper  \\\n",
       "0  1.010550e+07   -2.775372e+06         -2.775372e+06         -2.775372e+06   \n",
       "1  1.011162e+07    5.047528e+06          5.047528e+06          5.047528e+06   \n",
       "2  1.011774e+07    7.842651e+06          7.842651e+06          7.842651e+06   \n",
       "3  1.012386e+07    4.558868e+06          4.558868e+06          4.558868e+06   \n",
       "4  1.012998e+07   -9.237343e+05         -9.237343e+05         -9.237343e+05   \n",
       "\n",
       "          daily   daily_lower   daily_upper        weekly  weekly_lower  \\\n",
       "0 -7.431047e+06 -7.431047e+06 -7.431047e+06  4.655675e+06  4.655675e+06   \n",
       "1  3.530855e+05  3.530855e+05  3.530855e+05  4.694443e+06  4.694443e+06   \n",
       "2  3.109985e+06  3.109985e+06  3.109985e+06  4.732667e+06  4.732667e+06   \n",
       "3 -2.102581e+05 -2.102581e+05 -2.102581e+05  4.769126e+06  4.769126e+06   \n",
       "4 -5.726381e+06 -5.726381e+06 -5.726381e+06  4.802646e+06  4.802646e+06   \n",
       "\n",
       "   weekly_upper  multiplicative_terms  multiplicative_terms_lower  \\\n",
       "0  4.655675e+06                   0.0                         0.0   \n",
       "1  4.694443e+06                   0.0                         0.0   \n",
       "2  4.732667e+06                   0.0                         0.0   \n",
       "3  4.769126e+06                   0.0                         0.0   \n",
       "4  4.802646e+06                   0.0                         0.0   \n",
       "\n",
       "   multiplicative_terms_upper          yhat  \n",
       "0                         0.0  7.330125e+06  \n",
       "1                         0.0  1.515915e+07  \n",
       "2                         0.0  1.796039e+07  \n",
       "3                         0.0  1.468273e+07  \n",
       "4                         0.0  9.206247e+06  "
      ]
     },
     "execution_count": 49,
     "metadata": {},
     "output_type": "execute_result"
    }
   ],
   "source": [
    "print(liq_test_fcst.shape)\n",
    "liq_test_fcst.head()"
   ]
  },
  {
   "cell_type": "code",
   "execution_count": 50,
   "metadata": {},
   "outputs": [
    {
     "data": {
      "text/html": [
       "<div>\n",
       "<style scoped>\n",
       "    .dataframe tbody tr th:only-of-type {\n",
       "        vertical-align: middle;\n",
       "    }\n",
       "\n",
       "    .dataframe tbody tr th {\n",
       "        vertical-align: top;\n",
       "    }\n",
       "\n",
       "    .dataframe thead th {\n",
       "        text-align: right;\n",
       "    }\n",
       "</style>\n",
       "<table border=\"1\" class=\"dataframe\">\n",
       "  <thead>\n",
       "    <tr style=\"text-align: right;\">\n",
       "      <th></th>\n",
       "      <th>ds</th>\n",
       "      <th>trend</th>\n",
       "      <th>yhat_lower</th>\n",
       "      <th>yhat_upper</th>\n",
       "      <th>trend_lower</th>\n",
       "      <th>trend_upper</th>\n",
       "      <th>additive_terms</th>\n",
       "      <th>additive_terms_lower</th>\n",
       "      <th>additive_terms_upper</th>\n",
       "      <th>daily</th>\n",
       "      <th>daily_lower</th>\n",
       "      <th>daily_upper</th>\n",
       "      <th>weekly</th>\n",
       "      <th>weekly_lower</th>\n",
       "      <th>weekly_upper</th>\n",
       "      <th>multiplicative_terms</th>\n",
       "      <th>multiplicative_terms_lower</th>\n",
       "      <th>multiplicative_terms_upper</th>\n",
       "      <th>yhat</th>\n",
       "    </tr>\n",
       "  </thead>\n",
       "  <tbody>\n",
       "    <tr>\n",
       "      <th>742</th>\n",
       "      <td>2017-03-31 20:00:00</td>\n",
       "      <td>1.453247e+07</td>\n",
       "      <td>-1.757236e+07</td>\n",
       "      <td>1.789766e+07</td>\n",
       "      <td>1.453237e+07</td>\n",
       "      <td>1.453259e+07</td>\n",
       "      <td>-1.400481e+07</td>\n",
       "      <td>-1.400481e+07</td>\n",
       "      <td>-1.400481e+07</td>\n",
       "      <td>-1.392339e+07</td>\n",
       "      <td>-1.392339e+07</td>\n",
       "      <td>-1.392339e+07</td>\n",
       "      <td>-8.142769e+04</td>\n",
       "      <td>-8.142769e+04</td>\n",
       "      <td>-8.142769e+04</td>\n",
       "      <td>0.0</td>\n",
       "      <td>0.0</td>\n",
       "      <td>0.0</td>\n",
       "      <td>5.276587e+05</td>\n",
       "    </tr>\n",
       "    <tr>\n",
       "      <th>743</th>\n",
       "      <td>2017-03-31 21:00:00</td>\n",
       "      <td>1.453832e+07</td>\n",
       "      <td>-1.814399e+07</td>\n",
       "      <td>1.788384e+07</td>\n",
       "      <td>1.453820e+07</td>\n",
       "      <td>1.453845e+07</td>\n",
       "      <td>-1.507965e+07</td>\n",
       "      <td>-1.507965e+07</td>\n",
       "      <td>-1.507965e+07</td>\n",
       "      <td>-1.431056e+07</td>\n",
       "      <td>-1.431056e+07</td>\n",
       "      <td>-1.431056e+07</td>\n",
       "      <td>-7.690964e+05</td>\n",
       "      <td>-7.690964e+05</td>\n",
       "      <td>-7.690964e+05</td>\n",
       "      <td>0.0</td>\n",
       "      <td>0.0</td>\n",
       "      <td>0.0</td>\n",
       "      <td>-5.413393e+05</td>\n",
       "    </tr>\n",
       "    <tr>\n",
       "      <th>744</th>\n",
       "      <td>2017-03-31 22:00:00</td>\n",
       "      <td>1.454416e+07</td>\n",
       "      <td>-1.430625e+07</td>\n",
       "      <td>2.329412e+07</td>\n",
       "      <td>1.454403e+07</td>\n",
       "      <td>1.454431e+07</td>\n",
       "      <td>-8.916913e+06</td>\n",
       "      <td>-8.916913e+06</td>\n",
       "      <td>-8.916913e+06</td>\n",
       "      <td>-7.431047e+06</td>\n",
       "      <td>-7.431047e+06</td>\n",
       "      <td>-7.431047e+06</td>\n",
       "      <td>-1.485866e+06</td>\n",
       "      <td>-1.485866e+06</td>\n",
       "      <td>-1.485866e+06</td>\n",
       "      <td>0.0</td>\n",
       "      <td>0.0</td>\n",
       "      <td>0.0</td>\n",
       "      <td>5.627244e+06</td>\n",
       "    </tr>\n",
       "    <tr>\n",
       "      <th>745</th>\n",
       "      <td>2017-03-31 23:00:00</td>\n",
       "      <td>1.455000e+07</td>\n",
       "      <td>-5.235288e+06</td>\n",
       "      <td>3.134136e+07</td>\n",
       "      <td>1.454987e+07</td>\n",
       "      <td>1.455017e+07</td>\n",
       "      <td>-1.875009e+06</td>\n",
       "      <td>-1.875009e+06</td>\n",
       "      <td>-1.875009e+06</td>\n",
       "      <td>3.530855e+05</td>\n",
       "      <td>3.530855e+05</td>\n",
       "      <td>3.530855e+05</td>\n",
       "      <td>-2.228094e+06</td>\n",
       "      <td>-2.228094e+06</td>\n",
       "      <td>-2.228094e+06</td>\n",
       "      <td>0.0</td>\n",
       "      <td>0.0</td>\n",
       "      <td>0.0</td>\n",
       "      <td>1.267499e+07</td>\n",
       "    </tr>\n",
       "    <tr>\n",
       "      <th>746</th>\n",
       "      <td>2017-04-01 00:00:00</td>\n",
       "      <td>1.455584e+07</td>\n",
       "      <td>-4.122364e+06</td>\n",
       "      <td>3.265776e+07</td>\n",
       "      <td>1.455569e+07</td>\n",
       "      <td>1.455602e+07</td>\n",
       "      <td>1.181814e+05</td>\n",
       "      <td>1.181814e+05</td>\n",
       "      <td>1.181814e+05</td>\n",
       "      <td>3.109985e+06</td>\n",
       "      <td>3.109985e+06</td>\n",
       "      <td>3.109985e+06</td>\n",
       "      <td>-2.991803e+06</td>\n",
       "      <td>-2.991803e+06</td>\n",
       "      <td>-2.991803e+06</td>\n",
       "      <td>0.0</td>\n",
       "      <td>0.0</td>\n",
       "      <td>0.0</td>\n",
       "      <td>1.467402e+07</td>\n",
       "    </tr>\n",
       "  </tbody>\n",
       "</table>\n",
       "</div>"
      ],
      "text/plain": [
       "                     ds         trend    yhat_lower    yhat_upper  \\\n",
       "742 2017-03-31 20:00:00  1.453247e+07 -1.757236e+07  1.789766e+07   \n",
       "743 2017-03-31 21:00:00  1.453832e+07 -1.814399e+07  1.788384e+07   \n",
       "744 2017-03-31 22:00:00  1.454416e+07 -1.430625e+07  2.329412e+07   \n",
       "745 2017-03-31 23:00:00  1.455000e+07 -5.235288e+06  3.134136e+07   \n",
       "746 2017-04-01 00:00:00  1.455584e+07 -4.122364e+06  3.265776e+07   \n",
       "\n",
       "      trend_lower   trend_upper  additive_terms  additive_terms_lower  \\\n",
       "742  1.453237e+07  1.453259e+07   -1.400481e+07         -1.400481e+07   \n",
       "743  1.453820e+07  1.453845e+07   -1.507965e+07         -1.507965e+07   \n",
       "744  1.454403e+07  1.454431e+07   -8.916913e+06         -8.916913e+06   \n",
       "745  1.454987e+07  1.455017e+07   -1.875009e+06         -1.875009e+06   \n",
       "746  1.455569e+07  1.455602e+07    1.181814e+05          1.181814e+05   \n",
       "\n",
       "     additive_terms_upper         daily   daily_lower   daily_upper  \\\n",
       "742         -1.400481e+07 -1.392339e+07 -1.392339e+07 -1.392339e+07   \n",
       "743         -1.507965e+07 -1.431056e+07 -1.431056e+07 -1.431056e+07   \n",
       "744         -8.916913e+06 -7.431047e+06 -7.431047e+06 -7.431047e+06   \n",
       "745         -1.875009e+06  3.530855e+05  3.530855e+05  3.530855e+05   \n",
       "746          1.181814e+05  3.109985e+06  3.109985e+06  3.109985e+06   \n",
       "\n",
       "           weekly  weekly_lower  weekly_upper  multiplicative_terms  \\\n",
       "742 -8.142769e+04 -8.142769e+04 -8.142769e+04                   0.0   \n",
       "743 -7.690964e+05 -7.690964e+05 -7.690964e+05                   0.0   \n",
       "744 -1.485866e+06 -1.485866e+06 -1.485866e+06                   0.0   \n",
       "745 -2.228094e+06 -2.228094e+06 -2.228094e+06                   0.0   \n",
       "746 -2.991803e+06 -2.991803e+06 -2.991803e+06                   0.0   \n",
       "\n",
       "     multiplicative_terms_lower  multiplicative_terms_upper          yhat  \n",
       "742                         0.0                         0.0  5.276587e+05  \n",
       "743                         0.0                         0.0 -5.413393e+05  \n",
       "744                         0.0                         0.0  5.627244e+06  \n",
       "745                         0.0                         0.0  1.267499e+07  \n",
       "746                         0.0                         0.0  1.467402e+07  "
      ]
     },
     "execution_count": 50,
     "metadata": {},
     "output_type": "execute_result"
    }
   ],
   "source": [
    "liq_test_fcst.tail()"
   ]
  },
  {
   "cell_type": "code",
   "execution_count": 51,
   "metadata": {},
   "outputs": [
    {
     "data": {
      "image/png": "[encoded data removed]",
      "text/plain": [
       "<Figure size 1080x360 with 1 Axes>"
      ]
     },
     "metadata": {
      "needs_background": "light"
     },
     "output_type": "display_data"
    }
   ],
   "source": [
    "# Plot the forecast\n",
    "f, ax = plt.subplots(1)\n",
    "f.set_figheight(5)\n",
    "f.set_figwidth(15)\n",
    "fig = model.plot(liq_test_fcst,\n",
    "                 ax=ax)\n",
    "plt.show()"
   ]
  },
  {
   "cell_type": "code",
   "execution_count": 52,
   "metadata": {},
   "outputs": [
    {
     "data": {
      "image/png": "[encoded data removed]",
      "text/plain": [
       "<Figure size 648x648 with 3 Axes>"
      ]
     },
     "metadata": {},
     "output_type": "display_data"
    }
   ],
   "source": [
    "# Plot the components of the model\n",
    "fig = model.plot_components(liq_test_fcst)"
   ]
  },
  {
   "cell_type": "markdown",
   "metadata": {},
   "source": [
    "liq_test_fcst.to_csv(\"24HourForecast_NoResampleModel.csv\")"
   ]
  },
  {
   "cell_type": "code",
   "execution_count": 57,
   "metadata": {},
   "outputs": [
    {
     "data": {
      "text/plain": [
       "(18,)"
      ]
     },
     "execution_count": 57,
     "metadata": {},
     "output_type": "execute_result"
    }
   ],
   "source": [
    "liq_test_fcst['yhat'].shape\n",
    "liq_test['amount'].shape"
   ]
  },
  {
   "cell_type": "code",
   "execution_count": 59,
   "metadata": {},
   "outputs": [
    {
     "data": {
      "text/plain": [
       "202082778828318.06"
      ]
     },
     "execution_count": 59,
     "metadata": {},
     "output_type": "execute_result"
    }
   ],
   "source": [
    "##train error\n",
    "mean_squared_error(y_true=liq_train['amount'],\n",
    "                   y_pred=liq_test_fcst['yhat'][0:723])"
   ]
  },
  {
   "cell_type": "code",
   "execution_count": 62,
   "metadata": {},
   "outputs": [
    {
     "data": {
      "text/plain": [
       "9581060.318764191"
      ]
     },
     "execution_count": 62,
     "metadata": {},
     "output_type": "execute_result"
    }
   ],
   "source": [
    "mean_absolute_error(y_true=liq_train['amount'],\n",
    "                   y_pred=liq_test_fcst['yhat'][0:723])"
   ]
  },
  {
   "cell_type": "code",
   "execution_count": 60,
   "metadata": {},
   "outputs": [
    {
     "data": {
      "text/plain": [
       "470015174196921.5"
      ]
     },
     "execution_count": 60,
     "metadata": {},
     "output_type": "execute_result"
    }
   ],
   "source": [
    "##test error\n",
    "mean_squared_error(y_true=liq_test['amount'],\n",
    "                   y_pred=liq_test_fcst['yhat'][723:741])"
   ]
  },
  {
   "cell_type": "code",
   "execution_count": 61,
   "metadata": {},
   "outputs": [
    {
     "data": {
      "text/plain": [
       "13281466.271986295"
      ]
     },
     "execution_count": 61,
     "metadata": {},
     "output_type": "execute_result"
    }
   ],
   "source": [
    "mean_absolute_error(y_true=liq_test['amount'],\n",
    "                   y_pred=liq_test_fcst['yhat'][723:741])"
   ]
  },
  {
   "cell_type": "markdown",
   "metadata": {},
   "source": [
    "#### MAPE"
   ]
  },
  {
   "cell_type": "code",
   "execution_count": 63,
   "metadata": {},
   "outputs": [],
   "source": [
    "def mean_absolute_percentage_error(y_true, y_pred): \n",
    "    \"\"\"Calculates MAPE given y_true and y_pred\"\"\"\n",
    "    y_true, y_pred = np.array(y_true), np.array(y_pred)\n",
    "    return np.mean(np.abs((y_true - y_pred) / y_true)) * 100"
   ]
  },
  {
   "cell_type": "code",
   "execution_count": 65,
   "metadata": {},
   "outputs": [
    {
     "data": {
      "text/plain": [
       "101.52648612292532"
      ]
     },
     "execution_count": 65,
     "metadata": {},
     "output_type": "execute_result"
    }
   ],
   "source": [
    "##test error\n",
    "mean_absolute_percentage_error(y_true=liq_test['amount'],\n",
    "                   y_pred=liq_test_fcst['yhat'][723:741])"
   ]
  },
  {
   "cell_type": "code",
   "execution_count": null,
   "metadata": {},
   "outputs": [],
   "source": []
  },
  {
   "cell_type": "code",
   "execution_count": 67,
   "metadata": {},
   "outputs": [],
   "source": [
    "# Color pallete for plotting\n",
    "color_pal = [\"#F8766D\", \"#D39200\", \"#93AA00\",\n",
    "             \"#00BA38\", \"#00C19F\", \"#00B9E3\",\n",
    "             \"#619CFF\", \"#DB72FB\"]"
   ]
  },
  {
   "cell_type": "code",
   "execution_count": 68,
   "metadata": {},
   "outputs": [
    {
     "data": {
      "image/png": "[encoded data removed]",
      "text/plain": [
       "<Figure size 1080x360 with 1 Axes>"
      ]
     },
     "metadata": {
      "needs_background": "light"
     },
     "output_type": "display_data"
    }
   ],
   "source": [
    "ax = liq_train.plot(style='.',\n",
    "                     figsize=(15,5),\n",
    "                     color=color_pal[5],\n",
    "                     title='liquidity AMOUNT with bad data highlighted',\n",
    "                     xlim=('01-01-2012','01-01-2013')\n",
    "                    )\n",
    "liq_train.query('amount < 19000').plot(style='.',\n",
    "                                             figsize=(15,5),\n",
    "                                             color=color_pal[0],\n",
    "                                             ax=ax)\n",
    "ax.legend().set_visible(False)\n",
    "plt.show()"
   ]
  },
  {
   "cell_type": "code",
   "execution_count": 71,
   "metadata": {},
   "outputs": [
    {
     "data": {
      "text/html": [
       "<div>\n",
       "<style scoped>\n",
       "    .dataframe tbody tr th:only-of-type {\n",
       "        vertical-align: middle;\n",
       "    }\n",
       "\n",
       "    .dataframe tbody tr th {\n",
       "        vertical-align: top;\n",
       "    }\n",
       "\n",
       "    .dataframe thead th {\n",
       "        text-align: right;\n",
       "    }\n",
       "</style>\n",
       "<table border=\"1\" class=\"dataframe\">\n",
       "  <thead>\n",
       "    <tr style=\"text-align: right;\">\n",
       "      <th></th>\n",
       "      <th>amount</th>\n",
       "    </tr>\n",
       "  </thead>\n",
       "  <tbody>\n",
       "    <tr>\n",
       "      <th>count</th>\n",
       "      <td>7.230000e+02</td>\n",
       "    </tr>\n",
       "    <tr>\n",
       "      <th>mean</th>\n",
       "      <td>1.259080e+07</td>\n",
       "    </tr>\n",
       "    <tr>\n",
       "      <th>std</th>\n",
       "      <td>1.802086e+07</td>\n",
       "    </tr>\n",
       "    <tr>\n",
       "      <th>min</th>\n",
       "      <td>0.000000e+00</td>\n",
       "    </tr>\n",
       "    <tr>\n",
       "      <th>25%</th>\n",
       "      <td>0.000000e+00</td>\n",
       "    </tr>\n",
       "    <tr>\n",
       "      <th>50%</th>\n",
       "      <td>6.538924e+06</td>\n",
       "    </tr>\n",
       "    <tr>\n",
       "      <th>75%</th>\n",
       "      <td>1.653049e+07</td>\n",
       "    </tr>\n",
       "    <tr>\n",
       "      <th>max</th>\n",
       "      <td>9.851186e+07</td>\n",
       "    </tr>\n",
       "  </tbody>\n",
       "</table>\n",
       "</div>"
      ],
      "text/plain": [
       "             amount\n",
       "count  7.230000e+02\n",
       "mean   1.259080e+07\n",
       "std    1.802086e+07\n",
       "min    0.000000e+00\n",
       "25%    0.000000e+00\n",
       "50%    6.538924e+06\n",
       "75%    1.653049e+07\n",
       "max    9.851186e+07"
      ]
     },
     "execution_count": 71,
     "metadata": {},
     "output_type": "execute_result"
    }
   ],
   "source": [
    "liq_train.describe()"
   ]
  },
  {
   "cell_type": "code",
   "execution_count": null,
   "metadata": {},
   "outputs": [],
   "source": []
  },
  {
   "cell_type": "code",
   "execution_count": null,
   "metadata": {},
   "outputs": [],
   "source": []
  },
  {
   "cell_type": "code",
   "execution_count": null,
   "metadata": {},
   "outputs": [],
   "source": []
  },
  {
   "cell_type": "code",
   "execution_count": null,
   "metadata": {},
   "outputs": [],
   "source": []
  }
 ],
 "metadata": {
  "kernelspec": {
   "display_name": "Python 3",
   "language": "python",
   "name": "python3"
  },
  "language_info": {
   "codemirror_mode": {
    "name": "ipython",
    "version": 3
   },
   "file_extension": ".py",
   "mimetype": "text/x-python",
   "name": "python",
   "nbconvert_exporter": "python",
   "pygments_lexer": "ipython3",
   "version": "3.6.5"
  }
 },
 "nbformat": 4,
 "nbformat_minor": 2
}
