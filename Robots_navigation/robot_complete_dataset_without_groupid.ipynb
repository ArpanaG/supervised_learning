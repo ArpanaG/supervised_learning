{
 "cells": [
  {
   "cell_type": "markdown",
   "metadata": {
    "_cell_guid": "b1076dfc-b9ad-4769-8c92-a6c4dae69d19",
    "_uuid": "8f2839f25d086af736a60e9eeb907d3b93b6e0e5"
   },
   "source": [
    "Robots are smart… by design. To fully understand and properly navigate a task, however, they need input about their environment.\n",
    "\n",
    "Help robots recognize the floor surface they’re standing on using data collected from Inertial Measurement Units (IMU sensors)."
   ]
  },
  {
   "cell_type": "code",
   "execution_count": 1,
   "metadata": {
    "_uuid": "f0e7e3c4e6d5c813318b612f783a3fe857191200"
   },
   "outputs": [],
   "source": [
    "## importing libraries required\n",
    "import numpy as np # linear algebra\n",
    "import pandas as pd # data processing, CSV file I/O (e.g. pd.read_csv)\n",
    "import os\n",
    "#print(os.listdir(\"../input\"))\n",
    "from sklearn.model_selection import train_test_split\n",
    "from sklearn.ensemble import RandomForestClassifier\n",
    "from sklearn.model_selection import GridSearchCV, cross_val_score, StratifiedKFold, learning_curve, train_test_split, KFold\n",
    "from sklearn.metrics import confusion_matrix\n",
    "from sklearn.metrics import accuracy_score\n",
    "from sklearn.metrics import classification_report\n",
    "import matplotlib.pyplot as plt\n",
    "from plotly.offline import init_notebook_mode, iplot, plot\n",
    "import plotly.graph_objs as go\n",
    "from xgboost import XGBClassifier\n",
    "from sklearn.preprocessing import LabelEncoder\n",
    "from sklearn import preprocessing "
   ]
  },
  {
   "cell_type": "code",
   "execution_count": 28,
   "metadata": {},
   "outputs": [],
   "source": [
    "from sklearn import preprocessing "
   ]
  },
  {
   "cell_type": "markdown",
   "metadata": {},
   "source": [
    "from xgboost import XGBClassifier"
   ]
  },
  {
   "cell_type": "code",
   "execution_count": 2,
   "metadata": {
    "_cell_guid": "79c7e3d0-c299-4dcb-8224-4455121ee9b0",
    "_uuid": "d629ff2d2480ee46fbb7e2d37f6b5fab8052498a"
   },
   "outputs": [
    {
     "name": "stdout",
     "output_type": "stream",
     "text": [
      "C:\\kaggle_arpana\\career-con-2019\n"
     ]
    }
   ],
   "source": [
    "# Change directory\n",
    "#path = \"../input\"\n",
    "path = os.getcwd() \n",
    "os.chdir(path)\n",
    "print( path )"
   ]
  },
  {
   "cell_type": "code",
   "execution_count": 3,
   "metadata": {
    "_uuid": "ccf527ddee73f0996e1f8379b90e92ab2f9fe1e7"
   },
   "outputs": [],
   "source": [
    "#read Train and Test Data\n",
    "X_train_robo=pd.read_csv('X_train.csv')\n",
    "X_test_robo=pd.read_csv('X_test.csv')\n",
    "y_train_robo=pd.read_csv('y_train.csv')\n",
    "sample = pd.read_csv('sample_submission.csv')"
   ]
  },
  {
   "cell_type": "markdown",
   "metadata": {
    "_uuid": "23449bbb8dddbbec5795f8423433bd08a4f48d01"
   },
   "source": [
    "## *Viewing the Train and Test data"
   ]
  },
  {
   "cell_type": "code",
   "execution_count": 4,
   "metadata": {
    "_uuid": "b9449bca03456f1aa53d1bf33783e62a729b1384"
   },
   "outputs": [
    {
     "data": {
      "text/html": [
       "<div>\n",
       "<style scoped>\n",
       "    .dataframe tbody tr th:only-of-type {\n",
       "        vertical-align: middle;\n",
       "    }\n",
       "\n",
       "    .dataframe tbody tr th {\n",
       "        vertical-align: top;\n",
       "    }\n",
       "\n",
       "    .dataframe thead th {\n",
       "        text-align: right;\n",
       "    }\n",
       "</style>\n",
       "<table border=\"1\" class=\"dataframe\">\n",
       "  <thead>\n",
       "    <tr style=\"text-align: right;\">\n",
       "      <th></th>\n",
       "      <th>row_id</th>\n",
       "      <th>series_id</th>\n",
       "      <th>measurement_number</th>\n",
       "      <th>orientation_X</th>\n",
       "      <th>orientation_Y</th>\n",
       "      <th>orientation_Z</th>\n",
       "      <th>orientation_W</th>\n",
       "      <th>angular_velocity_X</th>\n",
       "      <th>angular_velocity_Y</th>\n",
       "      <th>angular_velocity_Z</th>\n",
       "      <th>linear_acceleration_X</th>\n",
       "      <th>linear_acceleration_Y</th>\n",
       "      <th>linear_acceleration_Z</th>\n",
       "    </tr>\n",
       "  </thead>\n",
       "  <tbody>\n",
       "    <tr>\n",
       "      <th>0</th>\n",
       "      <td>0_0</td>\n",
       "      <td>0</td>\n",
       "      <td>0</td>\n",
       "      <td>-0.75853</td>\n",
       "      <td>-0.63435</td>\n",
       "      <td>-0.10488</td>\n",
       "      <td>-0.10597</td>\n",
       "      <td>0.107650</td>\n",
       "      <td>0.017561</td>\n",
       "      <td>0.000767</td>\n",
       "      <td>-0.74857</td>\n",
       "      <td>2.1030</td>\n",
       "      <td>-9.7532</td>\n",
       "    </tr>\n",
       "    <tr>\n",
       "      <th>1</th>\n",
       "      <td>0_1</td>\n",
       "      <td>0</td>\n",
       "      <td>1</td>\n",
       "      <td>-0.75853</td>\n",
       "      <td>-0.63434</td>\n",
       "      <td>-0.10490</td>\n",
       "      <td>-0.10600</td>\n",
       "      <td>0.067851</td>\n",
       "      <td>0.029939</td>\n",
       "      <td>0.003385</td>\n",
       "      <td>0.33995</td>\n",
       "      <td>1.5064</td>\n",
       "      <td>-9.4128</td>\n",
       "    </tr>\n",
       "    <tr>\n",
       "      <th>2</th>\n",
       "      <td>0_2</td>\n",
       "      <td>0</td>\n",
       "      <td>2</td>\n",
       "      <td>-0.75853</td>\n",
       "      <td>-0.63435</td>\n",
       "      <td>-0.10492</td>\n",
       "      <td>-0.10597</td>\n",
       "      <td>0.007275</td>\n",
       "      <td>0.028934</td>\n",
       "      <td>-0.005978</td>\n",
       "      <td>-0.26429</td>\n",
       "      <td>1.5922</td>\n",
       "      <td>-8.7267</td>\n",
       "    </tr>\n",
       "    <tr>\n",
       "      <th>3</th>\n",
       "      <td>0_3</td>\n",
       "      <td>0</td>\n",
       "      <td>3</td>\n",
       "      <td>-0.75852</td>\n",
       "      <td>-0.63436</td>\n",
       "      <td>-0.10495</td>\n",
       "      <td>-0.10597</td>\n",
       "      <td>-0.013053</td>\n",
       "      <td>0.019448</td>\n",
       "      <td>-0.008974</td>\n",
       "      <td>0.42684</td>\n",
       "      <td>1.0993</td>\n",
       "      <td>-10.0960</td>\n",
       "    </tr>\n",
       "    <tr>\n",
       "      <th>4</th>\n",
       "      <td>0_4</td>\n",
       "      <td>0</td>\n",
       "      <td>4</td>\n",
       "      <td>-0.75852</td>\n",
       "      <td>-0.63435</td>\n",
       "      <td>-0.10495</td>\n",
       "      <td>-0.10596</td>\n",
       "      <td>0.005135</td>\n",
       "      <td>0.007652</td>\n",
       "      <td>0.005245</td>\n",
       "      <td>-0.50969</td>\n",
       "      <td>1.4689</td>\n",
       "      <td>-10.4410</td>\n",
       "    </tr>\n",
       "  </tbody>\n",
       "</table>\n",
       "</div>"
      ],
      "text/plain": [
       "  row_id  series_id  measurement_number  orientation_X  orientation_Y  \\\n",
       "0    0_0          0                   0       -0.75853       -0.63435   \n",
       "1    0_1          0                   1       -0.75853       -0.63434   \n",
       "2    0_2          0                   2       -0.75853       -0.63435   \n",
       "3    0_3          0                   3       -0.75852       -0.63436   \n",
       "4    0_4          0                   4       -0.75852       -0.63435   \n",
       "\n",
       "   orientation_Z  orientation_W  angular_velocity_X  angular_velocity_Y  \\\n",
       "0       -0.10488       -0.10597            0.107650            0.017561   \n",
       "1       -0.10490       -0.10600            0.067851            0.029939   \n",
       "2       -0.10492       -0.10597            0.007275            0.028934   \n",
       "3       -0.10495       -0.10597           -0.013053            0.019448   \n",
       "4       -0.10495       -0.10596            0.005135            0.007652   \n",
       "\n",
       "   angular_velocity_Z  linear_acceleration_X  linear_acceleration_Y  \\\n",
       "0            0.000767               -0.74857                 2.1030   \n",
       "1            0.003385                0.33995                 1.5064   \n",
       "2           -0.005978               -0.26429                 1.5922   \n",
       "3           -0.008974                0.42684                 1.0993   \n",
       "4            0.005245               -0.50969                 1.4689   \n",
       "\n",
       "   linear_acceleration_Z  \n",
       "0                -9.7532  \n",
       "1                -9.4128  \n",
       "2                -8.7267  \n",
       "3               -10.0960  \n",
       "4               -10.4410  "
      ]
     },
     "execution_count": 4,
     "metadata": {},
     "output_type": "execute_result"
    }
   ],
   "source": [
    "X_train_robo.head()"
   ]
  },
  {
   "cell_type": "code",
   "execution_count": 5,
   "metadata": {
    "_uuid": "8a685a37eee338e9cd3302a6566ae76a2d05a0ff"
   },
   "outputs": [
    {
     "data": {
      "text/html": [
       "<div>\n",
       "<style scoped>\n",
       "    .dataframe tbody tr th:only-of-type {\n",
       "        vertical-align: middle;\n",
       "    }\n",
       "\n",
       "    .dataframe tbody tr th {\n",
       "        vertical-align: top;\n",
       "    }\n",
       "\n",
       "    .dataframe thead th {\n",
       "        text-align: right;\n",
       "    }\n",
       "</style>\n",
       "<table border=\"1\" class=\"dataframe\">\n",
       "  <thead>\n",
       "    <tr style=\"text-align: right;\">\n",
       "      <th></th>\n",
       "      <th>series_id</th>\n",
       "      <th>group_id</th>\n",
       "      <th>surface</th>\n",
       "    </tr>\n",
       "  </thead>\n",
       "  <tbody>\n",
       "    <tr>\n",
       "      <th>0</th>\n",
       "      <td>0</td>\n",
       "      <td>13</td>\n",
       "      <td>fine_concrete</td>\n",
       "    </tr>\n",
       "    <tr>\n",
       "      <th>1</th>\n",
       "      <td>1</td>\n",
       "      <td>31</td>\n",
       "      <td>concrete</td>\n",
       "    </tr>\n",
       "    <tr>\n",
       "      <th>2</th>\n",
       "      <td>2</td>\n",
       "      <td>20</td>\n",
       "      <td>concrete</td>\n",
       "    </tr>\n",
       "    <tr>\n",
       "      <th>3</th>\n",
       "      <td>3</td>\n",
       "      <td>31</td>\n",
       "      <td>concrete</td>\n",
       "    </tr>\n",
       "    <tr>\n",
       "      <th>4</th>\n",
       "      <td>4</td>\n",
       "      <td>22</td>\n",
       "      <td>soft_tiles</td>\n",
       "    </tr>\n",
       "  </tbody>\n",
       "</table>\n",
       "</div>"
      ],
      "text/plain": [
       "   series_id  group_id        surface\n",
       "0          0        13  fine_concrete\n",
       "1          1        31       concrete\n",
       "2          2        20       concrete\n",
       "3          3        31       concrete\n",
       "4          4        22     soft_tiles"
      ]
     },
     "execution_count": 5,
     "metadata": {},
     "output_type": "execute_result"
    }
   ],
   "source": [
    "y_train_robo.head()"
   ]
  },
  {
   "cell_type": "markdown",
   "metadata": {
    "_uuid": "dc94238da81c00c5d3cda1612ff4f763ecfa9232"
   },
   "source": [
    "### y_train.csv - the surfaces for training set.\n",
    "\n",
    "- series_id: ID number for the measurement series.\n",
    "\n",
    "- group_id: ID number for all of the measurements taken in a recording session. Provided for the training set only, to enable more cross validation strategies.\n",
    "\n",
    "- surface: the target for this competition."
   ]
  },
  {
   "cell_type": "code",
   "execution_count": 6,
   "metadata": {
    "_uuid": "cf2c4bc940968bf049f44c90c5416883c8ed5d14"
   },
   "outputs": [
    {
     "data": {
      "text/html": [
       "<div>\n",
       "<style scoped>\n",
       "    .dataframe tbody tr th:only-of-type {\n",
       "        vertical-align: middle;\n",
       "    }\n",
       "\n",
       "    .dataframe tbody tr th {\n",
       "        vertical-align: top;\n",
       "    }\n",
       "\n",
       "    .dataframe thead th {\n",
       "        text-align: right;\n",
       "    }\n",
       "</style>\n",
       "<table border=\"1\" class=\"dataframe\">\n",
       "  <thead>\n",
       "    <tr style=\"text-align: right;\">\n",
       "      <th></th>\n",
       "      <th>row_id</th>\n",
       "      <th>series_id</th>\n",
       "      <th>measurement_number</th>\n",
       "      <th>orientation_X</th>\n",
       "      <th>orientation_Y</th>\n",
       "      <th>orientation_Z</th>\n",
       "      <th>orientation_W</th>\n",
       "      <th>angular_velocity_X</th>\n",
       "      <th>angular_velocity_Y</th>\n",
       "      <th>angular_velocity_Z</th>\n",
       "      <th>linear_acceleration_X</th>\n",
       "      <th>linear_acceleration_Y</th>\n",
       "      <th>linear_acceleration_Z</th>\n",
       "    </tr>\n",
       "  </thead>\n",
       "  <tbody>\n",
       "    <tr>\n",
       "      <th>0</th>\n",
       "      <td>0_0</td>\n",
       "      <td>0</td>\n",
       "      <td>0</td>\n",
       "      <td>-0.025773</td>\n",
       "      <td>-0.98864</td>\n",
       "      <td>-0.14801</td>\n",
       "      <td>0.003350</td>\n",
       "      <td>-0.006524</td>\n",
       "      <td>-0.001071</td>\n",
       "      <td>-0.027390</td>\n",
       "      <td>0.10043</td>\n",
       "      <td>4.2061</td>\n",
       "      <td>-5.5439</td>\n",
       "    </tr>\n",
       "    <tr>\n",
       "      <th>1</th>\n",
       "      <td>0_1</td>\n",
       "      <td>0</td>\n",
       "      <td>1</td>\n",
       "      <td>-0.025683</td>\n",
       "      <td>-0.98862</td>\n",
       "      <td>-0.14816</td>\n",
       "      <td>0.003439</td>\n",
       "      <td>-0.113960</td>\n",
       "      <td>0.083987</td>\n",
       "      <td>-0.060590</td>\n",
       "      <td>-0.70889</td>\n",
       "      <td>3.9905</td>\n",
       "      <td>-8.0273</td>\n",
       "    </tr>\n",
       "    <tr>\n",
       "      <th>2</th>\n",
       "      <td>0_2</td>\n",
       "      <td>0</td>\n",
       "      <td>2</td>\n",
       "      <td>-0.025617</td>\n",
       "      <td>-0.98861</td>\n",
       "      <td>-0.14826</td>\n",
       "      <td>0.003571</td>\n",
       "      <td>-0.080518</td>\n",
       "      <td>0.114860</td>\n",
       "      <td>-0.037177</td>\n",
       "      <td>1.45710</td>\n",
       "      <td>2.2828</td>\n",
       "      <td>-11.2990</td>\n",
       "    </tr>\n",
       "    <tr>\n",
       "      <th>3</th>\n",
       "      <td>0_3</td>\n",
       "      <td>0</td>\n",
       "      <td>3</td>\n",
       "      <td>-0.025566</td>\n",
       "      <td>-0.98862</td>\n",
       "      <td>-0.14817</td>\n",
       "      <td>0.003609</td>\n",
       "      <td>0.070067</td>\n",
       "      <td>0.033820</td>\n",
       "      <td>-0.035904</td>\n",
       "      <td>0.71096</td>\n",
       "      <td>1.8582</td>\n",
       "      <td>-12.2270</td>\n",
       "    </tr>\n",
       "    <tr>\n",
       "      <th>4</th>\n",
       "      <td>0_4</td>\n",
       "      <td>0</td>\n",
       "      <td>4</td>\n",
       "      <td>-0.025548</td>\n",
       "      <td>-0.98866</td>\n",
       "      <td>-0.14792</td>\n",
       "      <td>0.003477</td>\n",
       "      <td>0.152050</td>\n",
       "      <td>-0.029016</td>\n",
       "      <td>-0.015314</td>\n",
       "      <td>3.39960</td>\n",
       "      <td>2.7881</td>\n",
       "      <td>-10.4100</td>\n",
       "    </tr>\n",
       "  </tbody>\n",
       "</table>\n",
       "</div>"
      ],
      "text/plain": [
       "  row_id  series_id  measurement_number  orientation_X  orientation_Y  \\\n",
       "0    0_0          0                   0      -0.025773       -0.98864   \n",
       "1    0_1          0                   1      -0.025683       -0.98862   \n",
       "2    0_2          0                   2      -0.025617       -0.98861   \n",
       "3    0_3          0                   3      -0.025566       -0.98862   \n",
       "4    0_4          0                   4      -0.025548       -0.98866   \n",
       "\n",
       "   orientation_Z  orientation_W  angular_velocity_X  angular_velocity_Y  \\\n",
       "0       -0.14801       0.003350           -0.006524           -0.001071   \n",
       "1       -0.14816       0.003439           -0.113960            0.083987   \n",
       "2       -0.14826       0.003571           -0.080518            0.114860   \n",
       "3       -0.14817       0.003609            0.070067            0.033820   \n",
       "4       -0.14792       0.003477            0.152050           -0.029016   \n",
       "\n",
       "   angular_velocity_Z  linear_acceleration_X  linear_acceleration_Y  \\\n",
       "0           -0.027390                0.10043                 4.2061   \n",
       "1           -0.060590               -0.70889                 3.9905   \n",
       "2           -0.037177                1.45710                 2.2828   \n",
       "3           -0.035904                0.71096                 1.8582   \n",
       "4           -0.015314                3.39960                 2.7881   \n",
       "\n",
       "   linear_acceleration_Z  \n",
       "0                -5.5439  \n",
       "1                -8.0273  \n",
       "2               -11.2990  \n",
       "3               -12.2270  \n",
       "4               -10.4100  "
      ]
     },
     "execution_count": 6,
     "metadata": {},
     "output_type": "execute_result"
    }
   ],
   "source": [
    "X_test_robo.head()"
   ]
  },
  {
   "cell_type": "markdown",
   "metadata": {
    "_uuid": "4ddd15a0b979598da93ff237f33250c476282bcd"
   },
   "source": [
    "### X_[train/test].csv - the input data, covering 10 sensor channels and 128 measurements per time series plus three ID columns:\n",
    "\n",
    "- row_id: The ID for this row.\n",
    "\n",
    "- series_id: ID number for the measurement series. Foreign key to y_train/sample_submission.\n",
    "\n",
    "- measurement_number: Measurement number within the series.\n",
    "- sensor channels: \n",
    "        orientation_X\n",
    "        orientation_Y\n",
    "        orientation_Z\n",
    "        orientation_W\n",
    "        angular_velocity_X\n",
    "        angular_velocity_Y\n",
    "        angular_velocity_Z\n",
    "        linear_acceleration_X\n",
    "        linear_acceleration_Y\n",
    "        linear_acceleration_Z"
   ]
  },
  {
   "cell_type": "markdown",
   "metadata": {
    "_uuid": "1969690f18d4ebf0b03a80ecc8252523cd3f2364"
   },
   "source": [
    "## Size of Dataset"
   ]
  },
  {
   "cell_type": "code",
   "execution_count": 7,
   "metadata": {
    "_uuid": "71f8bc73a45b53543248a1fd38743552314c24b3"
   },
   "outputs": [
    {
     "name": "stdout",
     "output_type": "stream",
     "text": [
      "X_Train :  (487680, 13)\n",
      "X_Test :  (488448, 13)\n",
      "y_Train :  (3810, 3)\n"
     ]
    }
   ],
   "source": [
    "print(\"X_Train : \" , X_train_robo.shape)\n",
    "print(\"X_Test : \" , X_test_robo.shape)\n",
    "print(\"y_Train : \" , y_train_robo.shape)"
   ]
  },
  {
   "cell_type": "markdown",
   "metadata": {
    "_uuid": "7fa14bfbc4bce33a4c937f1f895ec2ea6932518f"
   },
   "source": [
    "### we can observe predictors and target has different number of rows."
   ]
  },
  {
   "cell_type": "code",
   "execution_count": 8,
   "metadata": {
    "_uuid": "cea0b8875ccf48fe8e5a0c035d67f13967e1e471"
   },
   "outputs": [
    {
     "name": "stdout",
     "output_type": "stream",
     "text": [
      "Train series count : 3810\n",
      "Test series count : 3816\n"
     ]
    }
   ],
   "source": [
    "print(\"Train series count : %d\" % len(X_train_robo.series_id.value_counts()))\n",
    "print(\"Test series count : %d\" % len(X_test_robo.series_id.value_counts()))"
   ]
  },
  {
   "cell_type": "code",
   "execution_count": 9,
   "metadata": {
    "_uuid": "106ded86fb63fa7de472b233a4d6cc3f90513c4e"
   },
   "outputs": [
    {
     "name": "stdout",
     "output_type": "stream",
     "text": [
      "Train measurement_number count : 128\n",
      "Test measurement_number count : 128\n"
     ]
    }
   ],
   "source": [
    "print(\"Train measurement_number count : %d\" % len(X_train_robo.measurement_number.value_counts()))\n",
    "print(\"Test measurement_number count : %d\" % len(X_test_robo.measurement_number.value_counts()))"
   ]
  },
  {
   "cell_type": "markdown",
   "metadata": {
    "_uuid": "db03b965f3019b4c4bac9f34a27d22630ba3ac48"
   },
   "source": [
    "### we can see Test data has 6 extra series than Train data\n",
    "### Train set has measurement  series count of 3810 with each of 128 measurement number"
   ]
  },
  {
   "cell_type": "markdown",
   "metadata": {
    "_uuid": "d8df73cbff43c7b5f943887eefae1ecda45b4b25"
   },
   "source": [
    "## check for missing, NA values"
   ]
  },
  {
   "cell_type": "code",
   "execution_count": 10,
   "metadata": {
    "_uuid": "42ac0b0621a10340c8cda8905371b7d3fc821c12"
   },
   "outputs": [
    {
     "name": "stdout",
     "output_type": "stream",
     "text": [
      "X_Train : \n",
      " row_id                   0\n",
      "series_id                0\n",
      "measurement_number       0\n",
      "orientation_X            0\n",
      "orientation_Y            0\n",
      "orientation_Z            0\n",
      "orientation_W            0\n",
      "angular_velocity_X       0\n",
      "angular_velocity_Y       0\n",
      "angular_velocity_Z       0\n",
      "linear_acceleration_X    0\n",
      "linear_acceleration_Y    0\n",
      "linear_acceleration_Z    0\n",
      "dtype: int64\n",
      "---------------------------\n",
      "X_Test : \n",
      " row_id                   0\n",
      "series_id                0\n",
      "measurement_number       0\n",
      "orientation_X            0\n",
      "orientation_Y            0\n",
      "orientation_Z            0\n",
      "orientation_W            0\n",
      "angular_velocity_X       0\n",
      "angular_velocity_Y       0\n",
      "angular_velocity_Z       0\n",
      "linear_acceleration_X    0\n",
      "linear_acceleration_Y    0\n",
      "linear_acceleration_Z    0\n",
      "dtype: int64\n",
      "---------------------------\n",
      "y_Train : \n",
      " series_id    0\n",
      "group_id     0\n",
      "surface      0\n",
      "dtype: int64\n"
     ]
    }
   ],
   "source": [
    "print(\"X_Train : \\n\" , X_train_robo.isna().sum())\n",
    "print(\"---------------------------\")\n",
    "print(\"X_Test : \\n\" , X_test_robo.isna().sum())\n",
    "print(\"---------------------------\")\n",
    "print(\"y_Train : \\n\" , y_train_robo.isna().sum())"
   ]
  },
  {
   "cell_type": "markdown",
   "metadata": {
    "_uuid": "2b13056a002c661477169a3e7f473cb31f55ace6"
   },
   "source": [
    "### no NA values in Train and Test data"
   ]
  },
  {
   "cell_type": "code",
   "execution_count": 11,
   "metadata": {
    "_uuid": "e0f403e10d72aed47c7cd1ac0366aea14ab83b39"
   },
   "outputs": [
    {
     "data": {
      "text/html": [
       "<div>\n",
       "<style scoped>\n",
       "    .dataframe tbody tr th:only-of-type {\n",
       "        vertical-align: middle;\n",
       "    }\n",
       "\n",
       "    .dataframe tbody tr th {\n",
       "        vertical-align: top;\n",
       "    }\n",
       "\n",
       "    .dataframe thead th {\n",
       "        text-align: right;\n",
       "    }\n",
       "</style>\n",
       "<table border=\"1\" class=\"dataframe\">\n",
       "  <thead>\n",
       "    <tr style=\"text-align: right;\">\n",
       "      <th></th>\n",
       "      <th>series_id</th>\n",
       "      <th>measurement_number</th>\n",
       "      <th>orientation_X</th>\n",
       "      <th>orientation_Y</th>\n",
       "      <th>orientation_Z</th>\n",
       "      <th>orientation_W</th>\n",
       "      <th>angular_velocity_X</th>\n",
       "      <th>angular_velocity_Y</th>\n",
       "      <th>angular_velocity_Z</th>\n",
       "      <th>linear_acceleration_X</th>\n",
       "      <th>linear_acceleration_Y</th>\n",
       "      <th>linear_acceleration_Z</th>\n",
       "    </tr>\n",
       "  </thead>\n",
       "  <tbody>\n",
       "    <tr>\n",
       "      <th>count</th>\n",
       "      <td>487680.000000</td>\n",
       "      <td>487680.000000</td>\n",
       "      <td>487680.000000</td>\n",
       "      <td>487680.000000</td>\n",
       "      <td>487680.000000</td>\n",
       "      <td>487680.000000</td>\n",
       "      <td>487680.000000</td>\n",
       "      <td>487680.000000</td>\n",
       "      <td>487680.000000</td>\n",
       "      <td>487680.000000</td>\n",
       "      <td>487680.000000</td>\n",
       "      <td>487680.000000</td>\n",
       "    </tr>\n",
       "    <tr>\n",
       "      <th>mean</th>\n",
       "      <td>1904.500000</td>\n",
       "      <td>63.500000</td>\n",
       "      <td>-0.018050</td>\n",
       "      <td>0.075062</td>\n",
       "      <td>0.012458</td>\n",
       "      <td>-0.003804</td>\n",
       "      <td>0.000178</td>\n",
       "      <td>0.008338</td>\n",
       "      <td>-0.019184</td>\n",
       "      <td>0.129281</td>\n",
       "      <td>2.886468</td>\n",
       "      <td>-9.364886</td>\n",
       "    </tr>\n",
       "    <tr>\n",
       "      <th>std</th>\n",
       "      <td>1099.853353</td>\n",
       "      <td>36.949327</td>\n",
       "      <td>0.685696</td>\n",
       "      <td>0.708226</td>\n",
       "      <td>0.105972</td>\n",
       "      <td>0.104299</td>\n",
       "      <td>0.117764</td>\n",
       "      <td>0.088677</td>\n",
       "      <td>0.229153</td>\n",
       "      <td>1.870600</td>\n",
       "      <td>2.140067</td>\n",
       "      <td>2.845341</td>\n",
       "    </tr>\n",
       "    <tr>\n",
       "      <th>min</th>\n",
       "      <td>0.000000</td>\n",
       "      <td>0.000000</td>\n",
       "      <td>-0.989100</td>\n",
       "      <td>-0.989650</td>\n",
       "      <td>-0.162830</td>\n",
       "      <td>-0.156620</td>\n",
       "      <td>-2.371000</td>\n",
       "      <td>-0.927860</td>\n",
       "      <td>-1.268800</td>\n",
       "      <td>-36.067000</td>\n",
       "      <td>-121.490000</td>\n",
       "      <td>-75.386000</td>\n",
       "    </tr>\n",
       "    <tr>\n",
       "      <th>25%</th>\n",
       "      <td>952.000000</td>\n",
       "      <td>31.750000</td>\n",
       "      <td>-0.705120</td>\n",
       "      <td>-0.688980</td>\n",
       "      <td>-0.089466</td>\n",
       "      <td>-0.106060</td>\n",
       "      <td>-0.040752</td>\n",
       "      <td>-0.033191</td>\n",
       "      <td>-0.090743</td>\n",
       "      <td>-0.530833</td>\n",
       "      <td>1.957900</td>\n",
       "      <td>-10.193000</td>\n",
       "    </tr>\n",
       "    <tr>\n",
       "      <th>50%</th>\n",
       "      <td>1904.500000</td>\n",
       "      <td>63.500000</td>\n",
       "      <td>-0.105960</td>\n",
       "      <td>0.237855</td>\n",
       "      <td>0.031949</td>\n",
       "      <td>-0.018704</td>\n",
       "      <td>0.000084</td>\n",
       "      <td>0.005412</td>\n",
       "      <td>-0.005335</td>\n",
       "      <td>0.124980</td>\n",
       "      <td>2.879600</td>\n",
       "      <td>-9.365300</td>\n",
       "    </tr>\n",
       "    <tr>\n",
       "      <th>75%</th>\n",
       "      <td>2857.000000</td>\n",
       "      <td>95.250000</td>\n",
       "      <td>0.651803</td>\n",
       "      <td>0.809550</td>\n",
       "      <td>0.122870</td>\n",
       "      <td>0.097215</td>\n",
       "      <td>0.040527</td>\n",
       "      <td>0.048068</td>\n",
       "      <td>0.064604</td>\n",
       "      <td>0.792263</td>\n",
       "      <td>3.798800</td>\n",
       "      <td>-8.522700</td>\n",
       "    </tr>\n",
       "    <tr>\n",
       "      <th>max</th>\n",
       "      <td>3809.000000</td>\n",
       "      <td>127.000000</td>\n",
       "      <td>0.989100</td>\n",
       "      <td>0.988980</td>\n",
       "      <td>0.155710</td>\n",
       "      <td>0.154770</td>\n",
       "      <td>2.282200</td>\n",
       "      <td>1.079100</td>\n",
       "      <td>1.387300</td>\n",
       "      <td>36.797000</td>\n",
       "      <td>73.008000</td>\n",
       "      <td>65.839000</td>\n",
       "    </tr>\n",
       "  </tbody>\n",
       "</table>\n",
       "</div>"
      ],
      "text/plain": [
       "           series_id  measurement_number  orientation_X  orientation_Y  \\\n",
       "count  487680.000000       487680.000000  487680.000000  487680.000000   \n",
       "mean     1904.500000           63.500000      -0.018050       0.075062   \n",
       "std      1099.853353           36.949327       0.685696       0.708226   \n",
       "min         0.000000            0.000000      -0.989100      -0.989650   \n",
       "25%       952.000000           31.750000      -0.705120      -0.688980   \n",
       "50%      1904.500000           63.500000      -0.105960       0.237855   \n",
       "75%      2857.000000           95.250000       0.651803       0.809550   \n",
       "max      3809.000000          127.000000       0.989100       0.988980   \n",
       "\n",
       "       orientation_Z  orientation_W  angular_velocity_X  angular_velocity_Y  \\\n",
       "count  487680.000000  487680.000000       487680.000000       487680.000000   \n",
       "mean        0.012458      -0.003804            0.000178            0.008338   \n",
       "std         0.105972       0.104299            0.117764            0.088677   \n",
       "min        -0.162830      -0.156620           -2.371000           -0.927860   \n",
       "25%        -0.089466      -0.106060           -0.040752           -0.033191   \n",
       "50%         0.031949      -0.018704            0.000084            0.005412   \n",
       "75%         0.122870       0.097215            0.040527            0.048068   \n",
       "max         0.155710       0.154770            2.282200            1.079100   \n",
       "\n",
       "       angular_velocity_Z  linear_acceleration_X  linear_acceleration_Y  \\\n",
       "count       487680.000000          487680.000000          487680.000000   \n",
       "mean            -0.019184               0.129281               2.886468   \n",
       "std              0.229153               1.870600               2.140067   \n",
       "min             -1.268800             -36.067000            -121.490000   \n",
       "25%             -0.090743              -0.530833               1.957900   \n",
       "50%             -0.005335               0.124980               2.879600   \n",
       "75%              0.064604               0.792263               3.798800   \n",
       "max              1.387300              36.797000              73.008000   \n",
       "\n",
       "       linear_acceleration_Z  \n",
       "count          487680.000000  \n",
       "mean               -9.364886  \n",
       "std                 2.845341  \n",
       "min               -75.386000  \n",
       "25%               -10.193000  \n",
       "50%                -9.365300  \n",
       "75%                -8.522700  \n",
       "max                65.839000  "
      ]
     },
     "execution_count": 11,
     "metadata": {},
     "output_type": "execute_result"
    }
   ],
   "source": [
    "X_train_robo.describe()"
   ]
  },
  {
   "cell_type": "code",
   "execution_count": 12,
   "metadata": {
    "_uuid": "c4bd570525d342ff5742a01aab4b8bcc723e0362"
   },
   "outputs": [
    {
     "data": {
      "text/html": [
       "<div>\n",
       "<style scoped>\n",
       "    .dataframe tbody tr th:only-of-type {\n",
       "        vertical-align: middle;\n",
       "    }\n",
       "\n",
       "    .dataframe tbody tr th {\n",
       "        vertical-align: top;\n",
       "    }\n",
       "\n",
       "    .dataframe thead th {\n",
       "        text-align: right;\n",
       "    }\n",
       "</style>\n",
       "<table border=\"1\" class=\"dataframe\">\n",
       "  <thead>\n",
       "    <tr style=\"text-align: right;\">\n",
       "      <th></th>\n",
       "      <th>series_id</th>\n",
       "      <th>measurement_number</th>\n",
       "      <th>orientation_X</th>\n",
       "      <th>orientation_Y</th>\n",
       "      <th>orientation_Z</th>\n",
       "      <th>orientation_W</th>\n",
       "      <th>angular_velocity_X</th>\n",
       "      <th>angular_velocity_Y</th>\n",
       "      <th>angular_velocity_Z</th>\n",
       "      <th>linear_acceleration_X</th>\n",
       "      <th>linear_acceleration_Y</th>\n",
       "      <th>linear_acceleration_Z</th>\n",
       "    </tr>\n",
       "  </thead>\n",
       "  <tbody>\n",
       "    <tr>\n",
       "      <th>count</th>\n",
       "      <td>488448.000000</td>\n",
       "      <td>488448.000000</td>\n",
       "      <td>488448.000000</td>\n",
       "      <td>488448.000000</td>\n",
       "      <td>488448.000000</td>\n",
       "      <td>488448.000000</td>\n",
       "      <td>488448.000000</td>\n",
       "      <td>488448.000000</td>\n",
       "      <td>488448.000000</td>\n",
       "      <td>488448.000000</td>\n",
       "      <td>488448.000000</td>\n",
       "      <td>488448.000000</td>\n",
       "    </tr>\n",
       "    <tr>\n",
       "      <th>mean</th>\n",
       "      <td>1907.500000</td>\n",
       "      <td>63.500000</td>\n",
       "      <td>0.031996</td>\n",
       "      <td>0.120651</td>\n",
       "      <td>0.018735</td>\n",
       "      <td>0.004024</td>\n",
       "      <td>0.000401</td>\n",
       "      <td>0.013669</td>\n",
       "      <td>-0.036101</td>\n",
       "      <td>0.125433</td>\n",
       "      <td>2.906588</td>\n",
       "      <td>-9.359811</td>\n",
       "    </tr>\n",
       "    <tr>\n",
       "      <th>std</th>\n",
       "      <td>1101.585403</td>\n",
       "      <td>36.949327</td>\n",
       "      <td>0.671977</td>\n",
       "      <td>0.714522</td>\n",
       "      <td>0.108481</td>\n",
       "      <td>0.100957</td>\n",
       "      <td>0.114485</td>\n",
       "      <td>0.089440</td>\n",
       "      <td>0.233791</td>\n",
       "      <td>1.832639</td>\n",
       "      <td>2.094727</td>\n",
       "      <td>2.802670</td>\n",
       "    </tr>\n",
       "    <tr>\n",
       "      <th>min</th>\n",
       "      <td>0.000000</td>\n",
       "      <td>0.000000</td>\n",
       "      <td>-0.989720</td>\n",
       "      <td>-0.989810</td>\n",
       "      <td>-0.154680</td>\n",
       "      <td>-0.156270</td>\n",
       "      <td>-2.403300</td>\n",
       "      <td>-1.193000</td>\n",
       "      <td>-1.458200</td>\n",
       "      <td>-35.040000</td>\n",
       "      <td>-107.480000</td>\n",
       "      <td>-83.173000</td>\n",
       "    </tr>\n",
       "    <tr>\n",
       "      <th>25%</th>\n",
       "      <td>953.750000</td>\n",
       "      <td>31.750000</td>\n",
       "      <td>-0.648130</td>\n",
       "      <td>-0.744503</td>\n",
       "      <td>-0.112660</td>\n",
       "      <td>-0.098435</td>\n",
       "      <td>-0.037396</td>\n",
       "      <td>-0.029865</td>\n",
       "      <td>-0.089842</td>\n",
       "      <td>-0.486233</td>\n",
       "      <td>2.052100</td>\n",
       "      <td>-10.125000</td>\n",
       "    </tr>\n",
       "    <tr>\n",
       "      <th>50%</th>\n",
       "      <td>1907.500000</td>\n",
       "      <td>63.500000</td>\n",
       "      <td>0.132910</td>\n",
       "      <td>0.397860</td>\n",
       "      <td>0.057271</td>\n",
       "      <td>0.022654</td>\n",
       "      <td>0.001107</td>\n",
       "      <td>0.007276</td>\n",
       "      <td>-0.008911</td>\n",
       "      <td>0.112490</td>\n",
       "      <td>2.900300</td>\n",
       "      <td>-9.361700</td>\n",
       "    </tr>\n",
       "    <tr>\n",
       "      <th>75%</th>\n",
       "      <td>2861.250000</td>\n",
       "      <td>95.250000</td>\n",
       "      <td>0.575270</td>\n",
       "      <td>0.803600</td>\n",
       "      <td>0.124770</td>\n",
       "      <td>0.083706</td>\n",
       "      <td>0.037827</td>\n",
       "      <td>0.051112</td>\n",
       "      <td>0.057876</td>\n",
       "      <td>0.727250</td>\n",
       "      <td>3.758000</td>\n",
       "      <td>-8.582075</td>\n",
       "    </tr>\n",
       "    <tr>\n",
       "      <th>max</th>\n",
       "      <td>3815.000000</td>\n",
       "      <td>127.000000</td>\n",
       "      <td>0.989320</td>\n",
       "      <td>0.988940</td>\n",
       "      <td>0.154250</td>\n",
       "      <td>0.152510</td>\n",
       "      <td>3.396600</td>\n",
       "      <td>1.150700</td>\n",
       "      <td>0.960280</td>\n",
       "      <td>36.628000</td>\n",
       "      <td>55.624000</td>\n",
       "      <td>59.633000</td>\n",
       "    </tr>\n",
       "  </tbody>\n",
       "</table>\n",
       "</div>"
      ],
      "text/plain": [
       "           series_id  measurement_number  orientation_X  orientation_Y  \\\n",
       "count  488448.000000       488448.000000  488448.000000  488448.000000   \n",
       "mean     1907.500000           63.500000       0.031996       0.120651   \n",
       "std      1101.585403           36.949327       0.671977       0.714522   \n",
       "min         0.000000            0.000000      -0.989720      -0.989810   \n",
       "25%       953.750000           31.750000      -0.648130      -0.744503   \n",
       "50%      1907.500000           63.500000       0.132910       0.397860   \n",
       "75%      2861.250000           95.250000       0.575270       0.803600   \n",
       "max      3815.000000          127.000000       0.989320       0.988940   \n",
       "\n",
       "       orientation_Z  orientation_W  angular_velocity_X  angular_velocity_Y  \\\n",
       "count  488448.000000  488448.000000       488448.000000       488448.000000   \n",
       "mean        0.018735       0.004024            0.000401            0.013669   \n",
       "std         0.108481       0.100957            0.114485            0.089440   \n",
       "min        -0.154680      -0.156270           -2.403300           -1.193000   \n",
       "25%        -0.112660      -0.098435           -0.037396           -0.029865   \n",
       "50%         0.057271       0.022654            0.001107            0.007276   \n",
       "75%         0.124770       0.083706            0.037827            0.051112   \n",
       "max         0.154250       0.152510            3.396600            1.150700   \n",
       "\n",
       "       angular_velocity_Z  linear_acceleration_X  linear_acceleration_Y  \\\n",
       "count       488448.000000          488448.000000          488448.000000   \n",
       "mean            -0.036101               0.125433               2.906588   \n",
       "std              0.233791               1.832639               2.094727   \n",
       "min             -1.458200             -35.040000            -107.480000   \n",
       "25%             -0.089842              -0.486233               2.052100   \n",
       "50%             -0.008911               0.112490               2.900300   \n",
       "75%              0.057876               0.727250               3.758000   \n",
       "max              0.960280              36.628000              55.624000   \n",
       "\n",
       "       linear_acceleration_Z  \n",
       "count          488448.000000  \n",
       "mean               -9.359811  \n",
       "std                 2.802670  \n",
       "min               -83.173000  \n",
       "25%               -10.125000  \n",
       "50%                -9.361700  \n",
       "75%                -8.582075  \n",
       "max                59.633000  "
      ]
     },
     "execution_count": 12,
     "metadata": {},
     "output_type": "execute_result"
    }
   ],
   "source": [
    "X_test_robo.describe()"
   ]
  },
  {
   "cell_type": "markdown",
   "metadata": {
    "_uuid": "8d402cac3dfade893f4c1f01f920c80906e54886"
   },
   "source": [
    "# group the rows according to series id"
   ]
  },
  {
   "cell_type": "code",
   "execution_count": 13,
   "metadata": {
    "_uuid": "1fc0a7b94e26debde7fb1652dd0ca9ecacb45da9"
   },
   "outputs": [
    {
     "data": {
      "text/plain": [
       "(487680, 15)"
      ]
     },
     "execution_count": 13,
     "metadata": {},
     "output_type": "execute_result"
    }
   ],
   "source": [
    "train = pd.merge(X_train_robo,y_train_robo, on= ['series_id'])\n",
    "train.shape"
   ]
  },
  {
   "cell_type": "code",
   "execution_count": 14,
   "metadata": {},
   "outputs": [
    {
     "data": {
      "text/plain": [
       "73"
      ]
     },
     "execution_count": 14,
     "metadata": {},
     "output_type": "execute_result"
    }
   ],
   "source": [
    "train.group_id.nunique()"
   ]
  },
  {
   "cell_type": "markdown",
   "metadata": {
    "_uuid": "a3f9e0c9f3af6429606949c5e9b4d06b70e998dc"
   },
   "source": [
    "### dropping measurement_number after merging columns"
   ]
  },
  {
   "cell_type": "code",
   "execution_count": 15,
   "metadata": {},
   "outputs": [],
   "source": [
    "test = X_test_robo.copy()"
   ]
  },
  {
   "cell_type": "code",
   "execution_count": 16,
   "metadata": {
    "_uuid": "944a38dd6b48b1bac61eb5c9df07fe0a1316cea5"
   },
   "outputs": [],
   "source": [
    "train.drop([\"measurement_number\"], axis=1, inplace=True)\n",
    "test.drop([\"measurement_number\"], axis=1, inplace=True)"
   ]
  },
  {
   "cell_type": "code",
   "execution_count": 17,
   "metadata": {
    "_uuid": "4847015565ff06ec3d2ff41ac24cdfdd0a82ed16"
   },
   "outputs": [
    {
     "name": "stdout",
     "output_type": "stream",
     "text": [
      "train: (487680, 14)\n",
      "test: (488448, 12)\n"
     ]
    }
   ],
   "source": [
    "print(\"train:\",train.shape)\n",
    "print(\"test:\",test.shape)"
   ]
  },
  {
   "cell_type": "markdown",
   "metadata": {
    "_uuid": "45aa3d0d6fa4ee96f768090a06934208cd504106"
   },
   "source": [
    "### check data types of features"
   ]
  },
  {
   "cell_type": "code",
   "execution_count": 18,
   "metadata": {
    "_uuid": "545ea7132a780f6e74137197cce44de1c233280e"
   },
   "outputs": [
    {
     "data": {
      "text/plain": [
       "row_id                    object\n",
       "series_id                  int64\n",
       "orientation_X            float64\n",
       "orientation_Y            float64\n",
       "orientation_Z            float64\n",
       "orientation_W            float64\n",
       "angular_velocity_X       float64\n",
       "angular_velocity_Y       float64\n",
       "angular_velocity_Z       float64\n",
       "linear_acceleration_X    float64\n",
       "linear_acceleration_Y    float64\n",
       "linear_acceleration_Z    float64\n",
       "group_id                   int64\n",
       "surface                   object\n",
       "dtype: object"
      ]
     },
     "execution_count": 18,
     "metadata": {},
     "output_type": "execute_result"
    }
   ],
   "source": [
    "train.dtypes"
   ]
  },
  {
   "cell_type": "code",
   "execution_count": 19,
   "metadata": {
    "_uuid": "30b4becd69c7812ad760e1dd33a6ab4857dedf52"
   },
   "outputs": [
    {
     "data": {
      "text/plain": [
       "row_id                    object\n",
       "series_id                  int64\n",
       "orientation_X            float64\n",
       "orientation_Y            float64\n",
       "orientation_Z            float64\n",
       "orientation_W            float64\n",
       "angular_velocity_X       float64\n",
       "angular_velocity_Y       float64\n",
       "angular_velocity_Z       float64\n",
       "linear_acceleration_X    float64\n",
       "linear_acceleration_Y    float64\n",
       "linear_acceleration_Z    float64\n",
       "dtype: object"
      ]
     },
     "execution_count": 19,
     "metadata": {},
     "output_type": "execute_result"
    }
   ],
   "source": [
    "test.dtypes"
   ]
  },
  {
   "cell_type": "code",
   "execution_count": 20,
   "metadata": {
    "_uuid": "09f025f7aaed01832831d57e27f76e770ed815a1"
   },
   "outputs": [
    {
     "data": {
      "image/png": "[encoded data removed]",
      "text/plain": [
       "<Figure size 720x432 with 1 Axes>"
      ]
     },
     "metadata": {},
     "output_type": "display_data"
    }
   ],
   "source": [
    "# plt.figure(figsize=(10,10)\n",
    "train.surface.value_counts().plot(kind='bar',\n",
    "                                 figsize=(10,6),\n",
    "                                  color=\"red\",\n",
    "                                  alpha = 0.7,\n",
    "                                  fontsize=13)\n",
    "plt.title('Surface (in numbers)')\n",
    "plt.xlabel('Surface')\n",
    "plt.ylabel('Count')\n",
    "plt.show()"
   ]
  },
  {
   "cell_type": "code",
   "execution_count": 21,
   "metadata": {
    "_uuid": "d4e6b3b3d70ec34ebdbfd7f6035b0d0e4f00817c"
   },
   "outputs": [
    {
     "data": {
      "text/plain": [
       "array([[<matplotlib.axes._subplots.AxesSubplot object at 0x0000027C60BDC438>,\n",
       "        <matplotlib.axes._subplots.AxesSubplot object at 0x0000027C60D5F208>,\n",
       "        <matplotlib.axes._subplots.AxesSubplot object at 0x0000027C60D8B518>],\n",
       "       [<matplotlib.axes._subplots.AxesSubplot object at 0x0000027C61B23828>,\n",
       "        <matplotlib.axes._subplots.AxesSubplot object at 0x0000027C61B4DB38>,\n",
       "        <matplotlib.axes._subplots.AxesSubplot object at 0x0000027C61B4DB70>],\n",
       "       [<matplotlib.axes._subplots.AxesSubplot object at 0x0000027C61BAA198>,\n",
       "        <matplotlib.axes._subplots.AxesSubplot object at 0x0000027C61BD34A8>,\n",
       "        <matplotlib.axes._subplots.AxesSubplot object at 0x0000027C61C007B8>],\n",
       "       [<matplotlib.axes._subplots.AxesSubplot object at 0x0000027C61C28AC8>,\n",
       "        <matplotlib.axes._subplots.AxesSubplot object at 0x0000027C61C55DD8>,\n",
       "        <matplotlib.axes._subplots.AxesSubplot object at 0x0000027C61DE9128>]],\n",
       "      dtype=object)"
      ]
     },
     "execution_count": 21,
     "metadata": {},
     "output_type": "execute_result"
    },
    {
     "data": {
      "text/plain": [
       "<Figure size 432x288 with 0 Axes>"
      ]
     },
     "metadata": {},
     "output_type": "display_data"
    },
    {
     "data": {
      "image/png": "[encoded data removed]",
      "text/plain": [
       "<Figure size 1440x1080 with 12 Axes>"
      ]
     },
     "metadata": {},
     "output_type": "display_data"
    }
   ],
   "source": [
    "plt.figure();\n",
    "train.hist(bins=50, figsize=(20, 15))"
   ]
  },
  {
   "cell_type": "markdown",
   "metadata": {},
   "source": [
    "from sklearn import preprocessing\n",
    "X_train_lin['X_scaled'] = preprocessing.scale(X_train_lin.orientation_X)\n",
    "# scaler = preprocessing.StandardScaler().fit(X_train_lin)\n",
    "\n",
    "# print(scaler)\n",
    "# X_train_scale = scaler.transform(X_train_lin) \n"
   ]
  },
  {
   "cell_type": "markdown",
   "metadata": {},
   "source": [
    "X_train_scale= pd.DataFrame(X_train_scale)"
   ]
  },
  {
   "cell_type": "markdown",
   "metadata": {},
   "source": [
    "plt.figure();\n",
    "X_train_scale.hist(bins=50, figsize=(20, 15))"
   ]
  },
  {
   "cell_type": "markdown",
   "metadata": {},
   "source": [
    "X_train_lin.orientation_X.hist()"
   ]
  },
  {
   "cell_type": "markdown",
   "metadata": {},
   "source": [
    "X_train_lin.X_scaled.hist()"
   ]
  },
  {
   "cell_type": "markdown",
   "metadata": {},
   "source": [
    "min_max_scaler = preprocessing.MinMaxScaler()\n",
    "X_train_minmax= min_max_scaler.fit_transform(X_train_lin)\n",
    "X_train_minmax = pd.DataFrame(X_train_minmax)"
   ]
  },
  {
   "cell_type": "markdown",
   "metadata": {},
   "source": [
    "X_train_lin.drop('X_scaled', axis=1, inplace=True)"
   ]
  },
  {
   "cell_type": "markdown",
   "metadata": {},
   "source": [
    "quantile_transformer = preprocessing.QuantileTransformer(random_state=0)\n",
    "X_train_trans = quantile_transformer.fit_transform(X_train_lin)\n",
    "X_train_trans = pd.DataFrame(X_train_trans)"
   ]
  },
  {
   "cell_type": "code",
   "execution_count": 22,
   "metadata": {},
   "outputs": [
    {
     "data": {
      "text/plain": [
       "row_id                    object\n",
       "series_id                  int64\n",
       "orientation_X            float64\n",
       "orientation_Y            float64\n",
       "orientation_Z            float64\n",
       "orientation_W            float64\n",
       "angular_velocity_X       float64\n",
       "angular_velocity_Y       float64\n",
       "angular_velocity_Z       float64\n",
       "linear_acceleration_X    float64\n",
       "linear_acceleration_Y    float64\n",
       "linear_acceleration_Z    float64\n",
       "group_id                   int64\n",
       "surface                   object\n",
       "dtype: object"
      ]
     },
     "execution_count": 22,
     "metadata": {},
     "output_type": "execute_result"
    }
   ],
   "source": [
    "train.dtypes"
   ]
  },
  {
   "cell_type": "markdown",
   "metadata": {},
   "source": [
    "### Label encoding"
   ]
  },
  {
   "cell_type": "code",
   "execution_count": 23,
   "metadata": {},
   "outputs": [
    {
     "data": {
      "text/plain": [
       "array([13, 31, 20, 22,  1, 34, 33, 11, 26, 25, 12,  7, 21,  8,  9, 28, 15,\n",
       "       27, 35, 32, 23, 14, 30,  3, 29, 16,  0, 10, 19,  4, 18,  6, 17,  5,\n",
       "        2, 24, 69, 70, 71, 60, 62, 59, 45, 56, 41, 53, 40, 68, 49, 46, 42,\n",
       "       38, 61, 43, 51, 44, 55, 65, 37, 57, 54, 72, 64, 66, 36, 48, 47, 52,\n",
       "       39, 58, 50, 63, 67], dtype=int64)"
      ]
     },
     "execution_count": 23,
     "metadata": {},
     "output_type": "execute_result"
    }
   ],
   "source": [
    "list1 = train.group_id.unique()\n",
    "list1"
   ]
  },
  {
   "cell_type": "code",
   "execution_count": 24,
   "metadata": {},
   "outputs": [
    {
     "data": {
      "text/plain": [
       "<matplotlib.axes._subplots.AxesSubplot at 0x27c622d7a58>"
      ]
     },
     "execution_count": 24,
     "metadata": {},
     "output_type": "execute_result"
    },
    {
     "data": {
      "image/png": "[encoded data removed]",
      "text/plain": [
       "<Figure size 1296x360 with 1 Axes>"
      ]
     },
     "metadata": {},
     "output_type": "display_data"
    }
   ],
   "source": [
    "train.group_id.plot(figsize=(18,5))\n"
   ]
  },
  {
   "cell_type": "code",
   "execution_count": 25,
   "metadata": {},
   "outputs": [],
   "source": [
    "le=LabelEncoder()\n",
    "for col in test.columns.values:\n",
    "\tif test[col].dtypes=='object':\n",
    "\t\tdata=train[col].append(test[col])\n",
    "\t\tle.fit(data.values)\n",
    "\t\ttrain[col]=le.transform(train[col])\n",
    "\t\ttest[col]=le.transform(test[col])"
   ]
  },
  {
   "cell_type": "markdown",
   "metadata": {},
   "source": [
    "train_lin = train.copy()"
   ]
  },
  {
   "cell_type": "markdown",
   "metadata": {},
   "source": [
    "train_lin.shape"
   ]
  },
  {
   "cell_type": "markdown",
   "metadata": {},
   "source": [
    "train_lin.columns"
   ]
  },
  {
   "cell_type": "markdown",
   "metadata": {},
   "source": [
    "train_lin.dtypes"
   ]
  },
  {
   "cell_type": "markdown",
   "metadata": {},
   "source": [
    "print(train_lin['surface'].unique())\n",
    "train_lin['surface']= le.fit_transform(train_lin['surface'])\n",
    "train_lin['surface'].unique()"
   ]
  },
  {
   "cell_type": "markdown",
   "metadata": {},
   "source": [
    "train_lin.head()"
   ]
  },
  {
   "cell_type": "markdown",
   "metadata": {},
   "source": [
    "from sklearn.linear_model import LinearRegression\n",
    "\n",
    "\n",
    "y_lin=train_lin[\"group_id\"]\n",
    "X_lin=train_lin.drop('group_id', axis=1)\n",
    "X_lin = X_lin.drop('surface', axis=1)\n",
    "X_train_lin, X_validation_lin, y_train_lin, y_validation_lin = train_test_split(X_lin, y_lin, test_size=0.20)  \n",
    "\n",
    "lm = LinearRegression()\n",
    "lm.fit(X_train_lin,y_train_lin)\n",
    "\n",
    "y_pred_lin=lm.predict(X_validation_lin)\n",
    "# scores = []\n",
    "# kfold = KFold(n_splits=3, shuffle=True, random_state=42)\n",
    "# for i, (train_lin1, test_lin1) in enumerate(kfold.split(X_lin, y_lin)):\n",
    "#  model1.fit(X_lin.iloc[train_lin1,:], y_lin.iloc[train_lin1,:])\n",
    "\n"
   ]
  },
  {
   "cell_type": "markdown",
   "metadata": {},
   "source": [
    "# score = lm.score(y_validation_lin, y_pred_lin)\n",
    "# scores.append(score)\n",
    "# print(scores)\n",
    "from sklearn.metrics import mean_squared_error, r2_score\n",
    "print('Coefficients: \\n', lm.coef_)\n",
    "print(\"Mean squared error: %.2f\"\n",
    "      % mean_squared_error(y_validation_lin, y_pred_lin))\n",
    "print('Variance score: %.2f' % r2_score(y_validation_lin, y_pred_lin))\n"
   ]
  },
  {
   "cell_type": "markdown",
   "metadata": {},
   "source": [
    "X_validation_lin.shape"
   ]
  },
  {
   "cell_type": "markdown",
   "metadata": {},
   "source": [
    "plt.scatter(y_validation_lin,y_pred_lin)"
   ]
  },
  {
   "cell_type": "markdown",
   "metadata": {},
   "source": [
    "### Predict group_id for test data"
   ]
  },
  {
   "cell_type": "markdown",
   "metadata": {},
   "source": [
    "lin_pred = lm.predict(test)\n"
   ]
  },
  {
   "cell_type": "markdown",
   "metadata": {},
   "source": [
    "lin_pred = lin_pred.round()"
   ]
  },
  {
   "cell_type": "markdown",
   "metadata": {},
   "source": [
    "test['surface'] = lin_pred"
   ]
  },
  {
   "cell_type": "markdown",
   "metadata": {},
   "source": [
    "test.head()"
   ]
  },
  {
   "cell_type": "markdown",
   "metadata": {
    "_uuid": "e72d0c96ccb53c6e61097d277c00a54455f68738"
   },
   "source": [
    "## split data\n",
    "### Divide in to train and validation\n"
   ]
  },
  {
   "cell_type": "code",
   "execution_count": 26,
   "metadata": {
    "_uuid": "8b5f10fddab688419f08b5e1eff8dc3c22355ccb"
   },
   "outputs": [],
   "source": [
    "y=train[\"surface\"]\n",
    "X=train.drop('surface', axis=1)\n",
    "X=X.drop('group_id', axis=1)\n"
   ]
  },
  {
   "cell_type": "markdown",
   "metadata": {},
   "source": [
    "quantile_transformer = preprocessing.QuantileTransformer(random_state=0)\n",
    "X[X.columns] = quantile_transformer.fit_transform(X[X.columns])\n"
   ]
  },
  {
   "cell_type": "markdown",
   "metadata": {},
   "source": [
    "plt.figure();\n",
    "X.hist(bins=50, figsize=(20, 15))"
   ]
  },
  {
   "cell_type": "markdown",
   "metadata": {},
   "source": [
    "## test standardization\n",
    "test[test.columns] = quantile_transformer.fit_transform(test[test.columns])"
   ]
  },
  {
   "cell_type": "code",
   "execution_count": 34,
   "metadata": {},
   "outputs": [
    {
     "name": "stdout",
     "output_type": "stream",
     "text": [
      "X_train (390144, 12)\n",
      "X_validation (97536, 12)\n",
      "y_train (390144,)\n",
      "y_validation (97536,)\n"
     ]
    },
    {
     "data": {
      "text/plain": [
       "array(['fine_concrete', 'concrete', 'soft_tiles', 'tiled', 'soft_pvc',\n",
       "       'hard_tiles_large_space', 'carpet', 'hard_tiles', 'wood'],\n",
       "      dtype=object)"
      ]
     },
     "execution_count": 34,
     "metadata": {},
     "output_type": "execute_result"
    }
   ],
   "source": [
    "#from sklearn.model_selection import train_test_split  \n",
    "X_train, X_validation, y_train, y_validation = train_test_split(X, y, test_size=0.20)  \n",
    "print(\"X_train\", X_train.shape)\n",
    "print(\"X_validation\", X_validation.shape)\n",
    "print(\"y_train\", y_train.shape)\n",
    "print(\"y_validation\", y_validation.shape)\n",
    "y.unique()"
   ]
  },
  {
   "cell_type": "code",
   "execution_count": 35,
   "metadata": {},
   "outputs": [
    {
     "data": {
      "text/plain": [
       "(488448, 12)"
      ]
     },
     "execution_count": 35,
     "metadata": {},
     "output_type": "execute_result"
    }
   ],
   "source": [
    "test.shape"
   ]
  },
  {
   "cell_type": "markdown",
   "metadata": {
    "_uuid": "79f29a75c9b02cd6a3db72b4a9e8839a1c8801e5"
   },
   "source": [
    "### there are 9 levels in the target "
   ]
  },
  {
   "cell_type": "markdown",
   "metadata": {
    "_uuid": "be44e0bd13c0c34dc9e513fb2f03cfc927dacd43"
   },
   "source": [
    "## Build a model"
   ]
  },
  {
   "cell_type": "markdown",
   "metadata": {},
   "source": [
    "from sklearn.linear_model import LogisticRegression\n",
    "# instantiate the model (using the default parameters)\n",
    "logreg = LogisticRegression()\n",
    "\n",
    "# fit the model with data\n",
    "logreg.fit(X_train,y_train)\n",
    "\n",
    "#\n",
    "y_pred=logreg.predict(X_validation)\n",
    "print(\"Accuracy: %s%%\" % (100*accuracy_score(y_validation, y_pred)))\n",
    "print(confusion_matrix(y_validation, y_pred))\n",
    "print(classification_report(y_validation, y_pred))"
   ]
  },
  {
   "cell_type": "markdown",
   "metadata": {
    "_uuid": "e2d37b3f226bd82b5bf64ddec0bf9ffdd3975005"
   },
   "source": [
    "## Random Forest model\n",
    "\n",
    "seed = 7\n",
    "num_folds = 10\n",
    "\n",
    "# Params for Random Forest\n",
    "num_trees = 100\n",
    "max_features = 3\n",
    "models = []\n",
    "models.append(('RF', RandomForestClassifier(n_estimators=num_trees, max_features=max_features)))\n",
    "\n",
    "# evalutate each model in turn\n",
    "results = []\n",
    "names = []\n",
    "for name, model in models:\n",
    "    kfold = KFold(n_splits=10, random_state=seed)\n",
    "    cv_results = cross_val_score(model, X_train, y_train, cv=kfold, scoring='accuracy')\n",
    "    results.append(cv_results)\n",
    "    names.append(name)\n",
    "    msg = \"%s: %f (%f)\" % (name, cv_results.mean(), cv_results.std())\n",
    "    print(msg)\n"
   ]
  },
  {
   "cell_type": "code",
   "execution_count": 36,
   "metadata": {
    "_uuid": "4b865d9356fef1c98eebf3baa0210d393eba3fc7"
   },
   "outputs": [
    {
     "name": "stdout",
     "output_type": "stream",
     "text": [
      "Accuracy: 99.86774114173228%\n",
      "----------------\n",
      "[[ 4974     0     0     0     0     0     1     7     0]\n",
      " [    0 19768     3     0     5     5     1     0    13]\n",
      " [    0     1  9363     0     1     0     0     4     0]\n",
      " [    0     0     0   548     0     0     0     0     0]\n",
      " [    0    11    11     0  7844     1     0     0    10]\n",
      " [    3     4     0     0     4 18684     2     7     1]\n",
      " [    2     0     0     0     0     2  7562     1     0]\n",
      " [    1     0     0     0     0     7     0 13134     0]\n",
      " [    2    15     1     0     3     0     0     0 15530]]\n",
      "----------------\n",
      "                        precision    recall  f1-score   support\n",
      "\n",
      "                carpet       1.00      1.00      1.00      4982\n",
      "              concrete       1.00      1.00      1.00     19795\n",
      "         fine_concrete       1.00      1.00      1.00      9369\n",
      "            hard_tiles       1.00      1.00      1.00       548\n",
      "hard_tiles_large_space       1.00      1.00      1.00      7877\n",
      "              soft_pvc       1.00      1.00      1.00     18705\n",
      "            soft_tiles       1.00      1.00      1.00      7567\n",
      "                 tiled       1.00      1.00      1.00     13142\n",
      "                  wood       1.00      1.00      1.00     15551\n",
      "\n",
      "           avg / total       1.00      1.00      1.00     97536\n",
      "\n"
     ]
    }
   ],
   "source": [
    "random_forest = RandomForestClassifier(n_estimators=50,max_features=5)\n",
    "random_forest.fit(X_train, y_train)\n",
    "predictions_rf = random_forest.predict(X_validation)\n",
    "print(\"Accuracy: %s%%\" % (100*accuracy_score(y_validation, predictions_rf)))\n",
    "print('----------------')\n",
    "print(confusion_matrix(y_validation, predictions_rf))\n",
    "print('----------------')\n",
    "print(classification_report(y_validation, predictions_rf))"
   ]
  },
  {
   "cell_type": "markdown",
   "metadata": {
    "_uuid": "1b8a1356a503fc28f4e14b6772e440dc83ddcc43"
   },
   "source": [
    "random_forest1 = RandomForestClassifier(n_estimators=50,max_features=5)\n",
    "random_forest1.fit(X_train, y_train)\n",
    "predictions_rf = random_forest1.predict(X_validation)\n",
    "print(\"Accuracy: %s%%\" % (100*accuracy_score(y_validation, predictions_rf)))\n",
    "print('----------------')\n",
    "print(confusion_matrix(y_validation, predictions_rf))\n",
    "print('----------------')\n",
    "print(classification_report(y_validation, predictions_rf))"
   ]
  },
  {
   "cell_type": "markdown",
   "metadata": {
    "_uuid": "381149c027bcf5efe54f08f8325bea13a2f58f58"
   },
   "source": [
    "### Grid Search"
   ]
  },
  {
   "cell_type": "markdown",
   "metadata": {},
   "source": [
    "from xgboost import XGBClassifier\n",
    "from sklearn.model_selection import GridSearchCV\n",
    "\n",
    "cv_params = {'learning_rate': [0.001, 0.01, 0.1]}\n",
    "ind_params = {'n_estimators': 100, 'seed':0,  'subsample': 0.9, 'colsample_bytree':1.0,\n",
    "              'objective': 'multi:softprob', 'max_depth': 7, 'min_child_weight': 1}\n",
    "optimized_xgb = GridSearchCV(XGBClassifier(**ind_params), \n",
    "                             cv_params, scoring = 'neg_log_loss', cv = 4, n_jobs = -1, verbose=3) \n",
    "\n",
    "optimized_xgb.fit(X_train, y_train)\n",
    "print('Final Optimzed Scores')\n",
    "optimized_xgb.grid_scores_\n"
   ]
  },
  {
   "cell_type": "code",
   "execution_count": null,
   "metadata": {},
   "outputs": [],
   "source": [
    "\n",
    "model_xgb = XGBClassifier(n_estimators=100, seed= 0, learning_rate= 0.1, subsample= 0.9, \n",
    "                               colsample_bytree= 0.8, eval_metric= 'mlogloss', max_depth= 7, \n",
    "                               min_child_weight= 1, gamma= 0)\n",
    "\n",
    "model_xgb.fit(X_train, y_train)\n",
    "\n",
    "predictions_xgb_opt = model_xgb.predict(X_validation)\n",
    "\n",
    "# evaluate predictions\n",
    "accuracy = accuracy_score(y_validation, predictions_xgb_opt)\n",
    "print(\"Accuracy: %.2f%%\" % (accuracy * 100.0))"
   ]
  },
  {
   "cell_type": "markdown",
   "metadata": {
    "_uuid": "ab875312ae5c17daf0d117198e2803e8308b0c1a"
   },
   "source": [
    "## predictions on test data"
   ]
  },
  {
   "cell_type": "code",
   "execution_count": 38,
   "metadata": {
    "_uuid": "875310cfa1f22f8c7d27da8de45c37a661dbbc26"
   },
   "outputs": [
    {
     "name": "stdout",
     "output_type": "stream",
     "text": [
      "488448\n"
     ]
    },
    {
     "data": {
      "text/html": [
       "<div>\n",
       "<style scoped>\n",
       "    .dataframe tbody tr th:only-of-type {\n",
       "        vertical-align: middle;\n",
       "    }\n",
       "\n",
       "    .dataframe tbody tr th {\n",
       "        vertical-align: top;\n",
       "    }\n",
       "\n",
       "    .dataframe thead th {\n",
       "        text-align: right;\n",
       "    }\n",
       "</style>\n",
       "<table border=\"1\" class=\"dataframe\">\n",
       "  <thead>\n",
       "    <tr style=\"text-align: right;\">\n",
       "      <th></th>\n",
       "      <th>series_id</th>\n",
       "      <th>surface</th>\n",
       "    </tr>\n",
       "  </thead>\n",
       "  <tbody>\n",
       "    <tr>\n",
       "      <th>0</th>\n",
       "      <td>0</td>\n",
       "      <td>tiled</td>\n",
       "    </tr>\n",
       "    <tr>\n",
       "      <th>1</th>\n",
       "      <td>0</td>\n",
       "      <td>tiled</td>\n",
       "    </tr>\n",
       "    <tr>\n",
       "      <th>2</th>\n",
       "      <td>0</td>\n",
       "      <td>tiled</td>\n",
       "    </tr>\n",
       "    <tr>\n",
       "      <th>3</th>\n",
       "      <td>0</td>\n",
       "      <td>tiled</td>\n",
       "    </tr>\n",
       "    <tr>\n",
       "      <th>4</th>\n",
       "      <td>0</td>\n",
       "      <td>tiled</td>\n",
       "    </tr>\n",
       "  </tbody>\n",
       "</table>\n",
       "</div>"
      ],
      "text/plain": [
       "  series_id surface\n",
       "0         0   tiled\n",
       "1         0   tiled\n",
       "2         0   tiled\n",
       "3         0   tiled\n",
       "4         0   tiled"
      ]
     },
     "execution_count": 38,
     "metadata": {},
     "output_type": "execute_result"
    }
   ],
   "source": [
    "# predication on  test data \n",
    "\n",
    "from scipy import stats\n",
    "\n",
    "predictions = random_forest.predict(test)\n",
    "print(len(predictions))\n",
    "final_pred = pd.DataFrame()\n",
    "final_pred['series_id']= X_test_robo['series_id']\n",
    "final_pred['series_id']=final_pred['series_id'].astype('str')\n",
    "final_pred['surface']= predictions\n",
    "final_pred.head()"
   ]
  },
  {
   "cell_type": "code",
   "execution_count": 39,
   "metadata": {},
   "outputs": [
    {
     "name": "stderr",
     "output_type": "stream",
     "text": [
      "C:\\Users\\panch\\Anaconda3\\lib\\site-packages\\scipy\\stats\\stats.py:245: RuntimeWarning:\n",
      "\n",
      "The input array could not be properly checked for nan values. nan values will be ignored.\n",
      "\n"
     ]
    },
    {
     "data": {
      "text/html": [
       "<div>\n",
       "<style scoped>\n",
       "    .dataframe tbody tr th:only-of-type {\n",
       "        vertical-align: middle;\n",
       "    }\n",
       "\n",
       "    .dataframe tbody tr th {\n",
       "        vertical-align: top;\n",
       "    }\n",
       "\n",
       "    .dataframe thead th {\n",
       "        text-align: right;\n",
       "    }\n",
       "</style>\n",
       "<table border=\"1\" class=\"dataframe\">\n",
       "  <thead>\n",
       "    <tr style=\"text-align: right;\">\n",
       "      <th></th>\n",
       "      <th>series_id</th>\n",
       "      <th>surface</th>\n",
       "    </tr>\n",
       "  </thead>\n",
       "  <tbody>\n",
       "    <tr>\n",
       "      <th>0</th>\n",
       "      <td>0</td>\n",
       "      <td>tiled</td>\n",
       "    </tr>\n",
       "    <tr>\n",
       "      <th>1</th>\n",
       "      <td>1</td>\n",
       "      <td>carpet</td>\n",
       "    </tr>\n",
       "    <tr>\n",
       "      <th>2</th>\n",
       "      <td>2</td>\n",
       "      <td>wood</td>\n",
       "    </tr>\n",
       "    <tr>\n",
       "      <th>3</th>\n",
       "      <td>3</td>\n",
       "      <td>soft_tiles</td>\n",
       "    </tr>\n",
       "    <tr>\n",
       "      <th>4</th>\n",
       "      <td>4</td>\n",
       "      <td>wood</td>\n",
       "    </tr>\n",
       "  </tbody>\n",
       "</table>\n",
       "</div>"
      ],
      "text/plain": [
       "  series_id     surface\n",
       "0         0       tiled\n",
       "1         1      carpet\n",
       "2         2        wood\n",
       "3         3  soft_tiles\n",
       "4         4        wood"
      ]
     },
     "execution_count": 39,
     "metadata": {},
     "output_type": "execute_result"
    }
   ],
   "source": [
    "arpana = final_pred.groupby(['series_id'], as_index=False, sort=False).agg(lambda x: stats.mode(x)[0][0])\n",
    "arpana.head()"
   ]
  },
  {
   "cell_type": "code",
   "execution_count": 40,
   "metadata": {
    "_uuid": "a898bc1b4da1048dc560acffc5250ff37e98b669"
   },
   "outputs": [],
   "source": [
    "arpana.to_csv('samplesubmission_rf_With_stdztn.csv', index=False)"
   ]
  },
  {
   "cell_type": "code",
   "execution_count": 41,
   "metadata": {},
   "outputs": [
    {
     "data": {
      "image/png": "[encoded data removed]",
      "text/plain": [
       "<Figure size 720x432 with 1 Axes>"
      ]
     },
     "metadata": {},
     "output_type": "display_data"
    }
   ],
   "source": [
    "# plt.figure(figsize=(10,10)\n",
    "arpana.surface.value_counts().plot(kind='bar',\n",
    "                                 figsize=(10,6),\n",
    "                                  color=\"red\",\n",
    "                                  alpha = 0.7,\n",
    "                                  fontsize=13)\n",
    "plt.title('Surface (in numbers)')\n",
    "plt.xlabel('Surface')\n",
    "plt.ylabel('Count')\n",
    "plt.show()"
   ]
  },
  {
   "cell_type": "markdown",
   "metadata": {},
   "source": [
    "### Important Features"
   ]
  },
  {
   "cell_type": "code",
   "execution_count": null,
   "metadata": {},
   "outputs": [],
   "source": [
    "importances = random_forest.feature_importances_\n",
    "plt.bar(range(len(random_forest.feature_importances_)), random_forest.feature_importances_)\n",
    "plt.show()\n",
    "\n",
    "indices = np.argsort(importances)[::-1]\n",
    "for f in range(X.shape[1]):\n",
    "    print(\"%d. feature %d : %s : (%f)\" % (f + 1, indices[f], X.iloc[:,indices[f]].name, importances[indices[f]]))"
   ]
  },
  {
   "cell_type": "code",
   "execution_count": null,
   "metadata": {},
   "outputs": [],
   "source": [
    "import seaborn as sns\n",
    "target = train[\"surface\"]\n",
    "train_without_target = train.drop([\"surface\"],axis=1)\n",
    "corr = train_without_target.corr()\n",
    "f, ax = plt.subplots(figsize=(10, 6))\n",
    "sns.heatmap(corr,cmap='coolwarm',vmax=.3)"
   ]
  },
  {
   "cell_type": "code",
   "execution_count": null,
   "metadata": {},
   "outputs": [],
   "source": []
  },
  {
   "cell_type": "code",
   "execution_count": null,
   "metadata": {},
   "outputs": [],
   "source": []
  }
 ],
 "metadata": {
  "kernelspec": {
   "display_name": "Python 3",
   "language": "python",
   "name": "python3"
  },
  "language_info": {
   "codemirror_mode": {
    "name": "ipython",
    "version": 3
   },
   "file_extension": ".py",
   "mimetype": "text/x-python",
   "name": "python",
   "nbconvert_exporter": "python",
   "pygments_lexer": "ipython3",
   "version": "3.6.5"
  }
 },
 "nbformat": 4,
 "nbformat_minor": 1
}
