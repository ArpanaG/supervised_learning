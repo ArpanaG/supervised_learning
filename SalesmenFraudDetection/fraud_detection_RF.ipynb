{
 "cells": [
  {
   "cell_type": "markdown",
   "metadata": {},
   "source": [
    "# SalesPerson Fraud Detection_ANIL_KUMAR_B56"
   ]
  },
  {
   "cell_type": "markdown",
   "metadata": {},
   "source": [
    "## Problem Description:"
   ]
  },
  {
   "cell_type": "markdown",
   "metadata": {},
   "source": [
    "Here is a large US electrical appliances’ retailer with many branches. Salesmen are given freedom to set the price at which they sell the products and also quantity of products based on various factors. It means, for a single product, some salesmen may sell at a price higher/lower than others for some reasons. Similarly, constraint in terms of maximum or minimum quantity is not imposed. Thus, the average sale size and average quantity sold differ from transaction to transaction. These salespeople sell a set of products of the company and report these sales with a certain periodicity to the company. The data of transactions reported by the salespeople of the company over a short period of time is used for sales and productivity analysis. The data is of an undisclosed source and has been anonymized. \n",
    "\n",
    "Each row of data table includes information on one report by a salesman. This information includes his ID, report ID, product ID, the quantity and the total value reported by the salesman. You are invited to develop an error/fraud detection software. Towards building such system, you are required to develop a method to determine suspicious transactions which have high propensity to be error/fraud. The goal is to verify the veracity of these reports given past experience of the company that has detected both errors and fraud attempts in these transaction reports. The task boils down to build capability in terms of appropriate ratio analysis by studying similarities between products and salesmen to detect transactions that may indicate errors/fraud attempt by a sales person. You are expected to classify each report ID as Yes(suspicious) / No(not suspicious) / indeterminate(doubtful). Towards achieving this goal and for other strategic purposes, you are also required to segment the salesmen into high risk, medium risk and low/no risk categories from the standpoint of propensity to error/fraud. Objectives: In this hackathon, you are expected \n",
    "\n",
    "1. to do exploratory Data Analysis using visualizations \n",
    "2. to build the analytical framework to predict the propensity of suspicious transaction of each report using the transactions took place. \n",
    "3. to segment the salesmen into different risk categories from the standpoint of propensity to error/fraud which will be used for strategic purposes"
   ]
  },
  {
   "cell_type": "markdown",
   "metadata": {},
   "source": [
    "##### Required modules"
   ]
  },
  {
   "cell_type": "raw",
   "metadata": {},
   "source": [
    "!pip install pandas-profiling"
   ]
  },
  {
   "cell_type": "raw",
   "metadata": {},
   "source": [
    "!pip install missingno"
   ]
  },
  {
   "cell_type": "code",
   "execution_count": 350,
   "metadata": {},
   "outputs": [],
   "source": [
    "import numpy\n",
    "import math\n",
    "import matplotlib.pyplot as plt\n",
    "import pandas as pd\n",
    "\n",
    "from pandas import *\n",
    "\n",
    "from keras.models import Sequential\n",
    "from keras.layers import Dense, LSTM \n",
    "\n",
    "from sklearn.preprocessing import MinMaxScaler\n",
    "from sklearn.metrics import mean_squared_error"
   ]
  },
  {
   "cell_type": "markdown",
   "metadata": {},
   "source": [
    "##### Setting current working directory"
   ]
  },
  {
   "cell_type": "code",
   "execution_count": 351,
   "metadata": {},
   "outputs": [],
   "source": [
    "import os\n",
    "PATH = os.getcwd()"
   ]
  },
  {
   "cell_type": "code",
   "execution_count": 352,
   "metadata": {},
   "outputs": [],
   "source": [
    "os.chdir(PATH)"
   ]
  },
  {
   "cell_type": "markdown",
   "metadata": {},
   "source": [
    "##### Loading Given SalesPerson dataset using the Pandas library. \n"
   ]
  },
  {
   "cell_type": "code",
   "execution_count": 353,
   "metadata": {},
   "outputs": [],
   "source": [
    "dataframe = pd.read_csv(\"Train.csv\",header=0)"
   ]
  },
  {
   "cell_type": "code",
   "execution_count": 354,
   "metadata": {},
   "outputs": [
    {
     "name": "stdout",
     "output_type": "stream",
     "text": [
      "   ReportID SalesPersonID ProductID  Quantity  TotalSalesValue     Suspicious\n",
      "0  Rep10101        C21116    PR6112       182             1665  indeterminate\n",
      "1  Rep10102        C21116    PR6112       182             1740  indeterminate\n",
      "2  Rep10103        C21116    PR6253       101             1040  indeterminate\n",
      "3  Rep10104        C21116    PR6253       283             4495             No\n",
      "4  Rep10105        C21116    PR6294       108             1465  indeterminate\n"
     ]
    }
   ],
   "source": [
    "print (dataframe.head())"
   ]
  },
  {
   "cell_type": "code",
   "execution_count": 355,
   "metadata": {},
   "outputs": [
    {
     "data": {
      "text/plain": [
       "Index(['ReportID', 'SalesPersonID', 'ProductID', 'Quantity', 'TotalSalesValue',\n",
       "       'Suspicious'],\n",
       "      dtype='object')"
      ]
     },
     "execution_count": 355,
     "metadata": {},
     "output_type": "execute_result"
    }
   ],
   "source": [
    "dataframe.keys()"
   ]
  },
  {
   "cell_type": "code",
   "execution_count": 356,
   "metadata": {},
   "outputs": [
    {
     "data": {
      "text/plain": [
       "ReportID           object\n",
       "SalesPersonID      object\n",
       "ProductID          object\n",
       "Quantity            int64\n",
       "TotalSalesValue     int64\n",
       "Suspicious         object\n",
       "dtype: object"
      ]
     },
     "execution_count": 356,
     "metadata": {},
     "output_type": "execute_result"
    }
   ],
   "source": [
    "dataframe.dtypes"
   ]
  },
  {
   "cell_type": "code",
   "execution_count": 357,
   "metadata": {},
   "outputs": [
    {
     "data": {
      "text/plain": [
       "(42582, 6)"
      ]
     },
     "execution_count": 357,
     "metadata": {},
     "output_type": "execute_result"
    }
   ],
   "source": [
    "dataframe.shape"
   ]
  },
  {
   "cell_type": "markdown",
   "metadata": {},
   "source": [
    "The given Dataset contains 42582 records with 6 attributes list as ReportID, SalesPersonID, ProductID, Quantity, TotalSaleValue and Suspicious."
   ]
  },
  {
   "cell_type": "markdown",
   "metadata": {},
   "source": [
    "##### Droping ReportID"
   ]
  },
  {
   "cell_type": "code",
   "execution_count": 358,
   "metadata": {},
   "outputs": [],
   "source": [
    "dataframe=dataframe.drop('ReportID', axis=1)"
   ]
  },
  {
   "cell_type": "markdown",
   "metadata": {},
   "source": [
    "##### Overall view of Dataset:"
   ]
  },
  {
   "cell_type": "code",
   "execution_count": 359,
   "metadata": {},
   "outputs": [],
   "source": [
    "import pandas_profiling"
   ]
  },
  {
   "cell_type": "code",
   "execution_count": 360,
   "metadata": {},
   "outputs": [
    {
     "data": {
      "text/html": [
       "<meta charset=\"UTF-8\">\n",
       "\n",
       "<style>\n",
       "\n",
       "        .variablerow {\n",
       "            border: 1px solid #e1e1e8;\n",
       "            border-top: hidden;\n",
       "            padding-top: 2em;\n",
       "            padding-bottom: 2em;\n",
       "            padding-left: 1em;\n",
       "            padding-right: 1em;\n",
       "        }\n",
       "\n",
       "        .headerrow {\n",
       "            border: 1px solid #e1e1e8;\n",
       "            background-color: #f5f5f5;\n",
       "            padding: 2em;\n",
       "        }\n",
       "        .namecol {\n",
       "            margin-top: -1em;\n",
       "            overflow-x: auto;\n",
       "        }\n",
       "\n",
       "        .dl-horizontal dt {\n",
       "            text-align: left;\n",
       "            padding-right: 1em;\n",
       "            white-space: normal;\n",
       "        }\n",
       "\n",
       "        .dl-horizontal dd {\n",
       "            margin-left: 0;\n",
       "        }\n",
       "\n",
       "        .ignore {\n",
       "            opacity: 0.4;\n",
       "        }\n",
       "\n",
       "        .container.pandas-profiling {\n",
       "            max-width:975px;\n",
       "        }\n",
       "\n",
       "        .col-md-12 {\n",
       "            padding-left: 2em;\n",
       "        }\n",
       "\n",
       "        .indent {\n",
       "            margin-left: 1em;\n",
       "        }\n",
       "\n",
       "        .center-img {\n",
       "            margin-left: auto !important;\n",
       "            margin-right: auto !important;\n",
       "            display: block;\n",
       "        }\n",
       "\n",
       "        /* Table example_values */\n",
       "            table.example_values {\n",
       "                border: 0;\n",
       "            }\n",
       "\n",
       "            .example_values th {\n",
       "                border: 0;\n",
       "                padding: 0 ;\n",
       "                color: #555;\n",
       "                font-weight: 600;\n",
       "            }\n",
       "\n",
       "            .example_values tr, .example_values td{\n",
       "                border: 0;\n",
       "                padding: 0;\n",
       "                color: #555;\n",
       "            }\n",
       "\n",
       "        /* STATS */\n",
       "            table.stats {\n",
       "                border: 0;\n",
       "            }\n",
       "\n",
       "            .stats th {\n",
       "                border: 0;\n",
       "                padding: 0 2em 0 0;\n",
       "                color: #555;\n",
       "                font-weight: 600;\n",
       "            }\n",
       "\n",
       "            .stats tr {\n",
       "                border: 0;\n",
       "            }\n",
       "\n",
       "            .stats td{\n",
       "                color: #555;\n",
       "                padding: 1px;\n",
       "                border: 0;\n",
       "            }\n",
       "\n",
       "\n",
       "        /* Sample table */\n",
       "            table.sample {\n",
       "                border: 0;\n",
       "                margin-bottom: 2em;\n",
       "                margin-left:1em;\n",
       "            }\n",
       "            .sample tr {\n",
       "                border:0;\n",
       "            }\n",
       "            .sample td, .sample th{\n",
       "                padding: 0.5em;\n",
       "                white-space: nowrap;\n",
       "                border: none;\n",
       "\n",
       "            }\n",
       "\n",
       "            .sample thead {\n",
       "                border-top: 0;\n",
       "                border-bottom: 2px solid #ddd;\n",
       "            }\n",
       "\n",
       "            .sample td {\n",
       "                width:100%;\n",
       "            }\n",
       "\n",
       "\n",
       "        /* There is no good solution available to make the divs equal height and then center ... */\n",
       "            .histogram {\n",
       "                margin-top: 3em;\n",
       "            }\n",
       "        /* Freq table */\n",
       "\n",
       "            table.freq {\n",
       "                margin-bottom: 2em;\n",
       "                border: 0;\n",
       "            }\n",
       "            table.freq th, table.freq tr, table.freq td {\n",
       "                border: 0;\n",
       "                padding: 0;\n",
       "            }\n",
       "\n",
       "            .freq thead {\n",
       "                font-weight: 600;\n",
       "                white-space: nowrap;\n",
       "                overflow: hidden;\n",
       "                text-overflow: ellipsis;\n",
       "\n",
       "            }\n",
       "\n",
       "            td.fillremaining{\n",
       "                width:auto;\n",
       "                max-width: none;\n",
       "            }\n",
       "\n",
       "            td.number, th.number {\n",
       "                text-align:right ;\n",
       "            }\n",
       "\n",
       "        /* Freq mini */\n",
       "            .freq.mini td{\n",
       "                width: 50%;\n",
       "                padding: 1px;\n",
       "                font-size: 12px;\n",
       "\n",
       "            }\n",
       "            table.freq.mini {\n",
       "                 width:100%;\n",
       "            }\n",
       "            .freq.mini th {\n",
       "                overflow: hidden;\n",
       "                text-overflow: ellipsis;\n",
       "                white-space: nowrap;\n",
       "                max-width: 5em;\n",
       "                font-weight: 400;\n",
       "                text-align:right;\n",
       "                padding-right: 0.5em;\n",
       "            }\n",
       "\n",
       "            .missing {\n",
       "                color: #a94442;\n",
       "            }\n",
       "            .alert, .alert > th, .alert > td {\n",
       "                color: #a94442;\n",
       "            }\n",
       "\n",
       "\n",
       "        /* Bars in tables */\n",
       "            .freq .bar{\n",
       "                float: left;\n",
       "                width: 0;\n",
       "                height: 100%;\n",
       "                line-height: 20px;\n",
       "                color: #fff;\n",
       "                text-align: center;\n",
       "                background-color: #337ab7;\n",
       "                border-radius: 3px;\n",
       "                margin-right: 4px;\n",
       "            }\n",
       "            .other .bar {\n",
       "                background-color: #999;\n",
       "            }\n",
       "            .missing .bar{\n",
       "                background-color: #a94442;\n",
       "            }\n",
       "            .tooltip-inner {\n",
       "                width: 100%;\n",
       "                white-space: nowrap;\n",
       "                text-align:left;\n",
       "            }\n",
       "\n",
       "            .extrapadding{\n",
       "                padding: 2em;\n",
       "            }\n",
       "\n",
       "            .pp-anchor{\n",
       "\n",
       "            }\n",
       "\n",
       "</style>\n",
       "\n",
       "<div class=\"container pandas-profiling\">\n",
       "    <div class=\"row headerrow highlight\">\n",
       "        <h1>Overview</h1>\n",
       "    </div>\n",
       "    <div class=\"row variablerow\">\n",
       "    <div class=\"col-md-6 namecol\">\n",
       "        <p class=\"h4\">Dataset info</p>\n",
       "        <table class=\"stats\" style=\"margin-left: 1em;\">\n",
       "            <tbody>\n",
       "            <tr>\n",
       "                <th>Number of variables</th>\n",
       "                <td>5 </td>\n",
       "            </tr>\n",
       "            <tr>\n",
       "                <th>Number of observations</th>\n",
       "                <td>42582 </td>\n",
       "            </tr>\n",
       "            <tr>\n",
       "                <th>Total Missing (%)</th>\n",
       "                <td>0.0% </td>\n",
       "            </tr>\n",
       "            <tr>\n",
       "                <th>Total size in memory</th>\n",
       "                <td>1.6 MiB </td>\n",
       "            </tr>\n",
       "            <tr>\n",
       "                <th>Average record size in memory</th>\n",
       "                <td>40.0 B </td>\n",
       "            </tr>\n",
       "            </tbody>\n",
       "        </table>\n",
       "    </div>\n",
       "    <div class=\"col-md-6 namecol\">\n",
       "        <p class=\"h4\">Variables types</p>\n",
       "        <table class=\"stats\" style=\"margin-left: 1em;\">\n",
       "            <tbody>\n",
       "            <tr>\n",
       "                <th>Numeric</th>\n",
       "                <td>2 </td>\n",
       "            </tr>\n",
       "            <tr>\n",
       "                <th>Categorical</th>\n",
       "                <td>3 </td>\n",
       "            </tr>\n",
       "            <tr>\n",
       "                <th>Boolean</th>\n",
       "                <td>0 </td>\n",
       "            </tr>\n",
       "            <tr>\n",
       "                <th>Date</th>\n",
       "                <td>0 </td>\n",
       "            </tr>\n",
       "            <tr>\n",
       "                <th>Text (Unique)</th>\n",
       "                <td>0 </td>\n",
       "            </tr>\n",
       "            <tr>\n",
       "                <th>Rejected</th>\n",
       "                <td>0 </td>\n",
       "            </tr>\n",
       "            <tr>\n",
       "                <th>Unsupported</th>\n",
       "                <td>0 </td>\n",
       "            </tr>\n",
       "            </tbody>\n",
       "        </table>\n",
       "    </div>\n",
       "    <div class=\"col-md-12\" style=\"padding-left: 1em;\">\n",
       "        \n",
       "        <p class=\"h4\">Warnings</p>\n",
       "        <ul class=\"list-unstyled\"><li><a href=\"#pp_var_ProductID\"><code>ProductID</code></a> has a high cardinality: 593 distinct values  <span class=\"label label-warning\">Warning</span></li><li><a href=\"#pp_var_Quantity\"><code>Quantity</code></a> is highly skewed (γ1 = 189.14)  <span class=\"label label-info\">Skewed</span></li><li><a href=\"#pp_var_SalesPersonID\"><code>SalesPersonID</code></a> has a high cardinality: 992 distinct values  <span class=\"label label-warning\">Warning</span></li><li><a href=\"#pp_var_TotalSalesValue\"><code>TotalSalesValue</code></a> is highly skewed (γ1 = 20.054)  <span class=\"label label-info\">Skewed</span></li><li>Dataset has 10045 duplicate rows <span class=\"label label-warning\">Warning</span></li> </ul>\n",
       "    </div>\n",
       "</div>\n",
       "    <div class=\"row headerrow highlight\">\n",
       "        <h1>Variables</h1>\n",
       "    </div>\n",
       "    <div class=\"row variablerow\">\n",
       "    <div class=\"col-md-3 namecol\">\n",
       "        <p class=\"h4 pp-anchor\" id=\"pp_var_ProductID\">ProductID<br/>\n",
       "            <small>Categorical</small>\n",
       "        </p>\n",
       "    </div><div class=\"col-md-3\">\n",
       "    <table class=\"stats \">\n",
       "        <tr class=\"alert\">\n",
       "            <th>Distinct count</th>\n",
       "            <td>593</td>\n",
       "        </tr>\n",
       "        <tr>\n",
       "            <th>Unique (%)</th>\n",
       "            <td>1.4%</td>\n",
       "        </tr>\n",
       "        <tr class=\"ignore\">\n",
       "            <th>Missing (%)</th>\n",
       "            <td>0.0%</td>\n",
       "        </tr>\n",
       "        <tr class=\"ignore\">\n",
       "            <th>Missing (n)</th>\n",
       "            <td>0</td>\n",
       "        </tr>\n",
       "    </table>\n",
       "</div>\n",
       "<div class=\"col-md-6 collapse in\" id=\"minifreqtable3932192906683806563\">\n",
       "    <table class=\"mini freq\">\n",
       "        <tr class=\"\">\n",
       "    <th>PR6253</th>\n",
       "    <td>\n",
       "        <div class=\"bar\" style=\"width:7%\" data-toggle=\"tooltip\" data-placement=\"right\" data-html=\"true\"\n",
       "             data-delay=500 title=\"Percentage: 6.1%\">\n",
       "            &nbsp;\n",
       "        </div>\n",
       "        2590\n",
       "    </td>\n",
       "</tr><tr class=\"\">\n",
       "    <th>PR6596</th>\n",
       "    <td>\n",
       "        <div class=\"bar\" style=\"width:4%\" data-toggle=\"tooltip\" data-placement=\"right\" data-html=\"true\"\n",
       "             data-delay=500 title=\"Percentage: 2.8%\">\n",
       "            &nbsp;\n",
       "        </div>\n",
       "        1194\n",
       "    </td>\n",
       "</tr><tr class=\"\">\n",
       "    <th>PR6353</th>\n",
       "    <td>\n",
       "        <div class=\"bar\" style=\"width:3%\" data-toggle=\"tooltip\" data-placement=\"right\" data-html=\"true\"\n",
       "             data-delay=500 title=\"Percentage: 2.1%\">\n",
       "            &nbsp;\n",
       "        </div>\n",
       "        906\n",
       "    </td>\n",
       "</tr><tr class=\"other\">\n",
       "    <th>Other values (590)</th>\n",
       "    <td>\n",
       "        <div class=\"bar\" style=\"width:100%\" data-toggle=\"tooltip\" data-placement=\"right\" data-html=\"true\"\n",
       "             data-delay=500 title=\"Percentage: 89.0%\">\n",
       "            37892\n",
       "        </div>\n",
       "        \n",
       "    </td>\n",
       "</tr>\n",
       "    </table>\n",
       "</div>\n",
       "<div class=\"col-md-12 text-right\">\n",
       "    <a role=\"button\" data-toggle=\"collapse\" data-target=\"#freqtable3932192906683806563, #minifreqtable3932192906683806563\"\n",
       "       aria-expanded=\"true\" aria-controls=\"collapseExample\">\n",
       "        Toggle details\n",
       "    </a>\n",
       "</div>\n",
       "<div class=\"col-md-12 extrapadding collapse\" id=\"freqtable3932192906683806563\">\n",
       "    \n",
       "<table class=\"freq table table-hover\">\n",
       "    <thead>\n",
       "    <tr>\n",
       "        <td class=\"fillremaining\">Value</td>\n",
       "        <td class=\"number\">Count</td>\n",
       "        <td class=\"number\">Frequency (%)</td>\n",
       "        <td style=\"min-width:200px\">&nbsp;</td>\n",
       "    </tr>\n",
       "    </thead>\n",
       "    <tr class=\"\">\n",
       "        <td class=\"fillremaining\">PR6253</td>\n",
       "        <td class=\"number\">2590</td>\n",
       "        <td class=\"number\">6.1%</td>\n",
       "        <td>\n",
       "            <div class=\"bar\" style=\"width:8%\">&nbsp;</div>\n",
       "        </td>\n",
       "</tr><tr class=\"\">\n",
       "        <td class=\"fillremaining\">PR6596</td>\n",
       "        <td class=\"number\">1194</td>\n",
       "        <td class=\"number\">2.8%</td>\n",
       "        <td>\n",
       "            <div class=\"bar\" style=\"width:4%\">&nbsp;</div>\n",
       "        </td>\n",
       "</tr><tr class=\"\">\n",
       "        <td class=\"fillremaining\">PR6353</td>\n",
       "        <td class=\"number\">906</td>\n",
       "        <td class=\"number\">2.1%</td>\n",
       "        <td>\n",
       "            <div class=\"bar\" style=\"width:3%\">&nbsp;</div>\n",
       "        </td>\n",
       "</tr><tr class=\"\">\n",
       "        <td class=\"fillremaining\">PR6352</td>\n",
       "        <td class=\"number\">649</td>\n",
       "        <td class=\"number\">1.5%</td>\n",
       "        <td>\n",
       "            <div class=\"bar\" style=\"width:2%\">&nbsp;</div>\n",
       "        </td>\n",
       "</tr><tr class=\"\">\n",
       "        <td class=\"fillremaining\">PR6115</td>\n",
       "        <td class=\"number\">533</td>\n",
       "        <td class=\"number\">1.3%</td>\n",
       "        <td>\n",
       "            <div class=\"bar\" style=\"width:2%\">&nbsp;</div>\n",
       "        </td>\n",
       "</tr><tr class=\"\">\n",
       "        <td class=\"fillremaining\">PR6678</td>\n",
       "        <td class=\"number\">513</td>\n",
       "        <td class=\"number\">1.2%</td>\n",
       "        <td>\n",
       "            <div class=\"bar\" style=\"width:2%\">&nbsp;</div>\n",
       "        </td>\n",
       "</tr><tr class=\"\">\n",
       "        <td class=\"fillremaining\">PR6229</td>\n",
       "        <td class=\"number\">480</td>\n",
       "        <td class=\"number\">1.1%</td>\n",
       "        <td>\n",
       "            <div class=\"bar\" style=\"width:2%\">&nbsp;</div>\n",
       "        </td>\n",
       "</tr><tr class=\"\">\n",
       "        <td class=\"fillremaining\">PR6249</td>\n",
       "        <td class=\"number\">475</td>\n",
       "        <td class=\"number\">1.1%</td>\n",
       "        <td>\n",
       "            <div class=\"bar\" style=\"width:2%\">&nbsp;</div>\n",
       "        </td>\n",
       "</tr><tr class=\"\">\n",
       "        <td class=\"fillremaining\">PR6595</td>\n",
       "        <td class=\"number\">474</td>\n",
       "        <td class=\"number\">1.1%</td>\n",
       "        <td>\n",
       "            <div class=\"bar\" style=\"width:2%\">&nbsp;</div>\n",
       "        </td>\n",
       "</tr><tr class=\"\">\n",
       "        <td class=\"fillremaining\">PR6326</td>\n",
       "        <td class=\"number\">467</td>\n",
       "        <td class=\"number\">1.1%</td>\n",
       "        <td>\n",
       "            <div class=\"bar\" style=\"width:2%\">&nbsp;</div>\n",
       "        </td>\n",
       "</tr><tr class=\"other\">\n",
       "        <td class=\"fillremaining\">Other values (583)</td>\n",
       "        <td class=\"number\">34301</td>\n",
       "        <td class=\"number\">80.6%</td>\n",
       "        <td>\n",
       "            <div class=\"bar\" style=\"width:100%\">&nbsp;</div>\n",
       "        </td>\n",
       "</tr>\n",
       "</table>\n",
       "</div>\n",
       "</div><div class=\"row variablerow\">\n",
       "    <div class=\"col-md-3 namecol\">\n",
       "        <p class=\"h4 pp-anchor\" id=\"pp_var_Quantity\">Quantity<br/>\n",
       "            <small>Numeric</small>\n",
       "        </p>\n",
       "    </div><div class=\"col-md-6\">\n",
       "    <div class=\"row\">\n",
       "        <div class=\"col-sm-6\">\n",
       "            <table class=\"stats \">\n",
       "                <tr>\n",
       "                    <th>Distinct count</th>\n",
       "                    <td>6493</td>\n",
       "                </tr>\n",
       "                <tr>\n",
       "                    <th>Unique (%)</th>\n",
       "                    <td>15.2%</td>\n",
       "                </tr>\n",
       "                <tr class=\"ignore\">\n",
       "                    <th>Missing (%)</th>\n",
       "                    <td>0.0%</td>\n",
       "                </tr>\n",
       "                <tr class=\"ignore\">\n",
       "                    <th>Missing (n)</th>\n",
       "                    <td>0</td>\n",
       "                </tr>\n",
       "                <tr class=\"ignore\">\n",
       "                    <th>Infinite (%)</th>\n",
       "                    <td>0.0%</td>\n",
       "                </tr>\n",
       "                <tr class=\"ignore\">\n",
       "                    <th>Infinite (n)</th>\n",
       "                    <td>0</td>\n",
       "                </tr>\n",
       "            </table>\n",
       "\n",
       "        </div>\n",
       "        <div class=\"col-sm-6\">\n",
       "            <table class=\"stats \">\n",
       "\n",
       "                <tr>\n",
       "                    <th>Mean</th>\n",
       "                    <td>4910</td>\n",
       "                </tr>\n",
       "                <tr>\n",
       "                    <th>Minimum</th>\n",
       "                    <td>33</td>\n",
       "                </tr>\n",
       "                <tr>\n",
       "                    <th>Maximum</th>\n",
       "                    <td>19708130</td>\n",
       "                </tr>\n",
       "                <tr class=\"ignore\">\n",
       "                    <th>Zeros (%)</th>\n",
       "                    <td>0.0%</td>\n",
       "                </tr>\n",
       "            </table>\n",
       "        </div>\n",
       "    </div>\n",
       "</div>\n",
       "<div class=\"col-md-3 collapse in\" id=\"minihistogram-8002852805000781778\">\n",
       "    <img src=\"data:image/png;base64,iVBORw0KGgoAAAANSUhEUgAAAMgAAABLCAYAAAA1fMjoAAAABHNCSVQICAgIfAhkiAAAAAlwSFlzAAAPYQAAD2EBqD%2BnaQAAADl0RVh0U29mdHdhcmUAbWF0cGxvdGxpYiB2ZXJzaW9uIDIuMi4zLCBodHRwOi8vbWF0cGxvdGxpYi5vcmcvIxREBQAAA3pJREFUeJzt2r9LK1kchvF3zLW5mojaxJCAjSkEkcBiZ2WjooWFlRDxf9BCF8RmCws7y2BtZcRqKwOpVwnaBiL4C8Qqo2CE5Gyxq%2BCN%2B/V6NTM3d58PTJFk5pwzZB7CMPGcc04Bu7i4UCqVCnpatLnz83Mlk8lA5/wS6Gz/ikajkv454VgsFsYS0Eaq1apSqdTzdROkUALxPE%2BSFIvFmgL57fc/3z3eX39Mfsq68HN7um6C1BH4jEAbIRDAQCCAgUAAA4EABgIBDAQCGAgEMBAIYCAQwEAggIFAAAOBAAYCAQwEAhgIBDAQCGAgEMBAIICBQAADgQAGAgEMBAIYCAQwEAhgIBDAQCCAgUAAA4EABgIBDAQCGAgEMBAIYCAQwEAggIFAAAOBAAYCAQwEAhgIBDAQCGAgEMBAIICBQAADgQCGL2FM6pyTJFWr1abP6rX7d4/32jj4dTx9v0/XTZBCCcT3fUlSKpX6lPF6tj5lGPzkfN9XT09PoHN6LoQsG42Grq6uFI1G5Xle0NOjzTjn5Pu%2BEomEOjqCvSsIJRCgXXCTDhgIBDAQCD6sWCxqdnZWiURCnudpf3//XcdvbGzI87ymraurq0Ur/n4Egg%2B7v7/X6Oiotre3f%2Bj45eVlXV9fv9iGh4c1Pz//ySv9AQ74RJJcPp9/8V6tVnMrKysukUi4r1%2B/urGxMVcoFP5zjFKp5CS5YrHY4tW%2BLZTnIPh/WVpa0tnZmXZ3d5VIJJTP5zU5OanT01MNDQ017Z/L5ZROpzU%2BPh7Car8RdqH4teibX5Byuew8z3OXl5cv9puYmHCrq6tNxz88PLje3l63ubnZ8rV%2BD35B0FLHx8dyzimdTr94v1arqb%2B/v2n/vb09%2Bb6vbDYb1BJNBIKWajQaikQiOjo6UiQSefFZd3d30/65XE4zMzOKx%2BNBLdFEIGipTCajer2um5ubN%2B8pKpWKCoWCDg4OAlrd2wgEH3Z3d6dyufz8ulKpqFQqqa%2BvT%2Bl0WgsLC8pms9ra2lImk9Ht7a0ODw81MjKi6enp5%2BN2dnY0MDCgqampME7jdWHfBKH9FQoFJ6lpW1xcdM459/j46NbX193g4KDr7Ox08Xjczc3NuZOTk%2Bcx6vW6SyaTbm1tLaSzeB1/VgQMPEkHDAQCGAgEMBAIYCAQwEAggIFAAAOBAAYCAQwEAhj%2BBrQhvoxJzzSWAAAAAElFTkSuQmCC\">\n",
       "\n",
       "</div>\n",
       "<div class=\"col-md-12 text-right\">\n",
       "    <a role=\"button\" data-toggle=\"collapse\" data-target=\"#descriptives-8002852805000781778,#minihistogram-8002852805000781778\"\n",
       "       aria-expanded=\"false\" aria-controls=\"collapseExample\">\n",
       "        Toggle details\n",
       "    </a>\n",
       "</div>\n",
       "<div class=\"row collapse col-md-12\" id=\"descriptives-8002852805000781778\">\n",
       "    <ul class=\"nav nav-tabs\" role=\"tablist\">\n",
       "        <li role=\"presentation\" class=\"active\"><a href=\"#quantiles-8002852805000781778\"\n",
       "                                                  aria-controls=\"quantiles-8002852805000781778\" role=\"tab\"\n",
       "                                                  data-toggle=\"tab\">Statistics</a></li>\n",
       "        <li role=\"presentation\"><a href=\"#histogram-8002852805000781778\" aria-controls=\"histogram-8002852805000781778\"\n",
       "                                   role=\"tab\" data-toggle=\"tab\">Histogram</a></li>\n",
       "        <li role=\"presentation\"><a href=\"#common-8002852805000781778\" aria-controls=\"common-8002852805000781778\"\n",
       "                                   role=\"tab\" data-toggle=\"tab\">Common Values</a></li>\n",
       "        <li role=\"presentation\"><a href=\"#extreme-8002852805000781778\" aria-controls=\"extreme-8002852805000781778\"\n",
       "                                   role=\"tab\" data-toggle=\"tab\">Extreme Values</a></li>\n",
       "\n",
       "    </ul>\n",
       "\n",
       "    <div class=\"tab-content\">\n",
       "        <div role=\"tabpanel\" class=\"tab-pane active row\" id=\"quantiles-8002852805000781778\">\n",
       "            <div class=\"col-md-4 col-md-offset-1\">\n",
       "                <p class=\"h4\">Quantile statistics</p>\n",
       "                <table class=\"stats indent\">\n",
       "                    <tr>\n",
       "                        <th>Minimum</th>\n",
       "                        <td>33</td>\n",
       "                    </tr>\n",
       "                    <tr>\n",
       "                        <th>5-th percentile</th>\n",
       "                        <td>100</td>\n",
       "                    </tr>\n",
       "                    <tr>\n",
       "                        <th>Q1</th>\n",
       "                        <td>111</td>\n",
       "                    </tr>\n",
       "                    <tr>\n",
       "                        <th>Median</th>\n",
       "                        <td>206</td>\n",
       "                    </tr>\n",
       "                    <tr>\n",
       "                        <th>Q3</th>\n",
       "                        <td>1136</td>\n",
       "                    </tr>\n",
       "                    <tr>\n",
       "                        <th>95-th percentile</th>\n",
       "                        <td>16262</td>\n",
       "                    </tr>\n",
       "                    <tr>\n",
       "                        <th>Maximum</th>\n",
       "                        <td>19708130</td>\n",
       "                    </tr>\n",
       "                    <tr>\n",
       "                        <th>Range</th>\n",
       "                        <td>19708097</td>\n",
       "                    </tr>\n",
       "                    <tr>\n",
       "                        <th>Interquartile range</th>\n",
       "                        <td>1025</td>\n",
       "                    </tr>\n",
       "                </table>\n",
       "            </div>\n",
       "            <div class=\"col-md-4 col-md-offset-2\">\n",
       "                <p class=\"h4\">Descriptive statistics</p>\n",
       "                <table class=\"stats indent\">\n",
       "                    <tr>\n",
       "                        <th>Standard deviation</th>\n",
       "                        <td>98336</td>\n",
       "                    </tr>\n",
       "                    <tr>\n",
       "                        <th>Coef of variation</th>\n",
       "                        <td>20.028</td>\n",
       "                    </tr>\n",
       "                    <tr>\n",
       "                        <th>Kurtosis</th>\n",
       "                        <td>37855</td>\n",
       "                    </tr>\n",
       "                    <tr>\n",
       "                        <th>Mean</th>\n",
       "                        <td>4910</td>\n",
       "                    </tr>\n",
       "                    <tr>\n",
       "                        <th>MAD</th>\n",
       "                        <td>7629.4</td>\n",
       "                    </tr>\n",
       "                    <tr class=\"alert\">\n",
       "                        <th>Skewness</th>\n",
       "                        <td>189.14</td>\n",
       "                    </tr>\n",
       "                    <tr>\n",
       "                        <th>Sum</th>\n",
       "                        <td>209079679</td>\n",
       "                    </tr>\n",
       "                    <tr>\n",
       "                        <th>Variance</th>\n",
       "                        <td>9670000000</td>\n",
       "                    </tr>\n",
       "                    <tr>\n",
       "                        <th>Memory size</th>\n",
       "                        <td>332.8 KiB</td>\n",
       "                    </tr>\n",
       "                </table>\n",
       "            </div>\n",
       "        </div>\n",
       "        <div role=\"tabpanel\" class=\"tab-pane col-md-8 col-md-offset-2\" id=\"histogram-8002852805000781778\">\n",
       "            <img src=\"data:image/png;base64,iVBORw0KGgoAAAANSUhEUgAAAlgAAAGQCAYAAAByNR6YAAAABHNCSVQICAgIfAhkiAAAAAlwSFlzAAAPYQAAD2EBqD%2BnaQAAADl0RVh0U29mdHdhcmUAbWF0cGxvdGxpYiB2ZXJzaW9uIDIuMi4zLCBodHRwOi8vbWF0cGxvdGxpYi5vcmcvIxREBQAAIABJREFUeJzs3X9YVHX%2B///HLD8GM5lQhGGUjNokCW0TWgUzLRO0tNraldaalS6jXE0j9F2pn23N9yZWZmWWbWXZtibWGuX70ggqRX0LKgQmZuaWLfgWRE0BzQDpfP/wy7kcQVE7yKD323Wda53Xec7rvF4zwTz2dc4cbIZhGAIAAIBlftXWAwAAADjfELAAAAAsRsACAACwGAELAADAYgQsAAAAixGwAAAALEbAAgAAsBgBCwAAwGIELAAAAIsRsAAAACxGwAIAALAYAQsAAMBiBCwAAACLEbAAAAAsRsACAACwGAELAADAYgQsAAAAixGwAAAALEbAAgAAsBgBCwAAwGIELAAAAIsRsAAAACxGwAIAALAYAQsAAMBiBCwAAACLEbAAAAAsRsACAACwGAELAADAYgQsAAAAixGwAAAALEbAAgAAsBgBCwAAwGIELAAAAIsRsAAAACxGwAIAALAYAQsAAMBiBCwAAACLEbAAAAAs5tvWA7gQ/Pzzz9q9e7c6deokm83W1sMBAOCCYBiGampq5HK59Ktfnds1JQLWObB7926Fh4e39TAAALgglZWVqXv37uf0mASsc6BTp06Sjr3BgYGBbTwaAAAuDNXV1QoPDzc/h88lAtY50HhaMDAwkIAFAMA51haX53CROwAAgMUIWAAAABYjYAEAAFiMgAUAAGAxAhYAAIDFCFgAAAAWI2ABAABYjIAFAABgMQIWAACAxQhYAAAAFiNgAQAAWIyABQAAYDH%2B2HM7Fzs9q62HcNoKnhrW1kMAAOCcYAULAADAYgQsAAAAixGwAAAALEbAAgAAsBgBCwAAwGIELAAAAIsRsAAAACxGwAIAALAYAQsAAMBiBCwAAACLEbAAAAAsRsACAACwGAELAADAYu0iYKWnp8tmsyk1NdVsq62t1cSJExUcHKyOHTvqtttu065duzyeV1paqpEjR6pjx44KDg7WpEmTVFdX51GTm5urmJgYBQQE6PLLL9err77a5PivvPKKIiIiFBAQoJiYGK1du7Z1JgoAAM4LXh%2BwNm3apNdee019%2BvTxaE9NTVVmZqYyMjK0bt06HTp0SCNGjFBDQ4MkqaGhQbfeeqsOHz6sdevWKSMjQ8uWLdPkyZPNPnbu3KlbbrlFAwcOVFFRkaZNm6ZJkyZp2bJlZs3SpUuVmpqq6dOnq6ioSAMHDtTw4cNVWlp6bl4AAADQ7tgMwzDaehAnc%2BjQIfXt21evvPKK/va3v%2Bk3v/mNXnjhBVVVValr16565513lJSUJEnavXu3wsPDtXLlSiUmJurjjz/WiBEjVFZWJpfLJUnKyMhQcnKyKisrFRgYqMcee0zLly/Xtm3bzGOOGzdOmzdvVl5eniSpX79%2B6tu3rxYsWGDW9OrVS3fccYfS09NPax7V1dVyOByqqqpSYGCgVS%2BPJCl2epal/bWmgqeGtfUQAAAXkNb8/G2JV69gTZgwQbfeeqtuvvlmj/bCwkLV19crISHBbHO5XIqOjtb69eslSXl5eYqOjjbDlSQlJiaqtrZWhYWFZs3xfTTWFBQUqL6%2BXnV1dSosLGxSk5CQYB4HAADgRL5tPYCTycjIUGFhoQoKCprsq6iokL%2B/v4KCgjzaQ0NDVVFRYdaEhoZ67A8KCpK/v/8pa0JDQ3X06FHt27dPhmGooaGh2ZrGPppTW1ur2tpa83F1dfVpzBgAAJwvvHIFq6ysTA8//LAWL16sgICA036eYRiy2Wzm4%2BP/fbo1jWdMW6ppru9G6enpcjgc5hYeHn7acwAAAO2fVwaswsJCVVZWKiYmRr6%2BvvL19VVubq7mzZsnX19fhYaGqq6uTgcOHPB4XmVlpbna5HQ6m6wyHThwQPX19aesqayslK%2Bvr7p06aLg4GD5%2BPg0W3Piqtbxpk6dqqqqKnMrKys769cCAAC0P14ZsIYMGaItW7aouLjY3GJjY3XPPfeY//bz81NOTo75nPLycpWUlCg%2BPl6SFBcXp5KSEpWXl5s12dnZstvtiomJMWuO76OxprF/f39/xcTENKnJyckxj9Mcu92uwMBAjw0AAFw4vPIarE6dOik6OtqjrWPHjurSpYvZPnbsWE2ePFldunRR586dNWXKFPXu3du8ID4hIUFRUVFyu9169tln9cMPP2jKlClKSUkxA8%2B4ceM0f/58paWlKSUlRXl5eVq4cKGWLFliHjctLU1ut1uxsbGKi4vTa6%2B9ptLSUo0bN%2B4cvRoAAKC98cqAdTqef/55%2Bfr6atSoUTpy5IiGDBmiRYsWycfHR5Lk4%2BOjFStWaPz48RowYIA6dOig0aNHa86cOWYfERERWrlypR555BG9/PLLcrlcmjdvnu666y6zJikpSfv379fMmTNVXl6u6OhorVy5Uj169DjncwYAAO2DV98H63zBfbCO4T5YAIBziftgAQAAnEcIWAAAABYjYAEAAFiMgAUAAGAxAhYAAIDFCFgAAAAWI2ABAABYjIAFAABgMQIWAACAxQhYAAAAFiNgAQAAWIyABQAAYDECFgAAgMUIWAAAABYjYAEAAFiMgAUAAGAxAhYAAIDFCFgAAAAWI2ABAABYjIAFAABgMQIWAACAxQhYAAAAFiNgAQAAWIyABQAAYDECFgAAgMW8MmAtWLBAffr0UWBgoAIDAxUXF6ePP/7Y3D948GDZbDaP7e677/bo48CBA3K73XI4HHI4HHK73Tp48KBHzZYtWzRo0CB16NBB3bp108yZM2UYhkfNsmXLFBUVJbvdrqioKGVmZrbexAEAwHnBKwNW9%2B7dNXv2bBUUFKigoEA33XSTbr/9dm3dutWsSUlJUXl5ubn9/e9/9%2Bhj9OjRKi4uVlZWlrKyslRcXCy3223ur66u1tChQ%2BVyubRp0ya99NJLmjNnjubOnWvW5OXlKSkpSW63W5s3b5bb7daoUaO0YcOG1n8RAABAu2UzTlyy8VKdO3fWs88%2Bq7Fjx2rw4MH6zW9%2BoxdeeKHZ2m3btikqKkr5%2Bfnq16%2BfJCk/P19xcXH6%2BuuvFRkZqQULFmjq1Knas2eP7Ha7JGn27Nl66aWXtGvXLtlsNiUlJam6utpj9WzYsGEKCgrSkiVLTnvs1dXVcjgcqqqqUmBg4C94FZqKnZ5laX%2BtqeCpYW09BADABaQ1P39b4pUrWMdraGhQRkaGDh8%2BrLi4OLN98eLFCg4O1tVXX60pU6aopqbG3JeXlyeHw2GGK0nq37%2B/HA6H1q9fb9YMGjTIDFeSlJiYqN27d%2Bv77783axISEjzGk5iYaPZxMrW1taqurvbYAADAhcO3rQdwMlu2bFFcXJx%2B%2BuknXXzxxcrMzFRUVJQk6Z577lFERIScTqdKSko0depUbd68WTk5OZKkiooKhYSENOkzJCREFRUVZs1ll13msT80NNTcFxERoYqKCrPt%2BJrGPk4mPT1dTz755FnNGwAAtH9eG7AiIyNVXFysgwcPatmyZRozZoxyc3MVFRWllJQUsy46OlpXXnmlYmNj9cUXX6hv376SJJvN1qRPwzA82k%2BsaTxb2lJNc30fb%2BrUqUpLSzMfV1dXKzw8vKUpAwCA84TXBix/f3/9%2Bte/liTFxsZq06ZNevHFF5tczC5Jffv2lZ%2Bfn3bs2KG%2BffvK6XRqz549Ter27t1rrkg5nc4mK1GVlZWS1GLNiataJ7Lb7R6nHgEAwIXF66/BamQYhmpra5vdt3XrVtXX1yssLEySFBcXp6qqKm3cuNGs2bBhg6qqqhQfH2/WrFmzRnV1dWZNdna2XC6XeeowLi7OPO14fE1jHwAAAM3xyhWsadOmafjw4QoPD1dNTY0yMjK0evVqZWVl6dtvv9XixYt1yy23KDg4WF999ZUmT56sa6%2B9VgMGDJAk9erVS8OGDVNKSoq54vXAAw9oxIgRioyMlHTsNg5PPvmkkpOTNW3aNO3YsUOzZs3SE088YZ4CfPjhh3XDDTfo6aef1u23366PPvpIn376qdatW9c2LwwAAGgXvHIFa8%2BePXK73YqMjNSQIUO0YcMGZWVlaejQofL399dnn32mxMRERUZGatKkSUpISNCnn34qHx8fs4/Fixerd%2B/eSkhIUEJCgvr06aN33nnH3O9wOJSTk6Ndu3YpNjZW48ePV1pamse1U/Hx8crIyNBbb72lPn36aNGiRVq6dKnHtxMBAABO1G7ug9WecR%2BsY7gPFgDgXOI%2BWAAAAOcRAhYAAIDFCFgAAAAWI2ABAABYjIAFAABgMQIWAACAxQhYAAAAFiNgAQAAWIyABQAAYDECFgAAgMUIWAAAABYjYAEAAFiMgAUAAGAxAhYAAIDFCFgAAAAWI2ABAABYjIAFAABgMQIWAACAxQhYAAAAFiNgAQAAWIyABQAAYDECFgAAgMUIWAAAABYjYAEAAFiMgAUAAGAxrw1YCxYsUJ8%2BfRQYGKjAwEDFxcXp448/NvfX1tZq4sSJCg4OVseOHXXbbbdp165dHn2UlpZq5MiR6tixo4KDgzVp0iTV1dV51OTm5iomJkYBAQG6/PLL9eqrrzYZyyuvvKKIiAgFBAQoJiZGa9eubZ1JAwCA84LXBqzu3btr9uzZKigoUEFBgW666Sbdfvvt2rp1qyQpNTVVmZmZysjI0Lp163To0CGNGDFCDQ0NkqSGhgbdeuutOnz4sNatW6eMjAwtW7ZMkydPNo%2Bxc%2BdO3XLLLRo4cKCKioo0bdo0TZo0ScuWLTNrli5dqtTUVE2fPl1FRUUaOHCghg8frtLS0nP7ggAAgHbDZhiG0daDOF2dO3fWs88%2Bq9///vfq2rWr3nnnHSUlJUmSdu/erfDwcK1cuVKJiYn6%2BOOPNWLECJWVlcnlckmSMjIylJycrMrKSgUGBuqxxx7T8uXLtW3bNvMY48aN0%2BbNm5WXlydJ6tevn/r27asFCxaYNb169dIdd9yh9PT00xp3dXW1HA6HqqqqFBgYaNXLIUmKnZ5laX%2BtqeCpYW09BADABaQ1P39b4rUrWMdraGhQRkaGDh8%2BrLi4OBUWFqq%2Bvl4JCQlmjcvlUnR0tNavXy9JysvLU3R0tBmuJCkxMVG1tbUqLCw0a47vo7GmoKBA9fX1qqurU2FhYZOahIQE8zjNqa2tVXV1tccGAAAuHF4dsLZs2aKLL75Ydrtd48aNU2ZmpqKiolRRUSF/f38FBQV51IeGhqqiokKSVFFRodDQUI/9QUFB8vf3P2VNaGiojh49qn379mnfvn1qaGhotqaxj%2Bakp6fL4XCYW3h4%2BFm/BgAAoP3x6oAVGRmp4uJi5efn689//rPGjBmjr7766qT1hmHIZrOZj4//9%2BnWNJ4xbammub4bTZ06VVVVVeZWVlZ20loAAHD%2B8W3rAZyKv7%2B/fv3rX0uSYmNjtWnTJr344otKSkpSXV2dDhw44LGKVVlZqfj4eEmS0%2BnUhg0bPPo7cOCA6uvrzRUpp9PZZCWqsrJSvr6%2B6tKliwzDkI%2BPT7M1J65qHc9ut8tut5/9xAEAQLvm1StYJzIMQ7W1tYqJiZGfn59ycnLMfeXl5SopKTEDVlxcnEpKSlReXm7WZGdny263KyYmxqw5vo/GmtjYWPn5%2Bcnf318xMTFNanJycszjAAAAnMhrV7CmTZum4cOHKzw8XDU1NcrIyNDq1auVlZUlh8OhsWPHavLkyerSpYs6d%2B6sKVOmqHfv3rr55pslHbsQPSoqSm63W88%2B%2B6x%2B%2BOEHTZkyRSkpKeY3CcaNG6f58%2BcrLS1NKSkpysvL08KFC7VkyRJzHGlpaXK73YqNjVVcXJxee%2B01lZaWaty4cW3yugAAAO/ntQFrz549crvdKi8vl8PhUJ8%2BfZSVlaWhQ4dKkp5//nn5%2Bvpq1KhROnLkiIYMGaJFixbJx8dHkuTj46MVK1Zo/PjxGjBggDp06KDRo0drzpw55jEiIiK0cuVKPfLII3r55Zflcrk0b9483XXXXWZNUlKS9u/fr5kzZ6q8vFzR0dFauXKlevTocW5fEAAA0G60q/tgtVfcB%2BsY7oMFADiXuA8WAADAeYSABQAAYDECFgAAgMUIWAAAABYjYAEAAFiMgAUAAGAxAhYAAIDFCFgAAAAWI2ABAABYjIAFAABgMQIWAACAxQhYAAAAFiNgAQAAWIyABQAAYDHLA9Y///lP/fTTT1Z3CwAA0G5YHrDS0tLkdDr14IMPauPGjVZ3DwAA4PUsD1i7d%2B/Wm2%2B%2BqfLycl1//fW6%2Buqr9dxzz2nv3r1WHwoAAMArWR6wfH19deedd2r58uUqLS3VmDFj9Oabb6p79%2B668847tWLFChmGYfVhAQAAvEarXuTudDo1ZMgQDR48WDabTQUFBRo9erSuvPJKrV27tjUPDQAA0GZaJWDt27dPL7zwgq655hoNGDBAlZWV%2BvDDD/Wf//xH//d//6cRI0boT3/6U2scGgAAoM35Wt3h7373O61cuVIRERG6//77NWbMGHXt2tXcf/HFF%2BvRRx/VvHnzrD40AACAV7A8YAUGBurTTz/VwIEDT1oTFhamHTt2WH1oAAAAr2B5wHr77bdbrLHZbLriiiusPjQAAIBXsPwarEceeUTz589v0v7yyy9r8uTJVh8OAADA61gesN5//33179%2B/SXtcXJyWLl1q9eEAAAC8juUBa9%2B%2BfQoKCmrSHhgYqH379p1WH%2Bnp6bruuuvUqVMnhYSE6I477tD27ds9ahpv/XD8dvfdd3vUHDhwQG63Ww6HQw6HQ263WwcPHvSo2bJliwYNGqQOHTqoW7dumjlzZpP7dC1btkxRUVGy2%2B2KiopSZmbmac0DAABcmCwPWFdccYU%2B%2BeSTJu2ffPKJIiIiTquP3NxcTZgwQfn5%2BcrJydHRo0eVkJCgw4cPe9SlpKSovLzc3P7%2B97977B89erSKi4uVlZWlrKwsFRcXy%2B12m/urq6s1dOhQuVwubdq0SS%2B99JLmzJmjuXPnmjV5eXlKSkqS2%2B3W5s2b5Xa7NWrUKG3YsOFMXhYAAHABsfwi99TUVKWmpmr//v266aabJEmfffaZnnnmGc2ZM%2Be0%2BsjKyvJ4/NZbbykkJESFhYW64YYbzPaLLrpITqez2T62bdumrKws5efnq1%2B/fpKk119/XXFxcdq%2BfbsiIyO1ePFi/fTTT1q0aJHsdruio6P1zTffaO7cuUpLS5PNZtMLL7ygoUOHaurUqZKkqVOnKjc3Vy%2B88IKWLFlyxq8PAAA4/1m%2BgpWSkqLZs2frlVde0cCBAzVw4EC98cYbmjdvnsaNG3dWfVZVVUmSOnfu7NG%2BePFiBQcH6%2Bqrr9aUKVNUU1Nj7svLy5PD4TDDlST1799fDodD69evN2sGDRoku91u1iQmJmr37t36/vvvzZqEhASP4yYmJpp9NKe2tlbV1dUeGwAAuHBYvoIlSRMnTtTEiRNVXl6uDh066JJLLjnrvgzDUFpamq6//npFR0eb7ffcc48iIiLkdDpVUlKiqVOnavPmzcrJyZEkVVRUKCQkpEl/ISEhqqioMGsuu%2Bwyj/2hoaHmvoiICFVUVJhtx9c09tGc9PR0Pfnkk2c1XwAA0P61SsBqFBYW9ov7eOihh/Tll19q3bp1Hu0pKSnmv6Ojo3XllVcqNjZWX3zxhfr27Svp2P22TmQYhkf7iTWNF7i3VNNc342mTp2qtLQ083F1dbXCw8NPWg8AAM4vlp8i3Lt3r%2B677z5deumlCggIkL%2B/v8d2JiZOnKjly5dr1apV6t69%2Bylr%2B/btKz8/P/MO8U6nU3v27Gl2fI0rUk6ns8lKVGVlpSS1WHPiqtbx7Ha7AgMDPTYAAHDhsHwFKzk5Wd9%2B%2B63%2B67/%2BS2FhYadc6TkZwzA0ceJEZWZmavXq1af17cOtW7eqvr7eXDWLi4tTVVWVNm7cqN/%2B9reSpA0bNqiqqkrx8fFmzbRp01RXV2eGv%2BzsbLlcLvPUYVxcnHJycvTII4%2BYx8rOzjb7AAAAOJHlAWvNmjVas2aNrr322rPuY8KECXr33Xf10UcfqVOnTuYKksPhUIcOHfTtt99q8eLFuuWWWxQcHKyvvvpKkydP1rXXXqsBAwZIknr16qVhw4YpJSXFvH3DAw88oBEjRigyMlLSsds4PPnkk0pOTta0adO0Y8cOzZo1S0888YQZDB9%2B%2BGHdcMMNevrpp3X77bfro48%2B0qefftrklCUAAEAjy08Rdu/e/axWrY63YMECVVVVafDgwQoLCzO3xjvB%2B/v767PPPlNiYqIiIyM1adIkJSQk6NNPP5WPj4/Zz%2BLFi9W7d28lJCQoISFBffr00TvvvGPudzgcysnJ0a5duxQbG6vx48crLS3N4/qp%2BPh4ZWRk6K233lKfPn20aNEiLV261OPbiQAAAMezGSfetvwXysrK0osvvqjXX3%2B9xeumLhTV1dVyOByqqqqy/Hqs2OlZLRd5iYKnhrX1EAAAF5DW/PxtieWnCN1ut2pqatSjRw8FBgbKz8/PY3/jReQAAADnK8sD1uzZs63uEgAAoF2xPGCNHTvW6i4BAADaFcsvcpek77//XjNmzJDb7TZPCWZnZ2vbtm2tcTgAAACvYnnAWrt2ra6%2B%2Bmrl5ubqvffe06FDhyRJX3zxhZ544gmrDwcAAOB1LA9Yjz32mGbMmKFVq1Z53Ln9pptuUn5%2BvtWHAwAA8DqWB6wvv/xSv//975u0h4SEaO/evVYfDgAAwOtYHrAuueSSJn%2B7T5KKi4vVrVs3qw8HAADgdSwPWHfffbcef/xx7d2717yj%2B4YNGzRlyhTde%2B%2B9Vh8OAADA61gesGbNmiWn06mwsDAdOnRIUVFRio%2BP13XXXae//OUvVh8OAADA61h%2BHyx/f38tXbpU33zzjb744gv9/PPP6tu3r6666iqrDwUAAOCVLA9YjXr27KmePXu2VvcAAABey/KA9cADD5xy/2uvvWb1IQEAALyK5QGrvLzc43F9fb22bt2qmpoa3XDDDVYfDgAAwOtYHrD%2B53/%2Bp0nb0aNH9ec//1m9evWy%2BnAAAABep1X%2BFuGJfH19NWXKFD377LPn4nAAAABt6pwELEn67rvvVF9ff64OBwAA0GYsP0X46KOPejw2DEPl5eVavny57rnnHqsPBwAA4HUsD1h5eXkej3/1q1%2Bpa9eumj17tlJSUqw%2BHAAAgNexPGCtXbvW6i4BAADalXN2DRYAAMCFwvIVrOuuu878I88t2bhxo9WHBwAAaHOWB6wbb7xRf//739WzZ0/FxcVJkvLz87V9%2B3Y9%2BOCDstvtVh8SAADAq1gesA4ePKgJEyZo1qxZHu3Tp0/Xnj179MYbb1h9SAAAAK9i%2BTVY7733nu67774m7cnJyXr//fdPu5/09HRdd9116tSpk0JCQnTHHXdo%2B/btHjW1tbWaOHGigoOD1bFjR912223atWuXR01paalGjhypjh07Kjg4WJMmTVJdXZ1HTW5urmJiYhQQEKDLL79cr776apPxvPLKK4qIiFBAQIBiYmK4mB8AAJyU5QHLbrdr/fr1TdrXr19/RqcHc3NzNWHCBOXn5ysnJ0dHjx5VQkKCDh8%2BbNakpqYqMzNTGRkZWrdunQ4dOqQRI0aooaFBktTQ0KBbb71Vhw8f1rp165SRkaFly5Zp8uTJZh87d%2B7ULbfcooEDB6qoqEjTpk3TpEmTtGzZMrNm6dKlSk1N1fTp01VUVKSBAwdq%2BPDhKi0tPZuXCAAAnOdshmEYVnb41FNP6W9/%2B5sefPBB9e/fX9Kxa7Bef/11TZs2TdOnTz%2Brfvfu3auQkBDl5ubqhhtuUFVVlbp27ap33nlHSUlJkqTdu3crPDxcK1euVGJioj7%2B%2BGONGDFCZWVlcrlckqSMjAwlJyersrJSgYGBeuyxx7R8%2BXJt27bNPNa4ceO0efNm855e/fr1U9%2B%2BfbVgwQKzplevXrrjjjuUnp7e4tirq6vlcDhUVVWlwMDAs5r/ycROz7K0v9ZU8NSwth4CAOAC0pqfvy2xfAVr%2BvTpWrhwofLy8vTAAw/ogQceUF5enl5//fWzDleSVFVVJUnq3LmzJKmwsFD19fVKSEgwa1wul6Kjo80VtLy8PEVHR5vhSpISExNVW1urwsJCs%2Bb4PhprCgoKVF9fr7q6OhUWFjapSUhIaHalDgAAwPKL3CVp9OjRGj16tGX9GYahtLQ0XX/99YqOjpYkVVRUyN/fX0FBQR61oaGhqqioMGtCQ0M99gcFBcnf3/%2BUNaGhoTp69Kj27dsnwzDU0NDQbE1jHyeqra1VbW2t%2Bbi6uvosZg0AANqrVrnRaHV1tRYtWqQnnnhCBw4ckCRt3rxZ5eXlZ9XfQw89pC%2B//FJLlixpsdYwDI/7cDV3T66WahrPmrZUc7L7faWnp8vhcJhbeHh4i%2BMGAADnD8sDVklJiXr27KmZM2cqPT3dDFjvvfeeHn/88TPub%2BLEiVq%2BfLlWrVql7t27m%2B1Op1N1dXVm/40qKyvN1San09lklenAgQOqr68/ZU1lZaV8fX3VpUsXBQcHy8fHp9maE1e1Gk2dOlVVVVXmVlZWdsbzBgAA7ZflAeuRRx7R6NGj9e233yogIMBsv/XWW7VmzZrT7scwDD300EP64IMP9PnnnysiIsJjf0xMjPz8/JSTk2O2lZeXq6SkRPHx8ZKkuLg4lZSUeKycZWdny263KyYmxqw5vo/GmtjYWPn5%2Bcnf318xMTFNanJycszjnMhutyswMNBjAwAAFw7Lr8HatGmTFixY0OT0Wbdu3c7oFOGECRP07rvv6qOPPlKnTp3MFSSHw6EOHTrI4XBo7Nixmjx5srp06aLOnTtrypQp6t27t26%2B%2BWZJxy5Ej4qKktvt1rPPPqsffvhBU6ZMUUpKihl6xo0bp/nz5ystLU0pKSnKy8vTwoULPU5HpqWlye12KzY2VnFxcXrttddUWlqqcePG/dKXCwAAnIcsD1j%2B/v46dOhQk/YdO3YoODj4tPtpvCXC4MGDPdrfeustJScnS5Kef/7g3q/5AAAfpElEQVR5%2Bfr6atSoUTpy5IiGDBmiRYsWycfHR5Lk4%2BOjFStWaPz48RowYIA6dOig0aNHa86cOWZ/ERERWrlypR555BG9/PLLcrlcmjdvnu666y6zJikpSfv379fMmTNVXl6u6OhorVy5Uj169Djt%2BQAAgAuH5ffBuv/%2B%2B3XgwAEtXbpUQUFB%2BvLLL%2BXv76/bb79d8fHxmjdvnpWHaxe4D9Yx3AcLAHAunVf3wXruuee0e/duOZ1OHTlyRDfddJMuv/xyBQQENPn7hAAAAOcjy08ROhwOrV%2B/Xjk5Ofriiy/0888/q2/fvkpMTDzpbQ0AAADOJ5YGrPr6et1yyy165ZVXlJCQ0OTu5wAAABcCS08R%2Bvn5qaioiJUqAABwQbP8Gqx7771Xb731ltXdAgAAtBut8rcI58%2Bfr08//VSxsbHq2LGjx75nnnmmNQ4JAADgNSwPWIWFherTp48k6csvv/TYx6lDAABwIbAsYH333XeKiIjQ2rVrreoSAACgXbLsGqwrr7xSe/fuNR8nJSVpz549VnUPAADQblgWsE68IfzKlSt1%2BPBhq7oHAABoNyz/FiEAAMCFzrKAZbPZmlzEzkXtAADgQmTZRe6GYSg5OVl2u12S9NNPP2ncuHFNbtPwwQcfWHVIAAAAr2RZwBozZozH43vvvdeqrgEAANoVywIWd28HAAA4hovcAQAALEbAAgAAsBgBCwAAwGIELAAAAIsRsAAAACxGwAIAALAYAQsAAMBiBCwAAACLEbAAAAAsRsACAACwmNcGrDVr1mjkyJFyuVyy2Wz68MMPPfYnJyfLZrN5bP379/eoqa2t1cSJExUcHKyOHTvqtttu065duzxqSktLNXLkSHXs2FHBwcGaNGmS6urqPGpyc3MVExOjgIAAXX755Xr11VdbZ9IAAOC84LUB6/Dhw7rmmms0f/78k9YMGzZM5eXl5rZy5UqP/ampqcrMzFRGRobWrVunQ4cOacSIEWpoaJAkNTQ06NZbb9Xhw4e1bt06ZWRkaNmyZZo8ebLZx86dO3XLLbdo4MCBKioq0rRp0zRp0iQtW7asdSYOAADaPcv%2B2LPVhg8fruHDh5%2Byxm63y%2Bl0NruvqqpKCxcu1DvvvKObb75ZkvTPf/5T4eHh%2BvTTT5WYmKjs7Gx99dVXKisrk8vlkiQ999xzSk5O1lNPPaXAwEC9%2BuqruvTSS/XCCy9Iknr16qWCggLNmTNHd911l4UzBgAA5wuvXcE6HatXr1ZISIh69uyplJQUVVZWmvsKCwtVX1%2BvhIQEs83lcik6Olrr16%2BXJOXl5Sk6OtoMV5KUmJio2tpaFRYWmjXH99FYU1BQoPr6%2BtacHgAAaKe8dgWrJcOHD9cf/vAH9ejRQzt37tRf/vIX3XTTTSosLJTdbldFRYX8/f0VFBTk8bzQ0FBVVFRIkioqKhQaGuqxPygoSP7%2B/qesCQ0N1dGjR7Vv3z6FhYU1GVttba1qa2vNx9XV1ZbMGQAAtA/tNmAlJSWZ/46OjlZsbKx69OihFStW6M477zzp8wzDkM1mMx8f/%2B/TrTEM46TPlaT09HQ9%2BeSTpzcRAABw3mnXpwiPFxYWph49emjHjh2SJKfTqbq6Oh04cMCjrrKy0lyRcjqd5kpVowMHDqi%2Bvv6UNZWVlfL19VWXLl2aHcvUqVNVVVVlbmVlZZbMEQAAtA/nTcDav3%2B/ysrKzFN2MTEx8vPzU05OjllTXl6ukpISxcfHS5Li4uJUUlKi8vJysyY7O1t2u10xMTFmzfF9NNbExsbKz8%2Bv2bHY7XYFBgZ6bAAA4MLhtQHr0KFDKi4uVnFxsaRjt0soLi5WaWmpDh06pClTpigvL0/ff/%2B9Vq9erZEjRyo4OFi/%2B93vJEkOh0Njx47V5MmT9dlnn6moqEj33nuvevfubX6rMCEhQVFRUXK73SoqKtJnn32mKVOmKCUlxQxF48aN03/%2B8x%2BlpaVp27ZtevPNN7Vw4UJNmTKlbV4YAADg9bz2GqyCggLdeOON5uO0tDRJ0pgxY7RgwQJt2bJF//jHP3Tw4EGFhYXpxhtv1NKlS9WpUyfzOc8//7x8fX01atQoHTlyREOGDNGiRYvk4%2BMjSfLx8dGKFSs0fvx4DRgwQB06dNDo0aM1Z84cs4%2BIiAitXLlSjzzyiF5%2B%2BWW5XC7NmzePWzQAAICTshmNV2yj1VRXV8vhcKiqqsry04Wx07Ms7a81FTw1rK2HAAC4gLTm529LvPYUIQAAQHtFwAIAALAYAQsAAMBiBCwAAACLEbAAAAAsRsACAACwGAELAADAYgQsAAAAixGwAAAALEbAAgAAsBgBCwAAwGIELAAAAIsRsAAAACxGwAIAALAYAQsAAMBiBCwAAACLEbAAAAAsRsACAACwGAELAADAYgQsAAAAixGwAAAALEbAAgAAsBgBCwAAwGIELAAAAIsRsAAAACzmtQFrzZo1GjlypFwul2w2mz788EOP/YZhaMaMGXK5XOrQoYMGDx6srVu3etQcOHBAbrdbDodDDodDbrdbBw8e9KjZsmWLBg0apA4dOqhbt26aOXOmDMPwqFm2bJmioqJkt9sVFRWlzMzM1pk0AAA4L3htwDp8%2BLCuueYazZ8/v9n9zzzzjObOnav58%2Bdr06ZNcjqdGjp0qGpqasya0aNHq7i4WFlZWcrKylJxcbHcbre5v7q6WkOHDpXL5dKmTZv00ksvac6cOZo7d65Zk5eXp6SkJLndbm3evFlut1ujRo3Shg0bWm/yAACgXbMZJy7XeCGbzabMzEzdcccdko6tXrlcLqWmpuqxxx6TJNXW1io0NFRPP/20HnzwQW3btk1RUVHKz89Xv379JEn5%2BfmKi4vT119/rcjISC1YsEBTp07Vnj17ZLfbJUmzZ8/WSy%2B9pF27dslmsykpKUnV1dX6%2BOOPzfEMGzZMQUFBWrJkyWmNv7q6Wg6HQ1VVVQoMDLTypVHs9CxL%2B2tNBU8Na%2BshAAAuIK35%2BdsSr13BOpWdO3eqoqJCCQkJZpvdbtegQYO0fv16ScdWnhwOhxmuJKl///5yOBweNYMGDTLDlSQlJiZq9%2B7d%2Bv77782a44/TWNPYR3Nqa2tVXV3tsQEAgAtHuwxYFRUVkqTQ0FCP9tDQUHNfRUWFQkJCmjw3JCTEo6a5Po4/xslqGvc3Jz093bzuy%2BFwKDw8/EymBwAA2rl2GbAa2Ww2j8eGYXi0nbj/dGoaz5i2VNNc342mTp2qqqoqcysrKzuN2QAAgPOFb1sP4Gw4nU5Jx1aXwsLCzPbKykpztcnpdGrPnj1Nnrt3716PmhNXoiorKyWpxZoTV7WOZ7fbPU47AgCAC0u7XMGKiIiQ0%2BlUTk6O2VZXV6fc3FzFx8dLkuLi4lRVVaWNGzeaNRs2bFBVVZVHzZo1a1RXV2fWZGdny%2BVy6bLLLjNrjj9OY01jHwAAACfy2oB16NAhFRcXq7i4WNKxC9uLi4tVWloqm82m1NRUzZo1S5mZmSopKVFycrIuuugijR49WpLUq1cvDRs2TCkpKcrPz1d%2Bfr5SUlI0YsQIRUZGSjp2Gwe73a7k5GSVlJQoMzNTs2bNUlpamnkK8OGHH1Z2draefvppff3113r66af16aefKjU1tW1eGAAA4PW89hRhQUGBbrzxRvNxWlqaJGnMmDFatGiRHn30UR05ckTjx4/XgQMH1K9fP2VnZ6tTp07mcxYvXqxJkyaZ3wK87bbbPO6r5XA4lJOTowkTJig2NlZBQUFKS0szjyVJ8fHxysjI0P/7f/9Pf/nLX3TFFVdo6dKlHt9OBAAAOF67uA9We8d9sI7hPlgAgHOJ%2B2ABAACcRwhYAAAAFiNgAQAAWIyABQAAYDECFgAAgMUIWAAAABYjYAEAAFiMgAUAAGAxAhYAAIDFCFgAAAAWI2ABAABYjIAFAABgMQIWAACAxQhYAAAAFiNgAQAAWIyABQAAYDECFgAAgMUIWAAAABYjYAEAAFiMgAUAAGAxAhYAAIDFCFgAAAAWI2ABAABYjIAFAABgMQIWAACAxdptwJoxY4ZsNpvH5nQ6zf2GYWjGjBlyuVzq0KGDBg8erK1bt3r0ceDAAbndbjkcDjkcDrndbh08eNCjZsuWLRo0aJA6dOigbt26aebMmTIM45zMEQAAtE/tNmBJ0tVXX63y8nJz27Jli7nvmWee0dy5czV//nxt2rRJTqdTQ4cOVU1NjVkzevRoFRcXKysrS1lZWSouLpbb7Tb3V1dXa%2BjQoXK5XNq0aZNeeuklzZkzR3Pnzj2n8wQAAO2Lb1sP4Jfw9fX1WLVqZBiGXnjhBU2fPl133nmnJOntt99WaGio3n33XT344IPatm2bsrKylJ%2Bfr379%2BkmSXn/9dcXFxWn79u2KjIzU4sWL9dNPP2nRokWy2%2B2Kjo7WN998o7lz5yotLU02m%2B2czhcAALQP7XoFa8eOHXK5XIqIiNDdd9%2Bt7777TpK0c%2BdOVVRUKCEhway12%2B0aNGiQ1q9fL0nKy8uTw%2BEww5Uk9e/fXw6Hw6Nm0KBBstvtZk1iYqJ2796t77///qTjqq2tVXV1tccGAAAuHO02YPXr10//%2BMc/9Mknn%2Bj1119XRUWF4uPjtX//flVUVEiSQkNDPZ4TGhpq7quoqFBISEiTfkNCQjxqmuujcd/JpKenm9d1ORwOhYeHn/1EAQBAu9NuA9bw4cN11113qXfv3rr55pu1YsUKScdOBTY68RSeYRgebc2d4muppvEC91OdHpw6daqqqqrMrays7AxmBgAA2rt2G7BO1LFjR/Xu3Vs7duwwr8s6cZWpsrLSXIFyOp3as2dPk3727t3rUdNcH1LT1bHj2e12BQYGemwAAODCcd4ErNraWm3btk1hYWGKiIiQ0%2BlUTk6Oub%2Burk65ubmKj4%2BXJMXFxamqqkobN240azZs2KCqqiqPmjVr1qiurs6syc7Olsvl0mWXXXZuJgYAANqddhuwpkyZotzcXO3cuVMbNmzQ73//e1VXV2vMmDGy2WxKTU3VrFmzlJmZqZKSEiUnJ%2Buiiy7S6NGjJUm9evXSsGHDlJKSovz8fOXn5yslJUUjRoxQZGSkpGO3cbDb7UpOTlZJSYkyMzM1a9YsvkEIAABOqd3epmHXrl364x//qH379qlr167q37%2B/8vPz1aNHD0nSo48%2BqiNHjmj8%2BPE6cOCA%2BvXrp%2BzsbHXq1MnsY/HixZo0aZL5bcPbbrtN8%2BfPN/c7HA7l5ORowoQJio2NVVBQkNLS0pSWlnZuJwsAANoVm8FtyVtddXW1HA6HqqqqLL8eK3Z6lqX9taaCp4a19RAAABeQ1vz8bUm7PUUIAADgrQhYAAAAFiNgAQAAWIyABQAAYDECFgAAgMUIWAAAABYjYAEAAFiMgAUAAGAxAhYAAIDFCFgAAAAWI2ABAABYjIAFAABgMQIWAACAxQhYAAAAFiNgAQAAWIyABQAAYDECFgAAgMUIWAAAABYjYAEAAFiMgAUAAGAxAhYAAIDFCFgAAAAWI2ABAABYjIAFAABgMQIWAACAxQhYp%2BmVV15RRESEAgICFBMTo7Vr17b1kAAAgJciYJ2GpUuXKjU1VdOnT1dRUZEGDhyo4cOHq7S0tK2HBgAAvBAB6zTMnTtXY8eO1f33369evXrphRdeUHh4uBYsWNDWQwMAAF7It60H4O3q6upUWFioxx9/3KM9ISFB69evb/Y5tbW1qq2tNR9XVVVJkqqrqy0fX0PtYcv7bC2tMX8AAE6m8XPHMIxzfmwCVgv27dunhoYGhYaGerSHhoaqoqKi2eekp6frySefbNIeHh7eKmNsLxzPtfUIAAAXopqaGjkcjnN6TALWabLZbB6PDcNo0tZo6tSpSktLMx///PPP%2BuGHH9SlS5eTPudsVFdXKzw8XGVlZQoMDLSsX29wPs9NOr/nx9zar/N5fsyt/fol8zMMQzU1NXK5XK00upMjYLUgODhYPj4%2BTVarKisrm6xqNbLb7bLb7R5tl1xySauNMTAw8Lz8oZLO77lJ5/f8mFv7dT7Pj7m1X2c7v3O9ctWIi9xb4O/vr5iYGOXk5Hi05%2BTkKD4%2Bvo1GBQAAvBkrWKchLS1NbrdbsbGxiouL02uvvabS0lKNGzeurYcGAAC8kM%2BMGTNmtPUgvF10dLS6dOmiWbNmac6cOTpy5IjeeecdXXPNNW09NPn4%2BGjw4MHy9T3/svL5PDfp/J4fc2u/zuf5Mbf2qz3Oz2a0xXcXAQAAzmNcgwUAAGAxAhYAAIDFCFgAAAAWI2ABAABYjIDlRV555RVFREQoICBAMTExWrt27Snrly1bpqioKNntdkVFRSkzM9Njv2EYmjFjhlwulzp06KDBgwdr69atrTmFUzqT%2Bb3%2B%2BusaOHCggoKCFBQUpJtvvlkbN270qElOTpbNZvPY%2Bvfv39rTaNaZzG3RokVNxm2z2fTTTz%2BddZ%2Bt6UzGMXjw4Gbnduutt5o13vK%2BrVmzRiNHjpTL5ZLNZtOHH37Y4nNyc3MVExOjgIAAXX755Xr11Veb1HjL%2B3am8/vggw80dOhQde3aVYGBgYqLi9Mnn3ziUTNjxowm753T6WzNaTTrTOe2evXqZv%2B7/Prrrz3qWvqdei6c6dya%2B3my2Wy6%2BuqrzRpved/S09N13XXXqVOnTgoJCdEdd9yh7du3t/i89vZZ14iA5SWWLl2q1NRUTZ8%2BXUVFRRo4cKCGDx%2Bu0tLSZuvz8vKUlJQkt9utzZs3y%2B12a9SoUdqwYYNZ88wzz2ju3LmaP3%2B%2BNm3aJKfTqaFDh6qmpuZcTct0pvNbvXq1/vjHP2rVqlXKy8vTpZdeqoSEBP3f//2fR92wYcNUXl5ubitXrjwX0/FwpnOTjt2R%2BPhxl5eXKyAg4Bf12RrOdBwffPCBx5xKSkrk4%2BOjP/zhDx513vC%2BHT58WNdcc43mz59/WvU7d%2B7ULbfcooEDB6qoqEjTpk3TpEmTtGzZMrPGW9436cznt2bNGg0dOlQrV65UYWGhbrzxRo0cOVJFRUUedVdffbXHe7dly5bWGP4pnencGm3fvt1j7FdeeaW573R%2Bp54LZzq3F1980WNOZWVl6ty5c5OfOW9433JzczVhwgTl5%2BcrJydHR48eVUJCgg4fPnzS57S3zzoPBrzCb3/7W2PcuHEebVdddZXx%2BOOPN1s/atQoY9iwYR5tiYmJxt13320YhmH8/PPPhtPpNGbPnm3u/%2BmnnwyHw2G8%2BuqrFo%2B%2BZWc6vxMdPXrU6NSpk/H222%2BbbWPGjDFuv/12S8d5Ns50bm%2B99ZbhcDgs7bO1/NJxPP/880anTp2MQ4cOmW3e8r4dT5KRmZl5yppHH33UuOqqqzzaHnzwQaN///7mY2953050OvNrTlRUlPHkk0%2Baj//6178a11xzjZVD%2B8VOZ26rVq0yJBkHDhw4aU1Lv1Pbwtm8b5mZmYbNZjO%2B//57s80b3zfDMIzKykpDkpGbm3vSmvb2WXc8VrC8QF1dnQoLC5WQkODRnpCQoPXr1zf7nLy8vCb1iYmJZv3OnTtVUVHhUWO32zVo0KCT9tlazmZ%2BJ/rxxx9VX1%2Bvzp07e7SvXr1aISEh6tmzp1JSUlRZWWnZuE/H2c7t0KFD6tGjh7p3764RI0Z4rBJY8XpZwYpxLFy4UHfffbc6duzo0d7W79vZONnPXEFBgerr673mfbPKzz//rJqamiY/czt27JDL5VJERITuvvtufffdd200wjN37bXXKiwsTEOGDNGqVas89rX0O7W9WLhwoW6%2B%2BWb16NHDo90b37eqqipJavLf2PHa02fdiQhYXmDfvn1qaGho8sejQ0NDm/yR6UYVFRWnrG/83zPps7WczfxO9Pjjj6tbt266%2Beabzbbhw4dr8eLF%2Bvzzz/Xcc89p06ZNuummm1RbW2vp%2BE/lbOZ21VVXadGiRVq%2BfLmWLFmigIAADRgwQDt27DjrPlvDLx3Hxo0bVVJSovvvv9%2Bj3Rvet7Nxsp%2B5o0ePat%2B%2BfV7zvlnlueee0%2BHDhzVq1CizrV%2B/fvrHP/6hTz75RK%2B//roqKioUHx%2Bv/fv3t%2BFIWxYWFqbXXntNy5Yt0wcffKDIyEgNGTJEa9asMWta%2Bp3aHpSXl%2Bvjjz9u8jPnje%2BbYRhKS0vT9ddfr%2Bjo6JPWtafPuhO1n3vOXwBsNpvHY8MwmrSdaf2Z9tmaznYszzzzjJYsWaLVq1d7XKeUlJRk/js6OlqxsbHq0aOHVqxYoTvvvNO6gZ%2BGM5lb//79PS7qHjBggPr27auXXnpJ8%2BbNO6s%2BW9PZjmPhwoWKjo7Wb3/7W492b3rfzlRzr0Vj%2B/H/PrGmrX7mztaSJUs0Y8YMffTRRwoJCTHbhw8fbv67d%2B/eiouL0xVXXKG3335baWlpbTHU0xIZGanIyEjzcVxcnMrKyjRnzhzdcMMNZnt7f%2B8WLVqkSy65RHfccYdHuze%2Bbw899JC%2B/PJLrVu3rsXa9vZZ14gVLC8QHBwsHx%2BfJmm7srKySSpv5HQ6T1nf%2BA2RM%2BmztZzN/BrNmTNHs2bNUnZ2tvr06XPK2rCwMPXo0cNcCToXfsncGv3qV7/SddddZ47bij6t8EvG8eOPPyojI6PJ/5NuTlu8b2fjZD9zvr6%2B6tKli9e8b7/U0qVLNXbsWL333nseK8bN6dixo3r37u31711z%2Bvfv7zHuln6nejvDMPTmm2/K7XbL39//lLVt/b5NnDhRy5cv16pVq9S9e/dT1ranz7oTEbC8gL%2B/v2JiYpSTk%2BPRnpOTo/j4%2BGafExcX16Q%2BOzvbrI%2BIiJDT6fSoqaurU25u7kn7bC1nMz9JevbZZ/Xf//3fysrKUmxsbIvH2b9/v8rKyhQWFvaLx3y6znZuxzMMQ8XFxea4rejTCr9kHO%2B9955qa2t17733tnictnjfzsbJfuZiY2Pl5%2BfnNe/bL7FkyRIlJyfr3Xff9bi1xsnU1tZq27ZtXv/eNaeoqMhj3C39TvV2ubm5%2Bve//62xY8e2WNtW75thGHrooYf0wQcf6PPPP1dERESLz2lPn3VNnPPL6tGsjIwMw8/Pz1i4cKHx1VdfGampqUbHjh3Nb4K43W6PbyL97//%2Br%2BHj42PMnj3b2LZtmzF79mzD19fXyM/PN2tmz55tOBwO44MPPjC2bNli/PGPfzTCwsKM6upqr5/f008/bfj7%2Bxv/%2Bte/jPLycnOrqakxDMMwampqjMmTJxvr1683du7caaxatcqIi4szunXrds7nd6ZzmzFjhpGVlWV8%2B%2B23RlFRkXHfffcZvr6%2BxoYNG067T2%2BdW6Prr7/eSEpKatLuTe9bTU2NUVRUZBQVFRmSjLlz5xpFRUXGf/7zH8MwDOPxxx833G63Wf/dd98ZF110kfHII48YX331lbFw4ULDz8/P%2BNe//mXWeMv7djbze/fddw1fX1/j5Zdf9viZO3jwoFkzefJkY/Xq1cZ3331n5OfnGyNGjDA6dep0zud3pnN7/vnnjczMTOObb74xSkpKjMcff9yQZCxbtsysOZ3fqd44t0b33nuv0a9fv2b79Jb37c9//rPhcDiM1atXe/w39uOPP5o17f2z7ngELC/y8ssvGz169DD8/f2Nvn37enx1ddCgQcaYMWM86t9//30jMjLS8PPzM6666iqPXxaGcezrq3/9618Np9Np2O1244YbbjC2bNlyLqbSrDOZX48ePQxJTba//vWvhmEYxo8//mgkJCQYXbt2Nfz8/IxLL73UGDNmjFFaWnqOZ3XMmcwtNTXVuPTSSw1/f3%2Bja9euRkJCgrF%2B/foz6vNcOtP/Lrdv325IMrKzs5v05U3vW%2BNX90/cGuczZswYY9CgQR7PWb16tXHttdca/v7%2BxmWXXWYsWLCgSb/e8r6d6fwGDRp0ynrDMIykpCQjLCzM8PPzM1wul3HnnXcaW7duPbcTM858bk8//bRxxRVXGAEBAUZQUJBx/fXXGytWrGjSb0u/U8%2BFs/nv8uDBg0aHDh2M1157rdk%2BveV9a25ekoy33nrLrDkfPusa2Qzj/78yEwAAAJbgGiwAAACLEbAAAAAsRsACAACwGAELAADAYgQsAAAAixGwAAAALEbAAgAAsBgBCwAAtIk1a9Zo5MiRcrlcstls%2BvDDD8/o%2BTNmzJDNZmuydezYsZVGfPoIWAAAoE0cPnxY11xzjebPn39Wz58yZYrKy8s9tqioKP3hD3%2BweKRnjoAFAADaxPDhw/W3v/1Nd955Z7P76%2Brq9Oijj6pbt27q2LGj%2BvXrp9WrV5v7L774YjmdTnPbs2ePvvrqq9P6o9etzbetBwAAANCc%2B%2B67T99//70yMjLkcrmUmZmpYcOGacuWLbryyiub1L/xxhvq2bOnBg4c2Aaj9cQKFgAA8DrffvutlixZovfff18DBw7UFVdcoSlTpuj666/XW2%2B91aS%2BtrZWixcv9orVK4kVLAAA4IW%2B%2BOILGYahnj17erTX1taqS5cuTeo/%2BOAD1dTU6E9/%2BtO5GuIpEbAAAIDX%2Bfnnn%2BXj46PCwkL5%2BPh47Lv44oub1L/xxhsaMWKEnE7nuRriKRGwAACA17n22mvV0NCgysrKFq%2Bp2rlzp1atWqXly5efo9G1jIAFAADaxKFDh/Tvf//bfLxz504VFxerc%2BfO6tmzp%2B655x796U9/0nPPPadrr71W%2B/bt0%2Beff67/rz07NmEwBKIA/DKDlZUT3ACWljqEziLoGiJO4jJOYWGKQJokXchf5H3lwcF73cGJCEIIz73WGrTW8N5fUeOt2znnXB2CiIiI/s%2BcE865l3lKCb137L1RSsEYA2stKKVgrUXOGSIC4PFKNMYgxoha668rfMQDi4iIiOjL7lwSWoLUnTGKAAAAAElFTkSuQmCC\"/>\n",
       "        </div>\n",
       "        <div role=\"tabpanel\" class=\"tab-pane col-md-12\" id=\"common-8002852805000781778\">\n",
       "            \n",
       "<table class=\"freq table table-hover\">\n",
       "    <thead>\n",
       "    <tr>\n",
       "        <td class=\"fillremaining\">Value</td>\n",
       "        <td class=\"number\">Count</td>\n",
       "        <td class=\"number\">Frequency (%)</td>\n",
       "        <td style=\"min-width:200px\">&nbsp;</td>\n",
       "    </tr>\n",
       "    </thead>\n",
       "    <tr class=\"\">\n",
       "        <td class=\"fillremaining\">101</td>\n",
       "        <td class=\"number\">2076</td>\n",
       "        <td class=\"number\">4.9%</td>\n",
       "        <td>\n",
       "            <div class=\"bar\" style=\"width:7%\">&nbsp;</div>\n",
       "        </td>\n",
       "</tr><tr class=\"\">\n",
       "        <td class=\"fillremaining\">100</td>\n",
       "        <td class=\"number\">1735</td>\n",
       "        <td class=\"number\">4.1%</td>\n",
       "        <td>\n",
       "            <div class=\"bar\" style=\"width:6%\">&nbsp;</div>\n",
       "        </td>\n",
       "</tr><tr class=\"\">\n",
       "        <td class=\"fillremaining\">102</td>\n",
       "        <td class=\"number\">1247</td>\n",
       "        <td class=\"number\">2.9%</td>\n",
       "        <td>\n",
       "            <div class=\"bar\" style=\"width:4%\">&nbsp;</div>\n",
       "        </td>\n",
       "</tr><tr class=\"\">\n",
       "        <td class=\"fillremaining\">103</td>\n",
       "        <td class=\"number\">1032</td>\n",
       "        <td class=\"number\">2.4%</td>\n",
       "        <td>\n",
       "            <div class=\"bar\" style=\"width:4%\">&nbsp;</div>\n",
       "        </td>\n",
       "</tr><tr class=\"\">\n",
       "        <td class=\"fillremaining\">105</td>\n",
       "        <td class=\"number\">879</td>\n",
       "        <td class=\"number\">2.1%</td>\n",
       "        <td>\n",
       "            <div class=\"bar\" style=\"width:3%\">&nbsp;</div>\n",
       "        </td>\n",
       "</tr><tr class=\"\">\n",
       "        <td class=\"fillremaining\">106</td>\n",
       "        <td class=\"number\">634</td>\n",
       "        <td class=\"number\">1.5%</td>\n",
       "        <td>\n",
       "            <div class=\"bar\" style=\"width:2%\">&nbsp;</div>\n",
       "        </td>\n",
       "</tr><tr class=\"\">\n",
       "        <td class=\"fillremaining\">111</td>\n",
       "        <td class=\"number\">548</td>\n",
       "        <td class=\"number\">1.3%</td>\n",
       "        <td>\n",
       "            <div class=\"bar\" style=\"width:2%\">&nbsp;</div>\n",
       "        </td>\n",
       "</tr><tr class=\"\">\n",
       "        <td class=\"fillremaining\">107</td>\n",
       "        <td class=\"number\">533</td>\n",
       "        <td class=\"number\">1.3%</td>\n",
       "        <td>\n",
       "            <div class=\"bar\" style=\"width:2%\">&nbsp;</div>\n",
       "        </td>\n",
       "</tr><tr class=\"\">\n",
       "        <td class=\"fillremaining\">108</td>\n",
       "        <td class=\"number\">533</td>\n",
       "        <td class=\"number\">1.3%</td>\n",
       "        <td>\n",
       "            <div class=\"bar\" style=\"width:2%\">&nbsp;</div>\n",
       "        </td>\n",
       "</tr><tr class=\"\">\n",
       "        <td class=\"fillremaining\">113</td>\n",
       "        <td class=\"number\">474</td>\n",
       "        <td class=\"number\">1.1%</td>\n",
       "        <td>\n",
       "            <div class=\"bar\" style=\"width:2%\">&nbsp;</div>\n",
       "        </td>\n",
       "</tr><tr class=\"other\">\n",
       "        <td class=\"fillremaining\">Other values (6483)</td>\n",
       "        <td class=\"number\">32891</td>\n",
       "        <td class=\"number\">77.2%</td>\n",
       "        <td>\n",
       "            <div class=\"bar\" style=\"width:100%\">&nbsp;</div>\n",
       "        </td>\n",
       "</tr>\n",
       "</table>\n",
       "        </div>\n",
       "        <div role=\"tabpanel\" class=\"tab-pane col-md-12\"  id=\"extreme-8002852805000781778\">\n",
       "            <p class=\"h4\">Minimum 5 values</p>\n",
       "            \n",
       "<table class=\"freq table table-hover\">\n",
       "    <thead>\n",
       "    <tr>\n",
       "        <td class=\"fillremaining\">Value</td>\n",
       "        <td class=\"number\">Count</td>\n",
       "        <td class=\"number\">Frequency (%)</td>\n",
       "        <td style=\"min-width:200px\">&nbsp;</td>\n",
       "    </tr>\n",
       "    </thead>\n",
       "    <tr class=\"\">\n",
       "        <td class=\"fillremaining\">33</td>\n",
       "        <td class=\"number\">4</td>\n",
       "        <td class=\"number\">0.0%</td>\n",
       "        <td>\n",
       "            <div class=\"bar\" style=\"width:50%\">&nbsp;</div>\n",
       "        </td>\n",
       "</tr><tr class=\"\">\n",
       "        <td class=\"fillremaining\">35</td>\n",
       "        <td class=\"number\">8</td>\n",
       "        <td class=\"number\">0.0%</td>\n",
       "        <td>\n",
       "            <div class=\"bar\" style=\"width:100%\">&nbsp;</div>\n",
       "        </td>\n",
       "</tr><tr class=\"\">\n",
       "        <td class=\"fillremaining\">36</td>\n",
       "        <td class=\"number\">7</td>\n",
       "        <td class=\"number\">0.0%</td>\n",
       "        <td>\n",
       "            <div class=\"bar\" style=\"width:87%\">&nbsp;</div>\n",
       "        </td>\n",
       "</tr><tr class=\"\">\n",
       "        <td class=\"fillremaining\">37</td>\n",
       "        <td class=\"number\">1</td>\n",
       "        <td class=\"number\">0.0%</td>\n",
       "        <td>\n",
       "            <div class=\"bar\" style=\"width:13%\">&nbsp;</div>\n",
       "        </td>\n",
       "</tr><tr class=\"\">\n",
       "        <td class=\"fillremaining\">38</td>\n",
       "        <td class=\"number\">4</td>\n",
       "        <td class=\"number\">0.0%</td>\n",
       "        <td>\n",
       "            <div class=\"bar\" style=\"width:50%\">&nbsp;</div>\n",
       "        </td>\n",
       "</tr>\n",
       "</table>\n",
       "            <p class=\"h4\">Maximum 5 values</p>\n",
       "            \n",
       "<table class=\"freq table table-hover\">\n",
       "    <thead>\n",
       "    <tr>\n",
       "        <td class=\"fillremaining\">Value</td>\n",
       "        <td class=\"number\">Count</td>\n",
       "        <td class=\"number\">Frequency (%)</td>\n",
       "        <td style=\"min-width:200px\">&nbsp;</td>\n",
       "    </tr>\n",
       "    </thead>\n",
       "    <tr class=\"\">\n",
       "        <td class=\"fillremaining\">597846</td>\n",
       "        <td class=\"number\">1</td>\n",
       "        <td class=\"number\">0.0%</td>\n",
       "        <td>\n",
       "            <div class=\"bar\" style=\"width:25%\">&nbsp;</div>\n",
       "        </td>\n",
       "</tr><tr class=\"\">\n",
       "        <td class=\"fillremaining\">621536</td>\n",
       "        <td class=\"number\">1</td>\n",
       "        <td class=\"number\">0.0%</td>\n",
       "        <td>\n",
       "            <div class=\"bar\" style=\"width:25%\">&nbsp;</div>\n",
       "        </td>\n",
       "</tr><tr class=\"\">\n",
       "        <td class=\"fillremaining\">647835</td>\n",
       "        <td class=\"number\">4</td>\n",
       "        <td class=\"number\">0.0%</td>\n",
       "        <td>\n",
       "            <div class=\"bar\" style=\"width:100%\">&nbsp;</div>\n",
       "        </td>\n",
       "</tr><tr class=\"\">\n",
       "        <td class=\"fillremaining\">1331792</td>\n",
       "        <td class=\"number\">1</td>\n",
       "        <td class=\"number\">0.0%</td>\n",
       "        <td>\n",
       "            <div class=\"bar\" style=\"width:25%\">&nbsp;</div>\n",
       "        </td>\n",
       "</tr><tr class=\"\">\n",
       "        <td class=\"fillremaining\">19708130</td>\n",
       "        <td class=\"number\">1</td>\n",
       "        <td class=\"number\">0.0%</td>\n",
       "        <td>\n",
       "            <div class=\"bar\" style=\"width:25%\">&nbsp;</div>\n",
       "        </td>\n",
       "</tr>\n",
       "</table>\n",
       "        </div>\n",
       "    </div>\n",
       "</div>\n",
       "</div><div class=\"row variablerow\">\n",
       "    <div class=\"col-md-3 namecol\">\n",
       "        <p class=\"h4 pp-anchor\" id=\"pp_var_SalesPersonID\">SalesPersonID<br/>\n",
       "            <small>Categorical</small>\n",
       "        </p>\n",
       "    </div><div class=\"col-md-3\">\n",
       "    <table class=\"stats \">\n",
       "        <tr class=\"alert\">\n",
       "            <th>Distinct count</th>\n",
       "            <td>992</td>\n",
       "        </tr>\n",
       "        <tr>\n",
       "            <th>Unique (%)</th>\n",
       "            <td>2.3%</td>\n",
       "        </tr>\n",
       "        <tr class=\"ignore\">\n",
       "            <th>Missing (%)</th>\n",
       "            <td>0.0%</td>\n",
       "        </tr>\n",
       "        <tr class=\"ignore\">\n",
       "            <th>Missing (n)</th>\n",
       "            <td>0</td>\n",
       "        </tr>\n",
       "    </table>\n",
       "</div>\n",
       "<div class=\"col-md-6 collapse in\" id=\"minifreqtable-6792233378368755815\">\n",
       "    <table class=\"mini freq\">\n",
       "        <tr class=\"\">\n",
       "    <th>C21976</th>\n",
       "    <td>\n",
       "        <div class=\"bar\" style=\"width:4%\" data-toggle=\"tooltip\" data-placement=\"right\" data-html=\"true\"\n",
       "             data-delay=500 title=\"Percentage: 3.2%\">\n",
       "            &nbsp;\n",
       "        </div>\n",
       "        1359\n",
       "    </td>\n",
       "</tr><tr class=\"\">\n",
       "    <th>C22030</th>\n",
       "    <td>\n",
       "        <div class=\"bar\" style=\"width:2%\" data-toggle=\"tooltip\" data-placement=\"right\" data-html=\"true\"\n",
       "             data-delay=500 title=\"Percentage: 1.2%\">\n",
       "            &nbsp;\n",
       "        </div>\n",
       "        525\n",
       "    </td>\n",
       "</tr><tr class=\"\">\n",
       "    <th>C21898</th>\n",
       "    <td>\n",
       "        <div class=\"bar\" style=\"width:2%\" data-toggle=\"tooltip\" data-placement=\"right\" data-html=\"true\"\n",
       "             data-delay=500 title=\"Percentage: 1.2%\">\n",
       "            &nbsp;\n",
       "        </div>\n",
       "        508\n",
       "    </td>\n",
       "</tr><tr class=\"other\">\n",
       "    <th>Other values (989)</th>\n",
       "    <td>\n",
       "        <div class=\"bar\" style=\"width:100%\" data-toggle=\"tooltip\" data-placement=\"right\" data-html=\"true\"\n",
       "             data-delay=500 title=\"Percentage: 94.4%\">\n",
       "            40190\n",
       "        </div>\n",
       "        \n",
       "    </td>\n",
       "</tr>\n",
       "    </table>\n",
       "</div>\n",
       "<div class=\"col-md-12 text-right\">\n",
       "    <a role=\"button\" data-toggle=\"collapse\" data-target=\"#freqtable-6792233378368755815, #minifreqtable-6792233378368755815\"\n",
       "       aria-expanded=\"true\" aria-controls=\"collapseExample\">\n",
       "        Toggle details\n",
       "    </a>\n",
       "</div>\n",
       "<div class=\"col-md-12 extrapadding collapse\" id=\"freqtable-6792233378368755815\">\n",
       "    \n",
       "<table class=\"freq table table-hover\">\n",
       "    <thead>\n",
       "    <tr>\n",
       "        <td class=\"fillremaining\">Value</td>\n",
       "        <td class=\"number\">Count</td>\n",
       "        <td class=\"number\">Frequency (%)</td>\n",
       "        <td style=\"min-width:200px\">&nbsp;</td>\n",
       "    </tr>\n",
       "    </thead>\n",
       "    <tr class=\"\">\n",
       "        <td class=\"fillremaining\">C21976</td>\n",
       "        <td class=\"number\">1359</td>\n",
       "        <td class=\"number\">3.2%</td>\n",
       "        <td>\n",
       "            <div class=\"bar\" style=\"width:4%\">&nbsp;</div>\n",
       "        </td>\n",
       "</tr><tr class=\"\">\n",
       "        <td class=\"fillremaining\">C22030</td>\n",
       "        <td class=\"number\">525</td>\n",
       "        <td class=\"number\">1.2%</td>\n",
       "        <td>\n",
       "            <div class=\"bar\" style=\"width:2%\">&nbsp;</div>\n",
       "        </td>\n",
       "</tr><tr class=\"\">\n",
       "        <td class=\"fillremaining\">C21898</td>\n",
       "        <td class=\"number\">508</td>\n",
       "        <td class=\"number\">1.2%</td>\n",
       "        <td>\n",
       "            <div class=\"bar\" style=\"width:2%\">&nbsp;</div>\n",
       "        </td>\n",
       "</tr><tr class=\"\">\n",
       "        <td class=\"fillremaining\">C21636</td>\n",
       "        <td class=\"number\">488</td>\n",
       "        <td class=\"number\">1.1%</td>\n",
       "        <td>\n",
       "            <div class=\"bar\" style=\"width:2%\">&nbsp;</div>\n",
       "        </td>\n",
       "</tr><tr class=\"\">\n",
       "        <td class=\"fillremaining\">C22322</td>\n",
       "        <td class=\"number\">476</td>\n",
       "        <td class=\"number\">1.1%</td>\n",
       "        <td>\n",
       "            <div class=\"bar\" style=\"width:2%\">&nbsp;</div>\n",
       "        </td>\n",
       "</tr><tr class=\"\">\n",
       "        <td class=\"fillremaining\">C21864</td>\n",
       "        <td class=\"number\">435</td>\n",
       "        <td class=\"number\">1.0%</td>\n",
       "        <td>\n",
       "            <div class=\"bar\" style=\"width:2%\">&nbsp;</div>\n",
       "        </td>\n",
       "</tr><tr class=\"\">\n",
       "        <td class=\"fillremaining\">C22185</td>\n",
       "        <td class=\"number\">397</td>\n",
       "        <td class=\"number\">0.9%</td>\n",
       "        <td>\n",
       "            <div class=\"bar\" style=\"width:2%\">&nbsp;</div>\n",
       "        </td>\n",
       "</tr><tr class=\"\">\n",
       "        <td class=\"fillremaining\">C21453</td>\n",
       "        <td class=\"number\">383</td>\n",
       "        <td class=\"number\">0.9%</td>\n",
       "        <td>\n",
       "            <div class=\"bar\" style=\"width:2%\">&nbsp;</div>\n",
       "        </td>\n",
       "</tr><tr class=\"\">\n",
       "        <td class=\"fillremaining\">C22339</td>\n",
       "        <td class=\"number\">372</td>\n",
       "        <td class=\"number\">0.9%</td>\n",
       "        <td>\n",
       "            <div class=\"bar\" style=\"width:1%\">&nbsp;</div>\n",
       "        </td>\n",
       "</tr><tr class=\"\">\n",
       "        <td class=\"fillremaining\">C21178</td>\n",
       "        <td class=\"number\">353</td>\n",
       "        <td class=\"number\">0.8%</td>\n",
       "        <td>\n",
       "            <div class=\"bar\" style=\"width:1%\">&nbsp;</div>\n",
       "        </td>\n",
       "</tr><tr class=\"other\">\n",
       "        <td class=\"fillremaining\">Other values (982)</td>\n",
       "        <td class=\"number\">37286</td>\n",
       "        <td class=\"number\">87.6%</td>\n",
       "        <td>\n",
       "            <div class=\"bar\" style=\"width:100%\">&nbsp;</div>\n",
       "        </td>\n",
       "</tr>\n",
       "</table>\n",
       "</div>\n",
       "</div><div class=\"row variablerow\">\n",
       "    <div class=\"col-md-3 namecol\">\n",
       "        <p class=\"h4 pp-anchor\" id=\"pp_var_Suspicious\">Suspicious<br/>\n",
       "            <small>Categorical</small>\n",
       "        </p>\n",
       "    </div><div class=\"col-md-3\">\n",
       "    <table class=\"stats \">\n",
       "        <tr class=\"\">\n",
       "            <th>Distinct count</th>\n",
       "            <td>3</td>\n",
       "        </tr>\n",
       "        <tr>\n",
       "            <th>Unique (%)</th>\n",
       "            <td>0.0%</td>\n",
       "        </tr>\n",
       "        <tr class=\"ignore\">\n",
       "            <th>Missing (%)</th>\n",
       "            <td>0.0%</td>\n",
       "        </tr>\n",
       "        <tr class=\"ignore\">\n",
       "            <th>Missing (n)</th>\n",
       "            <td>0</td>\n",
       "        </tr>\n",
       "    </table>\n",
       "</div>\n",
       "<div class=\"col-md-6 collapse in\" id=\"minifreqtable-7768714343621299429\">\n",
       "    <table class=\"mini freq\">\n",
       "        <tr class=\"\">\n",
       "    <th>indeterminate</th>\n",
       "    <td>\n",
       "        <div class=\"bar\" style=\"width:100%\" data-toggle=\"tooltip\" data-placement=\"right\" data-html=\"true\"\n",
       "             data-delay=500 title=\"Percentage: 93.6%\">\n",
       "            39846\n",
       "        </div>\n",
       "        \n",
       "    </td>\n",
       "</tr><tr class=\"\">\n",
       "    <th>No</th>\n",
       "    <td>\n",
       "        <div class=\"bar\" style=\"width:7%\" data-toggle=\"tooltip\" data-placement=\"right\" data-html=\"true\"\n",
       "             data-delay=500 title=\"Percentage: 6.0%\">\n",
       "            &nbsp;\n",
       "        </div>\n",
       "        2555\n",
       "    </td>\n",
       "</tr><tr class=\"\">\n",
       "    <th>Yes</th>\n",
       "    <td>\n",
       "        <div class=\"bar\" style=\"width:1%\" data-toggle=\"tooltip\" data-placement=\"right\" data-html=\"true\"\n",
       "             data-delay=500 title=\"Percentage: 0.4%\">\n",
       "            &nbsp;\n",
       "        </div>\n",
       "        181\n",
       "    </td>\n",
       "</tr>\n",
       "    </table>\n",
       "</div>\n",
       "<div class=\"col-md-12 text-right\">\n",
       "    <a role=\"button\" data-toggle=\"collapse\" data-target=\"#freqtable-7768714343621299429, #minifreqtable-7768714343621299429\"\n",
       "       aria-expanded=\"true\" aria-controls=\"collapseExample\">\n",
       "        Toggle details\n",
       "    </a>\n",
       "</div>\n",
       "<div class=\"col-md-12 extrapadding collapse\" id=\"freqtable-7768714343621299429\">\n",
       "    \n",
       "<table class=\"freq table table-hover\">\n",
       "    <thead>\n",
       "    <tr>\n",
       "        <td class=\"fillremaining\">Value</td>\n",
       "        <td class=\"number\">Count</td>\n",
       "        <td class=\"number\">Frequency (%)</td>\n",
       "        <td style=\"min-width:200px\">&nbsp;</td>\n",
       "    </tr>\n",
       "    </thead>\n",
       "    <tr class=\"\">\n",
       "        <td class=\"fillremaining\">indeterminate</td>\n",
       "        <td class=\"number\">39846</td>\n",
       "        <td class=\"number\">93.6%</td>\n",
       "        <td>\n",
       "            <div class=\"bar\" style=\"width:100%\">&nbsp;</div>\n",
       "        </td>\n",
       "</tr><tr class=\"\">\n",
       "        <td class=\"fillremaining\">No</td>\n",
       "        <td class=\"number\">2555</td>\n",
       "        <td class=\"number\">6.0%</td>\n",
       "        <td>\n",
       "            <div class=\"bar\" style=\"width:7%\">&nbsp;</div>\n",
       "        </td>\n",
       "</tr><tr class=\"\">\n",
       "        <td class=\"fillremaining\">Yes</td>\n",
       "        <td class=\"number\">181</td>\n",
       "        <td class=\"number\">0.4%</td>\n",
       "        <td>\n",
       "            <div class=\"bar\" style=\"width:1%\">&nbsp;</div>\n",
       "        </td>\n",
       "</tr>\n",
       "</table>\n",
       "</div>\n",
       "</div><div class=\"row variablerow\">\n",
       "    <div class=\"col-md-3 namecol\">\n",
       "        <p class=\"h4 pp-anchor\" id=\"pp_var_TotalSalesValue\">TotalSalesValue<br/>\n",
       "            <small>Numeric</small>\n",
       "        </p>\n",
       "    </div><div class=\"col-md-6\">\n",
       "    <div class=\"row\">\n",
       "        <div class=\"col-sm-6\">\n",
       "            <table class=\"stats \">\n",
       "                <tr>\n",
       "                    <th>Distinct count</th>\n",
       "                    <td>7665</td>\n",
       "                </tr>\n",
       "                <tr>\n",
       "                    <th>Unique (%)</th>\n",
       "                    <td>18.0%</td>\n",
       "                </tr>\n",
       "                <tr class=\"ignore\">\n",
       "                    <th>Missing (%)</th>\n",
       "                    <td>0.0%</td>\n",
       "                </tr>\n",
       "                <tr class=\"ignore\">\n",
       "                    <th>Missing (n)</th>\n",
       "                    <td>0</td>\n",
       "                </tr>\n",
       "                <tr class=\"ignore\">\n",
       "                    <th>Infinite (%)</th>\n",
       "                    <td>0.0%</td>\n",
       "                </tr>\n",
       "                <tr class=\"ignore\">\n",
       "                    <th>Infinite (n)</th>\n",
       "                    <td>0</td>\n",
       "                </tr>\n",
       "            </table>\n",
       "\n",
       "        </div>\n",
       "        <div class=\"col-sm-6\">\n",
       "            <table class=\"stats \">\n",
       "\n",
       "                <tr>\n",
       "                    <th>Mean</th>\n",
       "                    <td>16209</td>\n",
       "                </tr>\n",
       "                <tr>\n",
       "                    <th>Minimum</th>\n",
       "                    <td>598</td>\n",
       "                </tr>\n",
       "                <tr>\n",
       "                    <th>Maximum</th>\n",
       "                    <td>3953985</td>\n",
       "                </tr>\n",
       "                <tr class=\"ignore\">\n",
       "                    <th>Zeros (%)</th>\n",
       "                    <td>0.0%</td>\n",
       "                </tr>\n",
       "            </table>\n",
       "        </div>\n",
       "    </div>\n",
       "</div>\n",
       "<div class=\"col-md-3 collapse in\" id=\"minihistogram-2418151083934517415\">\n",
       "    <img src=\"data:image/png;base64,iVBORw0KGgoAAAANSUhEUgAAAMgAAABLCAYAAAA1fMjoAAAABHNCSVQICAgIfAhkiAAAAAlwSFlzAAAPYQAAD2EBqD%2BnaQAAADl0RVh0U29mdHdhcmUAbWF0cGxvdGxpYiB2ZXJzaW9uIDIuMi4zLCBodHRwOi8vbWF0cGxvdGxpYi5vcmcvIxREBQAAAZxJREFUeJzt1zGO01AUhtHraFo7fRTvgkWwJ2pK9sMi2EWiLMAWBQV5FBCaQb80UvQ8Rue0lu59lt9XeGitterser3WPM%2B917Jzl8ulzudz150vXbf9MY5jVf1%2B4WmatjgCO7IsS83z/Pfe9LRJIMMwVFXVNE2vAvnw6eub5337/PEp5%2BJ9e9ybng7dN8KOCAQCgUAgEAgEAoFAIBAIBAKBQCAQCAQCgUAgEAgEAoFAIBAIBAKBQCAQCAQCgUAgEAgEAoFAIBAIBAKBQCAQCAQCgUAgEAgEAoFAIBAIBAKBQCAQCAQCgUAgEAgEAoFAIBAIBAKBQCAQCAQCgUAgEAgEAsHLFktba1VVtSzLq2c/f3x/87x/zeH/8fi%2Bj3vT0yaBrOtaVVXzPD9l3vHLU8bwzq3rWsfjsevOoW2Q5f1%2Br9vtVuM41jAMvdezM621Wte1TqdTHQ59/wo2CQT2wk86BAKBQCAQCAQCgUAgEAgEAoFAIBAIBAKBQCAQCAQCgUAgEAgEAoFAIBAIBAKBQCAQCAQCgUAgEAgEAsEvUiRAcfImNfQAAAAASUVORK5CYII%3D\">\n",
       "\n",
       "</div>\n",
       "<div class=\"col-md-12 text-right\">\n",
       "    <a role=\"button\" data-toggle=\"collapse\" data-target=\"#descriptives-2418151083934517415,#minihistogram-2418151083934517415\"\n",
       "       aria-expanded=\"false\" aria-controls=\"collapseExample\">\n",
       "        Toggle details\n",
       "    </a>\n",
       "</div>\n",
       "<div class=\"row collapse col-md-12\" id=\"descriptives-2418151083934517415\">\n",
       "    <ul class=\"nav nav-tabs\" role=\"tablist\">\n",
       "        <li role=\"presentation\" class=\"active\"><a href=\"#quantiles-2418151083934517415\"\n",
       "                                                  aria-controls=\"quantiles-2418151083934517415\" role=\"tab\"\n",
       "                                                  data-toggle=\"tab\">Statistics</a></li>\n",
       "        <li role=\"presentation\"><a href=\"#histogram-2418151083934517415\" aria-controls=\"histogram-2418151083934517415\"\n",
       "                                   role=\"tab\" data-toggle=\"tab\">Histogram</a></li>\n",
       "        <li role=\"presentation\"><a href=\"#common-2418151083934517415\" aria-controls=\"common-2418151083934517415\"\n",
       "                                   role=\"tab\" data-toggle=\"tab\">Common Values</a></li>\n",
       "        <li role=\"presentation\"><a href=\"#extreme-2418151083934517415\" aria-controls=\"extreme-2418151083934517415\"\n",
       "                                   role=\"tab\" data-toggle=\"tab\">Extreme Values</a></li>\n",
       "\n",
       "    </ul>\n",
       "\n",
       "    <div class=\"tab-content\">\n",
       "        <div role=\"tabpanel\" class=\"tab-pane active row\" id=\"quantiles-2418151083934517415\">\n",
       "            <div class=\"col-md-4 col-md-offset-1\">\n",
       "                <p class=\"h4\">Quantile statistics</p>\n",
       "                <table class=\"stats indent\">\n",
       "                    <tr>\n",
       "                        <th>Minimum</th>\n",
       "                        <td>598</td>\n",
       "                    </tr>\n",
       "                    <tr>\n",
       "                        <th>5-th percentile</th>\n",
       "                        <td>1030</td>\n",
       "                    </tr>\n",
       "                    <tr>\n",
       "                        <th>Q1</th>\n",
       "                        <td>1345</td>\n",
       "                    </tr>\n",
       "                    <tr>\n",
       "                        <th>Median</th>\n",
       "                        <td>2980</td>\n",
       "                    </tr>\n",
       "                    <tr>\n",
       "                        <th>Q3</th>\n",
       "                        <td>10765</td>\n",
       "                    </tr>\n",
       "                    <tr>\n",
       "                        <th>95-th percentile</th>\n",
       "                        <td>65500</td>\n",
       "                    </tr>\n",
       "                    <tr>\n",
       "                        <th>Maximum</th>\n",
       "                        <td>3953985</td>\n",
       "                    </tr>\n",
       "                    <tr>\n",
       "                        <th>Range</th>\n",
       "                        <td>3953387</td>\n",
       "                    </tr>\n",
       "                    <tr>\n",
       "                        <th>Interquartile range</th>\n",
       "                        <td>9420</td>\n",
       "                    </tr>\n",
       "                </table>\n",
       "            </div>\n",
       "            <div class=\"col-md-4 col-md-offset-2\">\n",
       "                <p class=\"h4\">Descriptive statistics</p>\n",
       "                <table class=\"stats indent\">\n",
       "                    <tr>\n",
       "                        <th>Standard deviation</th>\n",
       "                        <td>59972</td>\n",
       "                    </tr>\n",
       "                    <tr>\n",
       "                        <th>Coef of variation</th>\n",
       "                        <td>3.6999</td>\n",
       "                    </tr>\n",
       "                    <tr>\n",
       "                        <th>Kurtosis</th>\n",
       "                        <td>765.69</td>\n",
       "                    </tr>\n",
       "                    <tr>\n",
       "                        <th>Mean</th>\n",
       "                        <td>16209</td>\n",
       "                    </tr>\n",
       "                    <tr>\n",
       "                        <th>MAD</th>\n",
       "                        <td>20224</td>\n",
       "                    </tr>\n",
       "                    <tr class=\"alert\">\n",
       "                        <th>Skewness</th>\n",
       "                        <td>20.054</td>\n",
       "                    </tr>\n",
       "                    <tr>\n",
       "                        <th>Sum</th>\n",
       "                        <td>690221427</td>\n",
       "                    </tr>\n",
       "                    <tr>\n",
       "                        <th>Variance</th>\n",
       "                        <td>3596600000</td>\n",
       "                    </tr>\n",
       "                    <tr>\n",
       "                        <th>Memory size</th>\n",
       "                        <td>332.8 KiB</td>\n",
       "                    </tr>\n",
       "                </table>\n",
       "            </div>\n",
       "        </div>\n",
       "        <div role=\"tabpanel\" class=\"tab-pane col-md-8 col-md-offset-2\" id=\"histogram-2418151083934517415\">\n",
       "            <img src=\"data:image/png;base64,iVBORw0KGgoAAAANSUhEUgAAAlgAAAGQCAYAAAByNR6YAAAABHNCSVQICAgIfAhkiAAAAAlwSFlzAAAPYQAAD2EBqD%2BnaQAAADl0RVh0U29mdHdhcmUAbWF0cGxvdGxpYiB2ZXJzaW9uIDIuMi4zLCBodHRwOi8vbWF0cGxvdGxpYi5vcmcvIxREBQAAIABJREFUeJzs3X9clHW%2B//8nATMSwSyKgKOsUVskoW7CfnQo0zJBU6tTu%2BlqrOxpKU/mj9BTi54t82xim1lrlm2dNtuOG%2B4u0XZuGivuFuYKKigGaq2nLHAFUcNBPQpI7%2B8ffrlujqBQXSqjj/vtNrebc12veV%2Bv91zjjeftuq65JsAYYwQAAADbXHahGwAAALjYELAAAABsRsACAACwGQELAADAZgQsAAAAmxGwAAAAbEbAAgAAsBkBCwAAwGYELAAAAJsRsAAAAGxGwAIAALAZAQsAAMBmBCwAAACbEbAAAABsRsACAACwGQELAADAZgQsAAAAmxGwAAAAbEbAAgAAsBkBCwAAwGYELAAAAJsRsAAAAGxGwAIAALAZAQsAAMBmBCwAAACbEbAAAABsRsACAACwGQELAADAZgQsAAAAmxGwAAAAbEbAAgAAsBkBCwAAwGYELAAAAJsRsAAAAGxGwAIAALAZAQsAAMBmBCwAAACbEbAAAABsFnShG7gUfPXVV9q7d6/CwsIUEBBwodsBAOCSYIzR4cOH5Xa7ddll5/eYEgHrPNi7d69iY2MvdBsAAFySqqur1adPn/O6TQLWeRAWFibp5A4ODw%2B/wN0AAHBpaGhoUGxsrPV3%2BHwiYJ0HracFw8PDCVgAAJxnF%2BLyHC5yBwAAsBkBCwAAwGYELAAAAJsRsAAAAGxGwAIAALAZAQsAAMBmBCwAAACbEbAAAABsRsACAACwGQELAADAZgQsAAAAmxGwAAAAbMaPPfu55LkFF7qFTit9atSFbgEAgPOCI1gAAAA2I2ABAADYjIAFAABgMwIWAACAzQhYAAAANiNgAQAA2IyABQAAYDMCFgAAgM0IWAAAADYjYAEAANiMgAUAAGAzAhYAAIDN/CJg5eTkKCAgQDNnzrSWNTY2atq0aYqMjFRoaKjuuOMO7dmzx%2Bd1VVVVGjdunEJDQxUZGanp06erqanJp6aoqEhJSUnq1q2brrrqKr388stttv/SSy8pLi5O3bp1U1JSkj788MNzM1EAAHBR6PIBa/PmzXrllVc0YMAAn%2BUzZ85Ufn6%2BcnNztX79eh05ckRjx45VS0uLJKmlpUVjxozR0aNHtX79euXm5iovL0%2BzZs2yxti9e7duv/12DR06VFu3btWcOXM0ffp05eXlWTUrV67UzJkzNXfuXG3dulVDhw7V6NGjVVVVdX7eAAAA4HcCjDHmQjdxJkeOHNGgQYP00ksv6Ze//KW%2B//3v6/nnn5fX61XPnj315ptvavz48ZKkvXv3KjY2VqtXr1ZaWpree%2B89jR07VtXV1XK73ZKk3NxcZWRkqK6uTuHh4Xrsscf07rvvaufOndY2p0yZom3btqm4uFiSNHjwYA0aNEjLli2zavr166e77rpLOTk5nZpHQ0ODXC6XvF6vwsPD7Xp7JEnJcwtsHe9cKn1q1IVuAQBwCTmXf3870qWPYE2dOlVjxozRbbfd5rO8rKxMzc3NSk1NtZa53W4lJiZqw4YNkqTi4mIlJiZa4UqS0tLS1NjYqLKyMqvm1DFaa0pLS9Xc3KympiaVlZW1qUlNTbW2AwAAcLqgC93AmeTm5qqsrEylpaVt1tXW1srhcCgiIsJneXR0tGpra62a6Ohon/URERFyOBxnrYmOjtaJEyd04MABGWPU0tLSbk3rGO1pbGxUY2Oj9byhoaETMwYAABeLLnkEq7q6WjNmzNCKFSvUrVu3Tr/OGKOAgADr%2Ban/7mxN6xnTjmraG7tVTk6OXC6X9YiNje30HAAAgP/rkgGrrKxMdXV1SkpKUlBQkIKCglRUVKQlS5YoKChI0dHRampqUn19vc/r6urqrKNNMTExbY4y1dfXq7m5%2Baw1dXV1CgoKUo8ePRQZGanAwMB2a04/qnWq7Oxseb1e61FdXf2N3wsAAOB/umTAGjFihCoqKlReXm49kpOTNWnSJOvfwcHBKiwstF5TU1OjyspKpaSkSJI8Ho8qKytVU1Nj1axZs0ZOp1NJSUlWzaljtNa0ju9wOJSUlNSmprCw0NpOe5xOp8LDw30eAADg0tElr8EKCwtTYmKiz7LQ0FD16NHDWn7//fdr1qxZ6tGjh7p3767Zs2erf//%2B1gXxqampSkhIUHp6up555hl9%2BeWXmj17tjIzM63AM2XKFC1dulRZWVnKzMxUcXGxXnvtNb311lvWdrOyspSenq7k5GR5PB698sorqqqq0pQpU87TuwEAAPxNlwxYnfHcc88pKChI9957r44dO6YRI0Zo%2BfLlCgwMlCQFBgZq1apVeuihh3TjjTcqJCREEydO1KJFi6wx4uLitHr1aj3yyCN68cUX5Xa7tWTJEt1zzz1Wzfjx43Xw4EHNnz9fNTU1SkxM1OrVq9W3b9/zPmcAAOAfuvR9sC4W3AfrJO6DBQA4n7gPFgAAwEWEgAUAAGAzAhYAAIDNCFgAAAA2I2ABAADYjIAFAABgMwIWAACAzQhYAAAANiNgAQAA2IyABQAAYDMCFgAAgM0IWAAAADYjYAEAANiMgAUAAGAzAhYAAIDNCFgAAAA2I2ABAADYjIAFAABgMwIWAACAzQhYAAAANiNgAQAA2IyABQAAYDMCFgAAgM0IWAAAADYjYAEAANisSwasZcuWacCAAQoPD1d4eLg8Ho/ee%2B89a/3w4cMVEBDg85gwYYLPGPX19UpPT5fL5ZLL5VJ6eroOHTrkU1NRUaFhw4YpJCREvXv31vz582WM8anJy8tTQkKCnE6nEhISlJ%2Bff%2B4mDgAALgpdMmD16dNHCxcuVGlpqUpLS3Xrrbfqzjvv1Pbt262azMxM1dTUWI/f/OY3PmNMnDhR5eXlKigoUEFBgcrLy5Wenm6tb2ho0MiRI%2BV2u7V582a98MILWrRokRYvXmzVFBcXa/z48UpPT9e2bduUnp6ue%2B%2B9Vxs3bjz3bwIAAPBbAeb0QzZdVPfu3fXMM8/o/vvv1/Dhw/X9739fzz//fLu1O3fuVEJCgkpKSjR48GBJUklJiTwejz7%2B%2BGPFx8dr2bJlys7O1r59%2B%2BR0OiVJCxcu1AsvvKA9e/YoICBA48ePV0NDg8/Rs1GjRikiIkJvvfVWp3tvaGiQy%2BWS1%2BtVeHj4t3gX2kqeW2DreOdS6VOjLnQLAIBLyLn8%2B9uRLnkE61QtLS3Kzc3V0aNH5fF4rOUrVqxQZGSkrr/%2Bes2ePVuHDx%2B21hUXF8vlclnhSpKGDBkil8ulDRs2WDXDhg2zwpUkpaWlae/evfr888%2BtmtTUVJ9%2B0tLSrDEAAADaE3ShGziTiooKeTweHT9%2BXFdccYXy8/OVkJAgSZo0aZLi4uIUExOjyspKZWdna9u2bSosLJQk1dbWKioqqs2YUVFRqq2ttWquvPJKn/XR0dHWuri4ONXW1lrLTq1pHeNMGhsb1djYaD1vaGj4epMHAAB%2BrcsGrPj4eJWXl%2BvQoUPKy8vT5MmTVVRUpISEBGVmZlp1iYmJuuaaa5ScnKwtW7Zo0KBBkqSAgIA2YxpjfJafXtN6trSjmvbGPlVOTo6efPLJTs4UAABcbLrsKUKHw6Hvfe97Sk5OVk5OjgYOHKhf//rX7dYOGjRIwcHB2rVrlyQpJiZG%2B/bta1O3f/9%2B64hUTExMmyNRdXV1ktRhzelHtU6XnZ0tr9drPaqrqzsxYwAAcLHosgHrdMYYn9Nup9q%2Bfbuam5vVq1cvSZLH45HX69WmTZusmo0bN8rr9SolJcWqWbdunZqamqyaNWvWyO12W6cOPR6Pddrx1JrWMc7E6XRat5hofQAAgEtHlzxFOGfOHI0ePVqxsbE6fPiwcnNz9cEHH6igoECffvqpVqxYodtvv12RkZHasWOHZs2apRtuuEE33nijJKlfv34aNWqUMjMzrds3PPDAAxo7dqzi4%2BMlnbyNw5NPPqmMjAzNmTNHu3bt0oIFC/T4449bpwBnzJihm2%2B%2BWU8//bTuvPNO/fnPf9batWu1fv36C/PGAAAAv9Alj2Dt27dP6enpio%2BP14gRI7Rx40YVFBRo5MiRcjgc%2Butf/6q0tDTFx8dr%2BvTpSk1N1dq1axUYGGiNsWLFCvXv31%2BpqalKTU3VgAED9Oabb1rrXS6XCgsLtWfPHiUnJ%2Buhhx5SVlaWsrKyrJqUlBTl5ubq9ddf14ABA7R8%2BXKtXLnS59uJAAAAp/Ob%2B2D5M%2B6DdRL3wQIAnE/cBwsAAOAiQsACAACwGQELAADAZgQsAAAAmxGwAAAAbEbAAgAAsBkBCwAAwGYELAAAAJsRsAAAAGxGwAIAALAZAQsAAMBmBCwAAACbEbAAAABsRsACAACwGQELAADAZgQsAAAAmxGwAAAAbEbAAgAAsBkBCwAAwGYELAAAAJsRsAAAAGxGwAIAALAZAQsAAMBmBCwAAACbEbAAAABs1mUD1rJlyzRgwACFh4crPDxcHo9H7733nrW%2BsbFR06ZNU2RkpEJDQ3XHHXdoz549PmNUVVVp3LhxCg0NVWRkpKZPn66mpiafmqKiIiUlJalbt2666qqr9PLLL7fp5aWXXlJcXJy6deumpKQkffjhh%2Bdm0gAA4KLQZQNWnz59tHDhQpWWlqq0tFS33nqr7rzzTm3fvl2SNHPmTOXn5ys3N1fr16/XkSNHNHbsWLW0tEiSWlpaNGbMGB09elTr169Xbm6u8vLyNGvWLGsbu3fv1u23366hQ4dq69atmjNnjqZPn668vDyrZuXKlZo5c6bmzp2rrVu3aujQoRo9erSqqqrO7xsCAAD8RoAxxlzoJjqre/fueuaZZ/TDH/5QPXv21Jtvvqnx48dLkvbu3avY2FitXr1aaWlpeu%2B99zR27FhVV1fL7XZLknJzc5WRkaG6ujqFh4frscce07vvvqudO3da25gyZYq2bdum4uJiSdLgwYM1aNAgLVu2zKrp16%2Bf7rrrLuXk5HSq74aGBrlcLnm9XoWHh9v1dkiSkucW2DreuVT61KgL3QIA4BJyLv/%2BdqTLHsE6VUtLi3Jzc3X06FF5PB6VlZWpublZqampVo3b7VZiYqI2bNggSSouLlZiYqIVriQpLS1NjY2NKisrs2pOHaO1prS0VM3NzWpqalJZWVmbmtTUVGs7AAAApwu60A2cTUVFhTwej44fP64rrrhC%2Bfn5SkhIUHl5uRwOhyIiInzqo6OjVVtbK0mqra1VdHS0z/qIiAg5HI6z1kRHR%2BvEiRM6cOCAjDFqaWlpt6Z1jPY0NjaqsbHRet7Q0PD1Jw8AAPxWlz6CFR8fr/LycpWUlOjf/u3fNHnyZO3YseOM9cYYBQQEWM9P/Xdna1rPmHZU097YrXJycuRyuaxHbGzsGWsBAMDFp0sHLIfDoe9973tKTk5WTk6OBg4cqF//%2BteKiYlRU1OT6uvrferr6uqso00xMTFtjjLV19erubn5rDV1dXUKCgpSjx49FBkZqcDAwHZrTj%2Bqdars7Gx5vV7rUV1d/Y3fAwAA4H%2B6dMA6nTFGjY2NSkpKUnBwsAoLC611NTU1qqysVEpKiiTJ4/GosrJSNTU1Vs2aNWvkdDqVlJRk1Zw6RmtNcnKygoOD5XA4lJSU1KamsLDQ2k57nE6ndXuJ1gcAALh0dNlrsObMmaPRo0crNjZWhw8fVm5urj744AMVFBTI5XLp/vvv16xZs9SjRw91795ds2fPVv/%2B/XXbbbdJOnkhekJCgtLT0/XMM8/oyy%2B/1OzZs5WZmWkFnilTpmjp0qXKyspSZmamiouL9dprr%2Bmtt96y%2BsjKylJ6erqSk5Pl8Xj0yiuvqKqqSlOmTLkg7wsAAOj6umzA2rdvn9LT01VTUyOXy6UBAwaooKBAI0eOlCQ999xzCgoK0r333qtjx45pxIgRWr58uQIDAyVJgYGBWrVqlR566CHdeOONCgkJ0cSJE7Vo0SJrG3FxcVq9erUeeeQRvfjii3K73VqyZInuueceq2b8%2BPE6ePCg5s%2Bfr5qaGiUmJmr16tXq27fv%2BX1DAACA3/Cr%2B2D5K%2B6DdRL3wQIAnE/cBwsAAOAiQsACAACwGQELAADAZgQsAAAAmxGwAAAAbEbAAgAAsBkBCwAAwGYELAAAAJsRsAAAAGxGwAIAALAZAQsAAMBmBCwAAACbEbAAAABsRsACAACwGQELAADAZrYHrP/%2B7//W8ePH7R4WAADAb9gesLKyshQTE6MHH3xQmzZtsnt4AACALs/2gLV371799re/VU1NjW666SZdf/31evbZZ7V//367NwUAANAl2R6wgoKCdPfdd%2Bvdd99VVVWVJk%2BerN/%2B9rfq06eP7r77bq1atUrGGLs3CwAA0GWc04vcY2JiNGLECA0fPlwBAQEqLS3VxIkTdc011%2BjDDz88l5sGAAC4YM5JwDpw4ICef/55DRw4UDfeeKPq6ur0zjvv6IsvvtA///lPjR07Vj/5yU/OxaYBAAAuuCC7B/yXf/kXrV69WnFxcfrZz36myZMnq2fPntb6K664Qo8%2B%2BqiWLFli96YBAAC6BNsDVnh4uNauXauhQ4eesaZXr17atWuX3ZsGAADoEmwPWG%2B88UaHNQEBAbr66qvt3jQAAECXYPs1WI888oiWLl3aZvmLL76oWbNm2b05AACALsf2gPXHP/5RQ4YMabPc4/Fo5cqVnRojJydHP/jBDxQWFqaoqCjddddd%2BuSTT3xqWr%2BZeOpjwoQJPjX19fVKT0%2BXy%2BWSy%2BVSenq6Dh065FNTUVGhYcOGKSQkRL1799b8%2BfPb3EYiLy9PCQkJcjqdSkhIUH5%2BfqfmAQAALk22B6wDBw4oIiKizfLw8HAdOHCgU2MUFRVp6tSpKikpUWFhoU6cOKHU1FQdPXrUpy4zM1M1NTXW4ze/%2BY3P%2BokTJ6q8vFwFBQUqKChQeXm50tPTrfUNDQ0aOXKk3G63Nm/erBdeeEGLFi3S4sWLrZri4mKNHz9e6enp2rZtm9LT03Xvvfdq48aNX%2BdtAQAAlxDbr8G6%2Buqr9Ze//EUPPfSQz/K//OUviouL69QYBQUFPs9ff/11RUVFqaysTDfffLO1/PLLL1dMTEy7Y%2BzcuVMFBQUqKSnR4MGDJUmvvvqqPB6PPvnkE8XHx2vFihU6fvy4li9fLqfTqcTERP3jH//Q4sWLlZWVpYCAAD3//PMaOXKksrOzJUnZ2dkqKirS888/r7feeqvT7wsAALh02H4Ea%2BbMmfr3f/93/ed//qf%2B/ve/6%2B9//7vmz5%2Bvxx57TDNmzPhGY3q9XklS9%2B7dfZavWLFCkZGRuv766zV79mwdPnzYWldcXCyXy2WFK0kaMmSIXC6XNmzYYNUMGzZMTqfTqklLS9PevXv1%2BeefWzWpqak%2B201LS7PGAAAAOJ3tR7AyMzN1/PhxLViwQE888YQkqU%2BfPlqyZIn%2B9V//9WuPZ4xRVlaWbrrpJiUmJlrLJ02apLi4OMXExKiyslLZ2dnatm2bCgsLJUm1tbWKiopqM15UVJRqa2utmiuvvNJnfXR0tLUuLi5OtbW11rJTa1rHaE9jY6MaGxut5w0NDV9v0gAAwK/ZHrAkadq0aZo2bZpqamoUEhKi73znO994rIcfflgfffSR1q9f77M8MzPT%2BndiYqKuueYaJScna8uWLRo0aJCkk7eDOJ0xxmf56TWtF7h3VNPe2K1ycnL05JNPdjQ1AABwkTqnv0XYq1evbxWupk2bpnfffVfvv/%2B%2B%2BvTpc9baQYMGKTg42LqBaUxMjPbt29embv/%2B/dYRqZiYmDZHourq6iSpw5rTj2qdKjs7W16v13pUV1d3MFMAAHAxsT1g7d%2B/Xz/96U/13e9%2BV926dZPD4fB5dIYxRg8//LDefvtt/e1vf%2BvUxfHbt29Xc3OzevXqJenkbSG8Xq82bdpk1WzcuFFer1cpKSlWzbp169TU1GTVrFmzRm632zp16PF4rNOOp9a0jtEep9Op8PBwnwcAALh02H6KMCMjQ59%2B%2Bqn%2B/d//Xb169TrrqbQzmTp1qn7/%2B9/rz3/%2Bs8LCwqwjSC6XSyEhIfr000%2B1YsUK3X777YqMjNSOHTs0a9Ys3XDDDbrxxhslSf369dOoUaOUmZlp3b7hgQce0NixYxUfHy/p5G0cnnzySWVkZGjOnDnatWuXFixYoMcff9zqe8aMGbr55pv19NNP684779Sf//xnrV27ts0pSwAAgFYB5vS7an5LYWFhWrdunW644YZvPMaZQtnrr7%2BujIwMVVdX67777lNlZaWOHDmi2NhYjRkzRk888YTPNw2//PJLTZ8%2BXe%2B%2B%2B64k6Y477tDSpUt9TltWVFRo6tSp2rRpkyIiIjRlyhSfgCVJf/rTn/Qf//Ef%2Buyzz3T11Vfrqaee0t13393p%2BTQ0NMjlcsnr9dp%2BNCt5bkHHRV1E6VOjLnQLAIBLyLn8%2B9sR2wNWv3799NZbb%2Bn73/%2B%2BncP6NQLWSQQsAMD5dCEDlu3XYD333HPKzs7Wnj177B4aAADAL9h%2BDVZ6eroOHz6svn37Kjw8XMHBwT7rW7%2BlBwAAcLGyPWAtXLjQ7iEBAAD8iu0B6/7777d7SAAAAL9yTm40%2Bvnnn2vevHlKT0%2B3TgmuWbNGO3fuPBebAwAA6FJsD1gffvihrr/%2BehUVFekPf/iDjhw5IknasmWLHn/8cbs3BwAA0OXYHrAee%2BwxzZs3T%2B%2B//77PndtvvfVWlZSU2L05AACALsf2gPXRRx/phz/8YZvlUVFR2r9/v92bAwAA6HJsD1jf%2Bc532vw4siSVl5erd%2B/edm8OAACgy7E9YE2YMEE///nPtX//fuvnZjZu3KjZs2frvvvus3tzAAAAXY7tAWvBggWKiYlRr169dOTIESUkJCglJUU/%2BMEP9Itf/MLuzQEAAHQ5tt8Hy%2BFwaOXKlfrHP/6hLVu26KuvvtKgQYN03XXX2b0pAACALsn2gNXq2muv1bXXXnuuhgcAAOiybA9YDzzwwFnXv/LKK3ZvEgAAoEuxPWDV1NT4PG9ubtb27dt1%2BPBh3XzzzXZvDgAAoMuxPWD9z//8T5tlJ06c0L/927%2BpX79%2Bdm8OAACgyzknv0V4uqCgIM2ePVvPPPPM%2BdgcAADABXVeApYkffbZZ2pubj5fmwMAALhgbD9F%2BOijj/o8N8aopqZG7777riZNmmT35gAAALoc2wNWcXGxz/PLLrtMPXv21MKFC5WZmWn35gAAALoc2wPWhx9%2BaPeQAAAAfuW8XYMFAABwqbD9CNYPfvAD60eeO7Jp0ya7Nw8AAHDB2R6wbrnlFv3mN7/RtddeK4/HI0kqKSnRJ598ogcffFBOp9PuTQIAAHQptgesQ4cOaerUqVqwYIHP8rlz52rfvn36r//6L7s3CQAA0KXYfg3WH/7wB/30pz9tszwjI0N//OMfOz1OTk6OfvCDHygsLExRUVG666679Mknn/jUNDY2atq0aYqMjFRoaKjuuOMO7dmzx6emqqpK48aNU2hoqCIjIzV9%2BnQ1NTX51BQVFSkpKUndunXTVVddpZdffrlNPy%2B99JLi4uLUrVs3JSUlcTE/AAA4I9sDltPp1IYNG9os37Bhw9c6PVhUVKSpU6eqpKREhYWFOnHihFJTU3X06FGrZubMmcrPz1dubq7Wr1%2BvI0eOaOzYsWppaZEktbS0aMyYMTp69KjWr1%2Bv3Nxc5eXladasWdYYu3fv1u23366hQ4dq69atmjNnjqZPn668vDyrZuXKlZo5c6bmzp2rrVu3aujQoRo9erSqqqq%2ByVsEAAAucgHGGGPngE899ZR%2B%2Bctf6sEHH9SQIUMknbwG69VXX9WcOXM0d%2B7cbzTu/v37FRUVpaKiIt18883yer3q2bOn3nzzTY0fP16StHfvXsXGxmr16tVKS0vTe%2B%2B9p7Fjx6q6ulput1uSlJubq4yMDNXV1Sk8PFyPPfaY3n33Xe3cudPa1pQpU7Rt2zbrnl6DBw/WoEGDtGzZMqumX79%2Buuuuu5STk9Nh7w0NDXK5XPJ6vQoPD/9G8z%2BT5LkFto53LpU%2BNepCtwAAuIScy7%2B/HbH9CNbcuXP12muvqbi4WA888IAeeOABFRcX69VXX/3G4UqSvF6vJKl79%2B6SpLKyMjU3Nys1NdWqcbvdSkxMtI6gFRcXKzEx0QpXkpSWlqbGxkaVlZVZNaeO0VpTWlqq5uZmNTU1qaysrE1Nampqu0fqpJOnLhsaGnweAADg0mH7Re6SNHHiRE2cONG28YwxysrK0k033aTExERJUm1trRwOhyIiInxqo6OjVVtba9VER0f7rI%2BIiJDD4ThrTXR0tE6cOKEDBw7IGKOWlpZ2a1rHOF1OTo6efPLJbz5hAADg187JjUYbGhq0fPlyPf7446qvr5ckbdu2TTU1Nd9ovIcfflgfffSR3nrrrQ5rjTE%2B9%2BFq755cHdW0njXtqOZM9/vKzs6W1%2Bu1HtXV1R32DQAALh62H8GqrKzUbbfdpssvv1zV1dXKyMhQRESE/vCHP2jPnj164403vtZ406ZN07vvvqt169apT58%2B1vKYmBg1NTWpvr7e5yhWXV2dUlJSrJqNGzf6jFdfX6/m5mbriFRMTEybI1F1dXUKCgpSjx49ZIxRYGBguzWnH9Vq5XQ6ud8XAACXMNuPYD3yyCOaOHGiPv30U3Xr1s1aPmbMGK1bt67T4xhj9PDDD%2Bvtt9/W3/72N8XFxfmsT0pKUnBwsAoLC61lNTU1qqystAKWx%2BNRZWWlz5GzNWvWyOl0Kikpyao5dYzWmuTkZAUHB8vhcCgpKalNTWFhobUdAACAU9l%2BBGvz5s1atmxZm9NnvXv3/lqnCKdOnarf//73%2BvOf/6ywsDDrCJLL5VJISIhcLpfuv/9%2BzZo1Sz169FD37t01e/Zs9e/fX7fddpukkxeiJyQkKD09Xc8884y%2B/PJLzZ49W5mZmda3CaZMmaKlS5cqKytLmZmZKi4u1muvveZzOjIrK0vp6elKTk6Wx%2BPRK6%2B8oqqqKk2ZMuXbvl0AAODgj89lAAAf70lEQVQiZHvAcjgcOnLkSJvlu3btUmRkZKfHab0lwvDhw32Wv/7668rIyJAkPffccwoKCtK9996rY8eOacSIEVq%2BfLkCAwMlSYGBgVq1apUeeugh3XjjjQoJCdHEiRO1aNEia7y4uDitXr1ajzzyiF588UW53W4tWbJE99xzj1Uzfvx4HTx4UPPnz1dNTY0SExO1evVq9e3bt9PzAQAAlw7b74P1s5/9TPX19Vq5cqUiIiL00UcfyeFw6M4771RKSoqWLFli5%2Bb8AvfBOon7YAEAzqeL6j5Yzz77rPbu3auYmBgdO3ZMt956q6666ip169atze8TAgAAXIxsP0Xocrm0YcMGFRYWasuWLfrqq680aNAgpaWlnfG2BgAAABcTWwNWc3Ozbr/9dr300ktKTU1tc/dzAACAS4GtpwiDg4O1detWjlQBAIBLmu3XYN133316/fXX7R4WAADAb5yT3yJcunSp1q5dq%2BTkZIWGhvqs%2B9WvfnUuNgkAANBl2B6wysrKNGDAAEnSRx995LOOU4cAAOBSYFvA%2BuyzzxQXF6cPP/zQriEBAAD8km3XYF1zzTXav3%2B/9Xz8%2BPHat2%2BfXcMDAAD4DdsC1uk3hF%2B9erWOHj1q1/AAAAB%2Bw/ZvEQIAAFzqbAtYAQEBbS5i56J2AABwKbLtIndjjDIyMuR0OiVJx48f15QpU9rcpuHtt9%2B2a5MAAABdkm0Ba/LkyT7P77vvPruGBgAA8Cu2BSzu3g4AAHASF7kDAADYjIAFAABgMwIWAACAzQhYAAAANiNgAQAA2IyABQAAYDMCFgAAgM0IWAAAADYjYAEAANiMgAUAAGCzLhuw1q1bp3HjxsntdisgIEDvvPOOz/qMjAwFBAT4PIYMGeJT09jYqGnTpikyMlKhoaG64447tGfPHp%2BaqqoqjRs3TqGhoYqMjNT06dPV1NTkU1NUVKSkpCR169ZNV111lV5%2B%2BeVzM2kAAHBR6LIB6%2BjRoxo4cKCWLl16xppRo0appqbGeqxevdpn/cyZM5Wfn6/c3FytX79eR44c0dixY9XS0iJJamlp0ZgxY3T06FGtX79eubm5ysvL06xZs6wxdu/erdtvv11Dhw7V1q1bNWfOHE2fPl15eXnnZuIAAMDv2fZjz3YbPXq0Ro8efdYap9OpmJiYdtd5vV699tprevPNN3XbbbdJkv77v/9bsbGxWrt2rdLS0rRmzRrt2LFD1dXVcrvdkqRnn31WGRkZeuqppxQeHq6XX35Z3/3ud/X8889Lkvr166fS0lItWrRI99xzj40zBgAAF4suewSrMz744ANFRUXp2muvVWZmpurq6qx1ZWVlam5uVmpqqrXM7XYrMTFRGzZskCQVFxcrMTHRCleSlJaWpsbGRpWVlVk1p47RWlNaWqrm5uZ2%2B2psbFRDQ4PPAwAAXDr8NmCNHj1aK1as0N/%2B9jc9%2B%2Byz2rx5s2699VY1NjZKkmpra%2BVwOBQREeHzuujoaNXW1lo10dHRPusjIiLkcDjOWhMdHa0TJ07owIED7faWk5Mjl8tlPWJjY22ZMwAA8A9d9hRhR8aPH2/9OzExUcnJyerbt69WrVqlu%2B%2B%2B%2B4yvM8YoICDAen7qvztbY4w542slKTs7W1lZWdbzhoYGQhYAAJcQvz2CdbpevXqpb9%2B%2B2rVrlyQpJiZGTU1Nqq%2Bv96mrq6uzjkjFxMRYR6pa1dfXq7m5%2Baw1dXV1CgoKUo8ePdrtxel0Kjw83OcBAAAuHRdNwDp48KCqq6vVq1cvSVJSUpKCg4NVWFho1dTU1KiyslIpKSmSJI/Ho8rKStXU1Fg1a9askdPpVFJSklVz6hitNcnJyQoODj7X0wIAAH6oywasI0eOqLy8XOXl5ZJO3i6hvLxcVVVVOnLkiGbPnq3i4mJ9/vnn%2BuCDDzRu3DhFRkbqX/7lXyRJLpdL999/v2bNmqW//vWv2rp1q%2B677z7179/f%2BlZhamqqEhISlJ6erq1bt%2Bqvf/2rZs%2BerczMTOuo05QpU/TFF18oKytLO3fu1G9/%2B1u99tprmj179oV5YwAAQJfXZa/BKi0t1S233GI9b72mafLkyVq2bJkqKir0u9/9TocOHVKvXr10yy23aOXKlQoLC7Ne89xzzykoKEj33nuvjh07phEjRmj58uUKDAyUJAUGBmrVqlV66KGHdOONNyokJEQTJ07UokWLrDHi4uK0evVqPfLII3rxxRfldru1ZMkSbtEAAADOKMC0XrGNc6ahoUEul0ter9f267GS5xbYOt65VPrUqAvdAgDgEnIu//52pMueIgQAAPBXBCwAAACbEbAAAABsRsACAACwGQELAADAZgQsAAAAmxGwAAAAbEbAAgAAsBkBCwAAwGYELAAAAJsRsAAAAGxGwAIAALAZAQsAAMBmBCwAAACbEbAAAABsRsACAACwGQELAADAZgQsAAAAmxGwAAAAbEbAAgAAsBkBCwAAwGYELAAAAJsRsAAAAGxGwAIAALAZAQsAAMBmXTZgrVu3TuPGjZPb7VZAQIDeeecdn/XGGM2bN09ut1shISEaPny4tm/f7lNTX1%2Bv9PR0uVwuuVwupaen69ChQz41FRUVGjZsmEJCQtS7d2/Nnz9fxhifmry8PCUkJMjpdCohIUH5%2BfnnZtIAAOCi0GUD1tGjRzVw4EAtXbq03fW/%2BtWvtHjxYi1dulSbN29WTEyMRo4cqcOHD1s1EydOVHl5uQoKClRQUKDy8nKlp6db6xsaGjRy5Ei53W5t3rxZL7zwghYtWqTFixdbNcXFxRo/frzS09O1bds2paen695779XGjRvP3eQBAIBfCzCnH67pggICApSfn6%2B77rpL0smjV263WzNnztRjjz0mSWpsbFR0dLSefvppPfjgg9q5c6cSEhJUUlKiwYMHS5JKSkrk8Xj08ccfKz4%2BXsuWLVN2drb27dsnp9MpSVq4cKFeeOEF7dmzRwEBARo/frwaGhr03nvvWf2MGjVKEREReuuttzrVf0NDg1wul7xer8LDw%2B18a5Q8t8DW8c6l0qdGXegWAACXkHP597cjXfYI1tns3r1btbW1Sk1NtZY5nU4NGzZMGzZskHTyyJPL5bLClSQNGTJELpfLp2bYsGFWuJKktLQ07d27V59//rlVc%2Bp2Wmtax2hPY2OjGhoafB4AAODS4ZcBq7a2VpIUHR3tszw6OtpaV1tbq6ioqDavjYqK8qlpb4xTt3Gmmtb17cnJybGu%2B3K5XIqNjf060wMAAH7OLwNWq4CAAJ/nxhifZaev70xN6xnTjmraG7tVdna2vF6v9aiuru7EbAAAwMUi6EI38E3ExMRIOnl0qVevXtbyuro662hTTEyM9u3b1%2Ba1%2B/fv96k5/UhUXV2dJHVYc/pRrVM5nU6f044AAODS4pdHsOLi4hQTE6PCwkJrWVNTk4qKipSSkiJJ8ng88nq92rRpk1WzceNGeb1en5p169apqanJqlmzZo3cbreuvPJKq%2BbU7bTWtI4BAABwui4bsI4cOaLy8nKVl5dLOnlhe3l5uaqqqhQQEKCZM2dqwYIFys/PV2VlpTIyMnT55Zdr4sSJkqR%2B/fpp1KhRyszMVElJiUpKSpSZmamxY8cqPj5e0snbODidTmVkZKiyslL5%2BflasGCBsrKyrFOAM2bM0Jo1a/T000/r448/1tNPP621a9dq5syZF%2BaNAQAAXV6XPUVYWlqqW265xXqelZUlSZo8ebKWL1%2BuRx99VMeOHdNDDz2k%2Bvp6DR48WGvWrFFYWJj1mhUrVmj69OnWtwDvuOMOn/tquVwuFRYWaurUqUpOTlZERISysrKsbUlSSkqKcnNz9R//8R/6xS9%2BoauvvlorV670%2BXYiAADAqfziPlj%2BjvtgncR9sAAA5xP3wQIAALiIELAAAABsRsACAACwGQELAADAZgQsAAAAmxGwAAAAbEbAAgAAsBkBCwAAwGYELAAAAJsRsAAAAGxGwAIAALAZAQsAAMBmBCwAAACbEbAAAABsRsACAACwGQELAADAZgQsAAAAmxGwAAAAbEbAAgAAsBkBCwAAwGYELAAAAJsRsAAAAGxGwAIAALAZAQsAAMBmBCwAAACb%2BW3AmjdvngICAnweMTEx1npjjObNmye3262QkBANHz5c27dv9xmjvr5e6enpcrlccrlcSk9P16FDh3xqKioqNGzYMIWEhKh3796aP3%2B%2BjDHnZY4AAMA/%2BW3AkqTrr79eNTU11qOiosJa96tf/UqLFy/W0qVLtXnzZsXExGjkyJE6fPiwVTNx4kSVl5eroKBABQUFKi8vV3p6urW%2BoaFBI0eOlNvt1ubNm/XCCy9o0aJFWrx48XmdJwAA8C9BF7qBbyMoKMjnqFUrY4yef/55zZ07V3fffbck6Y033lB0dLR%2B//vf68EHH9TOnTtVUFCgkpISDR48WJL06quvyuPx6JNPPlF8fLxWrFih48ePa/ny5XI6nUpMTNQ//vEPLV68WFlZWQoICDiv8wUAAP7Br49g7dq1S263W3FxcZowYYI%2B%2B%2BwzSdLu3btVW1ur1NRUq9bpdGrYsGHasGGDJKm4uFgul8sKV5I0ZMgQuVwun5phw4bJ6XRaNWlpadq7d68%2B//zzM/bV2NiohoYGnwcAALh0%2BG3AGjx4sH73u9/pL3/5i1599VXV1tYqJSVFBw8eVG1trSQpOjra5zXR0dHWutraWkVFRbUZNyoqyqemvTFa151JTk6OdV2Xy%2BVSbGzsN58oAADwO34bsEaPHq177rlH/fv312233aZVq1ZJOnkqsNXpp/CMMT7L2jvF11FN6wXuZzs9mJ2dLa/Xaz2qq6u/xswAAIC/89uAdbrQ0FD1799fu3btsq7LOv0oU11dnXUEKiYmRvv27Wszzv79%2B31q2htDant07FROp1Ph4eE%2BDwAAcOm4aAJWY2Ojdu7cqV69eikuLk4xMTEqLCy01jc1NamoqEgpKSmSJI/HI6/Xq02bNlk1GzdulNfr9alZt26dmpqarJo1a9bI7XbryiuvPD8TAwAAfsdvA9bs2bNVVFSk3bt3a%2BPGjfrhD3%2BohoYGTZ48WQEBAZo5c6YWLFig/Px8VVZWKiMjQ5dffrkmTpwoSerXr59GjRqlzMxMlZSUqKSkRJmZmRo7dqzi4%2BMlnbyNg9PpVEZGhiorK5Wfn68FCxbwDUIAAHBWfnubhj179ujHP/6xDhw4oJ49e2rIkCEqKSlR3759JUmPPvqojh07poceekj19fUaPHiw1qxZo7CwMGuMFStWaPr06da3De%2B44w4tXbrUWu9yuVRYWKipU6cqOTlZERERysrKUlZW1vmdLAAA8CsBhtuSn3MNDQ1yuVzyer22X4%2BVPLfA1vHOpdKnRl3oFgAAl5Bz%2Bfe3I357ihAAAKCrImABAADYjIAFAABgMwIWAACAzQhYAAAANiNgAQAA2IyABQAAYDMCFgAAgM0IWAAAADYjYAEAANiMgAUAAGAzAhYAAIDNCFgAAAA2I2ABAADYjIAFAABgMwIWAACAzQhYAAAANiNgAQAA2IyABQAAYDMCFgAAgM0IWAAAADYjYAEAANiMgAUAAGAzAhYAAIDNCFgAAAA2I2B10ksvvaS4uDh169ZNSUlJ%2BvDDDy90SwAAoIsiYHXCypUrNXPmTM2dO1dbt27V0KFDNXr0aFVVVV3o1gAAQBdEwOqExYsX6/7779fPfvYz9evXT88//7xiY2O1bNmyC90aAADogoIudANdXVNTk8rKyvTzn//cZ3lqaqo2bNjQ7msaGxvV2NhoPfd6vZKkhoYG2/traTxq%2B5jnyg2z8y50C19L0eMjL3QLAIBvofXvrjHmvG%2BbgNWBAwcOqKWlRdHR0T7Lo6OjVVtb2%2B5rcnJy9OSTT7ZZHhsbe056xLnhevZCdwAAsMPhw4flcrnO6zYJWJ0UEBDg89wY02ZZq%2BzsbGVlZVnPv/rqK3355Zfq0aPHGV/zTTQ0NCg2NlbV1dUKDw%2B3bdyugLn5p4t5btLFPT/m5p%2BY29kZY3T48GG53W6bu%2BsYAasDkZGRCgwMbHO0qq6urs1RrVZOp1NOp9Nn2Xe%2B851z1mN4ePhF9x%2BrFXPzTxfz3KSLe37MzT8xtzM730euWnGRewccDoeSkpJUWFjos7ywsFApKSkXqCsAANCVcQSrE7KyspSenq7k5GR5PB698sorqqqq0pQpUy50awAAoAsKnDdv3rwL3URXl5iYqB49emjBggVatGiRjh07pjfffFMDBw680K0pMDBQw4cPV1DQxZeVmZt/upjnJl3c82Nu/om5dU0B5kJ8dxEAAOAixjVYAAAANiNgAQAA2IyABQAAYDMCFgAAgM0IWH7qpZdeUlxcnLp166akpCR9%2BOGH53X78%2BbNU0BAgM8jJibGWm%2BM0bx58%2BR2uxUSEqLhw4dr%2B/btPmPU19crPT1dLpdLLpdL6enpOnTokE9NRUWFhg0bppCQEPXu3Vvz589v85tSeXl5SkhIkNPpVEJCgvLz833Wd9TLunXrNG7cOLndbgUEBOidd975Wq/vSnM5vZfQ0FD16dNHvXr1anduGRkZbfbjkCFDfGoaGxs1bdo0RUZGKjQ0VHfccYf27NnjU1NVVaVx48YpNDRUkZGRmj59upqamnxqioqKlJSUpG7duumqq67Syy%2B/rNN19Lk%2BtReHw6HvfOc7uuKKKxQVFaW77rpLn3zyiV/03lEvDodDQUFBcjgcZ5zb8OHD2%2By7CRMm%2BNR0xc9lSEiIAgMD5XA4FB4eLo/Ho/fee%2B8bvU9daZ%2BFhobqiiuuUGRkpHVjzNPn5q/7rL1ecnJyFBAQoJkzZ37j96sr7bsz9fKtGPid3NxcExwcbF599VWzY8cOM2PGDBMaGmq%2B%2BOKL89bDE088Ya6//npTU1NjPerq6qz1CxcuNGFhYSYvL89UVFSY8ePHm169epmGhgarZtSoUSYxMdFs2LDBbNiwwSQmJpqxY8da671er4mOjjYTJkwwFRUVJi8vz4SFhZlFixZZNRs2bDCBgYFmwYIFZufOnWbBggUmKCjIlJSUdLqX1atXm7lz55q8vDwjyeTn5/vM1Z/mcnovzz77rOnZs6dJSkpqd26TJ082o0aN8tmPBw8e9KmZMmWK6d27tyksLDRbtmwxt9xyixk4cKA5ceKEMcaYEydOmMTERHPLLbeYLVu2mMLCQuN2u83DDz9sjfHZZ5%2BZyy%2B/3MyYMcPs2LHDvPrqqyY4ONj86U9/smo687k%2BtRePx2Ouu%2B46Ex8fb8rKysyYMWPMd7/7XXPkyJEu33tHvXg8HjN79mzTs2dPM2HChHbnNmzYMJOZmemz7w4dOuSz77ri5/JXv/qVWbRokbnmmmvM8OHDzZw5c0xwcLCprKz06322ZcsWM3/%2BfNO9e3czadIk88knn7SZm7/us9N72bRpk7nyyivNgAEDzIwZM77x%2B9WV9l17vXxbBCw/9P/%2B3/8zU6ZM8Vl23XXXmZ///OfnrYcnnnjCDBw4sN11X331lYmJiTELFy60lh0/fty4XC7z8ssvG2OM2bFjh5Hk8x%2B%2BuLjYSDIff/yxMcaYl156ybhcLnP8%2BHGrJicnx7jdbvPVV18ZY4y59957zahRo3y2n5aWZiZMmNDpXk51egjxt7mcrZczBaw777yzzfvQ6tChQyY4ONjk5uZay/75z3%2Bayy67zBQUFBhjTgbUyy67zPzzn/%2B0at566y3jdDqN1%2Bs1xhjz6KOPmuuuu85n7AcffNAMGTLEet7R57qjXurq6owkU1RU5He9d9TLp59%2B6jM3Y07%2BsT71j9vp/OVz%2BfHHH5uIiAjzX//1XxfVPmvtpXVuxlw8%2B6xv376msLDQZz4X4777tjhF6GeamppUVlam1NRUn%2BWpqanasGHDee1l165dcrvdiouL04QJE/TZZ59Jknbv3q3a2lqfHp1Op4YNG2b1WFxcLJfLpcGDB1s1Q4YMkcvl8qkZNmyYz%2B86pqWlae/evfr888%2BtmtPfi7S0NGuMzvRyNv42l7P1ciYffPCBoqKidO211yozM1N1dXXWurKyMjU3N/ts0%2B12KzEx0WebiYmJPj%2BmmpaWpsbGRpWVlZ11bqWlpWpubu7U57qjXrxerySpe/fuftd7R7201rTOrdWKFSsUGRmp66%2B/XrNnz9bhw4etdf7wuQwPD9dzzz2no0ePyuPxXFT7bNOmTcrNzbXmdrHss%2BDgYF177bW67bbbfMa/mPZday/flv/dGvUSd%2BDAAbW0tLT5oeno6Og2P0h9Lg0ePFi/%2B93vdO2112rfvn365S9/qZSUFG3fvt3qo70ev/jiC0lSbW2toqKi2owbFRVlvb62tlZXXnllmzFa18XFxam2tvas70Vnejkbf5vL2XppDSCnGj16tH70ox%2Bpb9%2B%2B2r17t37xi1/o1ltvVVlZmZxOp2pra%2BVwOBQREXHWvk7vKSIiQg6H46w10dHROnHihA4cOCBjTIef67P1UlNTo6ysLN10001KTEzssL4r9d5RL8HBwXruued85iZJkyZNUlxcnGJiYlRZWans7Gxt27bN%2Bt3Urvy5rKiokMfj0dGjR/XGG28oPz9fCQkJKi8v9/t91nqdT1pamsLCwqy5Sf69zyQpNzdXAQEBuummm9r0eLH8fzu1l2%2BLgOWnAgICfJ4bY9osO5dGjx5t/bt///7yeDy6%2Buqr9cYbb1gXSXfUY3v9dlRj/v8LOTuqOX3Zt32//GkuZ%2BqlPePHj7f%2BnZiYqOTkZPXt21erVq3S3Xff3e5rvs42Ozv/9t6L9sY4Uy9///vfdfToUa1fv/6stV2x9456aWlpUVVVlbZu3eqzPDMz0/p3YmKirrnmGiUnJ2vLli0aNGiQLXM7W823%2BVzGx8ervLxct9xyi66%2B%2BmpNnjxZRUVFbXrtbM9fd17ncp/Fx8crKChI8%2BbN05EjR6y5JSQk%2BPU%2Bq66u1owZMxQdHS2Hw9GmxzPxp33X2XE6i1OEfiYyMlKBgYFtEnZdXV2bNH4%2BhYaGqn///tq1a5f1bcKz9RgTE6N9%2B/a1GWf//v0%2BNe2NIanDmlPXd9TL2fjbXM7WS2f06tVLffv21a5du6zxmpqaVF9ff9Ztnt5TfX29mpubO5xbUFCQevTo0anP9Zl62bp1q/bs2aP3339fffr0sZb7Q%2B8d9fLAAw/oq6%2B%2B0q9//WufubVn0KBBCg4O9tl3XfVz6XA49L3vfU%2BHDx/W5MmTNXDgQP3617%2B%2BKPbZ0aNHdeLECaWkpCgnJ8eaW3v8aZ%2BVlZWprq5O1dXVmjt3roKCglRUVKQlS5YoKChI0dHRfr/vTu/l2yJg%2BRmHw6GkpCTrkHKrwsJCpaSkXKCuTn4ldufOnerVq5d1CPzUHpuamlRUVGT16PF45PV6tWnTJqtm48aN8nq9PjXr1q3z%2BdrsmjVr5Ha7rUPkHo%2BnzXuxZs0aa4zO9HI2/jaXs/XSGQcPHlR1dbV69eolSUpKSlJwcLDPNmtqalRZWemzzcrKStXU1Pj07XQ6lZSUdNa5JScnKzg4uFOf69N7Mcbopz/9qQ4ePKjnnntOcXFxPq/tyr131IsxRg8//LD%2B9Kc/KTg4WGPHjlVHtm/frubmZmvf%2BcvnMiUlRcYYNTY2%2BvU%2BO1MvrXNrjz/tsxEjRmjFihWSpHfeeUfl5eVKTk7WpEmTrH9fbPvuW7PlUnmcV61fUX3ttdfMjh07zMyZM01oaKj5/PPPz1sPs2bNMh988IH57LPPTElJiRk7dqwJCwuzeli4cKFxuVzm7bffNhUVFebHP/5xu18BHjBggCkuLjbFxcWmf//%2BPl9HPnTokImOjjY//vGPTUVFhXn77bdNeHi4z9eR//73v5vAwECzcOFCs3PnTrNw4cJ2v458tl4OHz5stm7darZu3WokmcWLF5utW7daX/n1p7mc3stf//pX873vfc8MHTq0zdwOHz5sZs2aZTZs2GB2795t3n//fePxeEzv3r19xpsyZYrp06ePWbt2rdmyZYu59dZb2/2684gRI8yWLVvM2rVrTZ8%2Bfdr96vUjjzxiduzYYV577bUzfvX6bJ/rU3v50Y9%2BZIKCgszVV19t9uzZY33t/f/%2B7/%2B6fO8d9fKjH/3IhIaGmp49e5qf/vSnbeb2v//7v%2BbJJ580mzdvNrt37zarVq0y1113nbnhhhus8brq5/InP/mJWbZsmYmPjzc333yzmTNnjrnsssvMmjVr/Hqfbdmyxfz4xz82PXv2ND/5yU/MRx995DM3f95nZ%2Brl9G9F%2BvO%2Ba6%2BXb4uA5adefPFF07dvX%2BNwOMygQYN8vr59PrTeMyU4ONi43W5z9913m%2B3bt1vrv/rqK/PEE0%2BYmJgY43Q6zc0332wqKip8xjh48KCZNGmSCQsLM2FhYWbSpEmmvr7ep%2Bajjz4yQ4cONU6n08TExJh58%2BZZX0Vu9cc//tHEx8eb4OBgc91115m8vDyf9R318v7771u3MTj1MXnyZL%2Bby%2Bm9hISEnHFu//d//2dSU1NNz549TXBwsPnud79rJk%2BebKqqqnzGO3bsmHn44YdN9%2B7dTUhIiBk7dmybmi%2B%2B%2BMKMGTPGhISEmO7du5uHH37Y52vkxhjzwQcfmBtuuME4HA5z5ZVXmmXLlpnTdfS5PrWX9uYlybz%2B%2ButdvveOeuloblVVVebmm2823bt3Nw6Hw1x99dVm%2BvTpbe5h1hU/l8HBwSYgIMBcdtllJjIy0owYMcIKV/68z0JCQozD4TBhYWHG4XCYnj17%2BszNn/fZmXo5PWD9f%2B3asQ0AIAwEMbH/0DBBGrgGyZ4gUpor/uffTbe8WHsP61cAAK7YYAEAxAQWAEBMYAEAxAQWAEBMYAEAxAQWAEBMYAEAxAQWAEBMYAEAxAQWAEBMYAEAxAQWAEBMYAEAxAQWAEBMYAEAxAQWAEBMYAEAxAQWAEDsAI4Q0OvMy5gEAAAAAElFTkSuQmCC\"/>\n",
       "        </div>\n",
       "        <div role=\"tabpanel\" class=\"tab-pane col-md-12\" id=\"common-2418151083934517415\">\n",
       "            \n",
       "<table class=\"freq table table-hover\">\n",
       "    <thead>\n",
       "    <tr>\n",
       "        <td class=\"fillremaining\">Value</td>\n",
       "        <td class=\"number\">Count</td>\n",
       "        <td class=\"number\">Frequency (%)</td>\n",
       "        <td style=\"min-width:200px\">&nbsp;</td>\n",
       "    </tr>\n",
       "    </thead>\n",
       "    <tr class=\"\">\n",
       "        <td class=\"fillremaining\">1010</td>\n",
       "        <td class=\"number\">438</td>\n",
       "        <td class=\"number\">1.0%</td>\n",
       "        <td>\n",
       "            <div class=\"bar\" style=\"width:2%\">&nbsp;</div>\n",
       "        </td>\n",
       "</tr><tr class=\"\">\n",
       "        <td class=\"fillremaining\">1005</td>\n",
       "        <td class=\"number\">426</td>\n",
       "        <td class=\"number\">1.0%</td>\n",
       "        <td>\n",
       "            <div class=\"bar\" style=\"width:2%\">&nbsp;</div>\n",
       "        </td>\n",
       "</tr><tr class=\"\">\n",
       "        <td class=\"fillremaining\">1030</td>\n",
       "        <td class=\"number\">356</td>\n",
       "        <td class=\"number\">0.8%</td>\n",
       "        <td>\n",
       "            <div class=\"bar\" style=\"width:1%\">&nbsp;</div>\n",
       "        </td>\n",
       "</tr><tr class=\"\">\n",
       "        <td class=\"fillremaining\">1025</td>\n",
       "        <td class=\"number\">356</td>\n",
       "        <td class=\"number\">0.8%</td>\n",
       "        <td>\n",
       "            <div class=\"bar\" style=\"width:1%\">&nbsp;</div>\n",
       "        </td>\n",
       "</tr><tr class=\"\">\n",
       "        <td class=\"fillremaining\">1020</td>\n",
       "        <td class=\"number\">351</td>\n",
       "        <td class=\"number\">0.8%</td>\n",
       "        <td>\n",
       "            <div class=\"bar\" style=\"width:1%\">&nbsp;</div>\n",
       "        </td>\n",
       "</tr><tr class=\"\">\n",
       "        <td class=\"fillremaining\">1015</td>\n",
       "        <td class=\"number\">343</td>\n",
       "        <td class=\"number\">0.8%</td>\n",
       "        <td>\n",
       "            <div class=\"bar\" style=\"width:1%\">&nbsp;</div>\n",
       "        </td>\n",
       "</tr><tr class=\"\">\n",
       "        <td class=\"fillremaining\">1035</td>\n",
       "        <td class=\"number\">275</td>\n",
       "        <td class=\"number\">0.6%</td>\n",
       "        <td>\n",
       "            <div class=\"bar\" style=\"width:1%\">&nbsp;</div>\n",
       "        </td>\n",
       "</tr><tr class=\"\">\n",
       "        <td class=\"fillremaining\">1040</td>\n",
       "        <td class=\"number\">274</td>\n",
       "        <td class=\"number\">0.6%</td>\n",
       "        <td>\n",
       "            <div class=\"bar\" style=\"width:1%\">&nbsp;</div>\n",
       "        </td>\n",
       "</tr><tr class=\"\">\n",
       "        <td class=\"fillremaining\">1045</td>\n",
       "        <td class=\"number\">241</td>\n",
       "        <td class=\"number\">0.6%</td>\n",
       "        <td>\n",
       "            <div class=\"bar\" style=\"width:1%\">&nbsp;</div>\n",
       "        </td>\n",
       "</tr><tr class=\"\">\n",
       "        <td class=\"fillremaining\">1050</td>\n",
       "        <td class=\"number\">226</td>\n",
       "        <td class=\"number\">0.5%</td>\n",
       "        <td>\n",
       "            <div class=\"bar\" style=\"width:1%\">&nbsp;</div>\n",
       "        </td>\n",
       "</tr><tr class=\"other\">\n",
       "        <td class=\"fillremaining\">Other values (7655)</td>\n",
       "        <td class=\"number\">39296</td>\n",
       "        <td class=\"number\">92.3%</td>\n",
       "        <td>\n",
       "            <div class=\"bar\" style=\"width:100%\">&nbsp;</div>\n",
       "        </td>\n",
       "</tr>\n",
       "</table>\n",
       "        </div>\n",
       "        <div role=\"tabpanel\" class=\"tab-pane col-md-12\"  id=\"extreme-2418151083934517415\">\n",
       "            <p class=\"h4\">Minimum 5 values</p>\n",
       "            \n",
       "<table class=\"freq table table-hover\">\n",
       "    <thead>\n",
       "    <tr>\n",
       "        <td class=\"fillremaining\">Value</td>\n",
       "        <td class=\"number\">Count</td>\n",
       "        <td class=\"number\">Frequency (%)</td>\n",
       "        <td style=\"min-width:200px\">&nbsp;</td>\n",
       "    </tr>\n",
       "    </thead>\n",
       "    <tr class=\"\">\n",
       "        <td class=\"fillremaining\">598</td>\n",
       "        <td class=\"number\">2</td>\n",
       "        <td class=\"number\">0.0%</td>\n",
       "        <td>\n",
       "            <div class=\"bar\" style=\"width:100%\">&nbsp;</div>\n",
       "        </td>\n",
       "</tr><tr class=\"\">\n",
       "        <td class=\"fillremaining\">604</td>\n",
       "        <td class=\"number\">1</td>\n",
       "        <td class=\"number\">0.0%</td>\n",
       "        <td>\n",
       "            <div class=\"bar\" style=\"width:50%\">&nbsp;</div>\n",
       "        </td>\n",
       "</tr><tr class=\"\">\n",
       "        <td class=\"fillremaining\">616</td>\n",
       "        <td class=\"number\">1</td>\n",
       "        <td class=\"number\">0.0%</td>\n",
       "        <td>\n",
       "            <div class=\"bar\" style=\"width:50%\">&nbsp;</div>\n",
       "        </td>\n",
       "</tr><tr class=\"\">\n",
       "        <td class=\"fillremaining\">794</td>\n",
       "        <td class=\"number\">1</td>\n",
       "        <td class=\"number\">0.0%</td>\n",
       "        <td>\n",
       "            <div class=\"bar\" style=\"width:50%\">&nbsp;</div>\n",
       "        </td>\n",
       "</tr><tr class=\"\">\n",
       "        <td class=\"fillremaining\">865</td>\n",
       "        <td class=\"number\">1</td>\n",
       "        <td class=\"number\">0.0%</td>\n",
       "        <td>\n",
       "            <div class=\"bar\" style=\"width:50%\">&nbsp;</div>\n",
       "        </td>\n",
       "</tr>\n",
       "</table>\n",
       "            <p class=\"h4\">Maximum 5 values</p>\n",
       "            \n",
       "<table class=\"freq table table-hover\">\n",
       "    <thead>\n",
       "    <tr>\n",
       "        <td class=\"fillremaining\">Value</td>\n",
       "        <td class=\"number\">Count</td>\n",
       "        <td class=\"number\">Frequency (%)</td>\n",
       "        <td style=\"min-width:200px\">&nbsp;</td>\n",
       "    </tr>\n",
       "    </thead>\n",
       "    <tr class=\"\">\n",
       "        <td class=\"fillremaining\">2020540</td>\n",
       "        <td class=\"number\">1</td>\n",
       "        <td class=\"number\">0.0%</td>\n",
       "        <td>\n",
       "            <div class=\"bar\" style=\"width:100%\">&nbsp;</div>\n",
       "        </td>\n",
       "</tr><tr class=\"\">\n",
       "        <td class=\"fillremaining\">2089525</td>\n",
       "        <td class=\"number\">1</td>\n",
       "        <td class=\"number\">0.0%</td>\n",
       "        <td>\n",
       "            <div class=\"bar\" style=\"width:100%\">&nbsp;</div>\n",
       "        </td>\n",
       "</tr><tr class=\"\">\n",
       "        <td class=\"fillremaining\">2170265</td>\n",
       "        <td class=\"number\">1</td>\n",
       "        <td class=\"number\">0.0%</td>\n",
       "        <td>\n",
       "            <div class=\"bar\" style=\"width:100%\">&nbsp;</div>\n",
       "        </td>\n",
       "</tr><tr class=\"\">\n",
       "        <td class=\"fillremaining\">2265400</td>\n",
       "        <td class=\"number\">1</td>\n",
       "        <td class=\"number\">0.0%</td>\n",
       "        <td>\n",
       "            <div class=\"bar\" style=\"width:100%\">&nbsp;</div>\n",
       "        </td>\n",
       "</tr><tr class=\"\">\n",
       "        <td class=\"fillremaining\">3953985</td>\n",
       "        <td class=\"number\">1</td>\n",
       "        <td class=\"number\">0.0%</td>\n",
       "        <td>\n",
       "            <div class=\"bar\" style=\"width:100%\">&nbsp;</div>\n",
       "        </td>\n",
       "</tr>\n",
       "</table>\n",
       "        </div>\n",
       "    </div>\n",
       "</div>\n",
       "</div>\n",
       "    <div class=\"row headerrow highlight\">\n",
       "        <h1>Correlations</h1>\n",
       "    </div>\n",
       "    \n",
       "    <div class=\"row headerrow highlight\">\n",
       "        <h1>Sample</h1>\n",
       "    </div>\n",
       "    <div class=\"row variablerow\">\n",
       "    <div class=\"col-md-12\" style=\"overflow:scroll; width: 100%%; overflow-y: hidden;\">\n",
       "        <table border=\"1\" class=\"dataframe sample\">\n",
       "  <thead>\n",
       "    <tr style=\"text-align: right;\">\n",
       "      <th></th>\n",
       "      <th>SalesPersonID</th>\n",
       "      <th>ProductID</th>\n",
       "      <th>Quantity</th>\n",
       "      <th>TotalSalesValue</th>\n",
       "      <th>Suspicious</th>\n",
       "    </tr>\n",
       "  </thead>\n",
       "  <tbody>\n",
       "    <tr>\n",
       "      <th>0</th>\n",
       "      <td>C21116</td>\n",
       "      <td>PR6112</td>\n",
       "      <td>182</td>\n",
       "      <td>1665</td>\n",
       "      <td>indeterminate</td>\n",
       "    </tr>\n",
       "    <tr>\n",
       "      <th>1</th>\n",
       "      <td>C21116</td>\n",
       "      <td>PR6112</td>\n",
       "      <td>182</td>\n",
       "      <td>1740</td>\n",
       "      <td>indeterminate</td>\n",
       "    </tr>\n",
       "    <tr>\n",
       "      <th>2</th>\n",
       "      <td>C21116</td>\n",
       "      <td>PR6253</td>\n",
       "      <td>101</td>\n",
       "      <td>1040</td>\n",
       "      <td>indeterminate</td>\n",
       "    </tr>\n",
       "    <tr>\n",
       "      <th>3</th>\n",
       "      <td>C21116</td>\n",
       "      <td>PR6253</td>\n",
       "      <td>283</td>\n",
       "      <td>4495</td>\n",
       "      <td>No</td>\n",
       "    </tr>\n",
       "    <tr>\n",
       "      <th>4</th>\n",
       "      <td>C21116</td>\n",
       "      <td>PR6294</td>\n",
       "      <td>108</td>\n",
       "      <td>1465</td>\n",
       "      <td>indeterminate</td>\n",
       "    </tr>\n",
       "  </tbody>\n",
       "</table>\n",
       "    </div>\n",
       "</div>\n",
       "</div>"
      ],
      "text/plain": [
       "<pandas_profiling.ProfileReport at 0x226c5c0d2e8>"
      ]
     },
     "execution_count": 360,
     "metadata": {},
     "output_type": "execute_result"
    }
   ],
   "source": [
    "# Generating dataset profile\n",
    "pandas_profiling.ProfileReport(dataframe)"
   ]
  },
  {
   "cell_type": "code",
   "execution_count": 361,
   "metadata": {},
   "outputs": [
    {
     "name": "stdout",
     "output_type": "stream",
     "text": [
      "salesperson dataset has 42582 data points with 5 variables each.\n"
     ]
    }
   ],
   "source": [
    "# Success\n",
    "print(\"salesperson dataset has {} data points with {} variables each.\".format(*dataframe.shape)) #numbers of rows and columns in given dataset"
   ]
  },
  {
   "cell_type": "code",
   "execution_count": 362,
   "metadata": {},
   "outputs": [
    {
     "data": {
      "text/html": [
       "<div>\n",
       "<style scoped>\n",
       "    .dataframe tbody tr th:only-of-type {\n",
       "        vertical-align: middle;\n",
       "    }\n",
       "\n",
       "    .dataframe tbody tr th {\n",
       "        vertical-align: top;\n",
       "    }\n",
       "\n",
       "    .dataframe thead th {\n",
       "        text-align: right;\n",
       "    }\n",
       "</style>\n",
       "<table border=\"1\" class=\"dataframe\">\n",
       "  <thead>\n",
       "    <tr style=\"text-align: right;\">\n",
       "      <th></th>\n",
       "      <th>Columna_Name</th>\n",
       "    </tr>\n",
       "  </thead>\n",
       "  <tbody>\n",
       "    <tr>\n",
       "      <th>0</th>\n",
       "      <td>SalesPersonID</td>\n",
       "    </tr>\n",
       "    <tr>\n",
       "      <th>1</th>\n",
       "      <td>ProductID</td>\n",
       "    </tr>\n",
       "    <tr>\n",
       "      <th>2</th>\n",
       "      <td>Quantity</td>\n",
       "    </tr>\n",
       "    <tr>\n",
       "      <th>3</th>\n",
       "      <td>TotalSalesValue</td>\n",
       "    </tr>\n",
       "    <tr>\n",
       "      <th>4</th>\n",
       "      <td>Suspicious</td>\n",
       "    </tr>\n",
       "  </tbody>\n",
       "</table>\n",
       "</div>"
      ],
      "text/plain": [
       "      Columna_Name\n",
       "0    SalesPersonID\n",
       "1        ProductID\n",
       "2         Quantity\n",
       "3  TotalSalesValue\n",
       "4       Suspicious"
      ]
     },
     "execution_count": 362,
     "metadata": {},
     "output_type": "execute_result"
    }
   ],
   "source": [
    "pd.DataFrame(list(dataframe.columns.values),columns=['Columna_Name']) #printing column names in given data set"
   ]
  },
  {
   "cell_type": "code",
   "execution_count": 363,
   "metadata": {},
   "outputs": [
    {
     "name": "stdout",
     "output_type": "stream",
     "text": [
      "<class 'pandas.core.frame.DataFrame'>\n",
      "RangeIndex: 42582 entries, 0 to 42581\n",
      "Data columns (total 5 columns):\n",
      "SalesPersonID      42582 non-null object\n",
      "ProductID          42582 non-null object\n",
      "Quantity           42582 non-null int64\n",
      "TotalSalesValue    42582 non-null int64\n",
      "Suspicious         42582 non-null object\n",
      "dtypes: int64(2), object(3)\n",
      "memory usage: 1.6+ MB\n"
     ]
    }
   ],
   "source": [
    "dataframe.info() #Checking SalesPerson data info"
   ]
  },
  {
   "cell_type": "code",
   "execution_count": 364,
   "metadata": {},
   "outputs": [
    {
     "data": {
      "text/html": [
       "<div>\n",
       "<style scoped>\n",
       "    .dataframe tbody tr th:only-of-type {\n",
       "        vertical-align: middle;\n",
       "    }\n",
       "\n",
       "    .dataframe tbody tr th {\n",
       "        vertical-align: top;\n",
       "    }\n",
       "\n",
       "    .dataframe thead th {\n",
       "        text-align: right;\n",
       "    }\n",
       "</style>\n",
       "<table border=\"1\" class=\"dataframe\">\n",
       "  <thead>\n",
       "    <tr style=\"text-align: right;\">\n",
       "      <th></th>\n",
       "      <th>Quantity</th>\n",
       "      <th>TotalSalesValue</th>\n",
       "    </tr>\n",
       "  </thead>\n",
       "  <tbody>\n",
       "    <tr>\n",
       "      <th>count</th>\n",
       "      <td>4.258200e+04</td>\n",
       "      <td>4.258200e+04</td>\n",
       "    </tr>\n",
       "    <tr>\n",
       "      <th>mean</th>\n",
       "      <td>4.910048e+03</td>\n",
       "      <td>1.620923e+04</td>\n",
       "    </tr>\n",
       "    <tr>\n",
       "      <th>std</th>\n",
       "      <td>9.833621e+04</td>\n",
       "      <td>5.997195e+04</td>\n",
       "    </tr>\n",
       "    <tr>\n",
       "      <th>min</th>\n",
       "      <td>3.300000e+01</td>\n",
       "      <td>5.980000e+02</td>\n",
       "    </tr>\n",
       "    <tr>\n",
       "      <th>25%</th>\n",
       "      <td>1.110000e+02</td>\n",
       "      <td>1.345000e+03</td>\n",
       "    </tr>\n",
       "    <tr>\n",
       "      <th>50%</th>\n",
       "      <td>2.060000e+02</td>\n",
       "      <td>2.980000e+03</td>\n",
       "    </tr>\n",
       "    <tr>\n",
       "      <th>75%</th>\n",
       "      <td>1.136000e+03</td>\n",
       "      <td>1.076500e+04</td>\n",
       "    </tr>\n",
       "    <tr>\n",
       "      <th>max</th>\n",
       "      <td>1.970813e+07</td>\n",
       "      <td>3.953985e+06</td>\n",
       "    </tr>\n",
       "  </tbody>\n",
       "</table>\n",
       "</div>"
      ],
      "text/plain": [
       "           Quantity  TotalSalesValue\n",
       "count  4.258200e+04     4.258200e+04\n",
       "mean   4.910048e+03     1.620923e+04\n",
       "std    9.833621e+04     5.997195e+04\n",
       "min    3.300000e+01     5.980000e+02\n",
       "25%    1.110000e+02     1.345000e+03\n",
       "50%    2.060000e+02     2.980000e+03\n",
       "75%    1.136000e+03     1.076500e+04\n",
       "max    1.970813e+07     3.953985e+06"
      ]
     },
     "execution_count": 364,
     "metadata": {},
     "output_type": "execute_result"
    }
   ],
   "source": [
    "dataframe.describe()"
   ]
  },
  {
   "cell_type": "code",
   "execution_count": 365,
   "metadata": {},
   "outputs": [
    {
     "name": "stdout",
     "output_type": "stream",
     "text": [
      "The total number of unique records in 'SalesPersonID' is : 992\n",
      "The total number of unique records in 'ProductID' is : 593\n",
      "The total number of unique records in 'Suspicious' is : 3\n"
     ]
    }
   ],
   "source": [
    "# nunique() return Series with number of distinct observations\n",
    "print(\"The total number of unique records in '{}' is : {}\".format('SalesPersonID',dataframe['SalesPersonID'].nunique()))\n",
    "print(\"The total number of unique records in '{}' is : {}\".format('ProductID',dataframe['ProductID'].nunique()))\n",
    "print(\"The total number of unique records in '{}' is : {}\".format('Suspicious',dataframe['Suspicious'].nunique()))"
   ]
  },
  {
   "cell_type": "code",
   "execution_count": 366,
   "metadata": {},
   "outputs": [
    {
     "data": {
      "text/plain": [
       "SalesPersonID      object\n",
       "ProductID          object\n",
       "Quantity            int64\n",
       "TotalSalesValue     int64\n",
       "Suspicious         object\n",
       "dtype: object"
      ]
     },
     "execution_count": 366,
     "metadata": {},
     "output_type": "execute_result"
    }
   ],
   "source": [
    "dataframe.dtypes"
   ]
  },
  {
   "cell_type": "code",
   "execution_count": 367,
   "metadata": {},
   "outputs": [
    {
     "data": {
      "text/plain": [
       "Index(['SalesPersonID', 'ProductID', 'Quantity', 'TotalSalesValue',\n",
       "       'Suspicious'],\n",
       "      dtype='object')"
      ]
     },
     "execution_count": 367,
     "metadata": {},
     "output_type": "execute_result"
    }
   ],
   "source": [
    "dataframe.keys()"
   ]
  },
  {
   "cell_type": "code",
   "execution_count": 368,
   "metadata": {},
   "outputs": [
    {
     "data": {
      "text/plain": [
       "<Figure size 1600x600 with 0 Axes>"
      ]
     },
     "metadata": {},
     "output_type": "display_data"
    },
    {
     "data": {
      "image/png": "[encoded data removed]",
      "text/plain": [
       "<Figure size 800x550 with 1 Axes>"
      ]
     },
     "metadata": {},
     "output_type": "display_data"
    }
   ],
   "source": [
    "plt.figure(figsize=(16,6))\n",
    "dataframe.sort_values(['SalesPersonID'], ascending=False).head(10).plot(kind=\"barh\")\n",
    "plt.show()"
   ]
  },
  {
   "cell_type": "code",
   "execution_count": 369,
   "metadata": {},
   "outputs": [
    {
     "data": {
      "text/plain": [
       "<Figure size 1600x600 with 0 Axes>"
      ]
     },
     "metadata": {},
     "output_type": "display_data"
    },
    {
     "data": {
      "image/png": "[encoded data removed]",
      "text/plain": [
       "<Figure size 800x550 with 1 Axes>"
      ]
     },
     "metadata": {},
     "output_type": "display_data"
    }
   ],
   "source": [
    "plt.figure(figsize=(16,6))\n",
    "dataframe.sort_values(['ProductID'], ascending=False).head(10).plot(kind=\"barh\")\n",
    "plt.show()"
   ]
  },
  {
   "cell_type": "code",
   "execution_count": 370,
   "metadata": {},
   "outputs": [
    {
     "data": {
      "text/plain": [
       "<Figure size 1600x600 with 0 Axes>"
      ]
     },
     "metadata": {},
     "output_type": "display_data"
    },
    {
     "data": {
      "image/png": "[encoded data removed]",
      "text/plain": [
       "<Figure size 800x550 with 1 Axes>"
      ]
     },
     "metadata": {},
     "output_type": "display_data"
    }
   ],
   "source": [
    "plt.figure(figsize=(16,6))\n",
    "dataframe.sort_values(['Suspicious'], ascending=False).head(10).plot(kind=\"barh\")\n",
    "plt.show()"
   ]
  },
  {
   "cell_type": "markdown",
   "metadata": {},
   "source": [
    "##### Checking missing Values:"
   ]
  },
  {
   "cell_type": "code",
   "execution_count": 371,
   "metadata": {},
   "outputs": [],
   "source": [
    "import missingno as msno # Missing Data visualization"
   ]
  },
  {
   "cell_type": "code",
   "execution_count": 372,
   "metadata": {},
   "outputs": [
    {
     "data": {
      "text/plain": [
       "<Figure size 1600x600 with 0 Axes>"
      ]
     },
     "metadata": {},
     "output_type": "display_data"
    },
    {
     "data": {
      "image/png": "[encoded data removed]",
      "text/plain": [
       "<Figure size 2500x1000 with 2 Axes>"
      ]
     },
     "metadata": {},
     "output_type": "display_data"
    },
    {
     "name": "stdout",
     "output_type": "stream",
     "text": [
      "SalesPersonID has NO missing value!\n",
      "ProductID has NO missing value!\n",
      "Quantity has NO missing value!\n",
      "TotalSalesValue has NO missing value!\n",
      "Suspicious has NO missing value!\n"
     ]
    }
   ],
   "source": [
    "# Checking the missing values \n",
    "plt.figure(figsize=(16,6))\n",
    "msno.matrix(dataframe,labels=True,color=(0.20,0.20,0.20))\n",
    "plt.show()\n",
    "for c in dataframe.columns:\n",
    "    miss = dataframe[c].isnull().sum()\n",
    "    if miss>0:\n",
    "        print(\"{} has {} missing value(s)\".format(c,miss))\n",
    "    else:\n",
    "        print(\"{} has NO missing value!\".format(c))"
   ]
  },
  {
   "cell_type": "code",
   "execution_count": 373,
   "metadata": {},
   "outputs": [
    {
     "data": {
      "text/plain": [
       "<Figure size 10000x20000 with 0 Axes>"
      ]
     },
     "metadata": {},
     "output_type": "display_data"
    },
    {
     "data": {
      "image/png": "[encoded data removed]",
      "text/plain": [
       "<Figure size 800x550 with 1 Axes>"
      ]
     },
     "metadata": {},
     "output_type": "display_data"
    }
   ],
   "source": [
    "# Quantity vs Total Sales\n",
    "plt.figure(figsize=(100,200))\n",
    "dataframe.plot()\n",
    "plt.show()"
   ]
  },
  {
   "cell_type": "code",
   "execution_count": 374,
   "metadata": {},
   "outputs": [],
   "source": [
    "import seaborn as sns"
   ]
  },
  {
   "cell_type": "code",
   "execution_count": 375,
   "metadata": {},
   "outputs": [
    {
     "data": {
      "image/png": "[encoded data removed]",
      "text/plain": [
       "<Figure size 800x550 with 1 Axes>"
      ]
     },
     "metadata": {},
     "output_type": "display_data"
    },
    {
     "data": {
      "text/plain": [
       "indeterminate    93.574750\n",
       "No                6.000188\n",
       "Yes               0.425062\n",
       "Name: Suspicious, dtype: float64"
      ]
     },
     "execution_count": 375,
     "metadata": {},
     "output_type": "execute_result"
    }
   ],
   "source": [
    "#Counter plot for \"Suspicious\"\n",
    "dataframe['Suspicious'].value_counts()\n",
    "sns.countplot(x='Suspicious',data=dataframe)\n",
    "plt.show()\n",
    "(dataframe[\"Suspicious\"].value_counts()/dataframe.shape[0]*100)"
   ]
  },
  {
   "cell_type": "markdown",
   "metadata": {},
   "source": [
    "##### Top 10 Sales persons Transactions:"
   ]
  },
  {
   "cell_type": "code",
   "execution_count": 380,
   "metadata": {},
   "outputs": [
    {
     "data": {
      "image/png": "[encoded data removed]",
      "text/plain": [
       "<Figure size 800x400 with 1 Axes>"
      ]
     },
     "metadata": {},
     "output_type": "display_data"
    },
    {
     "name": "stdout",
     "output_type": "stream",
     "text": [
      "Top ten guys total contribution by quantity\n"
     ]
    },
    {
     "data": {
      "text/plain": [
       "13.948894548010024"
      ]
     },
     "execution_count": 380,
     "metadata": {},
     "output_type": "execute_result"
    }
   ],
   "source": [
    "#Top ten sales based on quantity\n",
    "plt.figure(figsize=(8,4))\n",
    "top_ten_salesid_quantity=dataframe.groupby(['SalesPersonID']).sum().sort_values(by='Quantity',ascending=False).head(10)\n",
    "plt.bar(x=top_ten_salesid_quantity.index,height=top_ten_salesid_quantity['Quantity'],color='green')\n",
    "plt.show()\n",
    "\n",
    "#top ten guys total contribution by quantity\n",
    "print(\"Top ten guys total contribution by quantity\")\n",
    "((top_ten_salesid_quantity['Quantity']/dataframe['TotalSalesValue'].sum())*100).sum() "
   ]
  },
  {
   "cell_type": "markdown",
   "metadata": {},
   "source": [
    "Comment: \n",
    "        Top ten guys contributed 13.948894548010024 percent to the total quantity sold."
   ]
  },
  {
   "cell_type": "code",
   "execution_count": 377,
   "metadata": {},
   "outputs": [
    {
     "data": {
      "text/html": [
       "<div>\n",
       "<style scoped>\n",
       "    .dataframe tbody tr th:only-of-type {\n",
       "        vertical-align: middle;\n",
       "    }\n",
       "\n",
       "    .dataframe tbody tr th {\n",
       "        vertical-align: top;\n",
       "    }\n",
       "\n",
       "    .dataframe thead th {\n",
       "        text-align: right;\n",
       "    }\n",
       "</style>\n",
       "<table border=\"1\" class=\"dataframe\">\n",
       "  <thead>\n",
       "    <tr style=\"text-align: right;\">\n",
       "      <th></th>\n",
       "      <th>Quantity</th>\n",
       "      <th>TotalSalesValue</th>\n",
       "    </tr>\n",
       "    <tr>\n",
       "      <th>SalesPersonID</th>\n",
       "      <th></th>\n",
       "      <th></th>\n",
       "    </tr>\n",
       "  </thead>\n",
       "  <tbody>\n",
       "    <tr>\n",
       "      <th>C21636</th>\n",
       "      <td>24060951</td>\n",
       "      <td>15855820</td>\n",
       "    </tr>\n",
       "    <tr>\n",
       "      <th>C21992</th>\n",
       "      <td>20897797</td>\n",
       "      <td>2056895</td>\n",
       "    </tr>\n",
       "    <tr>\n",
       "      <th>C21656</th>\n",
       "      <td>11943852</td>\n",
       "      <td>5441680</td>\n",
       "    </tr>\n",
       "    <tr>\n",
       "      <th>C21872</th>\n",
       "      <td>7731866</td>\n",
       "      <td>16438165</td>\n",
       "    </tr>\n",
       "    <tr>\n",
       "      <th>C21178</th>\n",
       "      <td>7357299</td>\n",
       "      <td>26522900</td>\n",
       "    </tr>\n",
       "    <tr>\n",
       "      <th>C22112</th>\n",
       "      <td>5711293</td>\n",
       "      <td>1456425</td>\n",
       "    </tr>\n",
       "    <tr>\n",
       "      <th>C22030</th>\n",
       "      <td>5525254</td>\n",
       "      <td>20705860</td>\n",
       "    </tr>\n",
       "    <tr>\n",
       "      <th>C22263</th>\n",
       "      <td>4628186</td>\n",
       "      <td>7814675</td>\n",
       "    </tr>\n",
       "    <tr>\n",
       "      <th>C22011</th>\n",
       "      <td>4260588</td>\n",
       "      <td>1788435</td>\n",
       "    </tr>\n",
       "    <tr>\n",
       "      <th>C22339</th>\n",
       "      <td>4161173</td>\n",
       "      <td>6822510</td>\n",
       "    </tr>\n",
       "  </tbody>\n",
       "</table>\n",
       "</div>"
      ],
      "text/plain": [
       "               Quantity  TotalSalesValue\n",
       "SalesPersonID                           \n",
       "C21636         24060951         15855820\n",
       "C21992         20897797          2056895\n",
       "C21656         11943852          5441680\n",
       "C21872          7731866         16438165\n",
       "C21178          7357299         26522900\n",
       "C22112          5711293          1456425\n",
       "C22030          5525254         20705860\n",
       "C22263          4628186          7814675\n",
       "C22011          4260588          1788435\n",
       "C22339          4161173          6822510"
      ]
     },
     "execution_count": 377,
     "metadata": {},
     "output_type": "execute_result"
    }
   ],
   "source": [
    "pd.DataFrame(top_ten_salesid_quantity)"
   ]
  },
  {
   "cell_type": "markdown",
   "metadata": {},
   "source": [
    "##### Last 10 Sales persons Transactions:"
   ]
  },
  {
   "cell_type": "code",
   "execution_count": 172,
   "metadata": {},
   "outputs": [
    {
     "data": {
      "image/png": "[encoded data removed]",
      "text/plain": [
       "<Figure size 800x400 with 1 Axes>"
      ]
     },
     "metadata": {},
     "output_type": "display_data"
    },
    {
     "name": "stdout",
     "output_type": "stream",
     "text": [
      "Last ten guys total contribution by quantity\n"
     ]
    },
    {
     "data": {
      "text/plain": [
       "0.00014734402037043685"
      ]
     },
     "execution_count": 172,
     "metadata": {},
     "output_type": "execute_result"
    }
   ],
   "source": [
    "#Last ten sales based on quantity\n",
    "plt.figure(figsize=(8,4))\n",
    "last_ten_salesid_quantity=dataframe.groupby(['SalesPersonID']).sum().sort_values(by='Quantity',ascending=False).tail(10)\n",
    "plt.bar(x=last_ten_salesid_quantity.index,height=last_ten_salesid_quantity['Quantity'],color='green')\n",
    "plt.show()\n",
    "\n",
    "#bottom ten guys total contribution by quantity\n",
    "print(\"Last ten guys total contribution by quantity\")\n",
    "((last_ten_salesid_quantity['Quantity']/dataframe['TotalSalesValue'].sum())*100).sum()"
   ]
  },
  {
   "cell_type": "markdown",
   "metadata": {},
   "source": [
    "Comment: Top ten guys contributed 0.000147 percent to the total quantity sold."
   ]
  },
  {
   "cell_type": "code",
   "execution_count": 381,
   "metadata": {},
   "outputs": [
    {
     "data": {
      "text/html": [
       "<div>\n",
       "<style scoped>\n",
       "    .dataframe tbody tr th:only-of-type {\n",
       "        vertical-align: middle;\n",
       "    }\n",
       "\n",
       "    .dataframe tbody tr th {\n",
       "        vertical-align: top;\n",
       "    }\n",
       "\n",
       "    .dataframe thead th {\n",
       "        text-align: right;\n",
       "    }\n",
       "</style>\n",
       "<table border=\"1\" class=\"dataframe\">\n",
       "  <thead>\n",
       "    <tr style=\"text-align: right;\">\n",
       "      <th></th>\n",
       "      <th>Quantity</th>\n",
       "      <th>TotalSalesValue</th>\n",
       "    </tr>\n",
       "    <tr>\n",
       "      <th>SalesPersonID</th>\n",
       "      <th></th>\n",
       "      <th></th>\n",
       "    </tr>\n",
       "  </thead>\n",
       "  <tbody>\n",
       "    <tr>\n",
       "      <th>C21887</th>\n",
       "      <td>108</td>\n",
       "      <td>1025</td>\n",
       "    </tr>\n",
       "    <tr>\n",
       "      <th>C21704</th>\n",
       "      <td>107</td>\n",
       "      <td>2430</td>\n",
       "    </tr>\n",
       "    <tr>\n",
       "      <th>C21342</th>\n",
       "      <td>106</td>\n",
       "      <td>2290</td>\n",
       "    </tr>\n",
       "    <tr>\n",
       "      <th>C21615</th>\n",
       "      <td>105</td>\n",
       "      <td>1660</td>\n",
       "    </tr>\n",
       "    <tr>\n",
       "      <th>C21838</th>\n",
       "      <td>103</td>\n",
       "      <td>1075</td>\n",
       "    </tr>\n",
       "    <tr>\n",
       "      <th>C22169</th>\n",
       "      <td>102</td>\n",
       "      <td>1120</td>\n",
       "    </tr>\n",
       "    <tr>\n",
       "      <th>C21801</th>\n",
       "      <td>101</td>\n",
       "      <td>1030</td>\n",
       "    </tr>\n",
       "    <tr>\n",
       "      <th>C21340</th>\n",
       "      <td>100</td>\n",
       "      <td>1230</td>\n",
       "    </tr>\n",
       "    <tr>\n",
       "      <th>C22134</th>\n",
       "      <td>100</td>\n",
       "      <td>1010</td>\n",
       "    </tr>\n",
       "    <tr>\n",
       "      <th>C21717</th>\n",
       "      <td>85</td>\n",
       "      <td>1005</td>\n",
       "    </tr>\n",
       "  </tbody>\n",
       "</table>\n",
       "</div>"
      ],
      "text/plain": [
       "               Quantity  TotalSalesValue\n",
       "SalesPersonID                           \n",
       "C21887              108             1025\n",
       "C21704              107             2430\n",
       "C21342              106             2290\n",
       "C21615              105             1660\n",
       "C21838              103             1075\n",
       "C22169              102             1120\n",
       "C21801              101             1030\n",
       "C21340              100             1230\n",
       "C22134              100             1010\n",
       "C21717               85             1005"
      ]
     },
     "execution_count": 381,
     "metadata": {},
     "output_type": "execute_result"
    }
   ],
   "source": [
    "pd.DataFrame(last_ten_salesid_quantity)"
   ]
  },
  {
   "cell_type": "code",
   "execution_count": 383,
   "metadata": {},
   "outputs": [
    {
     "name": "stdout",
     "output_type": "stream",
     "text": [
      "593\n",
      "****************************************\n",
      "ProductID\n",
      "PR6112    169\n",
      "PR6113     24\n",
      "PR6114    130\n",
      "PR6115    533\n",
      "PR6116    315\n",
      "PR6117    133\n",
      "PR6118      8\n",
      "PR6119     60\n",
      "PR6120     17\n",
      "PR6121     18\n",
      "PR6122      2\n",
      "PR6123     45\n",
      "PR6124     38\n",
      "PR6125     25\n",
      "PR6126     27\n",
      "dtype: int64\n",
      "****************************************\n"
     ]
    }
   ],
   "source": [
    "# Groupped total sales value by Prodcut Id\n",
    "sal_prod_totalSal=dataframe[['ProductID','TotalSalesValue']]\n",
    "plotting_group=sal_prod_totalSal.groupby('ProductID')\n",
    "print(plotting_group.size().count())\n",
    "print(\"**\"*20)\n",
    "print(plotting_group.size().head(15))\n",
    "print(\"**\"*20)"
   ]
  },
  {
   "cell_type": "code",
   "execution_count": 384,
   "metadata": {},
   "outputs": [
    {
     "data": {
      "text/html": [
       "<div>\n",
       "<style scoped>\n",
       "    .dataframe tbody tr th:only-of-type {\n",
       "        vertical-align: middle;\n",
       "    }\n",
       "\n",
       "    .dataframe tbody tr th {\n",
       "        vertical-align: top;\n",
       "    }\n",
       "\n",
       "    .dataframe thead th {\n",
       "        text-align: right;\n",
       "    }\n",
       "</style>\n",
       "<table border=\"1\" class=\"dataframe\">\n",
       "  <thead>\n",
       "    <tr style=\"text-align: right;\">\n",
       "      <th>ProductID</th>\n",
       "      <th>PR6112</th>\n",
       "      <th>PR6113</th>\n",
       "      <th>PR6114</th>\n",
       "      <th>PR6115</th>\n",
       "      <th>PR6116</th>\n",
       "      <th>PR6117</th>\n",
       "      <th>PR6118</th>\n",
       "      <th>PR6119</th>\n",
       "      <th>PR6120</th>\n",
       "      <th>PR6121</th>\n",
       "      <th>PR6122</th>\n",
       "      <th>PR6123</th>\n",
       "      <th>PR6124</th>\n",
       "      <th>PR6125</th>\n",
       "      <th>PR6126</th>\n",
       "    </tr>\n",
       "  </thead>\n",
       "  <tbody>\n",
       "    <tr>\n",
       "      <th>TotalSalesValue</th>\n",
       "      <td>1162050</td>\n",
       "      <td>121825</td>\n",
       "      <td>1155935</td>\n",
       "      <td>12118200</td>\n",
       "      <td>5104310</td>\n",
       "      <td>1661935</td>\n",
       "      <td>83275</td>\n",
       "      <td>524440</td>\n",
       "      <td>104045</td>\n",
       "      <td>432915</td>\n",
       "      <td>4985</td>\n",
       "      <td>854150</td>\n",
       "      <td>665590</td>\n",
       "      <td>146875</td>\n",
       "      <td>212825</td>\n",
       "    </tr>\n",
       "  </tbody>\n",
       "</table>\n",
       "</div>"
      ],
      "text/plain": [
       "ProductID         PR6112  PR6113   PR6114    PR6115   PR6116   PR6117  PR6118  \\\n",
       "TotalSalesValue  1162050  121825  1155935  12118200  5104310  1661935   83275   \n",
       "\n",
       "ProductID        PR6119  PR6120  PR6121  PR6122  PR6123  PR6124  PR6125  \\\n",
       "TotalSalesValue  524440  104045  432915    4985  854150  665590  146875   \n",
       "\n",
       "ProductID        PR6126  \n",
       "TotalSalesValue  212825  "
      ]
     },
     "execution_count": 384,
     "metadata": {},
     "output_type": "execute_result"
    }
   ],
   "source": [
    "#Sum of Total sales value by its product Id\n",
    "total_sales=plotting_group.sum()\n",
    "pd.DataFrame(total_sales).head(15).T"
   ]
  },
  {
   "cell_type": "code",
   "execution_count": 385,
   "metadata": {},
   "outputs": [
    {
     "data": {
      "text/html": [
       "<div>\n",
       "<style scoped>\n",
       "    .dataframe tbody tr th:only-of-type {\n",
       "        vertical-align: middle;\n",
       "    }\n",
       "\n",
       "    .dataframe tbody tr th {\n",
       "        vertical-align: top;\n",
       "    }\n",
       "\n",
       "    .dataframe thead th {\n",
       "        text-align: right;\n",
       "    }\n",
       "</style>\n",
       "<table border=\"1\" class=\"dataframe\">\n",
       "  <thead>\n",
       "    <tr style=\"text-align: right;\">\n",
       "      <th></th>\n",
       "      <th>TotalSalesValue</th>\n",
       "    </tr>\n",
       "    <tr>\n",
       "      <th>SalesPersonID</th>\n",
       "      <th></th>\n",
       "    </tr>\n",
       "  </thead>\n",
       "  <tbody>\n",
       "    <tr>\n",
       "      <th>C21116</th>\n",
       "      <td>2408.000000</td>\n",
       "    </tr>\n",
       "    <tr>\n",
       "      <th>C21118</th>\n",
       "      <td>199196.000000</td>\n",
       "    </tr>\n",
       "    <tr>\n",
       "      <th>C21119</th>\n",
       "      <td>1168.750000</td>\n",
       "    </tr>\n",
       "    <tr>\n",
       "      <th>C21121</th>\n",
       "      <td>6159.687500</td>\n",
       "    </tr>\n",
       "    <tr>\n",
       "      <th>C21122</th>\n",
       "      <td>1865.357143</td>\n",
       "    </tr>\n",
       "    <tr>\n",
       "      <th>C21123</th>\n",
       "      <td>12335.000000</td>\n",
       "    </tr>\n",
       "    <tr>\n",
       "      <th>C21124</th>\n",
       "      <td>23590.757576</td>\n",
       "    </tr>\n",
       "    <tr>\n",
       "      <th>C21126</th>\n",
       "      <td>15167.500000</td>\n",
       "    </tr>\n",
       "    <tr>\n",
       "      <th>C21127</th>\n",
       "      <td>19312.500000</td>\n",
       "    </tr>\n",
       "    <tr>\n",
       "      <th>C21128</th>\n",
       "      <td>11166.451613</td>\n",
       "    </tr>\n",
       "  </tbody>\n",
       "</table>\n",
       "</div>"
      ],
      "text/plain": [
       "               TotalSalesValue\n",
       "SalesPersonID                 \n",
       "C21116             2408.000000\n",
       "C21118           199196.000000\n",
       "C21119             1168.750000\n",
       "C21121             6159.687500\n",
       "C21122             1865.357143\n",
       "C21123            12335.000000\n",
       "C21124            23590.757576\n",
       "C21126            15167.500000\n",
       "C21127            19312.500000\n",
       "C21128            11166.451613"
      ]
     },
     "execution_count": 385,
     "metadata": {},
     "output_type": "execute_result"
    }
   ],
   "source": [
    "# Groupped totalsales value by Sales Id\n",
    "salesperson_totalsales = dataframe.groupby('SalesPersonID').mean()['TotalSalesValue']\n",
    "pd.DataFrame(salesperson_totalsales).head(10)"
   ]
  },
  {
   "cell_type": "code",
   "execution_count": 386,
   "metadata": {},
   "outputs": [
    {
     "data": {
      "image/png": "[encoded data removed]",
      "text/plain": [
       "<Figure size 1200x600 with 1 Axes>"
      ]
     },
     "metadata": {},
     "output_type": "display_data"
    }
   ],
   "source": [
    "#Salesperson wise total sales\n",
    "fig,axes = plt.subplots(figsize=(12,6))\n",
    "revenue_plot = salesperson_totalsales.plot(kind='line') "
   ]
  },
  {
   "cell_type": "code",
   "execution_count": 387,
   "metadata": {},
   "outputs": [
    {
     "data": {
      "text/plain": [
       "Suspicious\n",
       "No                13250.285323\n",
       "Yes              137467.707182\n",
       "indeterminate      3773.115118\n",
       "Name: Quantity, dtype: float64"
      ]
     },
     "execution_count": 387,
     "metadata": {},
     "output_type": "execute_result"
    }
   ],
   "source": [
    "# Groupped total sales value by Sales Id\n",
    "sales_quantity = dataframe.groupby('Suspicious').mean()['Quantity']\n",
    "sales_quantity"
   ]
  },
  {
   "cell_type": "code",
   "execution_count": 388,
   "metadata": {},
   "outputs": [
    {
     "data": {
      "text/plain": [
       "Text(0,0.5,'Quantity')"
      ]
     },
     "execution_count": 388,
     "metadata": {},
     "output_type": "execute_result"
    },
    {
     "data": {
      "image/png": "[encoded data removed]",
      "text/plain": [
       "<Figure size 400x400 with 1 Axes>"
      ]
     },
     "metadata": {},
     "output_type": "display_data"
    }
   ],
   "source": [
    "# Counter  plot for grouped sales quantity\n",
    "fig, axes = plt.subplots(figsize=(4,4))\n",
    "quantity_plot= sales_quantity.plot(kind='bar', title=\"Suspicious vs Quantity\")\n",
    "quantity_plot.set_xlabel('Suspicious')\n",
    "quantity_plot.set_ylabel('Quantity')"
   ]
  },
  {
   "cell_type": "code",
   "execution_count": 389,
   "metadata": {},
   "outputs": [
    {
     "data": {
      "text/html": [
       "<div>\n",
       "<style scoped>\n",
       "    .dataframe tbody tr th:only-of-type {\n",
       "        vertical-align: middle;\n",
       "    }\n",
       "\n",
       "    .dataframe tbody tr th {\n",
       "        vertical-align: top;\n",
       "    }\n",
       "\n",
       "    .dataframe thead th {\n",
       "        text-align: right;\n",
       "    }\n",
       "</style>\n",
       "<table border=\"1\" class=\"dataframe\">\n",
       "  <thead>\n",
       "    <tr style=\"text-align: right;\">\n",
       "      <th></th>\n",
       "      <th>SalesPersonID</th>\n",
       "      <th>C21116</th>\n",
       "      <th>C21118</th>\n",
       "      <th>C21119</th>\n",
       "      <th>C21121</th>\n",
       "      <th>C21122</th>\n",
       "      <th>C21123</th>\n",
       "      <th>C21124</th>\n",
       "      <th>C21126</th>\n",
       "      <th>C21127</th>\n",
       "      <th>C21128</th>\n",
       "      <th>...</th>\n",
       "      <th>C22336</th>\n",
       "      <th>C22337</th>\n",
       "      <th>C22339</th>\n",
       "      <th>C22340</th>\n",
       "      <th>C22341</th>\n",
       "      <th>C22342</th>\n",
       "      <th>C22343</th>\n",
       "      <th>C22344</th>\n",
       "      <th>C22347</th>\n",
       "      <th>C22348</th>\n",
       "    </tr>\n",
       "    <tr>\n",
       "      <th></th>\n",
       "      <th>Suspicious</th>\n",
       "      <th></th>\n",
       "      <th></th>\n",
       "      <th></th>\n",
       "      <th></th>\n",
       "      <th></th>\n",
       "      <th></th>\n",
       "      <th></th>\n",
       "      <th></th>\n",
       "      <th></th>\n",
       "      <th></th>\n",
       "      <th></th>\n",
       "      <th></th>\n",
       "      <th></th>\n",
       "      <th></th>\n",
       "      <th></th>\n",
       "      <th></th>\n",
       "      <th></th>\n",
       "      <th></th>\n",
       "      <th></th>\n",
       "      <th></th>\n",
       "      <th></th>\n",
       "    </tr>\n",
       "  </thead>\n",
       "  <tbody>\n",
       "    <tr>\n",
       "      <th rowspan=\"3\" valign=\"top\">Quantity</th>\n",
       "      <th>No</th>\n",
       "      <td>283.0</td>\n",
       "      <td>587465.0</td>\n",
       "      <td>166.0</td>\n",
       "      <td>140.0</td>\n",
       "      <td>NaN</td>\n",
       "      <td>100.0</td>\n",
       "      <td>169483.0</td>\n",
       "      <td>260.0</td>\n",
       "      <td>333.0</td>\n",
       "      <td>754.0</td>\n",
       "      <td>...</td>\n",
       "      <td>NaN</td>\n",
       "      <td>1927.0</td>\n",
       "      <td>201294.0</td>\n",
       "      <td>NaN</td>\n",
       "      <td>NaN</td>\n",
       "      <td>106.0</td>\n",
       "      <td>NaN</td>\n",
       "      <td>94612.0</td>\n",
       "      <td>NaN</td>\n",
       "      <td>102.0</td>\n",
       "    </tr>\n",
       "    <tr>\n",
       "      <th>Yes</th>\n",
       "      <td>NaN</td>\n",
       "      <td>110.0</td>\n",
       "      <td>NaN</td>\n",
       "      <td>NaN</td>\n",
       "      <td>NaN</td>\n",
       "      <td>NaN</td>\n",
       "      <td>NaN</td>\n",
       "      <td>NaN</td>\n",
       "      <td>NaN</td>\n",
       "      <td>4583.0</td>\n",
       "      <td>...</td>\n",
       "      <td>NaN</td>\n",
       "      <td>NaN</td>\n",
       "      <td>NaN</td>\n",
       "      <td>NaN</td>\n",
       "      <td>NaN</td>\n",
       "      <td>NaN</td>\n",
       "      <td>NaN</td>\n",
       "      <td>1245.0</td>\n",
       "      <td>NaN</td>\n",
       "      <td>NaN</td>\n",
       "    </tr>\n",
       "    <tr>\n",
       "      <th>indeterminate</th>\n",
       "      <td>1546.0</td>\n",
       "      <td>379364.0</td>\n",
       "      <td>304.0</td>\n",
       "      <td>16157.0</td>\n",
       "      <td>5965.0</td>\n",
       "      <td>30645.0</td>\n",
       "      <td>26167.0</td>\n",
       "      <td>186909.0</td>\n",
       "      <td>327.0</td>\n",
       "      <td>674547.0</td>\n",
       "      <td>...</td>\n",
       "      <td>60374.0</td>\n",
       "      <td>1384346.0</td>\n",
       "      <td>3959879.0</td>\n",
       "      <td>34677.0</td>\n",
       "      <td>17146.0</td>\n",
       "      <td>94100.0</td>\n",
       "      <td>80834.0</td>\n",
       "      <td>220046.0</td>\n",
       "      <td>15468.0</td>\n",
       "      <td>26682.0</td>\n",
       "    </tr>\n",
       "  </tbody>\n",
       "</table>\n",
       "<p>3 rows × 992 columns</p>\n",
       "</div>"
      ],
      "text/plain": [
       "SalesPersonID           C21116    C21118  C21119   C21121  C21122   C21123  \\\n",
       "         Suspicious                                                          \n",
       "Quantity No              283.0  587465.0   166.0    140.0     NaN    100.0   \n",
       "         Yes               NaN     110.0     NaN      NaN     NaN      NaN   \n",
       "         indeterminate  1546.0  379364.0   304.0  16157.0  5965.0  30645.0   \n",
       "\n",
       "SalesPersonID             C21124    C21126  C21127    C21128   ...     \\\n",
       "         Suspicious                                            ...      \n",
       "Quantity No             169483.0     260.0   333.0     754.0   ...      \n",
       "         Yes                 NaN       NaN     NaN    4583.0   ...      \n",
       "         indeterminate   26167.0  186909.0   327.0  674547.0   ...      \n",
       "\n",
       "SalesPersonID            C22336     C22337     C22339   C22340   C22341  \\\n",
       "         Suspicious                                                       \n",
       "Quantity No                 NaN     1927.0   201294.0      NaN      NaN   \n",
       "         Yes                NaN        NaN        NaN      NaN      NaN   \n",
       "         indeterminate  60374.0  1384346.0  3959879.0  34677.0  17146.0   \n",
       "\n",
       "SalesPersonID            C22342   C22343    C22344   C22347   C22348  \n",
       "         Suspicious                                                   \n",
       "Quantity No               106.0      NaN   94612.0      NaN    102.0  \n",
       "         Yes                NaN      NaN    1245.0      NaN      NaN  \n",
       "         indeterminate  94100.0  80834.0  220046.0  15468.0  26682.0  \n",
       "\n",
       "[3 rows x 992 columns]"
      ]
     },
     "execution_count": 389,
     "metadata": {},
     "output_type": "execute_result"
    }
   ],
   "source": [
    "#### Checking the sales break down by category\n",
    "customes = dataframe [['SalesPersonID','Suspicious','Quantity']]\n",
    "category_group = customes.groupby(['SalesPersonID','Suspicious']).sum()\n",
    "category_group.unstack().T"
   ]
  },
  {
   "cell_type": "code",
   "execution_count": 390,
   "metadata": {},
   "outputs": [],
   "source": [
    "dataframe1=dataframe"
   ]
  },
  {
   "cell_type": "code",
   "execution_count": 391,
   "metadata": {},
   "outputs": [
    {
     "name": "stdout",
     "output_type": "stream",
     "text": [
      "<class 'pandas.core.frame.DataFrame'>\n",
      "RangeIndex: 42582 entries, 0 to 42581\n",
      "Data columns (total 5 columns):\n",
      "SalesPersonID      42582 non-null object\n",
      "ProductID          42582 non-null object\n",
      "Quantity           42582 non-null int64\n",
      "TotalSalesValue    42582 non-null int64\n",
      "Suspicious         42582 non-null object\n",
      "dtypes: int64(2), object(3)\n",
      "memory usage: 1.6+ MB\n"
     ]
    }
   ],
   "source": [
    "dataframe1.info()"
   ]
  },
  {
   "cell_type": "markdown",
   "metadata": {},
   "source": [
    "# Feature engineering"
   ]
  },
  {
   "cell_type": "code",
   "execution_count": 392,
   "metadata": {},
   "outputs": [],
   "source": [
    "dataframe1['PricePerUnit']=dataframe1.TotalSalesValue/dataframe1.Quantity"
   ]
  },
  {
   "cell_type": "code",
   "execution_count": 393,
   "metadata": {},
   "outputs": [
    {
     "data": {
      "text/html": [
       "<div>\n",
       "<style scoped>\n",
       "    .dataframe tbody tr th:only-of-type {\n",
       "        vertical-align: middle;\n",
       "    }\n",
       "\n",
       "    .dataframe tbody tr th {\n",
       "        vertical-align: top;\n",
       "    }\n",
       "\n",
       "    .dataframe thead th {\n",
       "        text-align: right;\n",
       "    }\n",
       "</style>\n",
       "<table border=\"1\" class=\"dataframe\">\n",
       "  <thead>\n",
       "    <tr style=\"text-align: right;\">\n",
       "      <th></th>\n",
       "      <th>SalesPersonID</th>\n",
       "      <th>ProductID</th>\n",
       "      <th>Quantity</th>\n",
       "      <th>TotalSalesValue</th>\n",
       "      <th>Suspicious</th>\n",
       "      <th>PricePerUnit</th>\n",
       "    </tr>\n",
       "  </thead>\n",
       "  <tbody>\n",
       "    <tr>\n",
       "      <th>0</th>\n",
       "      <td>C21116</td>\n",
       "      <td>PR6112</td>\n",
       "      <td>182</td>\n",
       "      <td>1665</td>\n",
       "      <td>indeterminate</td>\n",
       "      <td>9.148352</td>\n",
       "    </tr>\n",
       "    <tr>\n",
       "      <th>1</th>\n",
       "      <td>C21116</td>\n",
       "      <td>PR6112</td>\n",
       "      <td>182</td>\n",
       "      <td>1740</td>\n",
       "      <td>indeterminate</td>\n",
       "      <td>9.560440</td>\n",
       "    </tr>\n",
       "    <tr>\n",
       "      <th>2</th>\n",
       "      <td>C21116</td>\n",
       "      <td>PR6253</td>\n",
       "      <td>101</td>\n",
       "      <td>1040</td>\n",
       "      <td>indeterminate</td>\n",
       "      <td>10.297030</td>\n",
       "    </tr>\n",
       "    <tr>\n",
       "      <th>3</th>\n",
       "      <td>C21116</td>\n",
       "      <td>PR6253</td>\n",
       "      <td>283</td>\n",
       "      <td>4495</td>\n",
       "      <td>No</td>\n",
       "      <td>15.883392</td>\n",
       "    </tr>\n",
       "    <tr>\n",
       "      <th>4</th>\n",
       "      <td>C21116</td>\n",
       "      <td>PR6294</td>\n",
       "      <td>108</td>\n",
       "      <td>1465</td>\n",
       "      <td>indeterminate</td>\n",
       "      <td>13.564815</td>\n",
       "    </tr>\n",
       "  </tbody>\n",
       "</table>\n",
       "</div>"
      ],
      "text/plain": [
       "  SalesPersonID ProductID  Quantity  TotalSalesValue     Suspicious  \\\n",
       "0        C21116    PR6112       182             1665  indeterminate   \n",
       "1        C21116    PR6112       182             1740  indeterminate   \n",
       "2        C21116    PR6253       101             1040  indeterminate   \n",
       "3        C21116    PR6253       283             4495             No   \n",
       "4        C21116    PR6294       108             1465  indeterminate   \n",
       "\n",
       "   PricePerUnit  \n",
       "0      9.148352  \n",
       "1      9.560440  \n",
       "2     10.297030  \n",
       "3     15.883392  \n",
       "4     13.564815  "
      ]
     },
     "execution_count": 393,
     "metadata": {},
     "output_type": "execute_result"
    }
   ],
   "source": [
    "dataframe1.head(5)"
   ]
  },
  {
   "cell_type": "code",
   "execution_count": 394,
   "metadata": {},
   "outputs": [
    {
     "data": {
      "text/plain": [
       "Index(['SalesPersonID', 'ProductID', 'Quantity', 'TotalSalesValue',\n",
       "       'Suspicious', 'PricePerUnit'],\n",
       "      dtype='object')"
      ]
     },
     "execution_count": 394,
     "metadata": {},
     "output_type": "execute_result"
    }
   ],
   "source": [
    "dataframe1.keys()"
   ]
  },
  {
   "cell_type": "code",
   "execution_count": 395,
   "metadata": {},
   "outputs": [],
   "source": [
    "def group_By_with_TwoColumns(df,dfCol1,dfCol2,dfCol3,joinCond): \n",
    "    data=pd.merge(df,pd.DataFrame(df.groupby([dfCol1,dfCol2]).mean()[dfCol3]).reset_index(),on=[dfCol1,dfCol2],how=joinCond)\n",
    "    return data"
   ]
  },
  {
   "cell_type": "code",
   "execution_count": 396,
   "metadata": {},
   "outputs": [],
   "source": [
    "def group_By_with_SingleColumns(df,dfCol1,dfCol2,joinCond): \n",
    "    data=pd.merge(df,pd.DataFrame(df.groupby([dfCol1]).mean()[dfCol2]).reset_index(),on=[dfCol1],how=joinCond)\n",
    "    return data"
   ]
  },
  {
   "cell_type": "code",
   "execution_count": 397,
   "metadata": {},
   "outputs": [],
   "source": [
    "def renaming_Column(df,ac1,rc2,ac3,rc4):\n",
    "    data=df.rename(index=str,columns={ac1:rc2,ac3:rc4})\n",
    "    return data"
   ]
  },
  {
   "cell_type": "code",
   "execution_count": 398,
   "metadata": {},
   "outputs": [],
   "source": [
    "def diff_between_two_columns(df,col1,col2):\n",
    "    data=df[col1]-df[col2]\n",
    "    return data"
   ]
  },
  {
   "cell_type": "code",
   "execution_count": 399,
   "metadata": {},
   "outputs": [],
   "source": [
    "dataframe1=group_By_with_TwoColumns(dataframe1,'SalesPersonID','ProductID','Quantity','left')\n",
    "dataframe1=renaming_Column(dataframe1,\"Quantity_y\",\"Avg_Qty_ProdID\",\"Quantity_x\",\"Quantity\")"
   ]
  },
  {
   "cell_type": "code",
   "execution_count": 400,
   "metadata": {},
   "outputs": [
    {
     "data": {
      "text/plain": [
       "Index(['SalesPersonID', 'ProductID', 'Quantity', 'TotalSalesValue',\n",
       "       'Suspicious', 'PricePerUnit', 'Avg_Qty_ProdID'],\n",
       "      dtype='object')"
      ]
     },
     "execution_count": 400,
     "metadata": {},
     "output_type": "execute_result"
    }
   ],
   "source": [
    "dataframe1.keys()"
   ]
  },
  {
   "cell_type": "code",
   "execution_count": 401,
   "metadata": {},
   "outputs": [],
   "source": [
    "dataframe1=group_By_with_TwoColumns(dataframe1,'SalesPersonID','ProductID','TotalSalesValue','left')\n",
    "dataframe1=renaming_Column(dataframe1,'TotalSalesValue_y','Avg_Tsale_prdID','TotalSalesValue_x',\"TotalSalesValue\")"
   ]
  },
  {
   "cell_type": "code",
   "execution_count": 402,
   "metadata": {},
   "outputs": [
    {
     "data": {
      "text/plain": [
       "Index(['SalesPersonID', 'ProductID', 'Quantity', 'TotalSalesValue',\n",
       "       'Suspicious', 'PricePerUnit', 'Avg_Qty_ProdID', 'Avg_Tsale_prdID'],\n",
       "      dtype='object')"
      ]
     },
     "execution_count": 402,
     "metadata": {},
     "output_type": "execute_result"
    }
   ],
   "source": [
    "dataframe1.keys()"
   ]
  },
  {
   "cell_type": "code",
   "execution_count": 403,
   "metadata": {},
   "outputs": [],
   "source": [
    "dataframe1=group_By_with_TwoColumns(dataframe1,'SalesPersonID','ProductID','PricePerUnit','left')\n",
    "dataframe1=renaming_Column(dataframe1,'PricePerUnit_y','Avg_PPerUnit_prdID','PricePerUnit_x','PricePerUnit')"
   ]
  },
  {
   "cell_type": "code",
   "execution_count": 404,
   "metadata": {},
   "outputs": [
    {
     "data": {
      "text/plain": [
       "Index(['SalesPersonID', 'ProductID', 'Quantity', 'TotalSalesValue',\n",
       "       'Suspicious', 'PricePerUnit', 'Avg_Qty_ProdID', 'Avg_Tsale_prdID',\n",
       "       'Avg_PPerUnit_prdID'],\n",
       "      dtype='object')"
      ]
     },
     "execution_count": 404,
     "metadata": {},
     "output_type": "execute_result"
    }
   ],
   "source": [
    "dataframe1.keys()"
   ]
  },
  {
   "cell_type": "code",
   "execution_count": 405,
   "metadata": {},
   "outputs": [],
   "source": [
    "dataframe1=group_By_with_SingleColumns(dataframe1,'SalesPersonID','Quantity','left')\n",
    "dataframe1=renaming_Column(dataframe1,'Quantity_y','Avg_Qty','Quantity_x','Quantity')"
   ]
  },
  {
   "cell_type": "code",
   "execution_count": 406,
   "metadata": {},
   "outputs": [
    {
     "data": {
      "text/plain": [
       "Index(['SalesPersonID', 'ProductID', 'Quantity', 'TotalSalesValue',\n",
       "       'Suspicious', 'PricePerUnit', 'Avg_Qty_ProdID', 'Avg_Tsale_prdID',\n",
       "       'Avg_PPerUnit_prdID', 'Avg_Qty'],\n",
       "      dtype='object')"
      ]
     },
     "execution_count": 406,
     "metadata": {},
     "output_type": "execute_result"
    }
   ],
   "source": [
    "dataframe1.keys()"
   ]
  },
  {
   "cell_type": "code",
   "execution_count": 407,
   "metadata": {},
   "outputs": [],
   "source": [
    "dataframe1=group_By_with_SingleColumns(dataframe1,'SalesPersonID','TotalSalesValue','left')\n",
    "dataframe1=renaming_Column(dataframe1,'TotalSalesValue_y','Avg_TSale','TotalSalesValue_x','TotalSalesValue')"
   ]
  },
  {
   "cell_type": "code",
   "execution_count": 408,
   "metadata": {},
   "outputs": [
    {
     "data": {
      "text/plain": [
       "Index(['SalesPersonID', 'ProductID', 'Quantity', 'TotalSalesValue',\n",
       "       'Suspicious', 'PricePerUnit'],\n",
       "      dtype='object')"
      ]
     },
     "execution_count": 408,
     "metadata": {},
     "output_type": "execute_result"
    }
   ],
   "source": [
    "dataframe.keys()"
   ]
  },
  {
   "cell_type": "code",
   "execution_count": 409,
   "metadata": {},
   "outputs": [],
   "source": [
    "dataframe1=group_By_with_SingleColumns(dataframe1,'SalesPersonID','PricePerUnit','left')\n",
    "dataframe1=renaming_Column(dataframe1,'PricePerUnit_y','Avg_PPerUnit','PricePerUnit_x','PricePerUnit')"
   ]
  },
  {
   "cell_type": "code",
   "execution_count": 410,
   "metadata": {},
   "outputs": [],
   "source": [
    "dataframe1=group_By_with_SingleColumns(dataframe1,'ProductID','Quantity','left')\n",
    "dataframe1=renaming_Column(dataframe1,'Quantity_y','Avg_Qty_pProdID','Quantity_x','Quantity')"
   ]
  },
  {
   "cell_type": "code",
   "execution_count": 411,
   "metadata": {},
   "outputs": [
    {
     "data": {
      "text/plain": [
       "Index(['SalesPersonID', 'ProductID', 'Quantity', 'TotalSalesValue',\n",
       "       'Suspicious', 'PricePerUnit', 'Avg_Qty_ProdID', 'Avg_Tsale_prdID',\n",
       "       'Avg_PPerUnit_prdID', 'Avg_Qty', 'Avg_TSale', 'Avg_PPerUnit',\n",
       "       'Avg_Qty_pProdID'],\n",
       "      dtype='object')"
      ]
     },
     "execution_count": 411,
     "metadata": {},
     "output_type": "execute_result"
    }
   ],
   "source": [
    "dataframe1.keys()"
   ]
  },
  {
   "cell_type": "code",
   "execution_count": 412,
   "metadata": {},
   "outputs": [],
   "source": [
    "dataframe1=group_By_with_SingleColumns(dataframe1,'ProductID','TotalSalesValue','left')\n",
    "dataframe1=renaming_Column(dataframe1,'TotalSalesValue_y','Avg_TsaleVal_ProdID','TotalSalesValue_x','TotalSalesValue')"
   ]
  },
  {
   "cell_type": "code",
   "execution_count": 413,
   "metadata": {},
   "outputs": [],
   "source": [
    "dataframe1=group_By_with_SingleColumns(dataframe1,'ProductID','PricePerUnit','left')\n",
    "dataframe1=renaming_Column(dataframe1,'PricePerUnit_y','Avg_PPerUnit_ProdID','PricePerUnit_x','PricePerUnit')"
   ]
  },
  {
   "cell_type": "code",
   "execution_count": 414,
   "metadata": {},
   "outputs": [
    {
     "data": {
      "text/plain": [
       "Index(['SalesPersonID', 'ProductID', 'Quantity', 'TotalSalesValue',\n",
       "       'Suspicious', 'PricePerUnit', 'Avg_Qty_ProdID', 'Avg_Tsale_prdID',\n",
       "       'Avg_PPerUnit_prdID', 'Avg_Qty', 'Avg_TSale', 'Avg_PPerUnit',\n",
       "       'Avg_Qty_pProdID', 'Avg_TsaleVal_ProdID', 'Avg_PPerUnit_ProdID'],\n",
       "      dtype='object')"
      ]
     },
     "execution_count": 414,
     "metadata": {},
     "output_type": "execute_result"
    }
   ],
   "source": [
    "dataframe1.keys()"
   ]
  },
  {
   "cell_type": "code",
   "execution_count": 415,
   "metadata": {},
   "outputs": [
    {
     "data": {
      "text/html": [
       "<div>\n",
       "<style scoped>\n",
       "    .dataframe tbody tr th:only-of-type {\n",
       "        vertical-align: middle;\n",
       "    }\n",
       "\n",
       "    .dataframe tbody tr th {\n",
       "        vertical-align: top;\n",
       "    }\n",
       "\n",
       "    .dataframe thead th {\n",
       "        text-align: right;\n",
       "    }\n",
       "</style>\n",
       "<table border=\"1\" class=\"dataframe\">\n",
       "  <thead>\n",
       "    <tr style=\"text-align: right;\">\n",
       "      <th></th>\n",
       "      <th>SalesPersonID</th>\n",
       "      <th>ProductID</th>\n",
       "      <th>Quantity</th>\n",
       "      <th>TotalSalesValue</th>\n",
       "      <th>Suspicious</th>\n",
       "      <th>PricePerUnit</th>\n",
       "      <th>Avg_Qty_ProdID</th>\n",
       "      <th>Avg_Tsale_prdID</th>\n",
       "      <th>Avg_PPerUnit_prdID</th>\n",
       "      <th>Avg_Qty</th>\n",
       "      <th>Avg_TSale</th>\n",
       "      <th>Avg_PPerUnit</th>\n",
       "      <th>Avg_Qty_pProdID</th>\n",
       "      <th>Avg_TsaleVal_ProdID</th>\n",
       "      <th>Avg_PPerUnit_ProdID</th>\n",
       "    </tr>\n",
       "  </thead>\n",
       "  <tbody>\n",
       "    <tr>\n",
       "      <th>0</th>\n",
       "      <td>C21116</td>\n",
       "      <td>PR6112</td>\n",
       "      <td>182</td>\n",
       "      <td>1665</td>\n",
       "      <td>indeterminate</td>\n",
       "      <td>9.148352</td>\n",
       "      <td>182.0</td>\n",
       "      <td>1715.0</td>\n",
       "      <td>9.423077</td>\n",
       "      <td>182.9</td>\n",
       "      <td>2408.0</td>\n",
       "      <td>12.592662</td>\n",
       "      <td>591.650888</td>\n",
       "      <td>6876.035503</td>\n",
       "      <td>14.164825</td>\n",
       "    </tr>\n",
       "    <tr>\n",
       "      <th>1</th>\n",
       "      <td>C21116</td>\n",
       "      <td>PR6112</td>\n",
       "      <td>182</td>\n",
       "      <td>1740</td>\n",
       "      <td>indeterminate</td>\n",
       "      <td>9.560440</td>\n",
       "      <td>182.0</td>\n",
       "      <td>1715.0</td>\n",
       "      <td>9.423077</td>\n",
       "      <td>182.9</td>\n",
       "      <td>2408.0</td>\n",
       "      <td>12.592662</td>\n",
       "      <td>591.650888</td>\n",
       "      <td>6876.035503</td>\n",
       "      <td>14.164825</td>\n",
       "    </tr>\n",
       "    <tr>\n",
       "      <th>2</th>\n",
       "      <td>C21116</td>\n",
       "      <td>PR6253</td>\n",
       "      <td>101</td>\n",
       "      <td>1040</td>\n",
       "      <td>indeterminate</td>\n",
       "      <td>10.297030</td>\n",
       "      <td>227.0</td>\n",
       "      <td>3327.5</td>\n",
       "      <td>13.215452</td>\n",
       "      <td>182.9</td>\n",
       "      <td>2408.0</td>\n",
       "      <td>12.592662</td>\n",
       "      <td>471.563320</td>\n",
       "      <td>5612.323552</td>\n",
       "      <td>16.161482</td>\n",
       "    </tr>\n",
       "    <tr>\n",
       "      <th>3</th>\n",
       "      <td>C21116</td>\n",
       "      <td>PR6253</td>\n",
       "      <td>283</td>\n",
       "      <td>4495</td>\n",
       "      <td>No</td>\n",
       "      <td>15.883392</td>\n",
       "      <td>227.0</td>\n",
       "      <td>3327.5</td>\n",
       "      <td>13.215452</td>\n",
       "      <td>182.9</td>\n",
       "      <td>2408.0</td>\n",
       "      <td>12.592662</td>\n",
       "      <td>471.563320</td>\n",
       "      <td>5612.323552</td>\n",
       "      <td>16.161482</td>\n",
       "    </tr>\n",
       "    <tr>\n",
       "      <th>4</th>\n",
       "      <td>C21116</td>\n",
       "      <td>PR6294</td>\n",
       "      <td>108</td>\n",
       "      <td>1465</td>\n",
       "      <td>indeterminate</td>\n",
       "      <td>13.564815</td>\n",
       "      <td>112.5</td>\n",
       "      <td>1662.5</td>\n",
       "      <td>14.731125</td>\n",
       "      <td>182.9</td>\n",
       "      <td>2408.0</td>\n",
       "      <td>12.592662</td>\n",
       "      <td>224.248227</td>\n",
       "      <td>5203.262411</td>\n",
       "      <td>20.898267</td>\n",
       "    </tr>\n",
       "  </tbody>\n",
       "</table>\n",
       "</div>"
      ],
      "text/plain": [
       "  SalesPersonID ProductID  Quantity  TotalSalesValue     Suspicious  \\\n",
       "0        C21116    PR6112       182             1665  indeterminate   \n",
       "1        C21116    PR6112       182             1740  indeterminate   \n",
       "2        C21116    PR6253       101             1040  indeterminate   \n",
       "3        C21116    PR6253       283             4495             No   \n",
       "4        C21116    PR6294       108             1465  indeterminate   \n",
       "\n",
       "   PricePerUnit  Avg_Qty_ProdID  Avg_Tsale_prdID  Avg_PPerUnit_prdID  Avg_Qty  \\\n",
       "0      9.148352           182.0           1715.0            9.423077    182.9   \n",
       "1      9.560440           182.0           1715.0            9.423077    182.9   \n",
       "2     10.297030           227.0           3327.5           13.215452    182.9   \n",
       "3     15.883392           227.0           3327.5           13.215452    182.9   \n",
       "4     13.564815           112.5           1662.5           14.731125    182.9   \n",
       "\n",
       "   Avg_TSale  Avg_PPerUnit  Avg_Qty_pProdID  Avg_TsaleVal_ProdID  \\\n",
       "0     2408.0     12.592662       591.650888          6876.035503   \n",
       "1     2408.0     12.592662       591.650888          6876.035503   \n",
       "2     2408.0     12.592662       471.563320          5612.323552   \n",
       "3     2408.0     12.592662       471.563320          5612.323552   \n",
       "4     2408.0     12.592662       224.248227          5203.262411   \n",
       "\n",
       "   Avg_PPerUnit_ProdID  \n",
       "0            14.164825  \n",
       "1            14.164825  \n",
       "2            16.161482  \n",
       "3            16.161482  \n",
       "4            20.898267  "
      ]
     },
     "execution_count": 415,
     "metadata": {},
     "output_type": "execute_result"
    }
   ],
   "source": [
    "dataframe1.head()"
   ]
  },
  {
   "cell_type": "code",
   "execution_count": 416,
   "metadata": {},
   "outputs": [
    {
     "data": {
      "text/plain": [
       "15"
      ]
     },
     "execution_count": 416,
     "metadata": {},
     "output_type": "execute_result"
    }
   ],
   "source": [
    "len(dataframe1.columns)"
   ]
  },
  {
   "cell_type": "markdown",
   "metadata": {},
   "source": [
    "##### Looking for NaN's"
   ]
  },
  {
   "cell_type": "code",
   "execution_count": 417,
   "metadata": {},
   "outputs": [],
   "source": [
    "#return a formatted percentage from a fraction\n",
    "def percentage(numerator, denomenator):\n",
    "    \n",
    "    if type(numerator) == pd.core.series.Series:\n",
    "        return (numerator/denomenator*100).map('{:.1f}%'.format)\n",
    "    \n",
    "    elif type(numerator) == int or type(numerator) == float:\n",
    "        return '{:.1f}%'.format(float(numerator)/float(denomenator)*100) \n",
    "    \n",
    "    else:\n",
    "        print(\"check type\")"
   ]
  },
  {
   "cell_type": "code",
   "execution_count": 418,
   "metadata": {},
   "outputs": [
    {
     "data": {
      "text/plain": [
       "SalesPersonID          100.0%\n",
       "ProductID              100.0%\n",
       "Quantity               100.0%\n",
       "TotalSalesValue        100.0%\n",
       "Suspicious             100.0%\n",
       "PricePerUnit           100.0%\n",
       "Avg_Qty_ProdID         100.0%\n",
       "Avg_Tsale_prdID        100.0%\n",
       "Avg_PPerUnit_prdID     100.0%\n",
       "Avg_Qty                100.0%\n",
       "Avg_TSale              100.0%\n",
       "Avg_PPerUnit           100.0%\n",
       "Avg_Qty_pProdID        100.0%\n",
       "Avg_TsaleVal_ProdID    100.0%\n",
       "Avg_PPerUnit_ProdID    100.0%\n",
       "dtype: object"
      ]
     },
     "execution_count": 418,
     "metadata": {},
     "output_type": "execute_result"
    }
   ],
   "source": [
    "#Get percentage by variable of values which are not NaN\n",
    "percentage(dataframe1.count()-1, dataframe1.shape[0]-1)"
   ]
  },
  {
   "cell_type": "code",
   "execution_count": 420,
   "metadata": {},
   "outputs": [
    {
     "data": {
      "text/html": [
       "<div>\n",
       "<style scoped>\n",
       "    .dataframe tbody tr th:only-of-type {\n",
       "        vertical-align: middle;\n",
       "    }\n",
       "\n",
       "    .dataframe tbody tr th {\n",
       "        vertical-align: top;\n",
       "    }\n",
       "\n",
       "    .dataframe thead th {\n",
       "        text-align: right;\n",
       "    }\n",
       "</style>\n",
       "<table border=\"1\" class=\"dataframe\">\n",
       "  <thead>\n",
       "    <tr style=\"text-align: right;\">\n",
       "      <th></th>\n",
       "      <th>SalesPersonID</th>\n",
       "      <th>ProductID</th>\n",
       "      <th>Quantity</th>\n",
       "      <th>TotalSalesValue</th>\n",
       "      <th>Suspicious</th>\n",
       "      <th>PricePerUnit</th>\n",
       "    </tr>\n",
       "  </thead>\n",
       "  <tbody>\n",
       "    <tr>\n",
       "      <th>0</th>\n",
       "      <td>C21116</td>\n",
       "      <td>PR6112</td>\n",
       "      <td>182</td>\n",
       "      <td>1665</td>\n",
       "      <td>indeterminate</td>\n",
       "      <td>9.148352</td>\n",
       "    </tr>\n",
       "    <tr>\n",
       "      <th>1</th>\n",
       "      <td>C21116</td>\n",
       "      <td>PR6112</td>\n",
       "      <td>182</td>\n",
       "      <td>1740</td>\n",
       "      <td>indeterminate</td>\n",
       "      <td>9.560440</td>\n",
       "    </tr>\n",
       "    <tr>\n",
       "      <th>2</th>\n",
       "      <td>C21116</td>\n",
       "      <td>PR6253</td>\n",
       "      <td>101</td>\n",
       "      <td>1040</td>\n",
       "      <td>indeterminate</td>\n",
       "      <td>10.297030</td>\n",
       "    </tr>\n",
       "    <tr>\n",
       "      <th>3</th>\n",
       "      <td>C21116</td>\n",
       "      <td>PR6253</td>\n",
       "      <td>283</td>\n",
       "      <td>4495</td>\n",
       "      <td>No</td>\n",
       "      <td>15.883392</td>\n",
       "    </tr>\n",
       "    <tr>\n",
       "      <th>4</th>\n",
       "      <td>C21116</td>\n",
       "      <td>PR6294</td>\n",
       "      <td>108</td>\n",
       "      <td>1465</td>\n",
       "      <td>indeterminate</td>\n",
       "      <td>13.564815</td>\n",
       "    </tr>\n",
       "  </tbody>\n",
       "</table>\n",
       "</div>"
      ],
      "text/plain": [
       "  SalesPersonID ProductID  Quantity  TotalSalesValue     Suspicious  \\\n",
       "0        C21116    PR6112       182             1665  indeterminate   \n",
       "1        C21116    PR6112       182             1740  indeterminate   \n",
       "2        C21116    PR6253       101             1040  indeterminate   \n",
       "3        C21116    PR6253       283             4495             No   \n",
       "4        C21116    PR6294       108             1465  indeterminate   \n",
       "\n",
       "   PricePerUnit  \n",
       "0      9.148352  \n",
       "1      9.560440  \n",
       "2     10.297030  \n",
       "3     15.883392  \n",
       "4     13.564815  "
      ]
     },
     "execution_count": 420,
     "metadata": {},
     "output_type": "execute_result"
    }
   ],
   "source": [
    "#df=sales[['SalesPersonID','ProductID','Quantity','TotalSalesValue','Suspicious','PricePerUnit']]\n",
    "df=dataframe1.iloc[:,0:6]\n",
    "\n",
    "df.head()"
   ]
  },
  {
   "cell_type": "code",
   "execution_count": 421,
   "metadata": {},
   "outputs": [],
   "source": [
    "df['diff_Avg_Qty_ProdID']=diff_between_two_columns(dataframe1,'Quantity','Avg_Qty_ProdID')\n",
    "df['diff_Avg_Tsale_ProdID']=diff_between_two_columns(dataframe1,'TotalSalesValue','Avg_Tsale_prdID') \n",
    "df['diff_Avg_PPerUnit_ProdID']=diff_between_two_columns(dataframe1,'PricePerUnit','Avg_PPerUnit_prdID')"
   ]
  },
  {
   "cell_type": "code",
   "execution_count": 422,
   "metadata": {},
   "outputs": [],
   "source": [
    "df['diff_Avg_Qty']=diff_between_two_columns(dataframe1,'Quantity','Avg_Qty') \n",
    "df['diff_Avg_TSale']=diff_between_two_columns(dataframe1,'TotalSalesValue','Avg_TSale')\n",
    "df['diff_Avg_PPerUnit']= diff_between_two_columns(dataframe1,'PricePerUnit','Avg_PPerUnit') "
   ]
  },
  {
   "cell_type": "code",
   "execution_count": 423,
   "metadata": {},
   "outputs": [],
   "source": [
    "df['diff_Avg_Qty_pProdID']=diff_between_two_columns(dataframe1,'Quantity','Avg_Qty_pProdID')  \n",
    "df['diff_Avg_TsaleVal_ProdID']=diff_between_two_columns(dataframe1,'TotalSalesValue','Avg_TsaleVal_ProdID')\n",
    "df['diff_Avg_PPerUnit_ProdID']=diff_between_two_columns(dataframe1,'PricePerUnit','Avg_PPerUnit_ProdID')"
   ]
  },
  {
   "cell_type": "code",
   "execution_count": 424,
   "metadata": {},
   "outputs": [
    {
     "data": {
      "text/plain": [
       "14"
      ]
     },
     "execution_count": 424,
     "metadata": {},
     "output_type": "execute_result"
    }
   ],
   "source": [
    "len(df.columns)"
   ]
  },
  {
   "cell_type": "code",
   "execution_count": 425,
   "metadata": {},
   "outputs": [
    {
     "data": {
      "text/html": [
       "<div>\n",
       "<style scoped>\n",
       "    .dataframe tbody tr th:only-of-type {\n",
       "        vertical-align: middle;\n",
       "    }\n",
       "\n",
       "    .dataframe tbody tr th {\n",
       "        vertical-align: top;\n",
       "    }\n",
       "\n",
       "    .dataframe thead th {\n",
       "        text-align: right;\n",
       "    }\n",
       "</style>\n",
       "<table border=\"1\" class=\"dataframe\">\n",
       "  <thead>\n",
       "    <tr style=\"text-align: right;\">\n",
       "      <th></th>\n",
       "      <th>SalesPersonID</th>\n",
       "      <th>ProductID</th>\n",
       "      <th>Quantity</th>\n",
       "      <th>TotalSalesValue</th>\n",
       "      <th>Suspicious</th>\n",
       "      <th>PricePerUnit</th>\n",
       "      <th>diff_Avg_Qty_ProdID</th>\n",
       "      <th>diff_Avg_Tsale_ProdID</th>\n",
       "      <th>diff_Avg_PPerUnit_ProdID</th>\n",
       "      <th>diff_Avg_Qty</th>\n",
       "      <th>diff_Avg_TSale</th>\n",
       "      <th>diff_Avg_PPerUnit</th>\n",
       "      <th>diff_Avg_Qty_pProdID</th>\n",
       "      <th>diff_Avg_TsaleVal_ProdID</th>\n",
       "    </tr>\n",
       "  </thead>\n",
       "  <tbody>\n",
       "    <tr>\n",
       "      <th>0</th>\n",
       "      <td>C21116</td>\n",
       "      <td>PR6112</td>\n",
       "      <td>182</td>\n",
       "      <td>1665</td>\n",
       "      <td>indeterminate</td>\n",
       "      <td>9.148352</td>\n",
       "      <td>0.0</td>\n",
       "      <td>-50.0</td>\n",
       "      <td>-5.016473</td>\n",
       "      <td>-0.9</td>\n",
       "      <td>-743.0</td>\n",
       "      <td>-3.444311</td>\n",
       "      <td>-409.650888</td>\n",
       "      <td>-5211.035503</td>\n",
       "    </tr>\n",
       "    <tr>\n",
       "      <th>1</th>\n",
       "      <td>C21116</td>\n",
       "      <td>PR6112</td>\n",
       "      <td>182</td>\n",
       "      <td>1740</td>\n",
       "      <td>indeterminate</td>\n",
       "      <td>9.560440</td>\n",
       "      <td>0.0</td>\n",
       "      <td>25.0</td>\n",
       "      <td>-4.604385</td>\n",
       "      <td>-0.9</td>\n",
       "      <td>-668.0</td>\n",
       "      <td>-3.032223</td>\n",
       "      <td>-409.650888</td>\n",
       "      <td>-5136.035503</td>\n",
       "    </tr>\n",
       "    <tr>\n",
       "      <th>2</th>\n",
       "      <td>C21116</td>\n",
       "      <td>PR6253</td>\n",
       "      <td>101</td>\n",
       "      <td>1040</td>\n",
       "      <td>indeterminate</td>\n",
       "      <td>10.297030</td>\n",
       "      <td>-126.0</td>\n",
       "      <td>-2287.5</td>\n",
       "      <td>-5.864452</td>\n",
       "      <td>-81.9</td>\n",
       "      <td>-1368.0</td>\n",
       "      <td>-2.295633</td>\n",
       "      <td>-370.563320</td>\n",
       "      <td>-4572.323552</td>\n",
       "    </tr>\n",
       "  </tbody>\n",
       "</table>\n",
       "</div>"
      ],
      "text/plain": [
       "  SalesPersonID ProductID  Quantity  TotalSalesValue     Suspicious  \\\n",
       "0        C21116    PR6112       182             1665  indeterminate   \n",
       "1        C21116    PR6112       182             1740  indeterminate   \n",
       "2        C21116    PR6253       101             1040  indeterminate   \n",
       "\n",
       "   PricePerUnit  diff_Avg_Qty_ProdID  diff_Avg_Tsale_ProdID  \\\n",
       "0      9.148352                  0.0                  -50.0   \n",
       "1      9.560440                  0.0                   25.0   \n",
       "2     10.297030               -126.0                -2287.5   \n",
       "\n",
       "   diff_Avg_PPerUnit_ProdID  diff_Avg_Qty  diff_Avg_TSale  diff_Avg_PPerUnit  \\\n",
       "0                 -5.016473          -0.9          -743.0          -3.444311   \n",
       "1                 -4.604385          -0.9          -668.0          -3.032223   \n",
       "2                 -5.864452         -81.9         -1368.0          -2.295633   \n",
       "\n",
       "   diff_Avg_Qty_pProdID  diff_Avg_TsaleVal_ProdID  \n",
       "0           -409.650888              -5211.035503  \n",
       "1           -409.650888              -5136.035503  \n",
       "2           -370.563320              -4572.323552  "
      ]
     },
     "execution_count": 425,
     "metadata": {},
     "output_type": "execute_result"
    }
   ],
   "source": [
    "df.head(3)"
   ]
  },
  {
   "cell_type": "code",
   "execution_count": 427,
   "metadata": {},
   "outputs": [
    {
     "data": {
      "image/png": "[encoded data removed]",
      "text/plain": [
       "<Figure size 1000x800 with 1 Axes>"
      ]
     },
     "metadata": {},
     "output_type": "display_data"
    }
   ],
   "source": [
    "# Line plot\n",
    "df.head(30).plot(kind='line', figsize=(10,8))\n",
    "plt.show()"
   ]
  },
  {
   "cell_type": "code",
   "execution_count": 428,
   "metadata": {},
   "outputs": [
    {
     "data": {
      "text/plain": [
       "0"
      ]
     },
     "execution_count": 428,
     "metadata": {},
     "output_type": "execute_result"
    }
   ],
   "source": [
    "df.isnull().sum().sum() #Checking null values"
   ]
  },
  {
   "cell_type": "code",
   "execution_count": 429,
   "metadata": {},
   "outputs": [
    {
     "data": {
      "text/plain": [
       "12"
      ]
     },
     "execution_count": 429,
     "metadata": {},
     "output_type": "execute_result"
    }
   ],
   "source": [
    "df=df.drop(axis=1,columns=['ProductID','SalesPersonID']) #Dropped Prodcut Id and SalesPersonID columns\n",
    "len(df.columns) #Checking number of columns after dropping two columns"
   ]
  },
  {
   "cell_type": "code",
   "execution_count": 430,
   "metadata": {},
   "outputs": [],
   "source": [
    "# Re arranging the columns\n",
    "df = df[['Quantity','TotalSalesValue','PricePerUnit',\n",
    "       'diff_Avg_Qty_ProdID', 'diff_Avg_Tsale_ProdID',\n",
    "       'diff_Avg_PPerUnit_ProdID', 'diff_Avg_Qty', 'diff_Avg_TSale',\n",
    "       'diff_Avg_PPerUnit', 'diff_Avg_TsaleVal_ProdID',\n",
    "       'diff_Avg_Qty_pProdID','Suspicious']]"
   ]
  },
  {
   "cell_type": "code",
   "execution_count": 431,
   "metadata": {},
   "outputs": [
    {
     "data": {
      "text/html": [
       "<div>\n",
       "<style scoped>\n",
       "    .dataframe tbody tr th:only-of-type {\n",
       "        vertical-align: middle;\n",
       "    }\n",
       "\n",
       "    .dataframe tbody tr th {\n",
       "        vertical-align: top;\n",
       "    }\n",
       "\n",
       "    .dataframe thead th {\n",
       "        text-align: right;\n",
       "    }\n",
       "</style>\n",
       "<table border=\"1\" class=\"dataframe\">\n",
       "  <thead>\n",
       "    <tr style=\"text-align: right;\">\n",
       "      <th></th>\n",
       "      <th>Quantity</th>\n",
       "      <th>TotalSalesValue</th>\n",
       "      <th>PricePerUnit</th>\n",
       "      <th>diff_Avg_Qty_ProdID</th>\n",
       "      <th>diff_Avg_Tsale_ProdID</th>\n",
       "      <th>diff_Avg_PPerUnit_ProdID</th>\n",
       "      <th>diff_Avg_Qty</th>\n",
       "      <th>diff_Avg_TSale</th>\n",
       "      <th>diff_Avg_PPerUnit</th>\n",
       "      <th>diff_Avg_TsaleVal_ProdID</th>\n",
       "      <th>diff_Avg_Qty_pProdID</th>\n",
       "    </tr>\n",
       "  </thead>\n",
       "  <tbody>\n",
       "    <tr>\n",
       "      <th>0</th>\n",
       "      <td>182</td>\n",
       "      <td>1665</td>\n",
       "      <td>9.148352</td>\n",
       "      <td>0.0</td>\n",
       "      <td>-50.0</td>\n",
       "      <td>-5.016473</td>\n",
       "      <td>-0.9</td>\n",
       "      <td>-743.0</td>\n",
       "      <td>-3.444311</td>\n",
       "      <td>-5211.035503</td>\n",
       "      <td>-409.650888</td>\n",
       "    </tr>\n",
       "    <tr>\n",
       "      <th>1</th>\n",
       "      <td>182</td>\n",
       "      <td>1740</td>\n",
       "      <td>9.560440</td>\n",
       "      <td>0.0</td>\n",
       "      <td>25.0</td>\n",
       "      <td>-4.604385</td>\n",
       "      <td>-0.9</td>\n",
       "      <td>-668.0</td>\n",
       "      <td>-3.032223</td>\n",
       "      <td>-5136.035503</td>\n",
       "      <td>-409.650888</td>\n",
       "    </tr>\n",
       "    <tr>\n",
       "      <th>2</th>\n",
       "      <td>101</td>\n",
       "      <td>1040</td>\n",
       "      <td>10.297030</td>\n",
       "      <td>-126.0</td>\n",
       "      <td>-2287.5</td>\n",
       "      <td>-5.864452</td>\n",
       "      <td>-81.9</td>\n",
       "      <td>-1368.0</td>\n",
       "      <td>-2.295633</td>\n",
       "      <td>-4572.323552</td>\n",
       "      <td>-370.563320</td>\n",
       "    </tr>\n",
       "    <tr>\n",
       "      <th>3</th>\n",
       "      <td>283</td>\n",
       "      <td>4495</td>\n",
       "      <td>15.883392</td>\n",
       "      <td>56.0</td>\n",
       "      <td>1167.5</td>\n",
       "      <td>-0.278089</td>\n",
       "      <td>100.1</td>\n",
       "      <td>2087.0</td>\n",
       "      <td>3.290730</td>\n",
       "      <td>-1117.323552</td>\n",
       "      <td>-188.563320</td>\n",
       "    </tr>\n",
       "    <tr>\n",
       "      <th>4</th>\n",
       "      <td>108</td>\n",
       "      <td>1465</td>\n",
       "      <td>13.564815</td>\n",
       "      <td>-4.5</td>\n",
       "      <td>-197.5</td>\n",
       "      <td>-7.333452</td>\n",
       "      <td>-74.9</td>\n",
       "      <td>-943.0</td>\n",
       "      <td>0.972152</td>\n",
       "      <td>-3738.262411</td>\n",
       "      <td>-116.248227</td>\n",
       "    </tr>\n",
       "  </tbody>\n",
       "</table>\n",
       "</div>"
      ],
      "text/plain": [
       "   Quantity  TotalSalesValue  PricePerUnit  diff_Avg_Qty_ProdID  \\\n",
       "0       182             1665      9.148352                  0.0   \n",
       "1       182             1740      9.560440                  0.0   \n",
       "2       101             1040     10.297030               -126.0   \n",
       "3       283             4495     15.883392                 56.0   \n",
       "4       108             1465     13.564815                 -4.5   \n",
       "\n",
       "   diff_Avg_Tsale_ProdID  diff_Avg_PPerUnit_ProdID  diff_Avg_Qty  \\\n",
       "0                  -50.0                 -5.016473          -0.9   \n",
       "1                   25.0                 -4.604385          -0.9   \n",
       "2                -2287.5                 -5.864452         -81.9   \n",
       "3                 1167.5                 -0.278089         100.1   \n",
       "4                 -197.5                 -7.333452         -74.9   \n",
       "\n",
       "   diff_Avg_TSale  diff_Avg_PPerUnit  diff_Avg_TsaleVal_ProdID  \\\n",
       "0          -743.0          -3.444311              -5211.035503   \n",
       "1          -668.0          -3.032223              -5136.035503   \n",
       "2         -1368.0          -2.295633              -4572.323552   \n",
       "3          2087.0           3.290730              -1117.323552   \n",
       "4          -943.0           0.972152              -3738.262411   \n",
       "\n",
       "   diff_Avg_Qty_pProdID  \n",
       "0           -409.650888  \n",
       "1           -409.650888  \n",
       "2           -370.563320  \n",
       "3           -188.563320  \n",
       "4           -116.248227  "
      ]
     },
     "execution_count": 431,
     "metadata": {},
     "output_type": "execute_result"
    }
   ],
   "source": [
    "#splitting the dataset into the source variables (independant variables) and the target variable (dependant variable)\n",
    "X = df.iloc[:,0:11] #all columns except the last one\n",
    "X.head()"
   ]
  },
  {
   "cell_type": "code",
   "execution_count": 432,
   "metadata": {},
   "outputs": [
    {
     "data": {
      "text/plain": [
       "0    indeterminate\n",
       "1    indeterminate\n",
       "2    indeterminate\n",
       "3               No\n",
       "4    indeterminate\n",
       "Name: Suspicious, dtype: object"
      ]
     },
     "execution_count": 432,
     "metadata": {},
     "output_type": "execute_result"
    }
   ],
   "source": [
    "y =df.iloc[:,11] #only the last column\n",
    "y.head()"
   ]
  },
  {
   "cell_type": "code",
   "execution_count": 459,
   "metadata": {},
   "outputs": [
    {
     "data": {
      "text/plain": [
       "Quantity                      int64\n",
       "TotalSalesValue               int64\n",
       "PricePerUnit                float64\n",
       "diff_Avg_Qty_ProdID         float64\n",
       "diff_Avg_Tsale_ProdID       float64\n",
       "diff_Avg_PPerUnit_ProdID    float64\n",
       "diff_Avg_Qty                float64\n",
       "diff_Avg_TSale              float64\n",
       "diff_Avg_PPerUnit           float64\n",
       "diff_Avg_TsaleVal_ProdID    float64\n",
       "diff_Avg_Qty_pProdID        float64\n",
       "Suspicious                   object\n",
       "dtype: object"
      ]
     },
     "execution_count": 459,
     "metadata": {},
     "output_type": "execute_result"
    }
   ],
   "source": [
    "df.dtypes"
   ]
  },
  {
   "cell_type": "code",
   "execution_count": null,
   "metadata": {},
   "outputs": [],
   "source": []
  },
  {
   "cell_type": "code",
   "execution_count": 460,
   "metadata": {},
   "outputs": [],
   "source": [
    "# split X and y into train and test sets\n",
    "from sklearn.model_selection import train_test_split\n",
    "X_train, X_val, y_train, y_val =train_test_split(X,y,test_size=0.25,random_state=0)"
   ]
  },
  {
   "cell_type": "code",
   "execution_count": 461,
   "metadata": {},
   "outputs": [
    {
     "name": "stdout",
     "output_type": "stream",
     "text": [
      "(31936, 11)\n",
      "(10646, 11)\n",
      "(31936,)\n",
      "(10646,)\n"
     ]
    }
   ],
   "source": [
    "print(X_train.shape)\n",
    "print(X_val.shape)\n",
    "print(y_train.shape)\n",
    "print(y_val.shape)"
   ]
  },
  {
   "cell_type": "code",
   "execution_count": 462,
   "metadata": {},
   "outputs": [],
   "source": [
    "from sklearn.preprocessing import StandardScaler\n",
    "s = StandardScaler()\n",
    "X_train=s.fit_transform(X_train)\n",
    "X_val=s.transform(X_val)"
   ]
  },
  {
   "cell_type": "code",
   "execution_count": 480,
   "metadata": {},
   "outputs": [
    {
     "data": {
      "text/plain": [
       "array([[ 0.07125836,  0.3271307 , -0.15176483, ..., -0.07315224,\n",
       "         0.31304232,  0.08218067],\n",
       "       [-0.04223115, -0.10682881,  0.11231935, ...,  0.05004872,\n",
       "        -0.23976697, -0.00533553],\n",
       "       [-0.04456592, -0.24530792, -0.06997684, ..., -0.05508705,\n",
       "        -0.00702193, -0.00159993],\n",
       "       ...,\n",
       "       [-0.04441501, -0.21025093,  0.12099676, ...,  0.09009339,\n",
       "        -0.0268375 , -0.0305279 ],\n",
       "       [-0.04453929, -0.18552819,  0.32839351, ...,  0.28559247,\n",
       "         0.0260369 , -0.00157204],\n",
       "       [-0.04374032, -0.23680203, -0.09382096, ...,  0.03037789,\n",
       "        -0.09857792, -0.00504292]])"
      ]
     },
     "execution_count": 480,
     "metadata": {},
     "output_type": "execute_result"
    }
   ],
   "source": [
    "X_train"
   ]
  },
  {
   "cell_type": "markdown",
   "metadata": {},
   "source": [
    "##### Random Forest Classifier:"
   ]
  },
  {
   "cell_type": "code",
   "execution_count": 463,
   "metadata": {},
   "outputs": [],
   "source": [
    "from sklearn.ensemble import RandomForestClassifier"
   ]
  },
  {
   "cell_type": "code",
   "execution_count": 464,
   "metadata": {},
   "outputs": [
    {
     "data": {
      "text/plain": [
       "RandomForestClassifier(bootstrap=True, class_weight=None, criterion='gini',\n",
       "            max_depth=8, max_features='auto', max_leaf_nodes=None,\n",
       "            min_impurity_decrease=0.0, min_impurity_split=None,\n",
       "            min_samples_leaf=1, min_samples_split=2,\n",
       "            min_weight_fraction_leaf=0.0, n_estimators=10, n_jobs=1,\n",
       "            oob_score=False, random_state=None, verbose=0,\n",
       "            warm_start=False)"
      ]
     },
     "execution_count": 464,
     "metadata": {},
     "output_type": "execute_result"
    }
   ],
   "source": [
    "clf = RandomForestClassifier(n_estimators=10,max_depth=8)\n",
    "clf.fit(X=X_train, y=y_train)"
   ]
  },
  {
   "cell_type": "markdown",
   "metadata": {},
   "source": [
    "##### Prediction on Validation and Train data:"
   ]
  },
  {
   "cell_type": "code",
   "execution_count": 465,
   "metadata": {},
   "outputs": [],
   "source": [
    "y_pred_val = clf.predict(X_val)"
   ]
  },
  {
   "cell_type": "code",
   "execution_count": 466,
   "metadata": {},
   "outputs": [],
   "source": [
    "y_pred_train = clf.predict(X_train)"
   ]
  },
  {
   "cell_type": "markdown",
   "metadata": {},
   "source": [
    "##### Accuracies of RF clssifier on Validation and Train data:"
   ]
  },
  {
   "cell_type": "code",
   "execution_count": 489,
   "metadata": {},
   "outputs": [
    {
     "name": "stdout",
     "output_type": "stream",
     "text": [
      "Accuracy score on validation data: 0.9472102198008642\n",
      "Accuracy score on Train data: 0.951809869739479\n"
     ]
    }
   ],
   "source": [
    "from sklearn.metrics import accuracy_score\n",
    "from sklearn.metrics import recall_score\n",
    "\n",
    "\n",
    "print('Accuracy score on validation data:', accuracy_score(y_val,y_pred_val))\n",
    "\n",
    "print('Accuracy score on Train data:' ,accuracy_score(y_train,y_pred_train))"
   ]
  },
  {
   "cell_type": "markdown",
   "metadata": {},
   "source": [
    "##### Recall score of RF clssifier on Validation and Train data:"
   ]
  },
  {
   "cell_type": "code",
   "execution_count": 490,
   "metadata": {},
   "outputs": [
    {
     "name": "stdout",
     "output_type": "stream",
     "text": [
      "Recall score on validation data: 0.9472102198008642\n",
      "Recall score on Train data: 0.951809869739479\n"
     ]
    }
   ],
   "source": [
    "print('Recall score on validation data:', recall_score(y_val,y_pred_val,pos_label=1,average='micro'))\n",
    "print('Recall score on Train data:',recall_score(y_train,y_pred_train,pos_label=1,average='micro'))"
   ]
  },
  {
   "cell_type": "code",
   "execution_count": 474,
   "metadata": {},
   "outputs": [
    {
     "data": {
      "text/plain": [
       "array([0.0559354 , 0.08228758, 0.08660691, 0.03219064, 0.04829394,\n",
       "       0.14682169, 0.03873142, 0.0775711 , 0.05510437, 0.24033657,\n",
       "       0.13612038])"
      ]
     },
     "execution_count": 474,
     "metadata": {},
     "output_type": "execute_result"
    }
   ],
   "source": [
    "clf.feature_importances_"
   ]
  },
  {
   "cell_type": "code",
   "execution_count": null,
   "metadata": {},
   "outputs": [],
   "source": []
  },
  {
   "cell_type": "code",
   "execution_count": null,
   "metadata": {},
   "outputs": [],
   "source": []
  },
  {
   "cell_type": "markdown",
   "metadata": {},
   "source": [
    "##### Bagging Classifier:"
   ]
  },
  {
   "cell_type": "code",
   "execution_count": 491,
   "metadata": {},
   "outputs": [],
   "source": [
    "from sklearn.ensemble import BaggingClassifier"
   ]
  },
  {
   "cell_type": "code",
   "execution_count": 492,
   "metadata": {},
   "outputs": [
    {
     "data": {
      "text/plain": [
       "BaggingClassifier(base_estimator=None, bootstrap=True,\n",
       "         bootstrap_features=False, max_features=1.0, max_samples=1.0,\n",
       "         n_estimators=10, n_jobs=1, oob_score=False, random_state=None,\n",
       "         verbose=0, warm_start=False)"
      ]
     },
     "execution_count": 492,
     "metadata": {},
     "output_type": "execute_result"
    }
   ],
   "source": [
    "clfB = BaggingClassifier(n_estimators=10)\n",
    "clfB.fit(X=X_train, y=y_train)"
   ]
  },
  {
   "cell_type": "markdown",
   "metadata": {},
   "source": [
    "##### Prediction on Validation and Train data:"
   ]
  },
  {
   "cell_type": "code",
   "execution_count": 493,
   "metadata": {},
   "outputs": [],
   "source": [
    "y_pred_val = clfB.predict(X_val)\n",
    "y_pred_train = clfB.predict(X_train)\n",
    "#print(accuracy_score(y_val,y_pred))"
   ]
  },
  {
   "cell_type": "markdown",
   "metadata": {},
   "source": [
    "##### Accuracies of Bagging clssifier on Validation and Train data:"
   ]
  },
  {
   "cell_type": "code",
   "execution_count": 494,
   "metadata": {},
   "outputs": [
    {
     "name": "stdout",
     "output_type": "stream",
     "text": [
      "Accuracy score on validation data: 0.9569791470975014\n",
      "Accuracy score on Train data: 0.9950839178356713\n"
     ]
    }
   ],
   "source": [
    "print('Accuracy score on validation data:', accuracy_score(y_val,y_pred_val))\n",
    "\n",
    "print('Accuracy score on Train data:' ,accuracy_score(y_train,y_pred_train))"
   ]
  },
  {
   "cell_type": "markdown",
   "metadata": {},
   "source": [
    "##### Recall score of Bagging clssifier on Validation and Train data:"
   ]
  },
  {
   "cell_type": "code",
   "execution_count": 496,
   "metadata": {},
   "outputs": [
    {
     "name": "stdout",
     "output_type": "stream",
     "text": [
      "Recall score on validation data: 0.9569791470975014\n",
      "Recall score on Train data: 0.9950839178356713\n"
     ]
    }
   ],
   "source": [
    "print('Recall score on validation data:', recall_score(y_val,y_pred_val,pos_label=1,average='micro'))\n",
    "print('Recall score on Train data:',recall_score(y_train,y_pred_train,pos_label=1,average='micro'))"
   ]
  },
  {
   "cell_type": "code",
   "execution_count": 484,
   "metadata": {},
   "outputs": [
    {
     "name": "stdout",
     "output_type": "stream",
     "text": [
      "0.958200263009581\n"
     ]
    }
   ],
   "source": [
    "print(recall_score(y_val,y_pred,pos_label=1,average='micro'))"
   ]
  },
  {
   "cell_type": "code",
   "execution_count": 497,
   "metadata": {},
   "outputs": [
    {
     "data": {
      "text/plain": [
       "(10646, 11)"
      ]
     },
     "execution_count": 497,
     "metadata": {},
     "output_type": "execute_result"
    }
   ],
   "source": [
    "X_val.shape"
   ]
  },
  {
   "cell_type": "markdown",
   "metadata": {},
   "source": [
    "### Testing on UnseenData:"
   ]
  },
  {
   "cell_type": "markdown",
   "metadata": {},
   "source": [
    "#####  Provided Test Dataset:"
   ]
  },
  {
   "cell_type": "code",
   "execution_count": 501,
   "metadata": {},
   "outputs": [],
   "source": [
    "UnseenData=pd.read_csv(\"Test.csv\",na_values=[\"?\",\",\"])"
   ]
  },
  {
   "cell_type": "code",
   "execution_count": 502,
   "metadata": {},
   "outputs": [
    {
     "data": {
      "text/html": [
       "<div>\n",
       "<style scoped>\n",
       "    .dataframe tbody tr th:only-of-type {\n",
       "        vertical-align: middle;\n",
       "    }\n",
       "\n",
       "    .dataframe tbody tr th {\n",
       "        vertical-align: top;\n",
       "    }\n",
       "\n",
       "    .dataframe thead th {\n",
       "        text-align: right;\n",
       "    }\n",
       "</style>\n",
       "<table border=\"1\" class=\"dataframe\">\n",
       "  <thead>\n",
       "    <tr style=\"text-align: right;\">\n",
       "      <th></th>\n",
       "      <th>ReportID</th>\n",
       "      <th>SalesPersonID</th>\n",
       "      <th>ProductID</th>\n",
       "      <th>Quantity</th>\n",
       "      <th>TotalSalesValue</th>\n",
       "    </tr>\n",
       "  </thead>\n",
       "  <tbody>\n",
       "    <tr>\n",
       "      <th>0</th>\n",
       "      <td>Rep70101</td>\n",
       "      <td>C21844</td>\n",
       "      <td>PR6483</td>\n",
       "      <td>102</td>\n",
       "      <td>1115</td>\n",
       "    </tr>\n",
       "    <tr>\n",
       "      <th>1</th>\n",
       "      <td>Rep70102</td>\n",
       "      <td>C21844</td>\n",
       "      <td>PR6251</td>\n",
       "      <td>102</td>\n",
       "      <td>1050</td>\n",
       "    </tr>\n",
       "    <tr>\n",
       "      <th>2</th>\n",
       "      <td>Rep70103</td>\n",
       "      <td>C21844</td>\n",
       "      <td>PR6253</td>\n",
       "      <td>344</td>\n",
       "      <td>3490</td>\n",
       "    </tr>\n",
       "  </tbody>\n",
       "</table>\n",
       "</div>"
      ],
      "text/plain": [
       "   ReportID SalesPersonID ProductID  Quantity  TotalSalesValue\n",
       "0  Rep70101        C21844    PR6483       102             1115\n",
       "1  Rep70102        C21844    PR6251       102             1050\n",
       "2  Rep70103        C21844    PR6253       344             3490"
      ]
     },
     "execution_count": 502,
     "metadata": {},
     "output_type": "execute_result"
    }
   ],
   "source": [
    "UnseenData.head(3)"
   ]
  },
  {
   "cell_type": "code",
   "execution_count": 503,
   "metadata": {},
   "outputs": [
    {
     "data": {
      "text/plain": [
       "Index(['ReportID', 'SalesPersonID', 'ProductID', 'Quantity',\n",
       "       'TotalSalesValue'],\n",
       "      dtype='object')"
      ]
     },
     "execution_count": 503,
     "metadata": {},
     "output_type": "execute_result"
    }
   ],
   "source": [
    "UnseenData.keys()"
   ]
  },
  {
   "cell_type": "code",
   "execution_count": 504,
   "metadata": {},
   "outputs": [],
   "source": [
    "UnseenData['PricePerUnit']=UnseenData.TotalSalesValue/UnseenData.Quantity"
   ]
  },
  {
   "cell_type": "code",
   "execution_count": 505,
   "metadata": {},
   "outputs": [],
   "source": [
    "UnseenData=group_By_with_TwoColumns(UnseenData,'SalesPersonID','ProductID','Quantity','left')\n",
    "UnseenData=renaming_Column(UnseenData,\"Quantity_y\",\"Avg_Qty_ProdID\",\"Quantity_x\",\"Quantity\")"
   ]
  },
  {
   "cell_type": "code",
   "execution_count": 506,
   "metadata": {},
   "outputs": [],
   "source": [
    "UnseenData=group_By_with_TwoColumns(UnseenData,'SalesPersonID','ProductID','TotalSalesValue','left')\n",
    "UnseenData=renaming_Column(UnseenData,'TotalSalesValue_y','Avg_Tsale_prdID','TotalSalesValue_x',\"TotalSalesValue\")"
   ]
  },
  {
   "cell_type": "code",
   "execution_count": 507,
   "metadata": {},
   "outputs": [],
   "source": [
    "UnseenData=group_By_with_TwoColumns(UnseenData,'SalesPersonID','ProductID','PricePerUnit','left')\n",
    "UnseenData=renaming_Column(UnseenData,'PricePerUnit_y','Avg_PPerUnit_prdID','PricePerUnit_x','PricePerUnit')"
   ]
  },
  {
   "cell_type": "code",
   "execution_count": 508,
   "metadata": {},
   "outputs": [],
   "source": [
    "UnseenData=group_By_with_SingleColumns(UnseenData,'SalesPersonID','Quantity','left')\n",
    "UnseenData=renaming_Column(UnseenData,'Quantity_y','Avg_Qty','Quantity_x','Quantity')"
   ]
  },
  {
   "cell_type": "code",
   "execution_count": 509,
   "metadata": {},
   "outputs": [],
   "source": [
    "UnseenData=group_By_with_SingleColumns(UnseenData,'SalesPersonID','TotalSalesValue','left')\n",
    "UnseenData=renaming_Column(UnseenData,'TotalSalesValue_y','Avg_TSale','TotalSalesValue_x','TotalSalesValue')"
   ]
  },
  {
   "cell_type": "code",
   "execution_count": 510,
   "metadata": {},
   "outputs": [],
   "source": [
    "UnseenData=group_By_with_SingleColumns(UnseenData,'SalesPersonID','PricePerUnit','left')\n",
    "UnseenData=renaming_Column(UnseenData,'PricePerUnit_y','Avg_PPerUnit','PricePerUnit_x','PricePerUnit')"
   ]
  },
  {
   "cell_type": "code",
   "execution_count": 511,
   "metadata": {},
   "outputs": [],
   "source": [
    "UnseenData=group_By_with_SingleColumns(UnseenData,'ProductID','Quantity','left')\n",
    "UnseenData=renaming_Column(UnseenData,'Quantity_y','Avg_Qty_pProdID','Quantity_x','Quantity')"
   ]
  },
  {
   "cell_type": "code",
   "execution_count": 512,
   "metadata": {},
   "outputs": [],
   "source": [
    "UnseenData=group_By_with_SingleColumns(UnseenData,'ProductID','TotalSalesValue','left')\n",
    "UnseenData=renaming_Column(UnseenData,'TotalSalesValue_y','Avg_TsaleVal_ProdID','TotalSalesValue_x','TotalSalesValue')"
   ]
  },
  {
   "cell_type": "code",
   "execution_count": 513,
   "metadata": {},
   "outputs": [],
   "source": [
    "UnseenData=group_By_with_SingleColumns(UnseenData,'ProductID','PricePerUnit','left')\n",
    "UnseenData=renaming_Column(UnseenData,'PricePerUnit_y','Avg_PPerUnit_ProdID','PricePerUnit_x','PricePerUnit')"
   ]
  },
  {
   "cell_type": "code",
   "execution_count": 514,
   "metadata": {},
   "outputs": [
    {
     "data": {
      "text/html": [
       "<div>\n",
       "<style scoped>\n",
       "    .dataframe tbody tr th:only-of-type {\n",
       "        vertical-align: middle;\n",
       "    }\n",
       "\n",
       "    .dataframe tbody tr th {\n",
       "        vertical-align: top;\n",
       "    }\n",
       "\n",
       "    .dataframe thead th {\n",
       "        text-align: right;\n",
       "    }\n",
       "</style>\n",
       "<table border=\"1\" class=\"dataframe\">\n",
       "  <thead>\n",
       "    <tr style=\"text-align: right;\">\n",
       "      <th></th>\n",
       "      <th>ReportID</th>\n",
       "      <th>SalesPersonID</th>\n",
       "      <th>ProductID</th>\n",
       "      <th>Quantity</th>\n",
       "      <th>TotalSalesValue</th>\n",
       "      <th>PricePerUnit</th>\n",
       "      <th>Avg_Qty_ProdID</th>\n",
       "      <th>Avg_Tsale_prdID</th>\n",
       "      <th>Avg_PPerUnit_prdID</th>\n",
       "      <th>Avg_Qty</th>\n",
       "      <th>Avg_TSale</th>\n",
       "      <th>Avg_PPerUnit</th>\n",
       "      <th>Avg_Qty_pProdID</th>\n",
       "      <th>Avg_TsaleVal_ProdID</th>\n",
       "      <th>Avg_PPerUnit_ProdID</th>\n",
       "    </tr>\n",
       "  </thead>\n",
       "  <tbody>\n",
       "    <tr>\n",
       "      <th>0</th>\n",
       "      <td>Rep70101</td>\n",
       "      <td>C21844</td>\n",
       "      <td>PR6483</td>\n",
       "      <td>102</td>\n",
       "      <td>1115</td>\n",
       "      <td>10.931373</td>\n",
       "      <td>102.0</td>\n",
       "      <td>1115.0</td>\n",
       "      <td>10.931373</td>\n",
       "      <td>147.3</td>\n",
       "      <td>1422.0</td>\n",
       "      <td>10.051409</td>\n",
       "      <td>192.702128</td>\n",
       "      <td>1840.106383</td>\n",
       "      <td>9.589537</td>\n",
       "    </tr>\n",
       "    <tr>\n",
       "      <th>1</th>\n",
       "      <td>Rep70102</td>\n",
       "      <td>C21844</td>\n",
       "      <td>PR6251</td>\n",
       "      <td>102</td>\n",
       "      <td>1050</td>\n",
       "      <td>10.294118</td>\n",
       "      <td>102.0</td>\n",
       "      <td>1050.0</td>\n",
       "      <td>10.294118</td>\n",
       "      <td>147.3</td>\n",
       "      <td>1422.0</td>\n",
       "      <td>10.051409</td>\n",
       "      <td>387.523077</td>\n",
       "      <td>3268.692308</td>\n",
       "      <td>10.807918</td>\n",
       "    </tr>\n",
       "    <tr>\n",
       "      <th>2</th>\n",
       "      <td>Rep70103</td>\n",
       "      <td>C21844</td>\n",
       "      <td>PR6253</td>\n",
       "      <td>344</td>\n",
       "      <td>3490</td>\n",
       "      <td>10.145349</td>\n",
       "      <td>225.5</td>\n",
       "      <td>2252.5</td>\n",
       "      <td>9.815665</td>\n",
       "      <td>147.3</td>\n",
       "      <td>1422.0</td>\n",
       "      <td>10.051409</td>\n",
       "      <td>729.142384</td>\n",
       "      <td>5101.100993</td>\n",
       "      <td>12.240047</td>\n",
       "    </tr>\n",
       "    <tr>\n",
       "      <th>3</th>\n",
       "      <td>Rep70104</td>\n",
       "      <td>C21844</td>\n",
       "      <td>PR6378</td>\n",
       "      <td>108</td>\n",
       "      <td>1095</td>\n",
       "      <td>10.138889</td>\n",
       "      <td>108.0</td>\n",
       "      <td>1095.0</td>\n",
       "      <td>10.138889</td>\n",
       "      <td>147.3</td>\n",
       "      <td>1422.0</td>\n",
       "      <td>10.051409</td>\n",
       "      <td>130.835443</td>\n",
       "      <td>2788.544304</td>\n",
       "      <td>20.299865</td>\n",
       "    </tr>\n",
       "    <tr>\n",
       "      <th>4</th>\n",
       "      <td>Rep70105</td>\n",
       "      <td>C21844</td>\n",
       "      <td>PR6463</td>\n",
       "      <td>146</td>\n",
       "      <td>1055</td>\n",
       "      <td>7.226027</td>\n",
       "      <td>155.8</td>\n",
       "      <td>1071.0</td>\n",
       "      <td>7.159729</td>\n",
       "      <td>147.3</td>\n",
       "      <td>1422.0</td>\n",
       "      <td>10.051409</td>\n",
       "      <td>204.454545</td>\n",
       "      <td>1558.636364</td>\n",
       "      <td>8.386834</td>\n",
       "    </tr>\n",
       "  </tbody>\n",
       "</table>\n",
       "</div>"
      ],
      "text/plain": [
       "   ReportID SalesPersonID ProductID  Quantity  TotalSalesValue  PricePerUnit  \\\n",
       "0  Rep70101        C21844    PR6483       102             1115     10.931373   \n",
       "1  Rep70102        C21844    PR6251       102             1050     10.294118   \n",
       "2  Rep70103        C21844    PR6253       344             3490     10.145349   \n",
       "3  Rep70104        C21844    PR6378       108             1095     10.138889   \n",
       "4  Rep70105        C21844    PR6463       146             1055      7.226027   \n",
       "\n",
       "   Avg_Qty_ProdID  Avg_Tsale_prdID  Avg_PPerUnit_prdID  Avg_Qty  Avg_TSale  \\\n",
       "0           102.0           1115.0           10.931373    147.3     1422.0   \n",
       "1           102.0           1050.0           10.294118    147.3     1422.0   \n",
       "2           225.5           2252.5            9.815665    147.3     1422.0   \n",
       "3           108.0           1095.0           10.138889    147.3     1422.0   \n",
       "4           155.8           1071.0            7.159729    147.3     1422.0   \n",
       "\n",
       "   Avg_PPerUnit  Avg_Qty_pProdID  Avg_TsaleVal_ProdID  Avg_PPerUnit_ProdID  \n",
       "0     10.051409       192.702128          1840.106383             9.589537  \n",
       "1     10.051409       387.523077          3268.692308            10.807918  \n",
       "2     10.051409       729.142384          5101.100993            12.240047  \n",
       "3     10.051409       130.835443          2788.544304            20.299865  \n",
       "4     10.051409       204.454545          1558.636364             8.386834  "
      ]
     },
     "execution_count": 514,
     "metadata": {},
     "output_type": "execute_result"
    }
   ],
   "source": [
    "UnseenData.head()"
   ]
  },
  {
   "cell_type": "code",
   "execution_count": 515,
   "metadata": {},
   "outputs": [
    {
     "data": {
      "text/plain": [
       "(9135, 15)"
      ]
     },
     "execution_count": 515,
     "metadata": {},
     "output_type": "execute_result"
    }
   ],
   "source": [
    "UnseenData.shape"
   ]
  },
  {
   "cell_type": "code",
   "execution_count": 516,
   "metadata": {},
   "outputs": [
    {
     "data": {
      "text/html": [
       "<div>\n",
       "<style scoped>\n",
       "    .dataframe tbody tr th:only-of-type {\n",
       "        vertical-align: middle;\n",
       "    }\n",
       "\n",
       "    .dataframe tbody tr th {\n",
       "        vertical-align: top;\n",
       "    }\n",
       "\n",
       "    .dataframe thead th {\n",
       "        text-align: right;\n",
       "    }\n",
       "</style>\n",
       "<table border=\"1\" class=\"dataframe\">\n",
       "  <thead>\n",
       "    <tr style=\"text-align: right;\">\n",
       "      <th></th>\n",
       "      <th>ReportID</th>\n",
       "      <th>SalesPersonID</th>\n",
       "      <th>ProductID</th>\n",
       "      <th>Quantity</th>\n",
       "      <th>TotalSalesValue</th>\n",
       "      <th>PricePerUnit</th>\n",
       "    </tr>\n",
       "  </thead>\n",
       "  <tbody>\n",
       "    <tr>\n",
       "      <th>0</th>\n",
       "      <td>Rep70101</td>\n",
       "      <td>C21844</td>\n",
       "      <td>PR6483</td>\n",
       "      <td>102</td>\n",
       "      <td>1115</td>\n",
       "      <td>10.931373</td>\n",
       "    </tr>\n",
       "    <tr>\n",
       "      <th>1</th>\n",
       "      <td>Rep70102</td>\n",
       "      <td>C21844</td>\n",
       "      <td>PR6251</td>\n",
       "      <td>102</td>\n",
       "      <td>1050</td>\n",
       "      <td>10.294118</td>\n",
       "    </tr>\n",
       "    <tr>\n",
       "      <th>2</th>\n",
       "      <td>Rep70103</td>\n",
       "      <td>C21844</td>\n",
       "      <td>PR6253</td>\n",
       "      <td>344</td>\n",
       "      <td>3490</td>\n",
       "      <td>10.145349</td>\n",
       "    </tr>\n",
       "    <tr>\n",
       "      <th>3</th>\n",
       "      <td>Rep70104</td>\n",
       "      <td>C21844</td>\n",
       "      <td>PR6378</td>\n",
       "      <td>108</td>\n",
       "      <td>1095</td>\n",
       "      <td>10.138889</td>\n",
       "    </tr>\n",
       "    <tr>\n",
       "      <th>4</th>\n",
       "      <td>Rep70105</td>\n",
       "      <td>C21844</td>\n",
       "      <td>PR6463</td>\n",
       "      <td>146</td>\n",
       "      <td>1055</td>\n",
       "      <td>7.226027</td>\n",
       "    </tr>\n",
       "  </tbody>\n",
       "</table>\n",
       "</div>"
      ],
      "text/plain": [
       "   ReportID SalesPersonID ProductID  Quantity  TotalSalesValue  PricePerUnit\n",
       "0  Rep70101        C21844    PR6483       102             1115     10.931373\n",
       "1  Rep70102        C21844    PR6251       102             1050     10.294118\n",
       "2  Rep70103        C21844    PR6253       344             3490     10.145349\n",
       "3  Rep70104        C21844    PR6378       108             1095     10.138889\n",
       "4  Rep70105        C21844    PR6463       146             1055      7.226027"
      ]
     },
     "execution_count": 516,
     "metadata": {},
     "output_type": "execute_result"
    }
   ],
   "source": [
    "df_UnseenData=UnseenData.iloc[:,0:6]\n",
    "\n",
    "df_UnseenData.head()"
   ]
  },
  {
   "cell_type": "code",
   "execution_count": 517,
   "metadata": {},
   "outputs": [],
   "source": [
    "df_UnseenData['diff_Avg_Qty_ProdID']=diff_between_two_columns(UnseenData,'Quantity','Avg_Qty_ProdID')\n",
    "df_UnseenData['diff_Avg_Tsale_ProdID']=diff_between_two_columns(UnseenData,'TotalSalesValue','Avg_Tsale_prdID') \n",
    "df_UnseenData['diff_Avg_PPerUnit_ProdID']=diff_between_two_columns(UnseenData,'PricePerUnit','Avg_PPerUnit_prdID')"
   ]
  },
  {
   "cell_type": "code",
   "execution_count": 518,
   "metadata": {},
   "outputs": [],
   "source": [
    "df_UnseenData['diff_Avg_Qty']=diff_between_two_columns(UnseenData,'Quantity','Avg_Qty') \n",
    "df_UnseenData['diff_Avg_TSale']=diff_between_two_columns(UnseenData,'TotalSalesValue','Avg_TSale')\n",
    "df_UnseenData['diff_Avg_PPerUnit']= diff_between_two_columns(UnseenData,'PricePerUnit','Avg_PPerUnit')"
   ]
  },
  {
   "cell_type": "code",
   "execution_count": 519,
   "metadata": {},
   "outputs": [],
   "source": [
    "df_UnseenData['diff_Avg_Qty_pProdID']=diff_between_two_columns(UnseenData,'Quantity','Avg_Qty_pProdID')  \n",
    "df_UnseenData['diff_Avg_TsaleVal_ProdID']=diff_between_two_columns(UnseenData,'TotalSalesValue','Avg_TsaleVal_ProdID')\n",
    "df_UnseenData['diff_Avg_PPerUnit_ProdID']=diff_between_two_columns(UnseenData,'PricePerUnit','Avg_PPerUnit_ProdID')"
   ]
  },
  {
   "cell_type": "code",
   "execution_count": 520,
   "metadata": {},
   "outputs": [
    {
     "data": {
      "text/plain": [
       "14"
      ]
     },
     "execution_count": 520,
     "metadata": {},
     "output_type": "execute_result"
    }
   ],
   "source": [
    "len(df_UnseenData.columns)"
   ]
  },
  {
   "cell_type": "code",
   "execution_count": 522,
   "metadata": {},
   "outputs": [
    {
     "data": {
      "image/png": "[encoded data removed]",
      "text/plain": [
       "<Figure size 1000x800 with 1 Axes>"
      ]
     },
     "metadata": {},
     "output_type": "display_data"
    }
   ],
   "source": [
    "# Line plot\n",
    "df_UnseenData.head(30).plot(kind='line', figsize=(10,8))\n",
    "plt.show()"
   ]
  },
  {
   "cell_type": "code",
   "execution_count": 523,
   "metadata": {},
   "outputs": [
    {
     "data": {
      "text/plain": [
       "<Figure size 1600x600 with 0 Axes>"
      ]
     },
     "metadata": {},
     "output_type": "display_data"
    },
    {
     "data": {
      "image/png": "[encoded data removed]",
      "text/plain": [
       "<Figure size 2500x1000 with 2 Axes>"
      ]
     },
     "metadata": {},
     "output_type": "display_data"
    },
    {
     "name": "stdout",
     "output_type": "stream",
     "text": [
      "ReportID has NO missing value!\n",
      "SalesPersonID has NO missing value!\n",
      "ProductID has NO missing value!\n",
      "Quantity has NO missing value!\n",
      "TotalSalesValue has NO missing value!\n",
      "PricePerUnit has NO missing value!\n",
      "diff_Avg_Qty_ProdID has NO missing value!\n",
      "diff_Avg_Tsale_ProdID has NO missing value!\n",
      "diff_Avg_PPerUnit_ProdID has NO missing value!\n",
      "diff_Avg_Qty has NO missing value!\n",
      "diff_Avg_TSale has NO missing value!\n",
      "diff_Avg_PPerUnit has NO missing value!\n",
      "diff_Avg_Qty_pProdID has NO missing value!\n",
      "diff_Avg_TsaleVal_ProdID has NO missing value!\n"
     ]
    }
   ],
   "source": [
    "# Checking the missing values \n",
    "plt.figure(figsize=(16,6))\n",
    "msno.matrix(df_UnseenData,labels=True,color=(0.20,0.20,0.20))\n",
    "plt.show()\n",
    "for c in df_UnseenData.columns:\n",
    "    miss = df_UnseenData[c].isnull().sum()\n",
    "    if miss>0:\n",
    "        print(\"{} has {} missing value(s)\".format(c,miss))\n",
    "    else:\n",
    "        print(\"{} has NO missing value!\".format(c))"
   ]
  },
  {
   "cell_type": "code",
   "execution_count": 524,
   "metadata": {},
   "outputs": [
    {
     "data": {
      "text/plain": [
       "0"
      ]
     },
     "execution_count": 524,
     "metadata": {},
     "output_type": "execute_result"
    }
   ],
   "source": [
    "df_UnseenData.isnull().sum().sum() #Checking null values"
   ]
  },
  {
   "cell_type": "code",
   "execution_count": 525,
   "metadata": {},
   "outputs": [
    {
     "data": {
      "text/plain": [
       "11"
      ]
     },
     "execution_count": 525,
     "metadata": {},
     "output_type": "execute_result"
    }
   ],
   "source": [
    "df_UnseenData=df_UnseenData.drop(axis=1,columns=['ReportID','ProductID','SalesPersonID']) #Dropped Prodcut Id and SalesPersonID columns\n",
    "len(df_UnseenData.columns) #Checking number of columns after dropping two columns  #'ReportID',"
   ]
  },
  {
   "cell_type": "code",
   "execution_count": 526,
   "metadata": {},
   "outputs": [
    {
     "data": {
      "text/plain": [
       "Index(['Quantity', 'TotalSalesValue', 'PricePerUnit', 'diff_Avg_Qty_ProdID',\n",
       "       'diff_Avg_Tsale_ProdID', 'diff_Avg_PPerUnit_ProdID', 'diff_Avg_Qty',\n",
       "       'diff_Avg_TSale', 'diff_Avg_PPerUnit', 'diff_Avg_Qty_pProdID',\n",
       "       'diff_Avg_TsaleVal_ProdID'],\n",
       "      dtype='object')"
      ]
     },
     "execution_count": 526,
     "metadata": {},
     "output_type": "execute_result"
    }
   ],
   "source": [
    "df_UnseenData.keys()"
   ]
  },
  {
   "cell_type": "code",
   "execution_count": 527,
   "metadata": {},
   "outputs": [
    {
     "data": {
      "text/plain": [
       "Quantity                      int64\n",
       "TotalSalesValue               int64\n",
       "PricePerUnit                float64\n",
       "diff_Avg_Qty_ProdID         float64\n",
       "diff_Avg_Tsale_ProdID       float64\n",
       "diff_Avg_PPerUnit_ProdID    float64\n",
       "diff_Avg_Qty                float64\n",
       "diff_Avg_TSale              float64\n",
       "diff_Avg_PPerUnit           float64\n",
       "diff_Avg_Qty_pProdID        float64\n",
       "diff_Avg_TsaleVal_ProdID    float64\n",
       "dtype: object"
      ]
     },
     "execution_count": 527,
     "metadata": {},
     "output_type": "execute_result"
    }
   ],
   "source": [
    "df_UnseenData.dtypes"
   ]
  },
  {
   "cell_type": "markdown",
   "metadata": {},
   "source": [
    "##### Prediction on Unseen Data with RF:"
   ]
  },
  {
   "cell_type": "code",
   "execution_count": 268,
   "metadata": {},
   "outputs": [],
   "source": [
    "Y_UnseenData_pred_RF = clf.predict(df_UnseenData)"
   ]
  },
  {
   "cell_type": "code",
   "execution_count": 269,
   "metadata": {},
   "outputs": [
    {
     "data": {
      "text/plain": [
       "(9135,)"
      ]
     },
     "execution_count": 269,
     "metadata": {},
     "output_type": "execute_result"
    }
   ],
   "source": [
    "Y_UnseenData_pred_RF.shape"
   ]
  },
  {
   "cell_type": "markdown",
   "metadata": {},
   "source": [
    "##### Saving results .csv file for Actual Scores:"
   ]
  },
  {
   "cell_type": "code",
   "execution_count": 138,
   "metadata": {},
   "outputs": [],
   "source": [
    "test_result_USD_RF = pd.DataFrame(Y_UnseenData_pred_RF,columns = ['Suspicious'])\n",
    "result=test_result_USD_RF.Suspicious.replace({'indeterminate':3,'Yes':1,'No':2})"
   ]
  },
  {
   "cell_type": "code",
   "execution_count": 139,
   "metadata": {},
   "outputs": [],
   "source": [
    "result.to_csv('samplesubmission_USD_RF.csv', sep=',')"
   ]
  },
  {
   "cell_type": "code",
   "execution_count": null,
   "metadata": {},
   "outputs": [],
   "source": []
  },
  {
   "cell_type": "markdown",
   "metadata": {},
   "source": [
    "##### Prediction on Unseen Data with Bagging Classifier:"
   ]
  },
  {
   "cell_type": "code",
   "execution_count": 140,
   "metadata": {},
   "outputs": [],
   "source": [
    "Y_UnseenData_pred_BG = clfB.predict(df_UnseenData)"
   ]
  },
  {
   "cell_type": "code",
   "execution_count": 141,
   "metadata": {},
   "outputs": [
    {
     "data": {
      "text/plain": [
       "(9135,)"
      ]
     },
     "execution_count": 141,
     "metadata": {},
     "output_type": "execute_result"
    }
   ],
   "source": [
    "Y_UnseenData_pred_BG.shape"
   ]
  },
  {
   "cell_type": "markdown",
   "metadata": {},
   "source": [
    "##### Saving results .csv file for Actual Scores:"
   ]
  },
  {
   "cell_type": "code",
   "execution_count": 142,
   "metadata": {},
   "outputs": [],
   "source": [
    "test_result_USD_BG = pd.DataFrame(Y_UnseenData_pred_BG,columns = ['Suspicious'])\n",
    "result=test_result_USD_BG.Suspicious.replace({'indeterminate':3,'Yes':1,'No':2})"
   ]
  },
  {
   "cell_type": "code",
   "execution_count": 143,
   "metadata": {},
   "outputs": [],
   "source": [
    "result.to_csv('samplesubmission_USD_BG.csv', sep=',')"
   ]
  },
  {
   "cell_type": "markdown",
   "metadata": {},
   "source": [
    "#********************#"
   ]
  },
  {
   "cell_type": "markdown",
   "metadata": {},
   "source": [
    "### Clustering:"
   ]
  },
  {
   "cell_type": "code",
   "execution_count": 555,
   "metadata": {},
   "outputs": [],
   "source": [
    "from sklearn.preprocessing import scale\n",
    "# import KMeans\n",
    "from sklearn.cluster import KMeans"
   ]
  },
  {
   "cell_type": "code",
   "execution_count": 556,
   "metadata": {},
   "outputs": [],
   "source": [
    "data_clustering = df[['Quantity','TotalSalesValue']]"
   ]
  },
  {
   "cell_type": "code",
   "execution_count": 557,
   "metadata": {},
   "outputs": [],
   "source": [
    "data_clustering = scale(data_clustering)"
   ]
  },
  {
   "cell_type": "code",
   "execution_count": 558,
   "metadata": {},
   "outputs": [],
   "source": [
    "#data_clustering = X_train"
   ]
  },
  {
   "cell_type": "code",
   "execution_count": 560,
   "metadata": {},
   "outputs": [
    {
     "data": {
      "text/plain": [
       "array([[-0.048081  , -0.24252005],\n",
       "       [-0.048081  , -0.24126945],\n",
       "       [-0.04890472, -0.25294171],\n",
       "       ...,\n",
       "       [-0.03537953, -0.20400159],\n",
       "       [ 0.04962576,  0.10272873],\n",
       "       [ 0.04308689,  0.06579436]])"
      ]
     },
     "execution_count": 560,
     "metadata": {},
     "output_type": "execute_result"
    }
   ],
   "source": [
    "data_clustering"
   ]
  },
  {
   "cell_type": "code",
   "execution_count": 561,
   "metadata": {},
   "outputs": [],
   "source": [
    "sse = []\n",
    "for i in range(2,10):\n",
    "    # create kmeans object\n",
    "    kmeans = kmeans = KMeans(init='k-means++', n_clusters=i, n_init=10)\n",
    "    # fit kmeans object to data\n",
    "    kmeans.fit(data_clustering)\n",
    "    # print location of clusters learned by kmeans object\n",
    "#     print(kmeans.cluster_centers_)\n",
    "    # save new clusters for chart\n",
    "    sse.append(kmeans.inertia_)"
   ]
  },
  {
   "cell_type": "code",
   "execution_count": 541,
   "metadata": {},
   "outputs": [],
   "source": [
    "import matplotlib.pyplot as plt\n",
    "import pandas as pd\n",
    "import numpy as np\n",
    "import seaborn as sns\n",
    "import plotly\n",
    "import plotly.offline as pyoff\n",
    "import plotly.figure_factory as ff\n",
    "from plotly.offline import init_notebook_mode, iplot, plot\n",
    "import plotly.graph_objs as go\n",
    "import squarify # for tree maps\n",
    "%matplotlib inline"
   ]
  },
  {
   "cell_type": "code",
   "execution_count": 562,
   "metadata": {},
   "outputs": [
    {
     "data": {
      "application/vnd.plotly.v1+json": {
       "config": {
        "linkText": "Export to plot.ly",
        "plotlyServerURL": "https://plot.ly",
        "showLink": false
       },
       "data": [
        {
         "line": {
          "color": "rgb(205, 12, 24)"
         },
         "text": [
          "(2, 45011.58997861005)",
          "(3, 24031.505294627244)",
          "(4, 13556.919976191242)",
          "(5, 9139.944367443233)",
          "(6, 6419.2807507725065)",
          "(7, 5225.67903844833)",
          "(8, 4088.3190867524254)",
          "(9, 3250.696290502249)"
         ],
         "textposition": "top center",
         "type": "scatter",
         "uid": "b3e12d73-88df-4ccc-9d14-4721a67ff869",
         "x": [
          2,
          3,
          4,
          5,
          6,
          7,
          8,
          9
         ],
         "y": [
          45011.58997861005,
          24031.505294627244,
          13556.919976191242,
          9139.944367443233,
          6419.2807507725065,
          5225.67903844833,
          4088.3190867524254,
          3250.696290502249
         ]
        }
       ],
       "layout": {
        "title": {
         "text": "Scree plot (Sum of Squared errors)"
        }
       }
      }
     },
     "metadata": {},
     "output_type": "display_data"
    }
   ],
   "source": [
    "x=list(range(2,10))\n",
    "y=sse\n",
    "data = [go.Scatter(x=x, # number of clusters\n",
    "                   y=y, # sum of squared errors\n",
    "                   text = [str(i) for i in (zip(x,y))], # text to display on hover\n",
    "                   textposition = 'top center',\n",
    "                   line = dict(color = ('rgb(205, 12, 24)')) # line color\n",
    "                  )]\n",
    "\n",
    "layout = go.Layout(title ='Scree plot (Sum of Squared errors)')\n",
    "fig = go.Figure(data=data,layout=layout)\n",
    "iplot(fig)"
   ]
  },
  {
   "cell_type": "code",
   "execution_count": 543,
   "metadata": {},
   "outputs": [
    {
     "name": "stdout",
     "output_type": "stream",
     "text": [
      "[[-3.70796756e-02 -1.78566574e-01]\n",
      " [ 2.00368210e+02  2.01181026e+00]\n",
      " [ 4.98088313e-01  2.55902245e+00]\n",
      " [ 1.04207598e+00  1.38666543e+01]\n",
      " [ 1.59566629e-01  6.98578659e-01]\n",
      " [ 1.13526347e+00  3.05791390e+01]\n",
      " [-4.63725589e-02  6.56610619e+01]\n",
      " [ 9.44680828e-01  5.87198434e+00]]\n"
     ]
    }
   ],
   "source": [
    "kmeans = KMeans(n_clusters=8)\n",
    "# fit kmeans object to data\n",
    "kmeans.fit(data_clustering)\n",
    "# print location of clusters learned by kmeans object\n",
    "print(kmeans.cluster_centers_)\n",
    "# save new clusters for chart\n",
    "y_km = kmeans.predict(data_clustering) # read what fit_predict does"
   ]
  },
  {
   "cell_type": "code",
   "execution_count": 544,
   "metadata": {},
   "outputs": [
    {
     "data": {
      "text/plain": [
       "array([0, 1, 2, 3, 4, 5, 6, 7])"
      ]
     },
     "execution_count": 544,
     "metadata": {},
     "output_type": "execute_result"
    }
   ],
   "source": [
    "np.unique(y_km)"
   ]
  },
  {
   "cell_type": "code",
   "execution_count": 545,
   "metadata": {},
   "outputs": [],
   "source": [
    "dataframe1['Cluster_Centers'] = y_km"
   ]
  },
  {
   "cell_type": "code",
   "execution_count": 546,
   "metadata": {},
   "outputs": [],
   "source": [
    "colors_clusters = dataframe1.Cluster_Centers"
   ]
  },
  {
   "cell_type": "code",
   "execution_count": 547,
   "metadata": {},
   "outputs": [],
   "source": [
    "colors_clusters = colors_clusters.replace(to_replace=[0,1,2,3,4],value = ['rgb(170, 5, 5)',\n",
    "                                'rgb(106, 12, 11)',\n",
    "                                'rgb(185, 125, 16)',\n",
    "                                'rgb (251, 202, 3)',\n",
    "                                'rgb(103, 199, 235)'])"
   ]
  },
  {
   "cell_type": "code",
   "execution_count": 548,
   "metadata": {},
   "outputs": [
    {
     "name": "stderr",
     "output_type": "stream",
     "text": [
      "C:\\Users\\ANEEL\\AppData\\Local\\Continuum\\anaconda3\\lib\\site-packages\\ipykernel_launcher.py:1: UserWarning:\n",
      "\n",
      "Pandas doesn't allow columns to be created via a new attribute name - see https://pandas.pydata.org/pandas-docs/stable/indexing.html#attribute-access\n",
      "\n"
     ]
    }
   ],
   "source": [
    "dataframe1.colors_clusters = colors_clusters"
   ]
  },
  {
   "cell_type": "code",
   "execution_count": 549,
   "metadata": {},
   "outputs": [],
   "source": [
    "dataframe1.to_csv(\"data_with_clusters.csv\",index=False)"
   ]
  },
  {
   "cell_type": "code",
   "execution_count": 550,
   "metadata": {},
   "outputs": [
    {
     "data": {
      "text/html": [
       "<div>\n",
       "<style scoped>\n",
       "    .dataframe tbody tr th:only-of-type {\n",
       "        vertical-align: middle;\n",
       "    }\n",
       "\n",
       "    .dataframe tbody tr th {\n",
       "        vertical-align: top;\n",
       "    }\n",
       "\n",
       "    .dataframe thead th {\n",
       "        text-align: right;\n",
       "    }\n",
       "</style>\n",
       "<table border=\"1\" class=\"dataframe\">\n",
       "  <thead>\n",
       "    <tr style=\"text-align: right;\">\n",
       "      <th></th>\n",
       "      <th>SalesPersonID</th>\n",
       "      <th>ProductID</th>\n",
       "      <th>Quantity</th>\n",
       "      <th>TotalSalesValue</th>\n",
       "      <th>Suspicious</th>\n",
       "      <th>PricePerUnit</th>\n",
       "      <th>Avg_Qty_ProdID</th>\n",
       "      <th>Avg_Tsale_prdID</th>\n",
       "      <th>Avg_PPerUnit_prdID</th>\n",
       "      <th>Avg_Qty</th>\n",
       "      <th>Avg_TSale</th>\n",
       "      <th>Avg_PPerUnit</th>\n",
       "      <th>Avg_Qty_pProdID</th>\n",
       "      <th>Avg_TsaleVal_ProdID</th>\n",
       "      <th>Avg_PPerUnit_ProdID</th>\n",
       "      <th>Cluster_Centers</th>\n",
       "    </tr>\n",
       "  </thead>\n",
       "  <tbody>\n",
       "    <tr>\n",
       "      <th>0</th>\n",
       "      <td>C21116</td>\n",
       "      <td>PR6112</td>\n",
       "      <td>182</td>\n",
       "      <td>1665</td>\n",
       "      <td>indeterminate</td>\n",
       "      <td>9.148352</td>\n",
       "      <td>182.0</td>\n",
       "      <td>1715.0</td>\n",
       "      <td>9.423077</td>\n",
       "      <td>182.9</td>\n",
       "      <td>2408.0</td>\n",
       "      <td>12.592662</td>\n",
       "      <td>591.650888</td>\n",
       "      <td>6876.035503</td>\n",
       "      <td>14.164825</td>\n",
       "      <td>0</td>\n",
       "    </tr>\n",
       "    <tr>\n",
       "      <th>1</th>\n",
       "      <td>C21116</td>\n",
       "      <td>PR6112</td>\n",
       "      <td>182</td>\n",
       "      <td>1740</td>\n",
       "      <td>indeterminate</td>\n",
       "      <td>9.560440</td>\n",
       "      <td>182.0</td>\n",
       "      <td>1715.0</td>\n",
       "      <td>9.423077</td>\n",
       "      <td>182.9</td>\n",
       "      <td>2408.0</td>\n",
       "      <td>12.592662</td>\n",
       "      <td>591.650888</td>\n",
       "      <td>6876.035503</td>\n",
       "      <td>14.164825</td>\n",
       "      <td>0</td>\n",
       "    </tr>\n",
       "    <tr>\n",
       "      <th>2</th>\n",
       "      <td>C21116</td>\n",
       "      <td>PR6253</td>\n",
       "      <td>101</td>\n",
       "      <td>1040</td>\n",
       "      <td>indeterminate</td>\n",
       "      <td>10.297030</td>\n",
       "      <td>227.0</td>\n",
       "      <td>3327.5</td>\n",
       "      <td>13.215452</td>\n",
       "      <td>182.9</td>\n",
       "      <td>2408.0</td>\n",
       "      <td>12.592662</td>\n",
       "      <td>471.563320</td>\n",
       "      <td>5612.323552</td>\n",
       "      <td>16.161482</td>\n",
       "      <td>0</td>\n",
       "    </tr>\n",
       "  </tbody>\n",
       "</table>\n",
       "</div>"
      ],
      "text/plain": [
       "  SalesPersonID ProductID  Quantity  TotalSalesValue     Suspicious  \\\n",
       "0        C21116    PR6112       182             1665  indeterminate   \n",
       "1        C21116    PR6112       182             1740  indeterminate   \n",
       "2        C21116    PR6253       101             1040  indeterminate   \n",
       "\n",
       "   PricePerUnit  Avg_Qty_ProdID  Avg_Tsale_prdID  Avg_PPerUnit_prdID  Avg_Qty  \\\n",
       "0      9.148352           182.0           1715.0            9.423077    182.9   \n",
       "1      9.560440           182.0           1715.0            9.423077    182.9   \n",
       "2     10.297030           227.0           3327.5           13.215452    182.9   \n",
       "\n",
       "   Avg_TSale  Avg_PPerUnit  Avg_Qty_pProdID  Avg_TsaleVal_ProdID  \\\n",
       "0     2408.0     12.592662       591.650888          6876.035503   \n",
       "1     2408.0     12.592662       591.650888          6876.035503   \n",
       "2     2408.0     12.592662       471.563320          5612.323552   \n",
       "\n",
       "   Avg_PPerUnit_ProdID  Cluster_Centers  \n",
       "0            14.164825                0  \n",
       "1            14.164825                0  \n",
       "2            16.161482                0  "
      ]
     },
     "execution_count": 550,
     "metadata": {},
     "output_type": "execute_result"
    }
   ],
   "source": [
    "dataframe1.head(3)"
   ]
  },
  {
   "cell_type": "code",
   "execution_count": 553,
   "metadata": {},
   "outputs": [],
   "source": [
    "def plot_bar(col_name):\n",
    "    # create a table with value counts\n",
    "    temp = dataframe1[col_name].value_counts()\n",
    "    print('***************************************')\n",
    "    print(temp)\n",
    "    print(\"\\n total = \" ,sum(temp.values))\n",
    "    print(\"\\n Percentages = \",np.round(temp.values.astype(float)/temp.values.sum(),4)*100)\n",
    "    print('***************************************')\n",
    "   \n",
    "    # creating a Bar chart object of plotly\n",
    "    data = [go.Bar(\n",
    "            x=temp.index.astype(str), # x axis values\n",
    "            y=np.round(temp.values.astype(float)/temp.values.sum(),4)*100, # y axis values\n",
    "            text = ['{}%'.format(i) for i in np.round(temp.values.astype(float)/temp.values.sum(),4)*100],\n",
    "        # text to be displayed on the bar, we are doing this to display the '%' symbol along with the number on the bar\n",
    "            textposition = 'auto', # specify at which position on the bar the text should appear\n",
    "        marker = dict(color = '#0047AB'),)] # change color of the bar\n",
    "    # color used here Cobalt Blue\n",
    "     \n",
    "    layout_bar = generate_layout_bar(col_name=col_name)\n",
    "\n",
    "    fig = go.Figure(data=data, layout=layout_bar)\n",
    "    return iplot(fig)"
   ]
  },
  {
   "cell_type": "code",
   "execution_count": 554,
   "metadata": {},
   "outputs": [
    {
     "name": "stdout",
     "output_type": "stream",
     "text": [
      "***************************************\n",
      "0    38036\n",
      "4     3512\n",
      "2      736\n",
      "7      238\n",
      "3       46\n",
      "5       12\n",
      "6        1\n",
      "1        1\n",
      "Name: Cluster_Centers, dtype: int64\n",
      "\n",
      " total =  42582\n",
      "\n",
      " Percentages =  [8.932e+01 8.250e+00 1.730e+00 5.600e-01 1.100e-01 3.000e-02 0.000e+00\n",
      " 0.000e+00]\n",
      "***************************************\n"
     ]
    },
    {
     "ename": "NameError",
     "evalue": "name 'generate_layout_bar' is not defined",
     "output_type": "error",
     "traceback": [
      "\u001b[1;31m---------------------------------------------------------------------------\u001b[0m",
      "\u001b[1;31mNameError\u001b[0m                                 Traceback (most recent call last)",
      "\u001b[1;32m<ipython-input-554-2a1e5c8f110d>\u001b[0m in \u001b[0;36m<module>\u001b[1;34m()\u001b[0m\n\u001b[1;32m----> 1\u001b[1;33m \u001b[0mplot_bar\u001b[0m\u001b[1;33m(\u001b[0m\u001b[1;34m'Cluster_Centers'\u001b[0m\u001b[1;33m)\u001b[0m\u001b[1;33m\u001b[0m\u001b[0m\n\u001b[0m",
      "\u001b[1;32m<ipython-input-553-da52dd3881f4>\u001b[0m in \u001b[0;36mplot_bar\u001b[1;34m(col_name)\u001b[0m\n\u001b[0;32m     18\u001b[0m     \u001b[1;31m# color used here Cobalt Blue\u001b[0m\u001b[1;33m\u001b[0m\u001b[1;33m\u001b[0m\u001b[0m\n\u001b[0;32m     19\u001b[0m \u001b[1;33m\u001b[0m\u001b[0m\n\u001b[1;32m---> 20\u001b[1;33m     \u001b[0mlayout_bar\u001b[0m \u001b[1;33m=\u001b[0m \u001b[0mgenerate_layout_bar\u001b[0m\u001b[1;33m(\u001b[0m\u001b[0mcol_name\u001b[0m\u001b[1;33m=\u001b[0m\u001b[0mcol_name\u001b[0m\u001b[1;33m)\u001b[0m\u001b[1;33m\u001b[0m\u001b[0m\n\u001b[0m\u001b[0;32m     21\u001b[0m \u001b[1;33m\u001b[0m\u001b[0m\n\u001b[0;32m     22\u001b[0m     \u001b[0mfig\u001b[0m \u001b[1;33m=\u001b[0m \u001b[0mgo\u001b[0m\u001b[1;33m.\u001b[0m\u001b[0mFigure\u001b[0m\u001b[1;33m(\u001b[0m\u001b[0mdata\u001b[0m\u001b[1;33m=\u001b[0m\u001b[0mdata\u001b[0m\u001b[1;33m,\u001b[0m \u001b[0mlayout\u001b[0m\u001b[1;33m=\u001b[0m\u001b[0mlayout_bar\u001b[0m\u001b[1;33m)\u001b[0m\u001b[1;33m\u001b[0m\u001b[0m\n",
      "\u001b[1;31mNameError\u001b[0m: name 'generate_layout_bar' is not defined"
     ]
    }
   ],
   "source": [
    "plot_bar('Cluster_Centers')"
   ]
  },
  {
   "cell_type": "code",
   "execution_count": null,
   "metadata": {},
   "outputs": [],
   "source": []
  },
  {
   "cell_type": "code",
   "execution_count": null,
   "metadata": {},
   "outputs": [],
   "source": []
  },
  {
   "cell_type": "code",
   "execution_count": null,
   "metadata": {},
   "outputs": [],
   "source": []
  },
  {
   "cell_type": "code",
   "execution_count": null,
   "metadata": {},
   "outputs": [],
   "source": []
  }
 ],
 "metadata": {
  "kernelspec": {
   "display_name": "Python 3",
   "language": "python",
   "name": "python3"
  },
  "language_info": {
   "codemirror_mode": {
    "name": "ipython",
    "version": 3
   },
   "file_extension": ".py",
   "mimetype": "text/x-python",
   "name": "python",
   "nbconvert_exporter": "python",
   "pygments_lexer": "ipython3",
   "version": "3.6.5"
  }
 },
 "nbformat": 4,
 "nbformat_minor": 2
}
