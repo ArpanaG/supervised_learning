{
 "cells": [
  {
   "cell_type": "code",
   "execution_count": null,
   "metadata": {},
   "outputs": [],
   "source": [
    "#!pip install h2o"
   ]
  },
  {
   "cell_type": "code",
   "execution_count": 1,
   "metadata": {},
   "outputs": [],
   "source": [
    "import os\n",
    "PATH = os.getcwd()"
   ]
  },
  {
   "cell_type": "code",
   "execution_count": 2,
   "metadata": {},
   "outputs": [],
   "source": [
    "os.chdir(PATH)"
   ]
  },
  {
   "cell_type": "code",
   "execution_count": 3,
   "metadata": {},
   "outputs": [],
   "source": [
    "import h2o"
   ]
  },
  {
   "cell_type": "code",
   "execution_count": 4,
   "metadata": {},
   "outputs": [
    {
     "name": "stdout",
     "output_type": "stream",
     "text": [
      "Checking whether there is an H2O instance running at http://localhost:54321 ..... not found.\n",
      "Attempting to start a local H2O server...\n",
      "; Java HotSpot(TM) Client VM (build 25.211-b12, mixed mode)\n"
     ]
    },
    {
     "name": "stderr",
     "output_type": "stream",
     "text": [
      "C:\\Users\\ANEEL\\AppData\\Local\\Continuum\\anaconda3\\lib\\site-packages\\h2o\\backend\\server.py:369: UserWarning:   You have a 32-bit version of Java. H2O works best with 64-bit Java.\n",
      "  Please download the latest 64-bit Java SE JDK from Oracle.\n",
      "\n",
      "  warn(\"  You have a 32-bit version of Java. H2O works best with 64-bit Java.\\n\"\n"
     ]
    },
    {
     "name": "stdout",
     "output_type": "stream",
     "text": [
      "  Starting server from C:\\Users\\ANEEL\\AppData\\Local\\Continuum\\anaconda3\\lib\\site-packages\\h2o\\backend\\bin\\h2o.jar\n",
      "  Ice root: C:\\Users\\ANEEL\\AppData\\Local\\Temp\\tmpm_6dvw1p\n",
      "  JVM stdout: C:\\Users\\ANEEL\\AppData\\Local\\Temp\\tmpm_6dvw1p\\h2o_ANEEL_started_from_python.out\n",
      "  JVM stderr: C:\\Users\\ANEEL\\AppData\\Local\\Temp\\tmpm_6dvw1p\\h2o_ANEEL_started_from_python.err\n",
      "  Server is running at http://127.0.0.1:54321\n",
      "Connecting to H2O server at http://127.0.0.1:54321 ... successful.\n"
     ]
    },
    {
     "data": {
      "text/html": [
       "<div style=\"overflow:auto\"><table style=\"width:50%\"><tr><td>H2O cluster uptime:</td>\n",
       "<td>10 secs</td></tr>\n",
       "<tr><td>H2O cluster timezone:</td>\n",
       "<td>Asia/Kolkata</td></tr>\n",
       "<tr><td>H2O data parsing timezone:</td>\n",
       "<td>UTC</td></tr>\n",
       "<tr><td>H2O cluster version:</td>\n",
       "<td>3.24.0.3</td></tr>\n",
       "<tr><td>H2O cluster version age:</td>\n",
       "<td>14 days, 4 hours and 15 minutes </td></tr>\n",
       "<tr><td>H2O cluster name:</td>\n",
       "<td>H2O_from_python_ANEEL_0y6u5s</td></tr>\n",
       "<tr><td>H2O cluster total nodes:</td>\n",
       "<td>1</td></tr>\n",
       "<tr><td>H2O cluster free memory:</td>\n",
       "<td>247.5 Mb</td></tr>\n",
       "<tr><td>H2O cluster total cores:</td>\n",
       "<td>4</td></tr>\n",
       "<tr><td>H2O cluster allowed cores:</td>\n",
       "<td>4</td></tr>\n",
       "<tr><td>H2O cluster status:</td>\n",
       "<td>accepting new members, healthy</td></tr>\n",
       "<tr><td>H2O connection url:</td>\n",
       "<td>http://127.0.0.1:54321</td></tr>\n",
       "<tr><td>H2O connection proxy:</td>\n",
       "<td>None</td></tr>\n",
       "<tr><td>H2O internal security:</td>\n",
       "<td>False</td></tr>\n",
       "<tr><td>H2O API Extensions:</td>\n",
       "<td>Amazon S3, Algos, AutoML, Core V3, Core V4</td></tr>\n",
       "<tr><td>Python version:</td>\n",
       "<td>3.7.0 final</td></tr></table></div>"
      ],
      "text/plain": [
       "--------------------------  ------------------------------------------\n",
       "H2O cluster uptime:         10 secs\n",
       "H2O cluster timezone:       Asia/Kolkata\n",
       "H2O data parsing timezone:  UTC\n",
       "H2O cluster version:        3.24.0.3\n",
       "H2O cluster version age:    14 days, 4 hours and 15 minutes\n",
       "H2O cluster name:           H2O_from_python_ANEEL_0y6u5s\n",
       "H2O cluster total nodes:    1\n",
       "H2O cluster free memory:    247.5 Mb\n",
       "H2O cluster total cores:    4\n",
       "H2O cluster allowed cores:  4\n",
       "H2O cluster status:         accepting new members, healthy\n",
       "H2O connection url:         http://127.0.0.1:54321\n",
       "H2O connection proxy:\n",
       "H2O internal security:      False\n",
       "H2O API Extensions:         Amazon S3, Algos, AutoML, Core V3, Core V4\n",
       "Python version:             3.7.0 final\n",
       "--------------------------  ------------------------------------------"
      ]
     },
     "metadata": {},
     "output_type": "display_data"
    }
   ],
   "source": [
    "h2o.init()"
   ]
  },
  {
   "cell_type": "markdown",
   "metadata": {},
   "source": [
    "import pandas as pd\n",
    "df= pd.read_csv('Train.csv', delimiter = ',')"
   ]
  },
  {
   "cell_type": "raw",
   "metadata": {},
   "source": [
    "#df.shape\n",
    "#\"C://Users//ANEEL//Desktop//PhDhackethon0519//PHD_TrainData_and_ProblemStatement-1558070454703//PHD_TrainData_and_ProblemStatement//Train.csv\""
   ]
  },
  {
   "cell_type": "code",
   "execution_count": 7,
   "metadata": {},
   "outputs": [],
   "source": [
    "loan_csv = \"C://Users//ANEEL//Desktop//PhDhackethon0519//PHD_TrainData_and_ProblemStatement-1558070454703//PHD_TrainData_and_ProblemStatement//Train.csv\" "
   ]
  },
  {
   "cell_type": "markdown",
   "metadata": {},
   "source": [
    "loan_csv = \"C://Users//ANEEL//Desktop//ANN AI//H2O//Train.csv\" "
   ]
  },
  {
   "cell_type": "code",
   "execution_count": 8,
   "metadata": {},
   "outputs": [
    {
     "name": "stdout",
     "output_type": "stream",
     "text": [
      "Parse progress: |█████████████████████████████████████████████████████████| 100%\n"
     ]
    }
   ],
   "source": [
    "data = h2o.import_file(loan_csv)"
   ]
  },
  {
   "cell_type": "code",
   "execution_count": 9,
   "metadata": {},
   "outputs": [
    {
     "data": {
      "text/plain": [
       "(42582, 6)"
      ]
     },
     "execution_count": 9,
     "metadata": {},
     "output_type": "execute_result"
    }
   ],
   "source": [
    "data.shape"
   ]
  },
  {
   "cell_type": "code",
   "execution_count": 13,
   "metadata": {},
   "outputs": [
    {
     "name": "stdout",
     "output_type": "stream",
     "text": [
      "Rows:42582\n",
      "Cols:6\n",
      "\n",
      "\n"
     ]
    },
    {
     "data": {
      "text/html": [
       "<table>\n",
       "<thead>\n",
       "<tr><th>       </th><th>ReportID  </th><th>SalesPersonID  </th><th>ProductID  </th><th>Quantity         </th><th>TotalSalesValue   </th><th>Suspicious   </th></tr>\n",
       "</thead>\n",
       "<tbody>\n",
       "<tr><td>type   </td><td>string    </td><td>enum           </td><td>enum       </td><td>int              </td><td>int               </td><td>enum         </td></tr>\n",
       "<tr><td>mins   </td><td>NaN       </td><td>               </td><td>           </td><td>33.0             </td><td>598.0             </td><td>             </td></tr>\n",
       "<tr><td>mean   </td><td>NaN       </td><td>               </td><td>           </td><td>4910.0483537645  </td><td>16209.229885867271</td><td>             </td></tr>\n",
       "<tr><td>maxs   </td><td>NaN       </td><td>               </td><td>           </td><td>19708130.0       </td><td>3953985.0         </td><td>             </td></tr>\n",
       "<tr><td>sigma  </td><td>NaN       </td><td>               </td><td>           </td><td>98336.21452586878</td><td>59971.95129694922 </td><td>             </td></tr>\n",
       "<tr><td>zeros  </td><td>0         </td><td>               </td><td>           </td><td>0                </td><td>0                 </td><td>             </td></tr>\n",
       "<tr><td>missing</td><td>0         </td><td>0              </td><td>0          </td><td>0                </td><td>0                 </td><td>0            </td></tr>\n",
       "<tr><td>0      </td><td>Rep10101  </td><td>C21116         </td><td>PR6112     </td><td>182.0            </td><td>1665.0            </td><td>indeterminate</td></tr>\n",
       "<tr><td>1      </td><td>Rep10102  </td><td>C21116         </td><td>PR6112     </td><td>182.0            </td><td>1740.0            </td><td>indeterminate</td></tr>\n",
       "<tr><td>2      </td><td>Rep10103  </td><td>C21116         </td><td>PR6253     </td><td>101.0            </td><td>1040.0            </td><td>indeterminate</td></tr>\n",
       "<tr><td>3      </td><td>Rep10104  </td><td>C21116         </td><td>PR6253     </td><td>283.0            </td><td>4495.0            </td><td>No           </td></tr>\n",
       "<tr><td>4      </td><td>Rep10105  </td><td>C21116         </td><td>PR6294     </td><td>108.0            </td><td>1465.0            </td><td>indeterminate</td></tr>\n",
       "<tr><td>5      </td><td>Rep10106  </td><td>C21116         </td><td>PR6253     </td><td>421.0            </td><td>6655.0            </td><td>indeterminate</td></tr>\n",
       "<tr><td>6      </td><td>Rep10107  </td><td>C21116         </td><td>PR6294     </td><td>117.0            </td><td>1860.0            </td><td>indeterminate</td></tr>\n",
       "<tr><td>7      </td><td>Rep10108  </td><td>C21116         </td><td>PR6253     </td><td>103.0            </td><td>1120.0            </td><td>indeterminate</td></tr>\n",
       "<tr><td>8      </td><td>Rep10109  </td><td>C21116         </td><td>PR6112     </td><td>182.0            </td><td>1740.0            </td><td>indeterminate</td></tr>\n",
       "<tr><td>9      </td><td>Rep10110  </td><td>C21116         </td><td>PR6297     </td><td>150.0            </td><td>2300.0            </td><td>indeterminate</td></tr>\n",
       "</tbody>\n",
       "</table>"
      ]
     },
     "metadata": {},
     "output_type": "display_data"
    }
   ],
   "source": [
    "data.describe()"
   ]
  },
  {
   "cell_type": "code",
   "execution_count": 15,
   "metadata": {},
   "outputs": [
    {
     "data": {
      "text/plain": [
       "['ReportID',\n",
       " 'SalesPersonID',\n",
       " 'ProductID',\n",
       " 'Quantity',\n",
       " 'TotalSalesValue',\n",
       " 'Suspicious']"
      ]
     },
     "execution_count": 15,
     "metadata": {},
     "output_type": "execute_result"
    }
   ],
   "source": [
    "data.columns"
   ]
  },
  {
   "cell_type": "code",
   "execution_count": 16,
   "metadata": {},
   "outputs": [
    {
     "data": {
      "text/plain": [
       "[['No', 'Yes', 'indeterminate']]"
      ]
     },
     "execution_count": 16,
     "metadata": {},
     "output_type": "execute_result"
    }
   ],
   "source": [
    "data['Suspicious'] = data['Suspicious'].asfactor()  #encode the binary repsonse as a factor\n",
    "data['Suspicious'].levels()"
   ]
  },
  {
   "cell_type": "code",
   "execution_count": 17,
   "metadata": {},
   "outputs": [],
   "source": [
    "\n",
    "# Partition data into 70%, 15%, 15% chunks\n",
    "# Setting a seed will guarantee reproducibility\n",
    "\n",
    "splits = data.split_frame(ratios=[0.7, 0.15], seed=1)  \n",
    "\n",
    "train = splits[0]\n",
    "valid = splits[1]\n",
    "test = splits[2]"
   ]
  },
  {
   "cell_type": "code",
   "execution_count": 18,
   "metadata": {},
   "outputs": [
    {
     "name": "stdout",
     "output_type": "stream",
     "text": [
      "29913 6282 6387\n"
     ]
    }
   ],
   "source": [
    "print(train.nrow, valid.nrow, test.nrow)"
   ]
  },
  {
   "cell_type": "code",
   "execution_count": 19,
   "metadata": {},
   "outputs": [],
   "source": [
    "y = 'Suspicious'\n",
    "x = list(data.columns)"
   ]
  },
  {
   "cell_type": "code",
   "execution_count": 20,
   "metadata": {},
   "outputs": [
    {
     "data": {
      "text/plain": [
       "['ReportID',\n",
       " 'SalesPersonID',\n",
       " 'ProductID',\n",
       " 'Quantity',\n",
       " 'TotalSalesValue',\n",
       " 'Suspicious']"
      ]
     },
     "execution_count": 20,
     "metadata": {},
     "output_type": "execute_result"
    }
   ],
   "source": [
    "x"
   ]
  },
  {
   "cell_type": "code",
   "execution_count": 21,
   "metadata": {},
   "outputs": [],
   "source": [
    "x.remove(y)  #remove the response\n",
    "x.remove('ReportID')  #remove the interest rate column because it's correlated with the outcome\n",
    "#x.remove('IV')"
   ]
  },
  {
   "cell_type": "code",
   "execution_count": 22,
   "metadata": {},
   "outputs": [
    {
     "data": {
      "text/plain": [
       "['SalesPersonID', 'ProductID', 'Quantity', 'TotalSalesValue']"
      ]
     },
     "execution_count": 22,
     "metadata": {},
     "output_type": "execute_result"
    }
   ],
   "source": [
    "x"
   ]
  },
  {
   "cell_type": "markdown",
   "metadata": {},
   "source": [
    "# H2O Machine Learning¶\n",
    "Now that we have prepared the data, we can train some models. We will start by training a single model from each of the H2O supervised algos:\n",
    "\n",
    "Generalized Linear Model (GLM)\n",
    "Random Forest (RF)\n",
    "Gradient Boosting Machine (RF)\n",
    "Deep Learning (DL)\n",
    "Naive Bayes (NB)\n",
    "1. Generalized Linear Model\n",
    "Let's start with a basic binomial Generalized Linear Model (GLM). By default, H2O's GLM uses a regularized, elastic net model."
   ]
  },
  {
   "cell_type": "raw",
   "metadata": {},
   "source": [
    "# Import H2O GLM:\n",
    "from h2o.estimators.glm import H2OGeneralizedLinearEstimator"
   ]
  },
  {
   "cell_type": "markdown",
   "metadata": {},
   "source": [
    "# Train a default GLM\n",
    "We first create an object of class, \"H2OGeneralizedLinearEstimator\". This does not actually do any training, it just sets the model up for training by specifying model parameters."
   ]
  },
  {
   "cell_type": "raw",
   "metadata": {},
   "source": [
    "\n",
    "# Initialize the GLM estimator:\n",
    "# Similar to R's glm() and H2O's R GLM, H2O's GLM has the \"family\" argument\n",
    "\n",
    "glm_fit1 = H2OGeneralizedLinearEstimator(family='binomial', model_id='glm_fit1')\n"
   ]
  },
  {
   "cell_type": "raw",
   "metadata": {},
   "source": [
    "\n",
    "glm_fit1.train(x=x, y=y, training_frame=train)"
   ]
  },
  {
   "cell_type": "raw",
   "metadata": {},
   "source": [
    "glm_perf1 = glm_fit1.model_performance(test)"
   ]
  },
  {
   "cell_type": "raw",
   "metadata": {},
   "source": [
    "print(glm_perf1)"
   ]
  },
  {
   "cell_type": "raw",
   "metadata": {},
   "source": [
    "print(glm_perf1.auc())"
   ]
  },
  {
   "cell_type": "raw",
   "metadata": {},
   "source": [
    "print(glm_fit1.auc(train=True))"
   ]
  },
  {
   "cell_type": "markdown",
   "metadata": {},
   "source": [
    "# 2. Random Forest¶\n",
    "H2O's Random Forest (RF) is implements a distributed version of the standard Random Forest algorithm and variable importance measures."
   ]
  },
  {
   "cell_type": "code",
   "execution_count": 26,
   "metadata": {},
   "outputs": [],
   "source": [
    "# Import H2O RF:\n",
    "from h2o.estimators.random_forest import H2ORandomForestEstimator"
   ]
  },
  {
   "cell_type": "code",
   "execution_count": 27,
   "metadata": {},
   "outputs": [],
   "source": [
    "# Initialize the RF estimator:\n",
    "\n",
    "rf_fit1 = H2ORandomForestEstimator(model_id='rf_fit1', seed=1)"
   ]
  },
  {
   "cell_type": "code",
   "execution_count": 28,
   "metadata": {},
   "outputs": [
    {
     "name": "stdout",
     "output_type": "stream",
     "text": [
      "drf Model Build progress: |███████████████████████████████████████████████| 100%\n"
     ]
    }
   ],
   "source": [
    "rf_fit1.train(x=x, y=y, training_frame=train)"
   ]
  },
  {
   "cell_type": "code",
   "execution_count": 29,
   "metadata": {},
   "outputs": [
    {
     "name": "stdout",
     "output_type": "stream",
     "text": [
      "drf Model Build progress: |███████████████████████████████████████████████| 100%\n"
     ]
    }
   ],
   "source": [
    "rf_fit2 = H2ORandomForestEstimator(model_id='rf_fit2', ntrees=100, seed=1)\n",
    "rf_fit2.train(x=x, y=y, training_frame=train)"
   ]
  },
  {
   "cell_type": "markdown",
   "metadata": {},
   "source": [
    "# Compare model performance¶\n",
    "Let's compare the performance of the two RFs that were just trained."
   ]
  },
  {
   "cell_type": "code",
   "execution_count": 30,
   "metadata": {},
   "outputs": [],
   "source": [
    "rf_perf1 = rf_fit1.model_performance(test)\n",
    "rf_perf2 = rf_fit2.model_performance(test)"
   ]
  },
  {
   "cell_type": "code",
   "execution_count": 32,
   "metadata": {},
   "outputs": [
    {
     "name": "stdout",
     "output_type": "stream",
     "text": [
      "\n",
      "ModelMetricsMultinomial: drf\n",
      "** Reported on test data. **\n",
      "\n",
      "MSE: 0.038427376770031677\n",
      "RMSE: 0.19602902022412824\n",
      "LogLoss: 0.3356651376044006\n",
      "Mean Per-Class Error: 0.48848650339318755\n",
      "Confusion Matrix: Row labels: Actual class; Column labels: Predicted class\n",
      "\n"
     ]
    },
    {
     "data": {
      "text/html": [
       "<div style=\"overflow:auto\"><table style=\"width:50%\"><tr><td><b>No</b></td>\n",
       "<td><b>Yes</b></td>\n",
       "<td><b>indeterminate</b></td>\n",
       "<td><b>Error</b></td>\n",
       "<td><b>Rate</b></td></tr>\n",
       "<tr><td>207.0</td>\n",
       "<td>0.0</td>\n",
       "<td>196.0</td>\n",
       "<td>0.4863524</td>\n",
       "<td>196 / 403</td></tr>\n",
       "<tr><td>1.0</td>\n",
       "<td>1.0</td>\n",
       "<td>31.0</td>\n",
       "<td>0.9696970</td>\n",
       "<td>32 / 33</td></tr>\n",
       "<tr><td>55.0</td>\n",
       "<td>1.0</td>\n",
       "<td>5895.0</td>\n",
       "<td>0.0094102</td>\n",
       "<td>56 / 5,951</td></tr>\n",
       "<tr><td>263.0</td>\n",
       "<td>2.0</td>\n",
       "<td>6122.0</td>\n",
       "<td>0.0444653</td>\n",
       "<td>284 / 6,387</td></tr></table></div>"
      ],
      "text/plain": [
       "No    Yes    indeterminate    Error       Rate\n",
       "----  -----  ---------------  ----------  -----------\n",
       "207   0      196              0.486352    196 / 403\n",
       "1     1      31               0.969697    32 / 33\n",
       "55    1      5895             0.00941018  56 / 5,951\n",
       "263   2      6122             0.0444653   284 / 6,387"
      ]
     },
     "metadata": {},
     "output_type": "display_data"
    },
    {
     "name": "stdout",
     "output_type": "stream",
     "text": [
      "Top-3 Hit Ratios: \n"
     ]
    },
    {
     "data": {
      "text/html": [
       "<div style=\"overflow:auto\"><table style=\"width:50%\"><tr><td><b>k</b></td>\n",
       "<td><b>hit_ratio</b></td></tr>\n",
       "<tr><td>1</td>\n",
       "<td>0.9555347</td></tr>\n",
       "<tr><td>2</td>\n",
       "<td>0.9923282</td></tr>\n",
       "<tr><td>3</td>\n",
       "<td>1.0</td></tr></table></div>"
      ],
      "text/plain": [
       "k    hit_ratio\n",
       "---  -----------\n",
       "1    0.955535\n",
       "2    0.992328\n",
       "3    1"
      ]
     },
     "metadata": {},
     "output_type": "display_data"
    },
    {
     "name": "stdout",
     "output_type": "stream",
     "text": [
      "\n"
     ]
    }
   ],
   "source": [
    "print(rf_perf1)"
   ]
  },
  {
   "cell_type": "code",
   "execution_count": 33,
   "metadata": {},
   "outputs": [
    {
     "name": "stdout",
     "output_type": "stream",
     "text": [
      "\n",
      "ModelMetricsMultinomial: drf\n",
      "** Reported on test data. **\n",
      "\n",
      "MSE: 0.03817727884166911\n",
      "RMSE: 0.1953900684315073\n",
      "LogLoss: 0.3049651779170323\n",
      "Mean Per-Class Error: 0.4759041037140137\n",
      "Confusion Matrix: Row labels: Actual class; Column labels: Predicted class\n",
      "\n"
     ]
    },
    {
     "data": {
      "text/html": [
       "<div style=\"overflow:auto\"><table style=\"width:50%\"><tr><td><b>No</b></td>\n",
       "<td><b>Yes</b></td>\n",
       "<td><b>indeterminate</b></td>\n",
       "<td><b>Error</b></td>\n",
       "<td><b>Rate</b></td></tr>\n",
       "<tr><td>210.0</td>\n",
       "<td>0.0</td>\n",
       "<td>193.0</td>\n",
       "<td>0.4789082</td>\n",
       "<td>193 / 403</td></tr>\n",
       "<tr><td>1.0</td>\n",
       "<td>2.0</td>\n",
       "<td>30.0</td>\n",
       "<td>0.9393939</td>\n",
       "<td>31 / 33</td></tr>\n",
       "<tr><td>55.0</td>\n",
       "<td>1.0</td>\n",
       "<td>5895.0</td>\n",
       "<td>0.0094102</td>\n",
       "<td>56 / 5,951</td></tr>\n",
       "<tr><td>266.0</td>\n",
       "<td>3.0</td>\n",
       "<td>6118.0</td>\n",
       "<td>0.0438390</td>\n",
       "<td>280 / 6,387</td></tr></table></div>"
      ],
      "text/plain": [
       "No    Yes    indeterminate    Error       Rate\n",
       "----  -----  ---------------  ----------  -----------\n",
       "210   0      193              0.478908    193 / 403\n",
       "1     2      30               0.939394    31 / 33\n",
       "55    1      5895             0.00941018  56 / 5,951\n",
       "266   3      6118             0.043839    280 / 6,387"
      ]
     },
     "metadata": {},
     "output_type": "display_data"
    },
    {
     "name": "stdout",
     "output_type": "stream",
     "text": [
      "Top-3 Hit Ratios: \n"
     ]
    },
    {
     "data": {
      "text/html": [
       "<div style=\"overflow:auto\"><table style=\"width:50%\"><tr><td><b>k</b></td>\n",
       "<td><b>hit_ratio</b></td></tr>\n",
       "<tr><td>1</td>\n",
       "<td>0.9561610</td></tr>\n",
       "<tr><td>2</td>\n",
       "<td>0.9910756</td></tr>\n",
       "<tr><td>3</td>\n",
       "<td>1.0</td></tr></table></div>"
      ],
      "text/plain": [
       "k    hit_ratio\n",
       "---  -----------\n",
       "1    0.956161\n",
       "2    0.991076\n",
       "3    1"
      ]
     },
     "metadata": {},
     "output_type": "display_data"
    },
    {
     "name": "stdout",
     "output_type": "stream",
     "text": [
      "\n"
     ]
    }
   ],
   "source": [
    "# Retreive test set AUC\n",
    "print(rf_perf2)\n",
    "#print(rf_perf2.auc())"
   ]
  },
  {
   "cell_type": "markdown",
   "metadata": {},
   "source": [
    "# Cross-validate performance\n",
    "Rather than using held-out test set to evaluate model performance, a user may wish to estimate model performance using cross-validation. Using the RF algorithm (with default model parameters) as an example, we demonstrate how to perform k-fold cross-validation using H2O. No custom code or loops are required, you simply specify the number of desired folds in the nfolds argument.\n",
    "\n",
    "Since we are not going to use a test set here, we can use the original (full) dataset, which we called data rather than the subsampled  train dataset. Note that this will take approximately k (nfolds) times longer than training a single RF model, since it will train k models in the cross-validation process (trained on n(k-1)/k rows), in addition to the final model trained on the full training_frame dataset with n rows."
   ]
  },
  {
   "cell_type": "code",
   "execution_count": 34,
   "metadata": {},
   "outputs": [
    {
     "name": "stdout",
     "output_type": "stream",
     "text": [
      "drf Model Build progress: |███████████████████████████████████████████████| 100%\n"
     ]
    }
   ],
   "source": [
    "rf_fit3 = H2ORandomForestEstimator(model_id='rf_fit3', seed=1, nfolds=5)\n",
    "rf_fit3.train(x=x, y=y, training_frame=data)"
   ]
  },
  {
   "cell_type": "code",
   "execution_count": 35,
   "metadata": {},
   "outputs": [
    {
     "name": "stdout",
     "output_type": "stream",
     "text": [
      "Model Details\n",
      "=============\n",
      "H2ORandomForestEstimator :  Distributed Random Forest\n",
      "Model Key:  rf_fit3\n",
      "\n",
      "\n",
      "ModelMetricsMultinomial: drf\n",
      "** Reported on train data. **\n",
      "\n",
      "MSE: 0.03322321720995297\n",
      "RMSE: 0.18227237094511325\n",
      "LogLoss: 0.33399120802298166\n",
      "Mean Per-Class Error: 0.47542582594081195\n",
      "Confusion Matrix: Row labels: Actual class; Column labels: Predicted class\n",
      "\n"
     ]
    },
    {
     "data": {
      "text/html": [
       "<div style=\"overflow:auto\"><table style=\"width:50%\"><tr><td><b>No</b></td>\n",
       "<td><b>Yes</b></td>\n",
       "<td><b>indeterminate</b></td>\n",
       "<td><b>Error</b></td>\n",
       "<td><b>Rate</b></td></tr>\n",
       "<tr><td>1339.0</td>\n",
       "<td>1.0</td>\n",
       "<td>1215.0</td>\n",
       "<td>0.4759295</td>\n",
       "<td>1,216 / 2,555</td></tr>\n",
       "<tr><td>9.0</td>\n",
       "<td>10.0</td>\n",
       "<td>162.0</td>\n",
       "<td>0.9447514</td>\n",
       "<td>171 / 181</td></tr>\n",
       "<tr><td>217.0</td>\n",
       "<td>6.0</td>\n",
       "<td>39623.0</td>\n",
       "<td>0.0055965</td>\n",
       "<td>223 / 39,846</td></tr>\n",
       "<tr><td>1565.0</td>\n",
       "<td>17.0</td>\n",
       "<td>41000.0</td>\n",
       "<td>0.0378094</td>\n",
       "<td>1,610 / 42,582</td></tr></table></div>"
      ],
      "text/plain": [
       "No    Yes    indeterminate    Error       Rate\n",
       "----  -----  ---------------  ----------  --------------\n",
       "1339  1      1215             0.47593     1,216 / 2,555\n",
       "9     10     162              0.944751    171 / 181\n",
       "217   6      39623            0.00559655  223 / 39,846\n",
       "1565  17     41000            0.0378094   1,610 / 42,582"
      ]
     },
     "metadata": {},
     "output_type": "display_data"
    },
    {
     "name": "stdout",
     "output_type": "stream",
     "text": [
      "Top-3 Hit Ratios: \n"
     ]
    },
    {
     "data": {
      "text/html": [
       "<div style=\"overflow:auto\"><table style=\"width:50%\"><tr><td><b>k</b></td>\n",
       "<td><b>hit_ratio</b></td></tr>\n",
       "<tr><td>1</td>\n",
       "<td>0.9621906</td></tr>\n",
       "<tr><td>2</td>\n",
       "<td>0.991851</td></tr>\n",
       "<tr><td>3</td>\n",
       "<td>0.9999999</td></tr></table></div>"
      ],
      "text/plain": [
       "k    hit_ratio\n",
       "---  -----------\n",
       "1    0.962191\n",
       "2    0.991851\n",
       "3    1"
      ]
     },
     "metadata": {},
     "output_type": "display_data"
    },
    {
     "name": "stdout",
     "output_type": "stream",
     "text": [
      "\n",
      "ModelMetricsMultinomial: drf\n",
      "** Reported on cross-validation data. **\n",
      "\n",
      "MSE: 0.03548069400027559\n",
      "RMSE: 0.18836319704304127\n",
      "LogLoss: 0.23863728866391917\n",
      "Mean Per-Class Error: 0.4935289250231187\n",
      "Confusion Matrix: Row labels: Actual class; Column labels: Predicted class\n",
      "\n"
     ]
    },
    {
     "data": {
      "text/html": [
       "<div style=\"overflow:auto\"><table style=\"width:50%\"><tr><td><b>No</b></td>\n",
       "<td><b>Yes</b></td>\n",
       "<td><b>indeterminate</b></td>\n",
       "<td><b>Error</b></td>\n",
       "<td><b>Rate</b></td></tr>\n",
       "<tr><td>1285.0</td>\n",
       "<td>1.0</td>\n",
       "<td>1269.0</td>\n",
       "<td>0.4970646</td>\n",
       "<td>1,270 / 2,555</td></tr>\n",
       "<tr><td>9.0</td>\n",
       "<td>4.0</td>\n",
       "<td>168.0</td>\n",
       "<td>0.9779006</td>\n",
       "<td>177 / 181</td></tr>\n",
       "<tr><td>208.0</td>\n",
       "<td>16.0</td>\n",
       "<td>39622.0</td>\n",
       "<td>0.0056216</td>\n",
       "<td>224 / 39,846</td></tr>\n",
       "<tr><td>1502.0</td>\n",
       "<td>21.0</td>\n",
       "<td>41059.0</td>\n",
       "<td>0.0392419</td>\n",
       "<td>1,671 / 42,582</td></tr></table></div>"
      ],
      "text/plain": [
       "No    Yes    indeterminate    Error       Rate\n",
       "----  -----  ---------------  ----------  --------------\n",
       "1285  1      1269             0.497065    1,270 / 2,555\n",
       "9     4      168              0.977901    177 / 181\n",
       "208   16     39622            0.00562164  224 / 39,846\n",
       "1502  21     41059            0.0392419   1,671 / 42,582"
      ]
     },
     "metadata": {},
     "output_type": "display_data"
    },
    {
     "name": "stdout",
     "output_type": "stream",
     "text": [
      "Top-3 Hit Ratios: \n"
     ]
    },
    {
     "data": {
      "text/html": [
       "<div style=\"overflow:auto\"><table style=\"width:50%\"><tr><td><b>k</b></td>\n",
       "<td><b>hit_ratio</b></td></tr>\n",
       "<tr><td>1</td>\n",
       "<td>0.9607581</td></tr>\n",
       "<tr><td>2</td>\n",
       "<td>0.9949510</td></tr>\n",
       "<tr><td>3</td>\n",
       "<td>1.0</td></tr></table></div>"
      ],
      "text/plain": [
       "k    hit_ratio\n",
       "---  -----------\n",
       "1    0.960758\n",
       "2    0.994951\n",
       "3    1"
      ]
     },
     "metadata": {},
     "output_type": "display_data"
    },
    {
     "name": "stdout",
     "output_type": "stream",
     "text": [
      "Cross-Validation Metrics Summary: \n"
     ]
    },
    {
     "data": {
      "text/html": [
       "<div style=\"overflow:auto\"><table style=\"width:50%\"><tr><td><b></b></td>\n",
       "<td><b>mean</b></td>\n",
       "<td><b>sd</b></td>\n",
       "<td><b>cv_1_valid</b></td>\n",
       "<td><b>cv_2_valid</b></td>\n",
       "<td><b>cv_3_valid</b></td>\n",
       "<td><b>cv_4_valid</b></td>\n",
       "<td><b>cv_5_valid</b></td></tr>\n",
       "<tr><td>accuracy</td>\n",
       "<td>0.9607711</td>\n",
       "<td>0.0014159</td>\n",
       "<td>0.9600890</td>\n",
       "<td>0.9626433</td>\n",
       "<td>0.9571528</td>\n",
       "<td>0.9618465</td>\n",
       "<td>0.9621239</td></tr>\n",
       "<tr><td>err</td>\n",
       "<td>0.0392289</td>\n",
       "<td>0.0014159</td>\n",
       "<td>0.0399111</td>\n",
       "<td>0.0373567</td>\n",
       "<td>0.0428472</td>\n",
       "<td>0.0381536</td>\n",
       "<td>0.0378761</td></tr>\n",
       "<tr><td>err_count</td>\n",
       "<td>334.2</td>\n",
       "<td>13.663089</td>\n",
       "<td>341.0</td>\n",
       "<td>316.0</td>\n",
       "<td>369.0</td>\n",
       "<td>324.0</td>\n",
       "<td>321.0</td></tr>\n",
       "<tr><td>logloss</td>\n",
       "<td>0.2385282</td>\n",
       "<td>0.0227098</td>\n",
       "<td>0.2055965</td>\n",
       "<td>0.2381961</td>\n",
       "<td>0.2862584</td>\n",
       "<td>0.2603634</td>\n",
       "<td>0.2022268</td></tr>\n",
       "<tr><td>max_per_class_error</td>\n",
       "<td>0.9779416</td>\n",
       "<td>0.0079189</td>\n",
       "<td>0.969697</td>\n",
       "<td>0.972973</td>\n",
       "<td>1.0</td>\n",
       "<td>0.9756098</td>\n",
       "<td>0.9714286</td></tr>\n",
       "<tr><td>mean_per_class_accuracy</td>\n",
       "<td>0.5066611</td>\n",
       "<td>0.0070334</td>\n",
       "<td>0.5066772</td>\n",
       "<td>0.5130088</td>\n",
       "<td>0.4873966</td>\n",
       "<td>0.5129521</td>\n",
       "<td>0.5132709</td></tr>\n",
       "<tr><td>mean_per_class_error</td>\n",
       "<td>0.4933389</td>\n",
       "<td>0.0070334</td>\n",
       "<td>0.4933228</td>\n",
       "<td>0.4869911</td>\n",
       "<td>0.5126034</td>\n",
       "<td>0.4870479</td>\n",
       "<td>0.4867291</td></tr>\n",
       "<tr><td>mse</td>\n",
       "<td>0.0354727</td>\n",
       "<td>0.0009298</td>\n",
       "<td>0.0351674</td>\n",
       "<td>0.0343698</td>\n",
       "<td>0.0380081</td>\n",
       "<td>0.0352784</td>\n",
       "<td>0.0345398</td></tr>\n",
       "<tr><td>r2</td>\n",
       "<td>0.8449727</td>\n",
       "<td>0.0024190</td>\n",
       "<td>0.8494428</td>\n",
       "<td>0.8463606</td>\n",
       "<td>0.8392865</td>\n",
       "<td>0.8434275</td>\n",
       "<td>0.8463460</td></tr>\n",
       "<tr><td>rmse</td>\n",
       "<td>0.1883103</td>\n",
       "<td>0.0024413</td>\n",
       "<td>0.1875298</td>\n",
       "<td>0.1853908</td>\n",
       "<td>0.1949568</td>\n",
       "<td>0.1878253</td>\n",
       "<td>0.1858489</td></tr></table></div>"
      ],
      "text/plain": [
       "                         mean       sd           cv_1_valid    cv_2_valid    cv_3_valid    cv_4_valid    cv_5_valid\n",
       "-----------------------  ---------  -----------  ------------  ------------  ------------  ------------  ------------\n",
       "accuracy                 0.960771   0.00141595   0.960089      0.962643      0.957153      0.961847      0.962124\n",
       "err                      0.0392289  0.00141595   0.0399111     0.0373567     0.0428472     0.0381536     0.0378761\n",
       "err_count                334.2      13.6631      341           316           369           324           321\n",
       "logloss                  0.238528   0.0227098    0.205596      0.238196      0.286258      0.260363      0.202227\n",
       "max_per_class_error      0.977942   0.00791891   0.969697      0.972973      1             0.97561       0.971429\n",
       "mean_per_class_accuracy  0.506661   0.00703336   0.506677      0.513009      0.487397      0.512952      0.513271\n",
       "mean_per_class_error     0.493339   0.00703336   0.493323      0.486991      0.512603      0.487048      0.486729\n",
       "mse                      0.0354727  0.000929849  0.0351674     0.0343698     0.0380081     0.0352784     0.0345398\n",
       "r2                       0.844973   0.002419     0.849443      0.846361      0.839286      0.843428      0.846346\n",
       "rmse                     0.18831    0.00244135   0.18753       0.185391      0.194957      0.187825      0.185849"
      ]
     },
     "metadata": {},
     "output_type": "display_data"
    },
    {
     "name": "stdout",
     "output_type": "stream",
     "text": [
      "Scoring History: \n"
     ]
    },
    {
     "data": {
      "text/html": [
       "<div style=\"overflow:auto\"><table style=\"width:50%\"><tr><td><b></b></td>\n",
       "<td><b>timestamp</b></td>\n",
       "<td><b>duration</b></td>\n",
       "<td><b>number_of_trees</b></td>\n",
       "<td><b>training_rmse</b></td>\n",
       "<td><b>training_logloss</b></td>\n",
       "<td><b>training_classification_error</b></td></tr>\n",
       "<tr><td></td>\n",
       "<td>2019-05-21 07:57:28</td>\n",
       "<td> 2 min 15.964 sec</td>\n",
       "<td>0.0</td>\n",
       "<td>nan</td>\n",
       "<td>nan</td>\n",
       "<td>nan</td></tr>\n",
       "<tr><td></td>\n",
       "<td>2019-05-21 07:57:29</td>\n",
       "<td> 2 min 16.351 sec</td>\n",
       "<td>1.0</td>\n",
       "<td>0.2378541</td>\n",
       "<td>1.6972444</td>\n",
       "<td>0.0504805</td></tr>\n",
       "<tr><td></td>\n",
       "<td>2019-05-21 07:57:29</td>\n",
       "<td> 2 min 16.700 sec</td>\n",
       "<td>2.0</td>\n",
       "<td>0.2300361</td>\n",
       "<td>1.5600611</td>\n",
       "<td>0.0485581</td></tr>\n",
       "<tr><td></td>\n",
       "<td>2019-05-21 07:57:29</td>\n",
       "<td> 2 min 17.079 sec</td>\n",
       "<td>3.0</td>\n",
       "<td>0.2237315</td>\n",
       "<td>1.3976178</td>\n",
       "<td>0.0475292</td></tr>\n",
       "<tr><td></td>\n",
       "<td>2019-05-21 07:57:30</td>\n",
       "<td> 2 min 17.468 sec</td>\n",
       "<td>4.0</td>\n",
       "<td>0.2190606</td>\n",
       "<td>1.2728291</td>\n",
       "<td>0.0474646</td></tr>\n",
       "<tr><td></td>\n",
       "<td>2019-05-21 07:57:30</td>\n",
       "<td> 2 min 17.849 sec</td>\n",
       "<td>5.0</td>\n",
       "<td>0.2141252</td>\n",
       "<td>1.1525410</td>\n",
       "<td>0.0466020</td></tr>\n",
       "<tr><td></td>\n",
       "<td>2019-05-21 07:57:30</td>\n",
       "<td> 2 min 18.217 sec</td>\n",
       "<td>6.0</td>\n",
       "<td>0.2094935</td>\n",
       "<td>1.0442167</td>\n",
       "<td>0.0459070</td></tr>\n",
       "<tr><td></td>\n",
       "<td>2019-05-21 07:57:31</td>\n",
       "<td> 2 min 18.546 sec</td>\n",
       "<td>7.0</td>\n",
       "<td>0.2064106</td>\n",
       "<td>0.9677788</td>\n",
       "<td>0.0452934</td></tr>\n",
       "<tr><td></td>\n",
       "<td>2019-05-21 07:57:31</td>\n",
       "<td> 2 min 18.900 sec</td>\n",
       "<td>8.0</td>\n",
       "<td>0.2025799</td>\n",
       "<td>0.9013860</td>\n",
       "<td>0.0445001</td></tr>\n",
       "<tr><td></td>\n",
       "<td>2019-05-21 07:57:31</td>\n",
       "<td> 2 min 19.232 sec</td>\n",
       "<td>9.0</td>\n",
       "<td>0.1994482</td>\n",
       "<td>0.8255993</td>\n",
       "<td>0.0438423</td></tr>\n",
       "<tr><td></td>\n",
       "<td>2019-05-21 07:57:32</td>\n",
       "<td> 2 min 19.633 sec</td>\n",
       "<td>10.0</td>\n",
       "<td>0.1968527</td>\n",
       "<td>0.7805071</td>\n",
       "<td>0.0426117</td></tr>\n",
       "<tr><td></td>\n",
       "<td>2019-05-21 07:57:32</td>\n",
       "<td> 2 min 19.966 sec</td>\n",
       "<td>11.0</td>\n",
       "<td>0.1948494</td>\n",
       "<td>0.7278983</td>\n",
       "<td>0.0420043</td></tr>\n",
       "<tr><td></td>\n",
       "<td>2019-05-21 07:57:36</td>\n",
       "<td> 2 min 23.988 sec</td>\n",
       "<td>22.0</td>\n",
       "<td>0.1865235</td>\n",
       "<td>0.4882069</td>\n",
       "<td>0.0399709</td></tr>\n",
       "<tr><td></td>\n",
       "<td>2019-05-21 07:57:41</td>\n",
       "<td> 2 min 28.327 sec</td>\n",
       "<td>34.0</td>\n",
       "<td>0.1831220</td>\n",
       "<td>0.3757275</td>\n",
       "<td>0.0384904</td></tr>\n",
       "<tr><td></td>\n",
       "<td>2019-05-21 07:57:45</td>\n",
       "<td> 2 min 32.681 sec</td>\n",
       "<td>45.0</td>\n",
       "<td>0.1823012</td>\n",
       "<td>0.3561577</td>\n",
       "<td>0.0379503</td></tr>\n",
       "<tr><td></td>\n",
       "<td>2019-05-21 07:57:47</td>\n",
       "<td> 2 min 34.493 sec</td>\n",
       "<td>50.0</td>\n",
       "<td>0.1822724</td>\n",
       "<td>0.3339912</td>\n",
       "<td>0.0378094</td></tr></table></div>"
      ],
      "text/plain": [
       "    timestamp            duration          number_of_trees    training_rmse    training_logloss    training_classification_error\n",
       "--  -------------------  ----------------  -----------------  ---------------  ------------------  -------------------------------\n",
       "    2019-05-21 07:57:28  2 min 15.964 sec  0                  nan              nan                 nan\n",
       "    2019-05-21 07:57:29  2 min 16.351 sec  1                  0.237854         1.69724             0.0504805\n",
       "    2019-05-21 07:57:29  2 min 16.700 sec  2                  0.230036         1.56006             0.0485581\n",
       "    2019-05-21 07:57:29  2 min 17.079 sec  3                  0.223732         1.39762             0.0475292\n",
       "    2019-05-21 07:57:30  2 min 17.468 sec  4                  0.219061         1.27283             0.0474646\n",
       "    2019-05-21 07:57:30  2 min 17.849 sec  5                  0.214125         1.15254             0.046602\n",
       "    2019-05-21 07:57:30  2 min 18.217 sec  6                  0.209493         1.04422             0.045907\n",
       "    2019-05-21 07:57:31  2 min 18.546 sec  7                  0.206411         0.967779            0.0452934\n",
       "    2019-05-21 07:57:31  2 min 18.900 sec  8                  0.20258          0.901386            0.0445001\n",
       "    2019-05-21 07:57:31  2 min 19.232 sec  9                  0.199448         0.825599            0.0438423\n",
       "    2019-05-21 07:57:32  2 min 19.633 sec  10                 0.196853         0.780507            0.0426117\n",
       "    2019-05-21 07:57:32  2 min 19.966 sec  11                 0.194849         0.727898            0.0420043\n",
       "    2019-05-21 07:57:36  2 min 23.988 sec  22                 0.186524         0.488207            0.0399709\n",
       "    2019-05-21 07:57:41  2 min 28.327 sec  34                 0.183122         0.375728            0.0384904\n",
       "    2019-05-21 07:57:45  2 min 32.681 sec  45                 0.182301         0.356158            0.0379503\n",
       "    2019-05-21 07:57:47  2 min 34.493 sec  50                 0.182272         0.333991            0.0378094"
      ]
     },
     "metadata": {},
     "output_type": "display_data"
    },
    {
     "name": "stdout",
     "output_type": "stream",
     "text": [
      "Variable Importances: \n"
     ]
    },
    {
     "data": {
      "text/html": [
       "<div style=\"overflow:auto\"><table style=\"width:50%\"><tr><td><b>variable</b></td>\n",
       "<td><b>relative_importance</b></td>\n",
       "<td><b>scaled_importance</b></td>\n",
       "<td><b>percentage</b></td></tr>\n",
       "<tr><td>SalesPersonID</td>\n",
       "<td>54424.9843750</td>\n",
       "<td>1.0</td>\n",
       "<td>0.3729654</td></tr>\n",
       "<tr><td>ProductID</td>\n",
       "<td>48713.1210938</td>\n",
       "<td>0.8950507</td>\n",
       "<td>0.3338230</td></tr>\n",
       "<tr><td>TotalSalesValue</td>\n",
       "<td>33442.6718750</td>\n",
       "<td>0.6144728</td>\n",
       "<td>0.2291771</td></tr>\n",
       "<tr><td>Quantity</td>\n",
       "<td>9344.2363281</td>\n",
       "<td>0.1716902</td>\n",
       "<td>0.0640345</td></tr></table></div>"
      ],
      "text/plain": [
       "variable         relative_importance    scaled_importance    percentage\n",
       "---------------  ---------------------  -------------------  ------------\n",
       "SalesPersonID    54425                  1                    0.372965\n",
       "ProductID        48713.1                0.895051             0.333823\n",
       "TotalSalesValue  33442.7                0.614473             0.229177\n",
       "Quantity         9344.24                0.17169              0.0640345"
      ]
     },
     "metadata": {},
     "output_type": "display_data"
    },
    {
     "name": "stdout",
     "output_type": "stream",
     "text": [
      "\n"
     ]
    }
   ],
   "source": [
    "print(rf_fit3)"
   ]
  },
  {
   "cell_type": "markdown",
   "metadata": {},
   "source": [
    "# 3. Gradient Boosting Machine¶\n",
    "H2O's Gradient Boosting Machine (GBM) offers a Stochastic GBM, which can increase performance quite a bit compared to the original GBM implementation."
   ]
  },
  {
   "cell_type": "code",
   "execution_count": 36,
   "metadata": {},
   "outputs": [],
   "source": [
    "# Import H2O GBM:\n",
    "from h2o.estimators.gbm import H2OGradientBoostingEstimator"
   ]
  },
  {
   "cell_type": "code",
   "execution_count": 37,
   "metadata": {},
   "outputs": [
    {
     "name": "stdout",
     "output_type": "stream",
     "text": [
      "gbm Model Build progress: |███████████████████████████████████████████████| 100%\n"
     ]
    }
   ],
   "source": [
    "\n",
    "# Initialize and train the GBM estimator:\n",
    "\n",
    "gbm_fit1 = H2OGradientBoostingEstimator(model_id='gbm_fit1', seed=1)\n",
    "gbm_fit1.train(x=x, y=y, training_frame=train)"
   ]
  },
  {
   "cell_type": "markdown",
   "metadata": {},
   "source": [
    "# Train a GBM with more trees\n",
    "Next we will increase the number of trees used in the GBM by setting ntrees=500. The default number of trees in an H2O GBM is 50, so this GBM will trained using ten times the default. Increasing the number of trees in a GBM is one way to increase performance of the model, however, you have to be careful not to overfit your model to the training data by using too many trees. To automatically find the optimal number of trees, you must use H2O's early stopping functionality. This example will not do that, however, the following example will."
   ]
  },
  {
   "cell_type": "code",
   "execution_count": 38,
   "metadata": {},
   "outputs": [
    {
     "name": "stdout",
     "output_type": "stream",
     "text": [
      "gbm Model Build progress: |███████████████████████████████████████████████| 100%\n"
     ]
    }
   ],
   "source": [
    "gbm_fit2 = H2OGradientBoostingEstimator(model_id='gbm_fit2', ntrees=500, seed=1)\n",
    "gbm_fit2.train(x=x, y=y, training_frame=train)"
   ]
  },
  {
   "cell_type": "markdown",
   "metadata": {},
   "source": [
    "# Train a GBM with early stopping\n",
    "We will again set ntrees = 500, however, this time we will use early stopping in order to prevent overfitting (from too many trees). All of H2O's algorithms have early stopping available, however, with the exception of Deep Learning, it is not enabled by default.\n",
    "\n",
    "There are several parameters that should be used to control early stopping. The three that are generic to all the algorithms are: stopping_rounds, stopping_metric and stopping_tolerance. The stopping metric is the metric by which you'd like to measure performance, and so we will choose AUC here. The score_tree_interval is a parameter specific to Random Forest and GBM. Setting score_tree_interval=5 will score the model after every five trees. The parameters we have set below specify that the model will stop training after there have been three scoring intervals where the AUC has not increased more than 0.0005. Since we have specified a validation frame, the stopping tolerance will be computed on validation AUC rather than training AUC."
   ]
  },
  {
   "cell_type": "raw",
   "metadata": {},
   "source": [
    "\n",
    "# Now let's use early stopping to find optimal ntrees\n",
    "\n",
    "gbm_fit3 = H2OGradientBoostingEstimator(model_id='gbm_fit3', \n",
    "                                        ntrees=500, \n",
    "                                        score_tree_interval=5,     #used for early stopping\n",
    "                                        stopping_rounds=3,         #used for early stopping\n",
    "                                        stopping_metric='AUC',     #used for early stopping\n",
    "                                        stopping_tolerance=0.0005, #used for early stopping\n",
    "                                        seed=1)\n",
    "\n",
    "# The use of a validation_frame is recommended with using early stopping\n",
    "gbm_fit3.train(x=x, y=y, training_frame=train, validation_frame=valid)"
   ]
  },
  {
   "cell_type": "markdown",
   "metadata": {},
   "source": [
    "# Compare model performance\n",
    "Let's compare the performance of the three GBMs that were just trained."
   ]
  },
  {
   "cell_type": "code",
   "execution_count": 39,
   "metadata": {},
   "outputs": [],
   "source": [
    "gbm_perf1 = gbm_fit1.model_performance(test)\n",
    "gbm_perf2 = gbm_fit2.model_performance(test)\n",
    "#gbm_perf3 = gbm_fit3.model_performance(test)"
   ]
  },
  {
   "cell_type": "code",
   "execution_count": 40,
   "metadata": {},
   "outputs": [
    {
     "name": "stdout",
     "output_type": "stream",
     "text": [
      "\n",
      "ModelMetricsMultinomial: gbm\n",
      "** Reported on test data. **\n",
      "\n",
      "MSE: 0.041510998143212956\n",
      "RMSE: 0.20374247996726888\n",
      "LogLoss: 0.17701441684620092\n",
      "Mean Per-Class Error: 0.5008169604198464\n",
      "Confusion Matrix: Row labels: Actual class; Column labels: Predicted class\n",
      "\n"
     ]
    },
    {
     "data": {
      "text/html": [
       "<div style=\"overflow:auto\"><table style=\"width:50%\"><tr><td><b>No</b></td>\n",
       "<td><b>Yes</b></td>\n",
       "<td><b>indeterminate</b></td>\n",
       "<td><b>Error</b></td>\n",
       "<td><b>Rate</b></td></tr>\n",
       "<tr><td>179.0</td>\n",
       "<td>1.0</td>\n",
       "<td>223.0</td>\n",
       "<td>0.5558313</td>\n",
       "<td>224 / 403</td></tr>\n",
       "<tr><td>2.0</td>\n",
       "<td>2.0</td>\n",
       "<td>29.0</td>\n",
       "<td>0.9393939</td>\n",
       "<td>31 / 33</td></tr>\n",
       "<tr><td>42.0</td>\n",
       "<td>1.0</td>\n",
       "<td>5908.0</td>\n",
       "<td>0.0072257</td>\n",
       "<td>43 / 5,951</td></tr>\n",
       "<tr><td>223.0</td>\n",
       "<td>4.0</td>\n",
       "<td>6160.0</td>\n",
       "<td>0.0466573</td>\n",
       "<td>298 / 6,387</td></tr></table></div>"
      ],
      "text/plain": [
       "No    Yes    indeterminate    Error       Rate\n",
       "----  -----  ---------------  ----------  -----------\n",
       "179   1      223              0.555831    224 / 403\n",
       "2     2      29               0.939394    31 / 33\n",
       "42    1      5908             0.00722568  43 / 5,951\n",
       "223   4      6160             0.0466573   298 / 6,387"
      ]
     },
     "metadata": {},
     "output_type": "display_data"
    },
    {
     "name": "stdout",
     "output_type": "stream",
     "text": [
      "Top-3 Hit Ratios: \n"
     ]
    },
    {
     "data": {
      "text/html": [
       "<div style=\"overflow:auto\"><table style=\"width:50%\"><tr><td><b>k</b></td>\n",
       "<td><b>hit_ratio</b></td></tr>\n",
       "<tr><td>1</td>\n",
       "<td>0.9533427</td></tr>\n",
       "<tr><td>2</td>\n",
       "<td>0.9951464</td></tr>\n",
       "<tr><td>3</td>\n",
       "<td>1.0</td></tr></table></div>"
      ],
      "text/plain": [
       "k    hit_ratio\n",
       "---  -----------\n",
       "1    0.953343\n",
       "2    0.995146\n",
       "3    1"
      ]
     },
     "metadata": {},
     "output_type": "display_data"
    },
    {
     "name": "stdout",
     "output_type": "stream",
     "text": [
      "\n"
     ]
    }
   ],
   "source": [
    "print(gbm_perf1)"
   ]
  },
  {
   "cell_type": "code",
   "execution_count": 41,
   "metadata": {},
   "outputs": [
    {
     "name": "stdout",
     "output_type": "stream",
     "text": [
      "\n",
      "ModelMetricsMultinomial: gbm\n",
      "** Reported on test data. **\n",
      "\n",
      "MSE: 0.0402397613218532\n",
      "RMSE: 0.20059850777573895\n",
      "LogLoss: 0.21129761092657223\n",
      "Mean Per-Class Error: 0.46798194815605826\n",
      "Confusion Matrix: Row labels: Actual class; Column labels: Predicted class\n",
      "\n"
     ]
    },
    {
     "data": {
      "text/html": [
       "<div style=\"overflow:auto\"><table style=\"width:50%\"><tr><td><b>No</b></td>\n",
       "<td><b>Yes</b></td>\n",
       "<td><b>indeterminate</b></td>\n",
       "<td><b>Error</b></td>\n",
       "<td><b>Rate</b></td></tr>\n",
       "<tr><td>221.0</td>\n",
       "<td>0.0</td>\n",
       "<td>182.0</td>\n",
       "<td>0.4516129</td>\n",
       "<td>182 / 403</td></tr>\n",
       "<tr><td>2.0</td>\n",
       "<td>2.0</td>\n",
       "<td>29.0</td>\n",
       "<td>0.9393939</td>\n",
       "<td>31 / 33</td></tr>\n",
       "<tr><td>71.0</td>\n",
       "<td>6.0</td>\n",
       "<td>5874.0</td>\n",
       "<td>0.0129390</td>\n",
       "<td>77 / 5,951</td></tr>\n",
       "<tr><td>294.0</td>\n",
       "<td>8.0</td>\n",
       "<td>6085.0</td>\n",
       "<td>0.0454047</td>\n",
       "<td>290 / 6,387</td></tr></table></div>"
      ],
      "text/plain": [
       "No    Yes    indeterminate    Error      Rate\n",
       "----  -----  ---------------  ---------  -----------\n",
       "221   0      182              0.451613   182 / 403\n",
       "2     2      29               0.939394   31 / 33\n",
       "71    6      5874             0.012939   77 / 5,951\n",
       "294   8      6085             0.0454047  290 / 6,387"
      ]
     },
     "metadata": {},
     "output_type": "display_data"
    },
    {
     "name": "stdout",
     "output_type": "stream",
     "text": [
      "Top-3 Hit Ratios: \n"
     ]
    },
    {
     "data": {
      "text/html": [
       "<div style=\"overflow:auto\"><table style=\"width:50%\"><tr><td><b>k</b></td>\n",
       "<td><b>hit_ratio</b></td></tr>\n",
       "<tr><td>1</td>\n",
       "<td>0.9545953</td></tr>\n",
       "<tr><td>2</td>\n",
       "<td>0.9954595</td></tr>\n",
       "<tr><td>3</td>\n",
       "<td>0.9999999</td></tr></table></div>"
      ],
      "text/plain": [
       "k    hit_ratio\n",
       "---  -----------\n",
       "1    0.954595\n",
       "2    0.99546\n",
       "3    1"
      ]
     },
     "metadata": {},
     "output_type": "display_data"
    },
    {
     "name": "stdout",
     "output_type": "stream",
     "text": [
      "\n"
     ]
    }
   ],
   "source": [
    "print(gbm_perf2)"
   ]
  },
  {
   "cell_type": "raw",
   "metadata": {},
   "source": [
    "# Retreive test set AUC\n",
    "print(gbm_perf1.auc())\n",
    "print(gbm_perf2.auc())\n",
    "print(gbm_perf3.auc())"
   ]
  },
  {
   "cell_type": "markdown",
   "metadata": {},
   "source": [
    "# Scoring History\n",
    "To examine the scoring history, use the scoring_history method on a trained model. If score_tree_interval is not specified, it will score at various intervals, as we can see for gbm_fit2.scoring_history() below. However, regular 5-tree intervals are used for gbm_fit3.scoring_history().\n",
    "\n",
    "The gbm_fit2 was trained only using a training set (no validation set), so the scoring history is calculated for training set performance metrics only."
   ]
  },
  {
   "cell_type": "code",
   "execution_count": 42,
   "metadata": {},
   "outputs": [
    {
     "data": {
      "text/html": [
       "<div>\n",
       "<style scoped>\n",
       "    .dataframe tbody tr th:only-of-type {\n",
       "        vertical-align: middle;\n",
       "    }\n",
       "\n",
       "    .dataframe tbody tr th {\n",
       "        vertical-align: top;\n",
       "    }\n",
       "\n",
       "    .dataframe thead th {\n",
       "        text-align: right;\n",
       "    }\n",
       "</style>\n",
       "<table border=\"1\" class=\"dataframe\">\n",
       "  <thead>\n",
       "    <tr style=\"text-align: right;\">\n",
       "      <th></th>\n",
       "      <th></th>\n",
       "      <th>timestamp</th>\n",
       "      <th>duration</th>\n",
       "      <th>number_of_trees</th>\n",
       "      <th>training_rmse</th>\n",
       "      <th>training_logloss</th>\n",
       "      <th>training_classification_error</th>\n",
       "    </tr>\n",
       "  </thead>\n",
       "  <tbody>\n",
       "    <tr>\n",
       "      <th>0</th>\n",
       "      <td></td>\n",
       "      <td>2019-05-21 08:06:34</td>\n",
       "      <td>0.001 sec</td>\n",
       "      <td>0.0</td>\n",
       "      <td>0.666667</td>\n",
       "      <td>1.098612</td>\n",
       "      <td>0.119647</td>\n",
       "    </tr>\n",
       "    <tr>\n",
       "      <th>1</th>\n",
       "      <td></td>\n",
       "      <td>2019-05-21 08:06:34</td>\n",
       "      <td>0.133 sec</td>\n",
       "      <td>1.0</td>\n",
       "      <td>0.605909</td>\n",
       "      <td>0.931734</td>\n",
       "      <td>0.049076</td>\n",
       "    </tr>\n",
       "    <tr>\n",
       "      <th>2</th>\n",
       "      <td></td>\n",
       "      <td>2019-05-21 08:06:35</td>\n",
       "      <td>0.277 sec</td>\n",
       "      <td>2.0</td>\n",
       "      <td>0.550646</td>\n",
       "      <td>0.801284</td>\n",
       "      <td>0.047872</td>\n",
       "    </tr>\n",
       "    <tr>\n",
       "      <th>3</th>\n",
       "      <td></td>\n",
       "      <td>2019-05-21 08:06:35</td>\n",
       "      <td>0.381 sec</td>\n",
       "      <td>3.0</td>\n",
       "      <td>0.500933</td>\n",
       "      <td>0.696792</td>\n",
       "      <td>0.049042</td>\n",
       "    </tr>\n",
       "    <tr>\n",
       "      <th>4</th>\n",
       "      <td></td>\n",
       "      <td>2019-05-21 08:06:35</td>\n",
       "      <td>0.497 sec</td>\n",
       "      <td>4.0</td>\n",
       "      <td>0.456413</td>\n",
       "      <td>0.611179</td>\n",
       "      <td>0.047972</td>\n",
       "    </tr>\n",
       "    <tr>\n",
       "      <th>5</th>\n",
       "      <td></td>\n",
       "      <td>2019-05-21 08:06:35</td>\n",
       "      <td>0.591 sec</td>\n",
       "      <td>5.0</td>\n",
       "      <td>0.416992</td>\n",
       "      <td>0.540352</td>\n",
       "      <td>0.046334</td>\n",
       "    </tr>\n",
       "    <tr>\n",
       "      <th>6</th>\n",
       "      <td></td>\n",
       "      <td>2019-05-21 08:06:35</td>\n",
       "      <td>0.708 sec</td>\n",
       "      <td>6.0</td>\n",
       "      <td>0.380980</td>\n",
       "      <td>0.478844</td>\n",
       "      <td>0.045131</td>\n",
       "    </tr>\n",
       "    <tr>\n",
       "      <th>7</th>\n",
       "      <td></td>\n",
       "      <td>2019-05-21 08:06:35</td>\n",
       "      <td>0.815 sec</td>\n",
       "      <td>7.0</td>\n",
       "      <td>0.350741</td>\n",
       "      <td>0.429025</td>\n",
       "      <td>0.044596</td>\n",
       "    </tr>\n",
       "    <tr>\n",
       "      <th>8</th>\n",
       "      <td></td>\n",
       "      <td>2019-05-21 08:06:35</td>\n",
       "      <td>0.916 sec</td>\n",
       "      <td>8.0</td>\n",
       "      <td>0.324189</td>\n",
       "      <td>0.386337</td>\n",
       "      <td>0.044262</td>\n",
       "    </tr>\n",
       "    <tr>\n",
       "      <th>9</th>\n",
       "      <td></td>\n",
       "      <td>2019-05-21 08:06:35</td>\n",
       "      <td>1.049 sec</td>\n",
       "      <td>9.0</td>\n",
       "      <td>0.300620</td>\n",
       "      <td>0.348911</td>\n",
       "      <td>0.043861</td>\n",
       "    </tr>\n",
       "    <tr>\n",
       "      <th>10</th>\n",
       "      <td></td>\n",
       "      <td>2019-05-21 08:06:35</td>\n",
       "      <td>1.150 sec</td>\n",
       "      <td>10.0</td>\n",
       "      <td>0.280047</td>\n",
       "      <td>0.316466</td>\n",
       "      <td>0.042323</td>\n",
       "    </tr>\n",
       "    <tr>\n",
       "      <th>11</th>\n",
       "      <td></td>\n",
       "      <td>2019-05-21 08:06:36</td>\n",
       "      <td>1.254 sec</td>\n",
       "      <td>11.0</td>\n",
       "      <td>0.263456</td>\n",
       "      <td>0.289817</td>\n",
       "      <td>0.042490</td>\n",
       "    </tr>\n",
       "    <tr>\n",
       "      <th>12</th>\n",
       "      <td></td>\n",
       "      <td>2019-05-21 08:06:36</td>\n",
       "      <td>1.363 sec</td>\n",
       "      <td>12.0</td>\n",
       "      <td>0.248002</td>\n",
       "      <td>0.265141</td>\n",
       "      <td>0.041019</td>\n",
       "    </tr>\n",
       "    <tr>\n",
       "      <th>13</th>\n",
       "      <td></td>\n",
       "      <td>2019-05-21 08:06:36</td>\n",
       "      <td>1.497 sec</td>\n",
       "      <td>13.0</td>\n",
       "      <td>0.235446</td>\n",
       "      <td>0.244538</td>\n",
       "      <td>0.039815</td>\n",
       "    </tr>\n",
       "    <tr>\n",
       "      <th>14</th>\n",
       "      <td></td>\n",
       "      <td>2019-05-21 08:06:36</td>\n",
       "      <td>1.606 sec</td>\n",
       "      <td>14.0</td>\n",
       "      <td>0.225131</td>\n",
       "      <td>0.226995</td>\n",
       "      <td>0.039983</td>\n",
       "    </tr>\n",
       "    <tr>\n",
       "      <th>15</th>\n",
       "      <td></td>\n",
       "      <td>2019-05-21 08:06:36</td>\n",
       "      <td>1.712 sec</td>\n",
       "      <td>15.0</td>\n",
       "      <td>0.214523</td>\n",
       "      <td>0.209629</td>\n",
       "      <td>0.037977</td>\n",
       "    </tr>\n",
       "    <tr>\n",
       "      <th>16</th>\n",
       "      <td></td>\n",
       "      <td>2019-05-21 08:06:36</td>\n",
       "      <td>1.822 sec</td>\n",
       "      <td>16.0</td>\n",
       "      <td>0.205767</td>\n",
       "      <td>0.194843</td>\n",
       "      <td>0.037342</td>\n",
       "    </tr>\n",
       "    <tr>\n",
       "      <th>17</th>\n",
       "      <td></td>\n",
       "      <td>2019-05-21 08:06:36</td>\n",
       "      <td>1.932 sec</td>\n",
       "      <td>17.0</td>\n",
       "      <td>0.199688</td>\n",
       "      <td>0.183203</td>\n",
       "      <td>0.037074</td>\n",
       "    </tr>\n",
       "    <tr>\n",
       "      <th>18</th>\n",
       "      <td></td>\n",
       "      <td>2019-05-21 08:06:36</td>\n",
       "      <td>2.038 sec</td>\n",
       "      <td>18.0</td>\n",
       "      <td>0.193199</td>\n",
       "      <td>0.171555</td>\n",
       "      <td>0.035536</td>\n",
       "    </tr>\n",
       "    <tr>\n",
       "      <th>19</th>\n",
       "      <td></td>\n",
       "      <td>2019-05-21 08:06:36</td>\n",
       "      <td>2.148 sec</td>\n",
       "      <td>19.0</td>\n",
       "      <td>0.186897</td>\n",
       "      <td>0.160495</td>\n",
       "      <td>0.033664</td>\n",
       "    </tr>\n",
       "    <tr>\n",
       "      <th>20</th>\n",
       "      <td></td>\n",
       "      <td>2019-05-21 08:06:37</td>\n",
       "      <td>2.288 sec</td>\n",
       "      <td>20.0</td>\n",
       "      <td>0.182798</td>\n",
       "      <td>0.152133</td>\n",
       "      <td>0.033564</td>\n",
       "    </tr>\n",
       "    <tr>\n",
       "      <th>21</th>\n",
       "      <td></td>\n",
       "      <td>2019-05-21 08:06:37</td>\n",
       "      <td>2.418 sec</td>\n",
       "      <td>21.0</td>\n",
       "      <td>0.178622</td>\n",
       "      <td>0.144309</td>\n",
       "      <td>0.032862</td>\n",
       "    </tr>\n",
       "    <tr>\n",
       "      <th>22</th>\n",
       "      <td></td>\n",
       "      <td>2019-05-21 08:06:37</td>\n",
       "      <td>2.524 sec</td>\n",
       "      <td>22.0</td>\n",
       "      <td>0.175537</td>\n",
       "      <td>0.137642</td>\n",
       "      <td>0.032661</td>\n",
       "    </tr>\n",
       "    <tr>\n",
       "      <th>23</th>\n",
       "      <td></td>\n",
       "      <td>2019-05-21 08:06:37</td>\n",
       "      <td>2.639 sec</td>\n",
       "      <td>23.0</td>\n",
       "      <td>0.172957</td>\n",
       "      <td>0.131880</td>\n",
       "      <td>0.032528</td>\n",
       "    </tr>\n",
       "    <tr>\n",
       "      <th>24</th>\n",
       "      <td></td>\n",
       "      <td>2019-05-21 08:06:37</td>\n",
       "      <td>2.743 sec</td>\n",
       "      <td>24.0</td>\n",
       "      <td>0.170028</td>\n",
       "      <td>0.126332</td>\n",
       "      <td>0.032127</td>\n",
       "    </tr>\n",
       "    <tr>\n",
       "      <th>25</th>\n",
       "      <td></td>\n",
       "      <td>2019-05-21 08:06:37</td>\n",
       "      <td>2.920 sec</td>\n",
       "      <td>25.0</td>\n",
       "      <td>0.167699</td>\n",
       "      <td>0.121412</td>\n",
       "      <td>0.031224</td>\n",
       "    </tr>\n",
       "    <tr>\n",
       "      <th>26</th>\n",
       "      <td></td>\n",
       "      <td>2019-05-21 08:06:37</td>\n",
       "      <td>3.024 sec</td>\n",
       "      <td>26.0</td>\n",
       "      <td>0.165865</td>\n",
       "      <td>0.117285</td>\n",
       "      <td>0.031124</td>\n",
       "    </tr>\n",
       "    <tr>\n",
       "      <th>27</th>\n",
       "      <td></td>\n",
       "      <td>2019-05-21 08:06:37</td>\n",
       "      <td>3.145 sec</td>\n",
       "      <td>27.0</td>\n",
       "      <td>0.163908</td>\n",
       "      <td>0.113209</td>\n",
       "      <td>0.030756</td>\n",
       "    </tr>\n",
       "    <tr>\n",
       "      <th>28</th>\n",
       "      <td></td>\n",
       "      <td>2019-05-21 08:06:37</td>\n",
       "      <td>3.246 sec</td>\n",
       "      <td>28.0</td>\n",
       "      <td>0.162280</td>\n",
       "      <td>0.109691</td>\n",
       "      <td>0.030488</td>\n",
       "    </tr>\n",
       "    <tr>\n",
       "      <th>29</th>\n",
       "      <td></td>\n",
       "      <td>2019-05-21 08:06:38</td>\n",
       "      <td>3.359 sec</td>\n",
       "      <td>29.0</td>\n",
       "      <td>0.159798</td>\n",
       "      <td>0.105802</td>\n",
       "      <td>0.029954</td>\n",
       "    </tr>\n",
       "    <tr>\n",
       "      <th>30</th>\n",
       "      <td></td>\n",
       "      <td>2019-05-21 08:06:38</td>\n",
       "      <td>3.464 sec</td>\n",
       "      <td>30.0</td>\n",
       "      <td>0.158258</td>\n",
       "      <td>0.102807</td>\n",
       "      <td>0.029552</td>\n",
       "    </tr>\n",
       "    <tr>\n",
       "      <th>31</th>\n",
       "      <td></td>\n",
       "      <td>2019-05-21 08:06:38</td>\n",
       "      <td>3.581 sec</td>\n",
       "      <td>31.0</td>\n",
       "      <td>0.157185</td>\n",
       "      <td>0.100423</td>\n",
       "      <td>0.029185</td>\n",
       "    </tr>\n",
       "    <tr>\n",
       "      <th>32</th>\n",
       "      <td></td>\n",
       "      <td>2019-05-21 08:06:38</td>\n",
       "      <td>3.687 sec</td>\n",
       "      <td>32.0</td>\n",
       "      <td>0.155525</td>\n",
       "      <td>0.097683</td>\n",
       "      <td>0.028683</td>\n",
       "    </tr>\n",
       "    <tr>\n",
       "      <th>33</th>\n",
       "      <td></td>\n",
       "      <td>2019-05-21 08:06:38</td>\n",
       "      <td>3.792 sec</td>\n",
       "      <td>33.0</td>\n",
       "      <td>0.154596</td>\n",
       "      <td>0.095673</td>\n",
       "      <td>0.028182</td>\n",
       "    </tr>\n",
       "    <tr>\n",
       "      <th>34</th>\n",
       "      <td></td>\n",
       "      <td>2019-05-21 08:06:38</td>\n",
       "      <td>3.900 sec</td>\n",
       "      <td>34.0</td>\n",
       "      <td>0.153166</td>\n",
       "      <td>0.093380</td>\n",
       "      <td>0.027981</td>\n",
       "    </tr>\n",
       "    <tr>\n",
       "      <th>35</th>\n",
       "      <td></td>\n",
       "      <td>2019-05-21 08:06:42</td>\n",
       "      <td>7.902 sec</td>\n",
       "      <td>78.0</td>\n",
       "      <td>0.117204</td>\n",
       "      <td>0.052485</td>\n",
       "      <td>0.016314</td>\n",
       "    </tr>\n",
       "    <tr>\n",
       "      <th>36</th>\n",
       "      <td></td>\n",
       "      <td>2019-05-21 08:06:46</td>\n",
       "      <td>11.942 sec</td>\n",
       "      <td>121.0</td>\n",
       "      <td>0.103399</td>\n",
       "      <td>0.040609</td>\n",
       "      <td>0.013272</td>\n",
       "    </tr>\n",
       "    <tr>\n",
       "      <th>37</th>\n",
       "      <td></td>\n",
       "      <td>2019-05-21 08:06:50</td>\n",
       "      <td>15.953 sec</td>\n",
       "      <td>160.0</td>\n",
       "      <td>0.096931</td>\n",
       "      <td>0.035333</td>\n",
       "      <td>0.011868</td>\n",
       "    </tr>\n",
       "    <tr>\n",
       "      <th>38</th>\n",
       "      <td></td>\n",
       "      <td>2019-05-21 08:06:54</td>\n",
       "      <td>19.959 sec</td>\n",
       "      <td>202.0</td>\n",
       "      <td>0.091990</td>\n",
       "      <td>0.031721</td>\n",
       "      <td>0.010698</td>\n",
       "    </tr>\n",
       "    <tr>\n",
       "      <th>39</th>\n",
       "      <td></td>\n",
       "      <td>2019-05-21 08:06:58</td>\n",
       "      <td>23.975 sec</td>\n",
       "      <td>334.0</td>\n",
       "      <td>0.091209</td>\n",
       "      <td>0.031214</td>\n",
       "      <td>0.010397</td>\n",
       "    </tr>\n",
       "    <tr>\n",
       "      <th>40</th>\n",
       "      <td></td>\n",
       "      <td>2019-05-21 08:07:02</td>\n",
       "      <td>27.994 sec</td>\n",
       "      <td>500.0</td>\n",
       "      <td>0.091209</td>\n",
       "      <td>0.031214</td>\n",
       "      <td>0.010397</td>\n",
       "    </tr>\n",
       "  </tbody>\n",
       "</table>\n",
       "</div>"
      ],
      "text/plain": [
       "                timestamp    duration  number_of_trees  training_rmse  \\\n",
       "0     2019-05-21 08:06:34   0.001 sec              0.0       0.666667   \n",
       "1     2019-05-21 08:06:34   0.133 sec              1.0       0.605909   \n",
       "2     2019-05-21 08:06:35   0.277 sec              2.0       0.550646   \n",
       "3     2019-05-21 08:06:35   0.381 sec              3.0       0.500933   \n",
       "4     2019-05-21 08:06:35   0.497 sec              4.0       0.456413   \n",
       "5     2019-05-21 08:06:35   0.591 sec              5.0       0.416992   \n",
       "6     2019-05-21 08:06:35   0.708 sec              6.0       0.380980   \n",
       "7     2019-05-21 08:06:35   0.815 sec              7.0       0.350741   \n",
       "8     2019-05-21 08:06:35   0.916 sec              8.0       0.324189   \n",
       "9     2019-05-21 08:06:35   1.049 sec              9.0       0.300620   \n",
       "10    2019-05-21 08:06:35   1.150 sec             10.0       0.280047   \n",
       "11    2019-05-21 08:06:36   1.254 sec             11.0       0.263456   \n",
       "12    2019-05-21 08:06:36   1.363 sec             12.0       0.248002   \n",
       "13    2019-05-21 08:06:36   1.497 sec             13.0       0.235446   \n",
       "14    2019-05-21 08:06:36   1.606 sec             14.0       0.225131   \n",
       "15    2019-05-21 08:06:36   1.712 sec             15.0       0.214523   \n",
       "16    2019-05-21 08:06:36   1.822 sec             16.0       0.205767   \n",
       "17    2019-05-21 08:06:36   1.932 sec             17.0       0.199688   \n",
       "18    2019-05-21 08:06:36   2.038 sec             18.0       0.193199   \n",
       "19    2019-05-21 08:06:36   2.148 sec             19.0       0.186897   \n",
       "20    2019-05-21 08:06:37   2.288 sec             20.0       0.182798   \n",
       "21    2019-05-21 08:06:37   2.418 sec             21.0       0.178622   \n",
       "22    2019-05-21 08:06:37   2.524 sec             22.0       0.175537   \n",
       "23    2019-05-21 08:06:37   2.639 sec             23.0       0.172957   \n",
       "24    2019-05-21 08:06:37   2.743 sec             24.0       0.170028   \n",
       "25    2019-05-21 08:06:37   2.920 sec             25.0       0.167699   \n",
       "26    2019-05-21 08:06:37   3.024 sec             26.0       0.165865   \n",
       "27    2019-05-21 08:06:37   3.145 sec             27.0       0.163908   \n",
       "28    2019-05-21 08:06:37   3.246 sec             28.0       0.162280   \n",
       "29    2019-05-21 08:06:38   3.359 sec             29.0       0.159798   \n",
       "30    2019-05-21 08:06:38   3.464 sec             30.0       0.158258   \n",
       "31    2019-05-21 08:06:38   3.581 sec             31.0       0.157185   \n",
       "32    2019-05-21 08:06:38   3.687 sec             32.0       0.155525   \n",
       "33    2019-05-21 08:06:38   3.792 sec             33.0       0.154596   \n",
       "34    2019-05-21 08:06:38   3.900 sec             34.0       0.153166   \n",
       "35    2019-05-21 08:06:42   7.902 sec             78.0       0.117204   \n",
       "36    2019-05-21 08:06:46  11.942 sec            121.0       0.103399   \n",
       "37    2019-05-21 08:06:50  15.953 sec            160.0       0.096931   \n",
       "38    2019-05-21 08:06:54  19.959 sec            202.0       0.091990   \n",
       "39    2019-05-21 08:06:58  23.975 sec            334.0       0.091209   \n",
       "40    2019-05-21 08:07:02  27.994 sec            500.0       0.091209   \n",
       "\n",
       "    training_logloss  training_classification_error  \n",
       "0           1.098612                       0.119647  \n",
       "1           0.931734                       0.049076  \n",
       "2           0.801284                       0.047872  \n",
       "3           0.696792                       0.049042  \n",
       "4           0.611179                       0.047972  \n",
       "5           0.540352                       0.046334  \n",
       "6           0.478844                       0.045131  \n",
       "7           0.429025                       0.044596  \n",
       "8           0.386337                       0.044262  \n",
       "9           0.348911                       0.043861  \n",
       "10          0.316466                       0.042323  \n",
       "11          0.289817                       0.042490  \n",
       "12          0.265141                       0.041019  \n",
       "13          0.244538                       0.039815  \n",
       "14          0.226995                       0.039983  \n",
       "15          0.209629                       0.037977  \n",
       "16          0.194843                       0.037342  \n",
       "17          0.183203                       0.037074  \n",
       "18          0.171555                       0.035536  \n",
       "19          0.160495                       0.033664  \n",
       "20          0.152133                       0.033564  \n",
       "21          0.144309                       0.032862  \n",
       "22          0.137642                       0.032661  \n",
       "23          0.131880                       0.032528  \n",
       "24          0.126332                       0.032127  \n",
       "25          0.121412                       0.031224  \n",
       "26          0.117285                       0.031124  \n",
       "27          0.113209                       0.030756  \n",
       "28          0.109691                       0.030488  \n",
       "29          0.105802                       0.029954  \n",
       "30          0.102807                       0.029552  \n",
       "31          0.100423                       0.029185  \n",
       "32          0.097683                       0.028683  \n",
       "33          0.095673                       0.028182  \n",
       "34          0.093380                       0.027981  \n",
       "35          0.052485                       0.016314  \n",
       "36          0.040609                       0.013272  \n",
       "37          0.035333                       0.011868  \n",
       "38          0.031721                       0.010698  \n",
       "39          0.031214                       0.010397  \n",
       "40          0.031214                       0.010397  "
      ]
     },
     "execution_count": 42,
     "metadata": {},
     "output_type": "execute_result"
    }
   ],
   "source": [
    "gbm_fit2.scoring_history()"
   ]
  },
  {
   "cell_type": "markdown",
   "metadata": {},
   "source": [
    "When early stopping is used, we see that training stopped at 105 trees instead of the full 500. Since we used a validation set in gbm_fit3, both training and validation performance metrics are stored in the scoring history object. Take a look at the validation AUC to observe that the correct stopping tolerance was enforced."
   ]
  },
  {
   "cell_type": "code",
   "execution_count": 26,
   "metadata": {},
   "outputs": [],
   "source": [
    "#gbm_fit3.scoring_history()"
   ]
  },
  {
   "cell_type": "markdown",
   "metadata": {},
   "source": [
    "# 4. Deep Learning\n",
    "H2O's Deep Learning algorithm is a multilayer feed-forward artificial neural network. It can also be used to train an autoencoder, however, in the example below we will train a standard supervised prediction model."
   ]
  },
  {
   "cell_type": "code",
   "execution_count": 43,
   "metadata": {},
   "outputs": [],
   "source": [
    "# Import H2O DL:\n",
    "from h2o.estimators.deeplearning import H2ODeepLearningEstimator"
   ]
  },
  {
   "cell_type": "markdown",
   "metadata": {},
   "source": [
    "# Train a default DL\n",
    "First we will train a basic DL model with default parameters. DL will infer the response distribution from the response encoding if not specified explicitly through the distribution argument. H2O's DL will not be reproducbible if run on more than a single core, so in this example, the performance metrics below may vary slightly from what you see on your machine.\n",
    "\n",
    "In H2O's DL, early stopping is enabled by default, so below, it will use the training set and default stopping parameters to perform early stopping."
   ]
  },
  {
   "cell_type": "code",
   "execution_count": 44,
   "metadata": {},
   "outputs": [
    {
     "name": "stdout",
     "output_type": "stream",
     "text": [
      "deeplearning Model Build progress: |██████████████████████████████████████| 100%\n"
     ]
    }
   ],
   "source": [
    "# Initialize and train the DL estimator:\n",
    "\n",
    "dl_fit1 = H2ODeepLearningEstimator(model_id='dl_fit1', seed=1)\n",
    "dl_fit1.train(x=x, y=y, training_frame=train)"
   ]
  },
  {
   "cell_type": "markdown",
   "metadata": {},
   "source": [
    "# Train a DL with new architecture and more epochs\n",
    "Next we will increase the number of epochs used in the GBM by setting epochs=20 (the default is 10). Increasing the number of epochs in a deep neural net may increase performance of the model, however, you have to be careful not to overfit your model. To automatically find the optimal number of epochs, you must use H2O's early stopping functionality. Unlike the rest of the H2O algorithms, H2O's DL will use early by default, so we will first turn it off in the next example by setting stopping_rounds=0, for comparison."
   ]
  },
  {
   "cell_type": "code",
   "execution_count": 45,
   "metadata": {},
   "outputs": [
    {
     "name": "stdout",
     "output_type": "stream",
     "text": [
      "deeplearning Model Build progress: |██████████████████████████████████████| 100%\n"
     ]
    }
   ],
   "source": [
    "dl_fit2 = H2ODeepLearningEstimator(model_id='dl_fit2', \n",
    "                                   epochs=20, \n",
    "                                   hidden=[10,10], \n",
    "                                   stopping_rounds=0,  #disable early stopping\n",
    "                                   seed=1)\n",
    "dl_fit2.train(x=x, y=y, training_frame=train)"
   ]
  },
  {
   "cell_type": "markdown",
   "metadata": {},
   "source": [
    "# Train a DL with early stopping¶\n",
    "This example will use the same model parameters as dl_fit2, however, we will turn on early stopping and specify the stopping criterion. We will also pass a validation set, as is recommended for early stopping."
   ]
  },
  {
   "cell_type": "raw",
   "metadata": {},
   "source": [
    "dl_fit3 = H2ODeepLearningEstimator(model_id='dl_fit3', \n",
    "                                   epochs=20, \n",
    "                                   hidden=[10,10],\n",
    "                                   score_interval=1,          #used for early stopping\n",
    "                                   stopping_rounds=3,         #used for early stopping\n",
    "                                   stopping_metric='AUC',     #used for early stopping\n",
    "                                   stopping_tolerance=0.0005, #used for early stopping\n",
    "                                   seed=1)\n",
    "dl_fit3.train(x=x, y=y, training_frame=train, validation_frame=valid)"
   ]
  },
  {
   "cell_type": "markdown",
   "metadata": {},
   "source": [
    "# Compare model performance¶\n",
    "Again, we will compare the model performance of the three models using a test set and AUC."
   ]
  },
  {
   "cell_type": "code",
   "execution_count": 47,
   "metadata": {},
   "outputs": [],
   "source": [
    "dl_perf1 = dl_fit1.model_performance(test)\n",
    "dl_perf2 = dl_fit2.model_performance(test)\n",
    "#dl_perf3 = dl_fit3.model_performance(test)"
   ]
  },
  {
   "cell_type": "code",
   "execution_count": 48,
   "metadata": {},
   "outputs": [
    {
     "name": "stdout",
     "output_type": "stream",
     "text": [
      "\n",
      "ModelMetricsMultinomial: deeplearning\n",
      "** Reported on test data. **\n",
      "\n",
      "MSE: 0.05038805672882979\n",
      "RMSE: 0.22447284185136915\n",
      "LogLoss: 0.21235794400224686\n",
      "Mean Per-Class Error: 0.48119545537707836\n",
      "Confusion Matrix: Row labels: Actual class; Column labels: Predicted class\n",
      "\n"
     ]
    },
    {
     "data": {
      "text/html": [
       "<div style=\"overflow:auto\"><table style=\"width:50%\"><tr><td><b>No</b></td>\n",
       "<td><b>Yes</b></td>\n",
       "<td><b>indeterminate</b></td>\n",
       "<td><b>Error</b></td>\n",
       "<td><b>Rate</b></td></tr>\n",
       "<tr><td>212.0</td>\n",
       "<td>0.0</td>\n",
       "<td>191.0</td>\n",
       "<td>0.4739454</td>\n",
       "<td>191 / 403</td></tr>\n",
       "<tr><td>3.0</td>\n",
       "<td>2.0</td>\n",
       "<td>28.0</td>\n",
       "<td>0.9393939</td>\n",
       "<td>31 / 33</td></tr>\n",
       "<tr><td>177.0</td>\n",
       "<td>3.0</td>\n",
       "<td>5771.0</td>\n",
       "<td>0.0302470</td>\n",
       "<td>180 / 5,951</td></tr>\n",
       "<tr><td>392.0</td>\n",
       "<td>5.0</td>\n",
       "<td>5990.0</td>\n",
       "<td>0.0629403</td>\n",
       "<td>402 / 6,387</td></tr></table></div>"
      ],
      "text/plain": [
       "No    Yes    indeterminate    Error      Rate\n",
       "----  -----  ---------------  ---------  -----------\n",
       "212   0      191              0.473945   191 / 403\n",
       "3     2      28               0.939394   31 / 33\n",
       "177   3      5771             0.030247   180 / 5,951\n",
       "392   5      5990             0.0629403  402 / 6,387"
      ]
     },
     "metadata": {},
     "output_type": "display_data"
    },
    {
     "name": "stdout",
     "output_type": "stream",
     "text": [
      "Top-3 Hit Ratios: \n"
     ]
    },
    {
     "data": {
      "text/html": [
       "<div style=\"overflow:auto\"><table style=\"width:50%\"><tr><td><b>k</b></td>\n",
       "<td><b>hit_ratio</b></td></tr>\n",
       "<tr><td>1</td>\n",
       "<td>0.9370596</td></tr>\n",
       "<tr><td>2</td>\n",
       "<td>0.9959292</td></tr>\n",
       "<tr><td>3</td>\n",
       "<td>1.0</td></tr></table></div>"
      ],
      "text/plain": [
       "k    hit_ratio\n",
       "---  -----------\n",
       "1    0.93706\n",
       "2    0.995929\n",
       "3    1"
      ]
     },
     "metadata": {},
     "output_type": "display_data"
    },
    {
     "name": "stdout",
     "output_type": "stream",
     "text": [
      "\n"
     ]
    }
   ],
   "source": [
    "print(dl_perf1)\n"
   ]
  },
  {
   "cell_type": "code",
   "execution_count": 49,
   "metadata": {},
   "outputs": [
    {
     "name": "stdout",
     "output_type": "stream",
     "text": [
      "\n",
      "ModelMetricsMultinomial: deeplearning\n",
      "** Reported on test data. **\n",
      "\n",
      "MSE: 0.0459964692240572\n",
      "RMSE: 0.21446787457345962\n",
      "LogLoss: 0.21333269003558103\n",
      "Mean Per-Class Error: 0.541051201298056\n",
      "Confusion Matrix: Row labels: Actual class; Column labels: Predicted class\n",
      "\n"
     ]
    },
    {
     "data": {
      "text/html": [
       "<div style=\"overflow:auto\"><table style=\"width:50%\"><tr><td><b>No</b></td>\n",
       "<td><b>Yes</b></td>\n",
       "<td><b>indeterminate</b></td>\n",
       "<td><b>Error</b></td>\n",
       "<td><b>Rate</b></td></tr>\n",
       "<tr><td>156.0</td>\n",
       "<td>0.0</td>\n",
       "<td>247.0</td>\n",
       "<td>0.6129032</td>\n",
       "<td>247 / 403</td></tr>\n",
       "<tr><td>2.0</td>\n",
       "<td>0.0</td>\n",
       "<td>31.0</td>\n",
       "<td>1.0</td>\n",
       "<td>33 / 33</td></tr>\n",
       "<tr><td>61.0</td>\n",
       "<td>0.0</td>\n",
       "<td>5890.0</td>\n",
       "<td>0.0102504</td>\n",
       "<td>61 / 5,951</td></tr>\n",
       "<tr><td>219.0</td>\n",
       "<td>0.0</td>\n",
       "<td>6168.0</td>\n",
       "<td>0.0533897</td>\n",
       "<td>341 / 6,387</td></tr></table></div>"
      ],
      "text/plain": [
       "No    Yes    indeterminate    Error      Rate\n",
       "----  -----  ---------------  ---------  -----------\n",
       "156   0      247              0.612903   247 / 403\n",
       "2     0      31               1          33 / 33\n",
       "61    0      5890             0.0102504  61 / 5,951\n",
       "219   0      6168             0.0533897  341 / 6,387"
      ]
     },
     "metadata": {},
     "output_type": "display_data"
    },
    {
     "name": "stdout",
     "output_type": "stream",
     "text": [
      "Top-3 Hit Ratios: \n"
     ]
    },
    {
     "data": {
      "text/html": [
       "<div style=\"overflow:auto\"><table style=\"width:50%\"><tr><td><b>k</b></td>\n",
       "<td><b>hit_ratio</b></td></tr>\n",
       "<tr><td>1</td>\n",
       "<td>0.9466103</td></tr>\n",
       "<tr><td>2</td>\n",
       "<td>0.9948333</td></tr>\n",
       "<tr><td>3</td>\n",
       "<td>1.0</td></tr></table></div>"
      ],
      "text/plain": [
       "k    hit_ratio\n",
       "---  -----------\n",
       "1    0.94661\n",
       "2    0.994833\n",
       "3    1"
      ]
     },
     "metadata": {},
     "output_type": "display_data"
    },
    {
     "name": "stdout",
     "output_type": "stream",
     "text": [
      "\n"
     ]
    }
   ],
   "source": [
    "print(dl_perf2)"
   ]
  },
  {
   "cell_type": "raw",
   "metadata": {},
   "source": [
    "# Retreive test set AUC\n",
    "print(dl_perf1.auc())\n",
    "print(dl_perf2.auc())\n",
    "print(dl_perf3.auc())"
   ]
  },
  {
   "cell_type": "code",
   "execution_count": 50,
   "metadata": {},
   "outputs": [
    {
     "data": {
      "text/html": [
       "<div>\n",
       "<style scoped>\n",
       "    .dataframe tbody tr th:only-of-type {\n",
       "        vertical-align: middle;\n",
       "    }\n",
       "\n",
       "    .dataframe tbody tr th {\n",
       "        vertical-align: top;\n",
       "    }\n",
       "\n",
       "    .dataframe thead th {\n",
       "        text-align: right;\n",
       "    }\n",
       "</style>\n",
       "<table border=\"1\" class=\"dataframe\">\n",
       "  <thead>\n",
       "    <tr style=\"text-align: right;\">\n",
       "      <th></th>\n",
       "      <th></th>\n",
       "      <th>timestamp</th>\n",
       "      <th>duration</th>\n",
       "      <th>training_speed</th>\n",
       "      <th>epochs</th>\n",
       "      <th>iterations</th>\n",
       "      <th>samples</th>\n",
       "      <th>training_rmse</th>\n",
       "      <th>training_logloss</th>\n",
       "      <th>training_r2</th>\n",
       "      <th>training_classification_error</th>\n",
       "    </tr>\n",
       "  </thead>\n",
       "  <tbody>\n",
       "    <tr>\n",
       "      <th>0</th>\n",
       "      <td></td>\n",
       "      <td>2019-05-21 08:24:13</td>\n",
       "      <td>0.000 sec</td>\n",
       "      <td>None</td>\n",
       "      <td>0.000000</td>\n",
       "      <td>0</td>\n",
       "      <td>0.0</td>\n",
       "      <td>NaN</td>\n",
       "      <td>NaN</td>\n",
       "      <td>NaN</td>\n",
       "      <td>NaN</td>\n",
       "    </tr>\n",
       "    <tr>\n",
       "      <th>1</th>\n",
       "      <td></td>\n",
       "      <td>2019-05-21 08:24:14</td>\n",
       "      <td>0.956 sec</td>\n",
       "      <td>13518 obs/sec</td>\n",
       "      <td>0.185739</td>\n",
       "      <td>1</td>\n",
       "      <td>5556.0</td>\n",
       "      <td>0.242618</td>\n",
       "      <td>0.247576</td>\n",
       "      <td>0.737769</td>\n",
       "      <td>0.064638</td>\n",
       "    </tr>\n",
       "    <tr>\n",
       "      <th>2</th>\n",
       "      <td></td>\n",
       "      <td>2019-05-21 08:24:19</td>\n",
       "      <td>6.210 sec</td>\n",
       "      <td>12844 obs/sec</td>\n",
       "      <td>2.239729</td>\n",
       "      <td>12</td>\n",
       "      <td>66997.0</td>\n",
       "      <td>0.222043</td>\n",
       "      <td>0.193754</td>\n",
       "      <td>0.780359</td>\n",
       "      <td>0.057379</td>\n",
       "    </tr>\n",
       "    <tr>\n",
       "      <th>3</th>\n",
       "      <td></td>\n",
       "      <td>2019-05-21 08:24:25</td>\n",
       "      <td>11.622 sec</td>\n",
       "      <td>12664 obs/sec</td>\n",
       "      <td>4.307759</td>\n",
       "      <td>23</td>\n",
       "      <td>128858.0</td>\n",
       "      <td>0.218976</td>\n",
       "      <td>0.183932</td>\n",
       "      <td>0.786385</td>\n",
       "      <td>0.057080</td>\n",
       "    </tr>\n",
       "    <tr>\n",
       "      <th>4</th>\n",
       "      <td></td>\n",
       "      <td>2019-05-21 08:24:30</td>\n",
       "      <td>16.589 sec</td>\n",
       "      <td>12933 obs/sec</td>\n",
       "      <td>6.367533</td>\n",
       "      <td>34</td>\n",
       "      <td>190472.0</td>\n",
       "      <td>0.212389</td>\n",
       "      <td>0.166397</td>\n",
       "      <td>0.799044</td>\n",
       "      <td>0.054296</td>\n",
       "    </tr>\n",
       "    <tr>\n",
       "      <th>5</th>\n",
       "      <td></td>\n",
       "      <td>2019-05-21 08:24:35</td>\n",
       "      <td>21.778 sec</td>\n",
       "      <td>13238 obs/sec</td>\n",
       "      <td>8.622271</td>\n",
       "      <td>46</td>\n",
       "      <td>257918.0</td>\n",
       "      <td>0.214320</td>\n",
       "      <td>0.174542</td>\n",
       "      <td>0.795373</td>\n",
       "      <td>0.055290</td>\n",
       "    </tr>\n",
       "    <tr>\n",
       "      <th>6</th>\n",
       "      <td></td>\n",
       "      <td>2019-05-21 08:24:40</td>\n",
       "      <td>26.938 sec</td>\n",
       "      <td>13398 obs/sec</td>\n",
       "      <td>10.868820</td>\n",
       "      <td>58</td>\n",
       "      <td>325119.0</td>\n",
       "      <td>0.208009</td>\n",
       "      <td>0.167006</td>\n",
       "      <td>0.807246</td>\n",
       "      <td>0.052605</td>\n",
       "    </tr>\n",
       "    <tr>\n",
       "      <th>7</th>\n",
       "      <td></td>\n",
       "      <td>2019-05-21 08:24:45</td>\n",
       "      <td>32.023 sec</td>\n",
       "      <td>13552 obs/sec</td>\n",
       "      <td>13.117106</td>\n",
       "      <td>70</td>\n",
       "      <td>392372.0</td>\n",
       "      <td>0.196392</td>\n",
       "      <td>0.137468</td>\n",
       "      <td>0.828176</td>\n",
       "      <td>0.046738</td>\n",
       "    </tr>\n",
       "    <tr>\n",
       "      <th>8</th>\n",
       "      <td></td>\n",
       "      <td>2019-05-21 08:24:50</td>\n",
       "      <td>37.230 sec</td>\n",
       "      <td>13650 obs/sec</td>\n",
       "      <td>15.371344</td>\n",
       "      <td>82</td>\n",
       "      <td>459803.0</td>\n",
       "      <td>0.210860</td>\n",
       "      <td>0.171546</td>\n",
       "      <td>0.801927</td>\n",
       "      <td>0.052506</td>\n",
       "    </tr>\n",
       "    <tr>\n",
       "      <th>9</th>\n",
       "      <td></td>\n",
       "      <td>2019-05-21 08:24:55</td>\n",
       "      <td>42.398 sec</td>\n",
       "      <td>13731 obs/sec</td>\n",
       "      <td>17.622271</td>\n",
       "      <td>94</td>\n",
       "      <td>527135.0</td>\n",
       "      <td>0.193296</td>\n",
       "      <td>0.138870</td>\n",
       "      <td>0.833550</td>\n",
       "      <td>0.045545</td>\n",
       "    </tr>\n",
       "    <tr>\n",
       "      <th>10</th>\n",
       "      <td></td>\n",
       "      <td>2019-05-21 08:25:00</td>\n",
       "      <td>47.527 sec</td>\n",
       "      <td>13792 obs/sec</td>\n",
       "      <td>19.877211</td>\n",
       "      <td>106</td>\n",
       "      <td>594587.0</td>\n",
       "      <td>0.184115</td>\n",
       "      <td>0.122269</td>\n",
       "      <td>0.848986</td>\n",
       "      <td>0.042661</td>\n",
       "    </tr>\n",
       "    <tr>\n",
       "      <th>11</th>\n",
       "      <td></td>\n",
       "      <td>2019-05-21 08:25:01</td>\n",
       "      <td>48.336 sec</td>\n",
       "      <td>13792 obs/sec</td>\n",
       "      <td>20.065122</td>\n",
       "      <td>107</td>\n",
       "      <td>600208.0</td>\n",
       "      <td>0.189508</td>\n",
       "      <td>0.137486</td>\n",
       "      <td>0.840010</td>\n",
       "      <td>0.046042</td>\n",
       "    </tr>\n",
       "    <tr>\n",
       "      <th>12</th>\n",
       "      <td></td>\n",
       "      <td>2019-05-21 08:25:02</td>\n",
       "      <td>48.854 sec</td>\n",
       "      <td>13752 obs/sec</td>\n",
       "      <td>20.065122</td>\n",
       "      <td>107</td>\n",
       "      <td>600208.0</td>\n",
       "      <td>0.184115</td>\n",
       "      <td>0.122269</td>\n",
       "      <td>0.848986</td>\n",
       "      <td>0.042661</td>\n",
       "    </tr>\n",
       "  </tbody>\n",
       "</table>\n",
       "</div>"
      ],
      "text/plain": [
       "                timestamp    duration training_speed     epochs  iterations  \\\n",
       "0     2019-05-21 08:24:13   0.000 sec           None   0.000000           0   \n",
       "1     2019-05-21 08:24:14   0.956 sec  13518 obs/sec   0.185739           1   \n",
       "2     2019-05-21 08:24:19   6.210 sec  12844 obs/sec   2.239729          12   \n",
       "3     2019-05-21 08:24:25  11.622 sec  12664 obs/sec   4.307759          23   \n",
       "4     2019-05-21 08:24:30  16.589 sec  12933 obs/sec   6.367533          34   \n",
       "5     2019-05-21 08:24:35  21.778 sec  13238 obs/sec   8.622271          46   \n",
       "6     2019-05-21 08:24:40  26.938 sec  13398 obs/sec  10.868820          58   \n",
       "7     2019-05-21 08:24:45  32.023 sec  13552 obs/sec  13.117106          70   \n",
       "8     2019-05-21 08:24:50  37.230 sec  13650 obs/sec  15.371344          82   \n",
       "9     2019-05-21 08:24:55  42.398 sec  13731 obs/sec  17.622271          94   \n",
       "10    2019-05-21 08:25:00  47.527 sec  13792 obs/sec  19.877211         106   \n",
       "11    2019-05-21 08:25:01  48.336 sec  13792 obs/sec  20.065122         107   \n",
       "12    2019-05-21 08:25:02  48.854 sec  13752 obs/sec  20.065122         107   \n",
       "\n",
       "     samples  training_rmse  training_logloss  training_r2  \\\n",
       "0        0.0            NaN               NaN          NaN   \n",
       "1     5556.0       0.242618          0.247576     0.737769   \n",
       "2    66997.0       0.222043          0.193754     0.780359   \n",
       "3   128858.0       0.218976          0.183932     0.786385   \n",
       "4   190472.0       0.212389          0.166397     0.799044   \n",
       "5   257918.0       0.214320          0.174542     0.795373   \n",
       "6   325119.0       0.208009          0.167006     0.807246   \n",
       "7   392372.0       0.196392          0.137468     0.828176   \n",
       "8   459803.0       0.210860          0.171546     0.801927   \n",
       "9   527135.0       0.193296          0.138870     0.833550   \n",
       "10  594587.0       0.184115          0.122269     0.848986   \n",
       "11  600208.0       0.189508          0.137486     0.840010   \n",
       "12  600208.0       0.184115          0.122269     0.848986   \n",
       "\n",
       "    training_classification_error  \n",
       "0                             NaN  \n",
       "1                        0.064638  \n",
       "2                        0.057379  \n",
       "3                        0.057080  \n",
       "4                        0.054296  \n",
       "5                        0.055290  \n",
       "6                        0.052605  \n",
       "7                        0.046738  \n",
       "8                        0.052506  \n",
       "9                        0.045545  \n",
       "10                       0.042661  \n",
       "11                       0.046042  \n",
       "12                       0.042661  "
      ]
     },
     "execution_count": 50,
     "metadata": {},
     "output_type": "execute_result"
    }
   ],
   "source": [
    "dl_fit2.scoring_history()"
   ]
  },
  {
   "cell_type": "markdown",
   "metadata": {},
   "source": [
    "# 4. Naive Bayes¶\n",
    "The Naive Bayes (NB) algorithm does not usually beat an algorithm like a Random Forest or GBM, however it is still a popular algorithm, especially in the text domain (when your input is text encoded as \"Bag of Words\", for example). The Naive Bayes algorithm is for binary or multiclass classification problems only, not regression. Therefore, your response must be a factor instead of numeric."
   ]
  },
  {
   "cell_type": "code",
   "execution_count": 51,
   "metadata": {},
   "outputs": [],
   "source": [
    "# Import H2O NB:\n",
    "from h2o.estimators.naive_bayes import H2ONaiveBayesEstimator"
   ]
  },
  {
   "cell_type": "markdown",
   "metadata": {},
   "source": [
    "# Train a default NB¶\n",
    "First we will train a basic NB model with default parameters."
   ]
  },
  {
   "cell_type": "code",
   "execution_count": 52,
   "metadata": {},
   "outputs": [
    {
     "name": "stdout",
     "output_type": "stream",
     "text": [
      "naivebayes Model Build progress: |████████████████████████████████████████| 100%\n"
     ]
    }
   ],
   "source": [
    "# Initialize and train the NB estimator:\n",
    "\n",
    "nb_fit1 = H2ONaiveBayesEstimator(model_id='nb_fit1')\n",
    "nb_fit1.train(x=x, y=y, training_frame=train)"
   ]
  },
  {
   "cell_type": "markdown",
   "metadata": {},
   "source": [
    "# Train a NB model with Laplace Smoothing¶\n",
    "One of the few tunable model parameters for the Naive Bayes algorithm is the amount of Laplace smoothing. The H2O Naive Bayes model will not use any Laplace smoothing by default."
   ]
  },
  {
   "cell_type": "code",
   "execution_count": 53,
   "metadata": {},
   "outputs": [
    {
     "name": "stdout",
     "output_type": "stream",
     "text": [
      "naivebayes Model Build progress: |████████████████████████████████████████| 100%\n"
     ]
    }
   ],
   "source": [
    "nb_fit2 = H2ONaiveBayesEstimator(model_id='nb_fit2', laplace=6)\n",
    "nb_fit2.train(x=x, y=y, training_frame=train)"
   ]
  },
  {
   "cell_type": "markdown",
   "metadata": {},
   "source": [
    "# Compare model performance¶\n",
    "We will compare the model performance of the two NB models using test set AUC."
   ]
  },
  {
   "cell_type": "code",
   "execution_count": 54,
   "metadata": {},
   "outputs": [],
   "source": [
    "nb_perf1 = nb_fit1.model_performance(test)\n",
    "nb_perf2 = nb_fit2.model_performance(test)"
   ]
  },
  {
   "cell_type": "code",
   "execution_count": 55,
   "metadata": {},
   "outputs": [
    {
     "name": "stdout",
     "output_type": "stream",
     "text": [
      "\n",
      "ModelMetricsMultinomial: naivebayes\n",
      "** Reported on test data. **\n",
      "\n",
      "MSE: 0.07533331359241434\n",
      "RMSE: 0.2744691487078545\n",
      "LogLoss: 0.521746259423089\n",
      "Mean Per-Class Error: 0.6144492585968945\n",
      "Confusion Matrix: Row labels: Actual class; Column labels: Predicted class\n",
      "\n"
     ]
    },
    {
     "data": {
      "text/html": [
       "<div style=\"overflow:auto\"><table style=\"width:50%\"><tr><td><b>No</b></td>\n",
       "<td><b>Yes</b></td>\n",
       "<td><b>indeterminate</b></td>\n",
       "<td><b>Error</b></td>\n",
       "<td><b>Rate</b></td></tr>\n",
       "<tr><td>49.0</td>\n",
       "<td>12.0</td>\n",
       "<td>342.0</td>\n",
       "<td>0.8784119</td>\n",
       "<td>354 / 403</td></tr>\n",
       "<tr><td>8.0</td>\n",
       "<td>2.0</td>\n",
       "<td>23.0</td>\n",
       "<td>0.9393939</td>\n",
       "<td>31 / 33</td></tr>\n",
       "<tr><td>121.0</td>\n",
       "<td>31.0</td>\n",
       "<td>5799.0</td>\n",
       "<td>0.0255419</td>\n",
       "<td>152 / 5,951</td></tr>\n",
       "<tr><td>178.0</td>\n",
       "<td>45.0</td>\n",
       "<td>6164.0</td>\n",
       "<td>0.0840770</td>\n",
       "<td>537 / 6,387</td></tr></table></div>"
      ],
      "text/plain": [
       "No    Yes    indeterminate    Error      Rate\n",
       "----  -----  ---------------  ---------  -----------\n",
       "49    12     342              0.878412   354 / 403\n",
       "8     2      23               0.939394   31 / 33\n",
       "121   31     5799             0.0255419  152 / 5,951\n",
       "178   45     6164             0.084077   537 / 6,387"
      ]
     },
     "metadata": {},
     "output_type": "display_data"
    },
    {
     "name": "stdout",
     "output_type": "stream",
     "text": [
      "Top-3 Hit Ratios: \n"
     ]
    },
    {
     "data": {
      "text/html": [
       "<div style=\"overflow:auto\"><table style=\"width:50%\"><tr><td><b>k</b></td>\n",
       "<td><b>hit_ratio</b></td></tr>\n",
       "<tr><td>1</td>\n",
       "<td>0.9159229</td></tr>\n",
       "<tr><td>2</td>\n",
       "<td>0.9812118</td></tr>\n",
       "<tr><td>3</td>\n",
       "<td>0.9999999</td></tr></table></div>"
      ],
      "text/plain": [
       "k    hit_ratio\n",
       "---  -----------\n",
       "1    0.915923\n",
       "2    0.981212\n",
       "3    1"
      ]
     },
     "metadata": {},
     "output_type": "display_data"
    },
    {
     "name": "stdout",
     "output_type": "stream",
     "text": [
      "\n"
     ]
    }
   ],
   "source": [
    "print(nb_perf1)\n"
   ]
  },
  {
   "cell_type": "code",
   "execution_count": 56,
   "metadata": {},
   "outputs": [
    {
     "name": "stdout",
     "output_type": "stream",
     "text": [
      "\n",
      "ModelMetricsMultinomial: naivebayes\n",
      "** Reported on test data. **\n",
      "\n",
      "MSE: 0.07608316612820885\n",
      "RMSE: 0.27583177142636933\n",
      "LogLoss: 0.5589284219951537\n",
      "Mean Per-Class Error: 0.6085697936511841\n",
      "Confusion Matrix: Row labels: Actual class; Column labels: Predicted class\n",
      "\n"
     ]
    },
    {
     "data": {
      "text/html": [
       "<div style=\"overflow:auto\"><table style=\"width:50%\"><tr><td><b>No</b></td>\n",
       "<td><b>Yes</b></td>\n",
       "<td><b>indeterminate</b></td>\n",
       "<td><b>Error</b></td>\n",
       "<td><b>Rate</b></td></tr>\n",
       "<tr><td>42.0</td>\n",
       "<td>10.0</td>\n",
       "<td>351.0</td>\n",
       "<td>0.8957816</td>\n",
       "<td>361 / 403</td></tr>\n",
       "<tr><td>5.0</td>\n",
       "<td>3.0</td>\n",
       "<td>25.0</td>\n",
       "<td>0.9090909</td>\n",
       "<td>30 / 33</td></tr>\n",
       "<tr><td>97.0</td>\n",
       "<td>27.0</td>\n",
       "<td>5827.0</td>\n",
       "<td>0.0208368</td>\n",
       "<td>124 / 5,951</td></tr>\n",
       "<tr><td>144.0</td>\n",
       "<td>40.0</td>\n",
       "<td>6203.0</td>\n",
       "<td>0.0806325</td>\n",
       "<td>515 / 6,387</td></tr></table></div>"
      ],
      "text/plain": [
       "No    Yes    indeterminate    Error      Rate\n",
       "----  -----  ---------------  ---------  -----------\n",
       "42    10     351              0.895782   361 / 403\n",
       "5     3      25               0.909091   30 / 33\n",
       "97    27     5827             0.0208368  124 / 5,951\n",
       "144   40     6203             0.0806325  515 / 6,387"
      ]
     },
     "metadata": {},
     "output_type": "display_data"
    },
    {
     "name": "stdout",
     "output_type": "stream",
     "text": [
      "Top-3 Hit Ratios: \n"
     ]
    },
    {
     "data": {
      "text/html": [
       "<div style=\"overflow:auto\"><table style=\"width:50%\"><tr><td><b>k</b></td>\n",
       "<td><b>hit_ratio</b></td></tr>\n",
       "<tr><td>1</td>\n",
       "<td>0.9193675</td></tr>\n",
       "<tr><td>2</td>\n",
       "<td>0.9835604</td></tr>\n",
       "<tr><td>3</td>\n",
       "<td>1.0</td></tr></table></div>"
      ],
      "text/plain": [
       "k    hit_ratio\n",
       "---  -----------\n",
       "1    0.919368\n",
       "2    0.98356\n",
       "3    1"
      ]
     },
     "metadata": {},
     "output_type": "display_data"
    },
    {
     "name": "stdout",
     "output_type": "stream",
     "text": [
      "\n"
     ]
    }
   ],
   "source": [
    "print(nb_perf2)"
   ]
  },
  {
   "cell_type": "code",
   "execution_count": 57,
   "metadata": {},
   "outputs": [
    {
     "name": "stdout",
     "output_type": "stream",
     "text": [
      "naivebayes prediction progress: |█████████████████████████████████████████| 100%\n"
     ]
    },
    {
     "data": {
      "text/html": [
       "<table>\n",
       "<thead>\n",
       "<tr><th>predict      </th><th style=\"text-align: right;\">        No</th><th style=\"text-align: right;\">        Yes</th><th style=\"text-align: right;\">  indeterminate</th></tr>\n",
       "</thead>\n",
       "<tbody>\n",
       "<tr><td>indeterminate</td><td style=\"text-align: right;\">0.00725286</td><td style=\"text-align: right;\">0.00022584 </td><td style=\"text-align: right;\">       0.992521</td></tr>\n",
       "<tr><td>indeterminate</td><td style=\"text-align: right;\">0.0072516 </td><td style=\"text-align: right;\">0.000225758</td><td style=\"text-align: right;\">       0.992523</td></tr>\n",
       "<tr><td>indeterminate</td><td style=\"text-align: right;\">0.0552508 </td><td style=\"text-align: right;\">0.000362816</td><td style=\"text-align: right;\">       0.944386</td></tr>\n",
       "<tr><td>indeterminate</td><td style=\"text-align: right;\">0.0548875 </td><td style=\"text-align: right;\">0.000357167</td><td style=\"text-align: right;\">       0.944755</td></tr>\n",
       "<tr><td>indeterminate</td><td style=\"text-align: right;\">0.00752753</td><td style=\"text-align: right;\">0.000234556</td><td style=\"text-align: right;\">       0.992238</td></tr>\n",
       "<tr><td>indeterminate</td><td style=\"text-align: right;\">0.0548094 </td><td style=\"text-align: right;\">0.00035474 </td><td style=\"text-align: right;\">       0.944836</td></tr>\n",
       "<tr><td>indeterminate</td><td style=\"text-align: right;\">0.00752032</td><td style=\"text-align: right;\">0.000234089</td><td style=\"text-align: right;\">       0.992246</td></tr>\n",
       "<tr><td>indeterminate</td><td style=\"text-align: right;\">0.0552394 </td><td style=\"text-align: right;\">0.000362664</td><td style=\"text-align: right;\">       0.944398</td></tr>\n",
       "<tr><td>indeterminate</td><td style=\"text-align: right;\">0.0072516 </td><td style=\"text-align: right;\">0.000225758</td><td style=\"text-align: right;\">       0.992523</td></tr>\n",
       "<tr><td>indeterminate</td><td style=\"text-align: right;\">0.00458105</td><td style=\"text-align: right;\">0.000142426</td><td style=\"text-align: right;\">       0.995277</td></tr>\n",
       "</tbody>\n",
       "</table>"
      ]
     },
     "metadata": {},
     "output_type": "display_data"
    },
    {
     "data": {
      "text/plain": []
     },
     "execution_count": 57,
     "metadata": {},
     "output_type": "execute_result"
    }
   ],
   "source": [
    "nb_fit1.predict(data)"
   ]
  },
  {
   "cell_type": "code",
   "execution_count": 61,
   "metadata": {},
   "outputs": [
    {
     "name": "stdout",
     "output_type": "stream",
     "text": [
      "naivebayes prediction progress: |█████████████████████████████████████████| 100%\n"
     ]
    },
    {
     "data": {
      "text/html": [
       "<table>\n",
       "<thead>\n",
       "<tr><th>predict      </th><th style=\"text-align: right;\">        No</th><th style=\"text-align: right;\">        Yes</th><th style=\"text-align: right;\">  indeterminate</th></tr>\n",
       "</thead>\n",
       "<tbody>\n",
       "<tr><td>indeterminate</td><td style=\"text-align: right;\">0.00776785</td><td style=\"text-align: right;\">0.000224908</td><td style=\"text-align: right;\">       0.992007</td></tr>\n",
       "<tr><td>indeterminate</td><td style=\"text-align: right;\">0.0077665 </td><td style=\"text-align: right;\">0.000224825</td><td style=\"text-align: right;\">       0.992009</td></tr>\n",
       "<tr><td>indeterminate</td><td style=\"text-align: right;\">0.0197265 </td><td style=\"text-align: right;\">2.38413e-05</td><td style=\"text-align: right;\">       0.98025 </td></tr>\n",
       "<tr><td>indeterminate</td><td style=\"text-align: right;\">0.0195918 </td><td style=\"text-align: right;\">2.34641e-05</td><td style=\"text-align: right;\">       0.980385</td></tr>\n",
       "<tr><td>indeterminate</td><td style=\"text-align: right;\">0.00804658</td><td style=\"text-align: right;\">0.00023314 </td><td style=\"text-align: right;\">       0.99172 </td></tr>\n",
       "<tr><td>indeterminate</td><td style=\"text-align: right;\">0.0195629 </td><td style=\"text-align: right;\">2.33034e-05</td><td style=\"text-align: right;\">       0.980414</td></tr>\n",
       "<tr><td>indeterminate</td><td style=\"text-align: right;\">0.00803887</td><td style=\"text-align: right;\">0.000232676</td><td style=\"text-align: right;\">       0.991728</td></tr>\n",
       "<tr><td>indeterminate</td><td style=\"text-align: right;\">0.0197223 </td><td style=\"text-align: right;\">2.38311e-05</td><td style=\"text-align: right;\">       0.980254</td></tr>\n",
       "<tr><td>indeterminate</td><td style=\"text-align: right;\">0.0077665 </td><td style=\"text-align: right;\">0.000224825</td><td style=\"text-align: right;\">       0.992009</td></tr>\n",
       "<tr><td>indeterminate</td><td style=\"text-align: right;\">0.00500152</td><td style=\"text-align: right;\">0.000144589</td><td style=\"text-align: right;\">       0.994854</td></tr>\n",
       "</tbody>\n",
       "</table>"
      ]
     },
     "metadata": {},
     "output_type": "display_data"
    },
    {
     "data": {
      "text/plain": []
     },
     "execution_count": 61,
     "metadata": {},
     "output_type": "execute_result"
    }
   ],
   "source": [
    "nb_fit2.predict(data)"
   ]
  },
  {
   "cell_type": "code",
   "execution_count": 64,
   "metadata": {},
   "outputs": [
    {
     "name": "stdout",
     "output_type": "stream",
     "text": [
      "naivebayes prediction progress: |█████████████████████████████████████████| 100%\n"
     ]
    }
   ],
   "source": [
    "nb_test= nb_fit2.predict(test)"
   ]
  },
  {
   "cell_type": "code",
   "execution_count": null,
   "metadata": {},
   "outputs": [],
   "source": []
  },
  {
   "cell_type": "raw",
   "metadata": {},
   "source": [
    "# Retreive test set AUC\n",
    "print(nb_perf1)\n",
    "print(nb_perf2)"
   ]
  },
  {
   "cell_type": "markdown",
   "metadata": {},
   "source": [
    "# Run AutoML\n",
    "Run AutoML, stopping after 10 models. The max_models argument specifies the number of individual (or \"base\") models, and does not include the two ensemble models that are trained at the end."
   ]
  },
  {
   "cell_type": "raw",
   "metadata": {},
   "source": [
    "from h2o.automl import H2OAutoML\n",
    "aml = H2OAutoML(max_models = 10, seed = 1)\n",
    "aml.train(x = x, y = y, training_frame = data)"
   ]
  },
  {
   "cell_type": "markdown",
   "metadata": {},
   "source": [
    "# Leaderboard¶\n",
    "Next, we will view the AutoML Leaderboard. Since we did not specify a leaderboard_frame in the H2OAutoML.train() method for scoring and ranking the models, the AutoML leaderboard uses cross-validation metrics to rank the models.\n",
    "\n",
    "A default performance metric for each machine learning task (binary classification, multiclass classification, regression) is specified internally and the leaderboard will be sorted by that metric. In the case of binary classification, the default ranking metric is Area Under the ROC Curve (AUC). In the future, the user will be able to specify any of the H2O metrics so that different metrics can be used to generate rankings on the leaderboard.\n",
    "\n",
    "The leader model is stored at aml.leader and the leaderboard is stored at aml.leaderboard."
   ]
  },
  {
   "cell_type": "raw",
   "metadata": {},
   "source": [
    "lb = aml.leaderboard"
   ]
  },
  {
   "cell_type": "markdown",
   "metadata": {},
   "source": [
    "Now we will view a snapshot of the top models. Here we should see the two Stacked Ensembles at or near the top of the leaderboard. Stacked Ensembles can almost always outperform a single model."
   ]
  },
  {
   "cell_type": "raw",
   "metadata": {},
   "source": [
    "lb.head()"
   ]
  },
  {
   "cell_type": "raw",
   "metadata": {},
   "source": [
    "lb.head(rows=lb.nrows)"
   ]
  },
  {
   "cell_type": "markdown",
   "metadata": {},
   "source": [
    "# Ensemble Exploration¶\n",
    "To understand how the ensemble works, let's take a peek inside the Stacked Ensemble \"All Models\" model. The \"All Models\" ensemble is an ensemble of all of the individual models in the AutoML run. This is often the top performing model on the leaderboard."
   ]
  },
  {
   "cell_type": "raw",
   "metadata": {},
   "source": [
    "\n",
    "# Get model ids for all models in the AutoML Leaderboard\n",
    "model_ids = list(aml.leaderboard['model_id'].as_data_frame().iloc[:,0])\n",
    "# Get the \"All Models\" Stacked Ensemble model\n",
    "se = h2o.get_model([mid for mid in model_ids if \"StackedEnsemble_AllModels\" in mid][0])\n",
    "# Get the Stacked Ensemble metalearner model\n",
    "metalearner = h2o.get_model(se.metalearner()['name'])"
   ]
  },
  {
   "cell_type": "raw",
   "metadata": {},
   "source": [
    "metalearner_perf1 = metalearner.model_performance(test)"
   ]
  },
  {
   "cell_type": "raw",
   "metadata": {},
   "source": [
    "metalearner.scoring_history()"
   ]
  },
  {
   "cell_type": "raw",
   "metadata": {},
   "source": [
    "print(metalearner.auc())"
   ]
  },
  {
   "cell_type": "markdown",
   "metadata": {},
   "source": [
    "Examine the variable importance of the metalearner (combiner) algorithm in the ensemble. This shows us how much each base learner is contributing to the ensemble. The AutoML Stacked Ensembles use the default metalearner algorithm (GLM with non-negative weights), so the variable importance of the metalearner is actually the standardized coefficient magnitudes of the GLM."
   ]
  },
  {
   "cell_type": "raw",
   "metadata": {},
   "source": [
    "metalearner.coef_norm()"
   ]
  },
  {
   "cell_type": "raw",
   "metadata": {},
   "source": [
    "%matplotlib inline\n",
    "metalearner.std_coef_plot()"
   ]
  },
  {
   "cell_type": "markdown",
   "metadata": {},
   "source": [
    "# Save Leader Model¶\n",
    "There are two ways to save the leader model -- binary format and MOJO format. If you're taking your leader model to production, then we'd suggest the MOJO format since it's optimized for production use."
   ]
  },
  {
   "cell_type": "raw",
   "metadata": {},
   "source": [
    "h2o.save_model(aml.leader, path = \"./product_backorders_model_bin\")"
   ]
  },
  {
   "cell_type": "raw",
   "metadata": {},
   "source": [
    "aml.leader.download_mojo(path = \"./\")"
   ]
  },
  {
   "cell_type": "code",
   "execution_count": null,
   "metadata": {},
   "outputs": [],
   "source": []
  },
  {
   "cell_type": "code",
   "execution_count": null,
   "metadata": {},
   "outputs": [],
   "source": []
  },
  {
   "cell_type": "code",
   "execution_count": null,
   "metadata": {},
   "outputs": [],
   "source": []
  },
  {
   "cell_type": "code",
   "execution_count": null,
   "metadata": {},
   "outputs": [],
   "source": []
  },
  {
   "cell_type": "code",
   "execution_count": 36,
   "metadata": {},
   "outputs": [
    {
     "name": "stdout",
     "output_type": "stream",
     "text": [
      "[WARNING] in <ipython-input-36-02ff3806b010> line 1:\n",
      "    >>> h2o.shutdown(prompt=False)\n",
      "        ^^^^ Deprecated, use ``h2o.cluster().shutdown()``.\n",
      "H2O session _sid_9b45 closed.\n"
     ]
    }
   ],
   "source": [
    "h2o.shutdown(prompt=False)"
   ]
  },
  {
   "cell_type": "code",
   "execution_count": null,
   "metadata": {},
   "outputs": [],
   "source": []
  },
  {
   "cell_type": "code",
   "execution_count": null,
   "metadata": {},
   "outputs": [],
   "source": []
  }
 ],
 "metadata": {
  "kernelspec": {
   "display_name": "Python 3",
   "language": "python",
   "name": "python3"
  },
  "language_info": {
   "codemirror_mode": {
    "name": "ipython",
    "version": 3
   },
   "file_extension": ".py",
   "mimetype": "text/x-python",
   "name": "python",
   "nbconvert_exporter": "python",
   "pygments_lexer": "ipython3",
   "version": "3.6.5"
  }
 },
 "nbformat": 4,
 "nbformat_minor": 2
}
